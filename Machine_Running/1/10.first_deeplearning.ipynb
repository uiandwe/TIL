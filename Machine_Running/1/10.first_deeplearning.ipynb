{
 "cells": [
  {
   "cell_type": "code",
   "execution_count": 1,
   "metadata": {},
   "outputs": [
    {
     "name": "stderr",
     "output_type": "stream",
     "text": [
      "Using TensorFlow backend.\n"
     ]
    }
   ],
   "source": [
    "from keras.models import Sequential\n",
    "from keras.layers import Dense"
   ]
  },
  {
   "cell_type": "code",
   "execution_count": 2,
   "metadata": {},
   "outputs": [],
   "source": [
    "\n",
    "import numpy\n",
    "import tensorflow as tf\n",
    "\n"
   ]
  },
  {
   "cell_type": "code",
   "execution_count": 3,
   "metadata": {},
   "outputs": [],
   "source": [
    "seed = 0\n",
    "numpy.random.seed(seed)\n",
    "tf.set_random_seed(seed)\n",
    "\n"
   ]
  },
  {
   "cell_type": "code",
   "execution_count": 5,
   "metadata": {},
   "outputs": [],
   "source": [
    "Data_set = numpy.loadtxt(\"./dataset/ThoraricSurgery.csv\", delimiter=\",\")\n",
    "\n"
   ]
  },
  {
   "cell_type": "code",
   "execution_count": 8,
   "metadata": {},
   "outputs": [
    {
     "name": "stdout",
     "output_type": "stream",
     "text": [
      "Epoch 1/30\n",
      "470/470 [==============================] - 0s 967us/step - loss: 0.6178 - acc: 0.3553\n",
      "Epoch 2/30\n",
      "470/470 [==============================] - 0s 184us/step - loss: 0.1472 - acc: 0.8511\n",
      "Epoch 3/30\n",
      "470/470 [==============================] - 0s 213us/step - loss: 0.1464 - acc: 0.8511\n",
      "Epoch 4/30\n",
      "470/470 [==============================] - 0s 215us/step - loss: 0.1466 - acc: 0.8511\n",
      "Epoch 5/30\n",
      "470/470 [==============================] - 0s 176us/step - loss: 0.1463 - acc: 0.8511\n",
      "Epoch 6/30\n",
      "470/470 [==============================] - 0s 166us/step - loss: 0.1462 - acc: 0.8511\n",
      "Epoch 7/30\n",
      "470/470 [==============================] - 0s 168us/step - loss: 0.1461 - acc: 0.8511\n",
      "Epoch 8/30\n",
      "470/470 [==============================] - 0s 193us/step - loss: 0.1460 - acc: 0.8511\n",
      "Epoch 9/30\n",
      "470/470 [==============================] - 0s 159us/step - loss: 0.1460 - acc: 0.8489\n",
      "Epoch 10/30\n",
      "470/470 [==============================] - 0s 164us/step - loss: 0.1452 - acc: 0.8511\n",
      "Epoch 11/30\n",
      "470/470 [==============================] - 0s 172us/step - loss: 0.1443 - acc: 0.8511\n",
      "Epoch 12/30\n",
      "470/470 [==============================] - 0s 197us/step - loss: 0.1445 - acc: 0.8511\n",
      "Epoch 13/30\n",
      "470/470 [==============================] - 0s 175us/step - loss: 0.1443 - acc: 0.8511\n",
      "Epoch 14/30\n",
      "470/470 [==============================] - 0s 180us/step - loss: 0.1440 - acc: 0.8511\n",
      "Epoch 15/30\n",
      "470/470 [==============================] - 0s 266us/step - loss: 0.1437 - acc: 0.8511\n",
      "Epoch 16/30\n",
      "470/470 [==============================] - 0s 431us/step - loss: 0.1438 - acc: 0.8511\n",
      "Epoch 17/30\n",
      "470/470 [==============================] - 0s 420us/step - loss: 0.1440 - acc: 0.8532\n",
      "Epoch 18/30\n",
      "470/470 [==============================] - 0s 226us/step - loss: 0.1444 - acc: 0.8511\n",
      "Epoch 19/30\n",
      "470/470 [==============================] - 0s 215us/step - loss: 0.1447 - acc: 0.8511\n",
      "Epoch 20/30\n",
      "470/470 [==============================] - 0s 221us/step - loss: 0.1445 - acc: 0.8511\n",
      "Epoch 21/30\n",
      "470/470 [==============================] - 0s 180us/step - loss: 0.1444 - acc: 0.8511\n",
      "Epoch 22/30\n",
      "470/470 [==============================] - 0s 194us/step - loss: 0.1429 - acc: 0.8511\n",
      "Epoch 23/30\n",
      "470/470 [==============================] - 0s 191us/step - loss: 0.1429 - acc: 0.8553\n",
      "Epoch 24/30\n",
      "470/470 [==============================] - 0s 154us/step - loss: 0.1440 - acc: 0.8511\n",
      "Epoch 25/30\n",
      "470/470 [==============================] - 0s 191us/step - loss: 0.1440 - acc: 0.8511\n",
      "Epoch 26/30\n",
      "470/470 [==============================] - 0s 184us/step - loss: 0.1435 - acc: 0.8511\n",
      "Epoch 27/30\n",
      "470/470 [==============================] - 0s 192us/step - loss: 0.1435 - acc: 0.8511\n",
      "Epoch 28/30\n",
      "470/470 [==============================] - 0s 204us/step - loss: 0.1431 - acc: 0.8511\n",
      "Epoch 29/30\n",
      "470/470 [==============================] - 0s 189us/step - loss: 0.1439 - acc: 0.8511\n",
      "Epoch 30/30\n",
      "470/470 [==============================] - 0s 220us/step - loss: 0.1430 - acc: 0.8511\n",
      "470/470 [==============================] - 0s 120us/step\n",
      "Accuracy: 0.8511\n"
     ]
    }
   ],
   "source": [
    "X = Data_set[:,0:17]\n",
    "Y = Data_set[:,17]\n",
    "\n",
    "model  = Sequential()\n",
    "model.add(Dense(30, input_dim=17, activation='relu'))\n",
    "model.add(Dense(1, activation='sigmoid'))\n",
    "\n",
    "\n",
    "model.compile(loss='binary_crossentropy', optimizer='adam',\n",
    "            metrics=['accuracy'])\n",
    "model.fit(X, Y, epochs=30, batch_size=10)\n",
    "\n",
    "print(\"Accuracy: %.4f\" % (model.evaluate(X, Y)[1]))\n"
   ]
  },
  {
   "cell_type": "code",
   "execution_count": null,
   "metadata": {},
   "outputs": [],
   "source": []
  }
 ],
 "metadata": {
  "kernelspec": {
   "display_name": "Python 2",
   "language": "python",
   "name": "python2"
  },
  "language_info": {
   "codemirror_mode": {
    "name": "ipython",
    "version": 2
   },
   "file_extension": ".py",
   "mimetype": "text/x-python",
   "name": "python",
   "nbconvert_exporter": "python",
   "pygments_lexer": "ipython2",
   "version": "2.7.12"
  }
 },
 "nbformat": 4,
 "nbformat_minor": 2
}
