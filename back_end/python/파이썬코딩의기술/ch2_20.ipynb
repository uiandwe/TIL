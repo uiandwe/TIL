{
  "nbformat": 4,
  "nbformat_minor": 0,
  "metadata": {
    "colab": {
      "name": "ch2-20.ipynb",
      "version": "0.3.2",
      "provenance": []
    },
    "kernelspec": {
      "name": "python3",
      "display_name": "Python 3"
    }
  },
  "cells": [
    {
      "metadata": {
        "id": "DfUdoEHceFho",
        "colab_type": "code",
        "colab": {}
      },
      "cell_type": "code",
      "source": [
        "from datetime import datetime\n",
        "from time import sleep"
      ],
      "execution_count": 0,
      "outputs": []
    },
    {
      "metadata": {
        "id": "bH7k7XMAebOQ",
        "colab_type": "code",
        "colab": {}
      },
      "cell_type": "code",
      "source": [
        "def log1(message, when=datetime.now()):\n",
        "  print('%s: %s' % (when, message))"
      ],
      "execution_count": 0,
      "outputs": []
    },
    {
      "metadata": {
        "id": "WiVz3S9QeVlg",
        "colab_type": "code",
        "colab": {
          "base_uri": "https://localhost:8080/",
          "height": 51
        },
        "outputId": "0890318f-ba5c-49c7-cf93-8a4d13c46369"
      },
      "cell_type": "code",
      "source": [
        "log1('Hi there!')\n",
        "sleep(0.1)\n",
        "log1('Hi again!')"
      ],
      "execution_count": 7,
      "outputs": [
        {
          "output_type": "stream",
          "text": [
            "2019-04-24 13:09:35.150754: Hi there!\n",
            "2019-04-24 13:09:35.150754: Hi again!\n"
          ],
          "name": "stdout"
        }
      ]
    },
    {
      "metadata": {
        "id": "T0QMqg9yekIt",
        "colab_type": "code",
        "colab": {}
      },
      "cell_type": "code",
      "source": [
        "def log2(message, when=None):\n",
        "  \"\"\"\n",
        "    Log a message with a timestamp.\n",
        "    \n",
        "    Args:\n",
        "        mesage: mesage to print\n",
        "        when : datetime of when...\n",
        "  \"\"\"\n",
        "  when = datetime.now() if when is None else when\n",
        "  print('%s: %s' % (when, message))"
      ],
      "execution_count": 0,
      "outputs": []
    },
    {
      "metadata": {
        "id": "I1MrEOwqfHal",
        "colab_type": "code",
        "colab": {
          "base_uri": "https://localhost:8080/",
          "height": 51
        },
        "outputId": "5b4b7cc9-0ffe-4ffe-bff3-11b3be572b6b"
      },
      "cell_type": "code",
      "source": [
        "log2('Hi there!')\n",
        "sleep(0.1)\n",
        "log2('Hi again!')"
      ],
      "execution_count": 11,
      "outputs": [
        {
          "output_type": "stream",
          "text": [
            "2019-04-24 13:11:55.206505: Hi there!\n",
            "2019-04-24 13:11:55.308261: Hi again!\n"
          ],
          "name": "stdout"
        }
      ]
    },
    {
      "metadata": {
        "id": "FwXBKXx0fJJD",
        "colab_type": "code",
        "colab": {}
      },
      "cell_type": "code",
      "source": [
        "import json\n",
        "def decode1(data, default={}):\n",
        "  try:\n",
        "    return json.loads(data)\n",
        "  except ValueError:\n",
        "    return default"
      ],
      "execution_count": 0,
      "outputs": []
    },
    {
      "metadata": {
        "id": "2C7Xz-RLg2ko",
        "colab_type": "code",
        "colab": {
          "base_uri": "https://localhost:8080/",
          "height": 51
        },
        "outputId": "c8bdd96f-9a11-4502-8673-1749f57f0172"
      },
      "cell_type": "code",
      "source": [
        "foo = decode1('bad data')\n",
        "foo['stuff'] = 5\n",
        "bar = decode1('also bad')\n",
        "bar['meep'] = 1\n",
        "print('Foo', foo)\n",
        "print('Bar', bar)"
      ],
      "execution_count": 16,
      "outputs": [
        {
          "output_type": "stream",
          "text": [
            "Foo {'stuff': 5, 'meep': 1}\n",
            "Bar {'stuff': 5, 'meep': 1}\n"
          ],
          "name": "stdout"
        }
      ]
    },
    {
      "metadata": {
        "id": "oUWc6VqNhDQ9",
        "colab_type": "code",
        "colab": {}
      },
      "cell_type": "code",
      "source": [
        "def decode2(data, default=None):\n",
        "  if default is None:\n",
        "    default = {}\n",
        "  try:\n",
        "    return json.loads(data)\n",
        "  except ValueError:\n",
        "    return default"
      ],
      "execution_count": 0,
      "outputs": []
    },
    {
      "metadata": {
        "id": "kBARcEC_h8nF",
        "colab_type": "code",
        "colab": {
          "base_uri": "https://localhost:8080/",
          "height": 51
        },
        "outputId": "06155cf3-93dd-46d1-b57d-9e6e7197b9cf"
      },
      "cell_type": "code",
      "source": [
        "foo = decode2('bad data')\n",
        "foo['stuff'] = 5\n",
        "bar = decode2('also bad')\n",
        "bar['meep'] = 1\n",
        "print('Foo', foo)\n",
        "print('Bar', bar)"
      ],
      "execution_count": 18,
      "outputs": [
        {
          "output_type": "stream",
          "text": [
            "Foo {'stuff': 5}\n",
            "Bar {'meep': 1}\n"
          ],
          "name": "stdout"
        }
      ]
    },
    {
      "metadata": {
        "id": "LZgEh8Hih_cq",
        "colab_type": "code",
        "colab": {}
      },
      "cell_type": "code",
      "source": [
        ""
      ],
      "execution_count": 0,
      "outputs": []
    }
  ]
}