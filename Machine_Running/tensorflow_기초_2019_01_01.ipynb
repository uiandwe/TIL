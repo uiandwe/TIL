{
  "nbformat": 4,
  "nbformat_minor": 0,
  "metadata": {
    "colab": {
      "name": "tensorflow_기초_2019_01_01.ipynb",
      "version": "0.3.2",
      "provenance": []
    },
    "kernelspec": {
      "name": "python3",
      "display_name": "Python 3"
    }
  },
  "cells": [
    {
      "metadata": {
        "id": "LaIMdJuOwPZe",
        "colab_type": "code",
        "colab": {
          "base_uri": "https://localhost:8080/",
          "height": 204
        },
        "outputId": "3d751346-659c-44b1-c3e6-2041f8296c89"
      },
      "cell_type": "code",
      "source": [
        "import tensorflow as tf\n",
        "\n",
        "\n",
        "x_train = [1, 2, 3]\n",
        "y_train = [1, 2, 3]\n",
        "\n",
        "W = tf.Variable(tf.random_normal([1]), name='weight')\n",
        "b = tf.Variable(tf.random_normal([1]), name='bias')\n",
        "\n",
        "hypothesis = x_train * W + b\n",
        "cost = tf.reduce_mean(tf.square(hypothesis - y_train))\n",
        "optimizer = tf.train.GradientDescentOptimizer(learning_rate=0.01)\n",
        "train = optimizer.minimize(cost)\n",
        "\n",
        "sess = tf.Session()\n",
        "sess.run(tf.global_variables_initializer())\n",
        "\n",
        "for step in range(2001):\n",
        "    sess.run(train)\n",
        "\n",
        "    if step % 200 == 0:\n",
        "        print(step, sess.run(cost), sess.run(W), sess.run(b))"
      ],
      "execution_count": 2,
      "outputs": [
        {
          "output_type": "stream",
          "text": [
            "0 9.418503 [-1.2077136] [1.9316458]\n",
            "200 0.3240391 [0.33885813] [1.5029309]\n",
            "400 0.12373406 [0.5914543] [0.9287205]\n",
            "600 0.047247697 [0.7475436] [0.5738927]\n",
            "800 0.0180415 [0.84399724] [0.35463092]\n",
            "1000 0.0068891165 [0.9035998] [0.21914029]\n",
            "1200 0.0026306051 [0.9404305] [0.13541533]\n",
            "1400 0.0010044914 [0.9631897] [0.08367836]\n",
            "1600 0.0003835622 [0.9772535] [0.05170815]\n",
            "1800 0.00014646292 [0.98594403] [0.03195252]\n",
            "2000 5.592602e-05 [0.99131435] [0.0197446]\n"
          ],
          "name": "stdout"
        }
      ]
    },
    {
      "metadata": {
        "id": "BWGl7LqhwzDX",
        "colab_type": "code",
        "colab": {
          "base_uri": "https://localhost:8080/",
          "height": 204
        },
        "outputId": "a2b9eda0-e73a-4f82-db06-228339bb8cf0"
      },
      "cell_type": "code",
      "source": [
        "W = tf.Variable(tf.random_normal([1]), name='weight')\n",
        "b = tf.Variable(tf.random_normal([1]), name='bias')\n",
        "\n",
        "X = tf.placeholder(tf.float32, shape=[None])\n",
        "Y = tf.placeholder(tf.float32, shape=[None])\n",
        "\n",
        "hypothesis = X * W + b\n",
        "cost = tf.reduce_mean(tf.square(hypothesis - Y))\n",
        "optimizer = tf.train.GradientDescentOptimizer(learning_rate=0.01)\n",
        "train = optimizer.minimize(cost)\n",
        "\n",
        "sess = tf.Session()\n",
        "sess.run(tf.global_variables_initializer())\n",
        "\n",
        "\n",
        "for step in range(2001):\n",
        "    cost_val, W_val, b_val, _ = \\\n",
        "        sess.run([cost, W, b, train],\n",
        "                feed_dict={X: [1, 2, 3, 4, 5],\n",
        "                           Y: [2.1, 3.1, 4.1, 5.1, 6.1]})\n",
        "\n",
        "    if step % 200 == 0:\n",
        "        print(step, cost_val, W_val, b_val)"
      ],
      "execution_count": 4,
      "outputs": [
        {
          "output_type": "stream",
          "text": [
            "0 37.523552 [-0.35087112] [0.88426536]\n",
            "200 0.0010238182 [0.9792967] [1.1747452]\n",
            "400 0.0002641718 [0.9894835] [1.1379678]\n",
            "600 6.8165544e-05 [0.9946579] [1.1192867]\n",
            "800 1.7590412e-05 [0.99728626] [1.1097972]\n",
            "1000 4.539058e-06 [0.9986215] [1.1049765]\n",
            "1200 1.1711938e-06 [0.99929976] [1.102528]\n",
            "1400 3.0227324e-07 [0.9996442] [1.1012843]\n",
            "1600 7.808336e-08 [0.9998191] [1.1006527]\n",
            "1800 2.0171319e-08 [0.999908] [1.1003319]\n",
            "2000 5.2650195e-09 [0.99995303] [1.1001694]\n"
          ],
          "name": "stdout"
        }
      ]
    },
    {
      "metadata": {
        "id": "6R2D8jJGxOry",
        "colab_type": "code",
        "colab": {
          "base_uri": "https://localhost:8080/",
          "height": 68
        },
        "outputId": "0a254131-d5b4-40f0-fba1-fdcfa1b25691"
      },
      "cell_type": "code",
      "source": [
        "print(sess.run(hypothesis, feed_dict={X: [5]}))\n",
        "print(sess.run(hypothesis, feed_dict={X: [2.5]}))\n",
        "print(sess.run(hypothesis, feed_dict={X: [1.5, 3.5]}))"
      ],
      "execution_count": 5,
      "outputs": [
        {
          "output_type": "stream",
          "text": [
            "[6.0999346]\n",
            "[3.600052]\n",
            "[2.600099 4.600005]\n"
          ],
          "name": "stdout"
        }
      ]
    }
  ]
}