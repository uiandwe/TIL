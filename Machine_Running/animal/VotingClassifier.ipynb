{
 "cells": [
  {
   "cell_type": "code",
   "execution_count": 6,
   "metadata": {},
   "outputs": [],
   "source": [
    "import pandas as pd\n",
    "import numpy as np\n",
    "from sklearn import model_selection\n",
    "from sklearn import metrics\n",
    "import matplotlib.pyplot as plt\n",
    "from sklearn.svm import SVR, SVC\n",
    "from sklearn.neighbors import KNeighborsClassifier\n",
    "from sklearn.model_selection import GridSearchCV\n",
    "from sklearn.ensemble import BaggingClassifier, RandomForestClassifier, VotingClassifier\n",
    "from sklearn.preprocessing import MinMaxScaler"
   ]
  },
  {
   "cell_type": "code",
   "execution_count": 4,
   "metadata": {},
   "outputs": [],
   "source": [
    "df = pd.read_csv('https://archive.ics.uci.edu/ml/machine-learning-databases/zoo/zoo.data',\n",
    "                 engine='python',encoding='cp949',header=None)"
   ]
  },
  {
   "cell_type": "code",
   "execution_count": 5,
   "metadata": {},
   "outputs": [],
   "source": [
    "x_data = df.iloc[:, 1:-1].values\n",
    "y_data = df.iloc[:, -1].values"
   ]
  },
  {
   "cell_type": "code",
   "execution_count": 9,
   "metadata": {},
   "outputs": [
    {
     "name": "stderr",
     "output_type": "stream",
     "text": [
      "/usr/local/lib/python2.7/dist-packages/sklearn/utils/validation.py:475: DataConversionWarning: Data with input dtype int64 was converted to float64 by MinMaxScaler.\n",
      "  warnings.warn(msg, DataConversionWarning)\n"
     ]
    }
   ],
   "source": [
    "model_scaler = MinMaxScaler()\n",
    "model_scaler.fit(x_data)\n",
    "x_data = model_scaler.transform(x_data)"
   ]
  },
  {
   "cell_type": "code",
   "execution_count": 13,
   "metadata": {},
   "outputs": [],
   "source": [
    "x_train, x_test, y_train, y_test = model_selection.train_test_split(x_data, y_data)"
   ]
  },
  {
   "cell_type": "code",
   "execution_count": 19,
   "metadata": {},
   "outputs": [
    {
     "data": {
      "image/png": "[encoded data removed]",
      "text/plain": [
       "<Figure size 432x288 with 1 Axes>"
      ]
     },
     "metadata": {
      "needs_background": "light"
     },
     "output_type": "display_data"
    }
   ],
   "source": [
    "import matplotlib.pylab as plt\n",
    "import matplotlib as mpl\n",
    "mpl.rc('font', family='Malgun Gothic') \n",
    "\n",
    "from sklearn import decomposition\n",
    "model_dimensionality = decomposition.PCA(n_components=2)\n",
    "model_dimensionality.fit(x_data)    \n",
    "x_data_dimensionality = model_dimensionality.transform(x_data)    \n",
    "x_train_dimensionality = model_dimensionality.transform(x_train)\n",
    "x_test_dimensionality = model_dimensionality.transform(x_test)      \n",
    "#\n",
    "plt.scatter(x_data_dimensionality[:,0][y_data==1], x_data_dimensionality[:,1][y_data==1], label='1', marker='o')\n",
    "plt.scatter(x_data_dimensionality[:,0][y_data==2], x_data_dimensionality[:,1][y_data==2], label='2', marker='^')\n",
    "plt.scatter(x_data_dimensionality[:,0][y_data==3], x_data_dimensionality[:,1][y_data==3], label='3', marker='v')\n",
    "plt.scatter(x_data_dimensionality[:,0][y_data==4], x_data_dimensionality[:,1][y_data==4], label='4', marker='<')\n",
    "plt.scatter(x_data_dimensionality[:,0][y_data==5], x_data_dimensionality[:,1][y_data==5], label='5', marker='>')\n",
    "plt.scatter(x_data_dimensionality[:,0][y_data==6], x_data_dimensionality[:,1][y_data==6], label='6', marker='8')\n",
    "plt.scatter(x_data_dimensionality[:,0][y_data==7], x_data_dimensionality[:,1][y_data==7], label='7', marker='s')\n",
    "#\n",
    "plt.xlabel('x1')\n",
    "plt.ylabel('x2')\n",
    "plt.legend()\n",
    "plt.show()\n"
   ]
  },
  {
   "cell_type": "code",
   "execution_count": 21,
   "metadata": {},
   "outputs": [
    {
     "name": "stdout",
     "output_type": "stream",
     "text": [
      "0.9615384615384616\n"
     ]
    }
   ],
   "source": [
    "model = KNeighborsClassifier(**{'metric': 'minkowski', 'n_neighbors': 2, 'weights': 'distance'})\n",
    "\n",
    "model.fit(x_train, y_train)\n",
    "\n",
    "y_predict = model.predict(x_test)\n",
    "score = metrics.accuracy_score(y_test, y_predict)\n",
    "print(score)"
   ]
  },
  {
   "cell_type": "code",
   "execution_count": 22,
   "metadata": {},
   "outputs": [
    {
     "data": {
      "image/png": "[encoded data removed]",
      "text/plain": [
       "<Figure size 432x288 with 1 Axes>"
      ]
     },
     "metadata": {
      "needs_background": "light"
     },
     "output_type": "display_data"
    }
   ],
   "source": [
    "import matplotlib.pylab as plt\n",
    "import matplotlib as mpl\n",
    "mpl.rc('font', family='Malgun Gothic') #한글 폰트 설정\n",
    "#\n",
    "from sklearn import decomposition\n",
    "model_dimensionality = decomposition.PCA(n_components=2)\n",
    "model_dimensionality.fit(x_data)    \n",
    "x_data_dimensionality = model_dimensionality.transform(x_data)    \n",
    "x_train_dimensionality = model_dimensionality.transform(x_train)\n",
    "x_test_dimensionality = model_dimensionality.transform(x_test)      \n",
    "#\n",
    "plt.scatter(x_data_dimensionality[:,0][y_data==1], x_data_dimensionality[:,1][y_data==1], label='1', marker='o')\n",
    "plt.scatter(x_data_dimensionality[:,0][y_data==2], x_data_dimensionality[:,1][y_data==2], label='2', marker='^')\n",
    "plt.scatter(x_data_dimensionality[:,0][y_data==3], x_data_dimensionality[:,1][y_data==3], label='3', marker='v')\n",
    "plt.scatter(x_data_dimensionality[:,0][y_data==4], x_data_dimensionality[:,1][y_data==4], label='4', marker='<')\n",
    "plt.scatter(x_data_dimensionality[:,0][y_data==5], x_data_dimensionality[:,1][y_data==5], label='5', marker='>')\n",
    "plt.scatter(x_data_dimensionality[:,0][y_data==6], x_data_dimensionality[:,1][y_data==6], label='6', marker='8')\n",
    "plt.scatter(x_data_dimensionality[:,0][y_data==7], x_data_dimensionality[:,1][y_data==7], label='7', marker='s')\n",
    "#\n",
    "x1min=x_data_dimensionality[:,0].min() - 0.5\n",
    "x1max=x_data_dimensionality[:,0].max() + 0.5\n",
    "x2min=x_data_dimensionality[:,1].min() - 0.5\n",
    "x2max=x_data_dimensionality[:,1].max() + 0.5\n",
    "X1, X2 = np.meshgrid(np.arange(x1min, x1max, (x1max-x1min)/1000), np.arange(x2min, x2max, (x2max-x2min)/1000))\n",
    "import copy\n",
    "model_deepcopied = copy.deepcopy(model)\n",
    "model_deepcopied.fit(x_train_dimensionality, y_train)\n",
    "Y = np.reshape(model_deepcopied.predict(np.array([X1.ravel(), X2.ravel()]).T), X1.shape)\n",
    "plt.contourf(X1, X2, Y, cmap=mpl.cm.Paired_r, alpha=0.5)\n",
    "#\n",
    "\n",
    "plt.xlabel('x1')\n",
    "plt.ylabel('x2')\n",
    "plt.legend() #범례\n",
    "plt.show()"
   ]
  },
  {
   "cell_type": "code",
   "execution_count": 28,
   "metadata": {},
   "outputs": [
    {
     "name": "stdout",
     "output_type": "stream",
     "text": [
      "1.0\n",
      "0.9615384615384616\n"
     ]
    }
   ],
   "source": [
    "estimator = SVC(kernel='rbf', C=10, gamma=0.1) \n",
    "\n",
    "estimator.fit(x_train, y_train)\n",
    "\n",
    "y_predict = estimator.predict(x_train) \n",
    "score = metrics.accuracy_score(y_train, y_predict)\n",
    "print(score) #1.0\n",
    "\n",
    "y_predict = estimator.predict(x_test) \n",
    "score = metrics.accuracy_score(y_test, y_predict)\n",
    "print(score) #1.0"
   ]
  }
 ],
 "metadata": {
  "kernelspec": {
   "display_name": "Python 2",
   "language": "python",
   "name": "python2"
  },
  "language_info": {
   "codemirror_mode": {
    "name": "ipython",
    "version": 2
   },
   "file_extension": ".py",
   "mimetype": "text/x-python",
   "name": "python",
   "nbconvert_exporter": "python",
   "pygments_lexer": "ipython2",
   "version": "2.7.12"
  }
 },
 "nbformat": 4,
 "nbformat_minor": 2
}
