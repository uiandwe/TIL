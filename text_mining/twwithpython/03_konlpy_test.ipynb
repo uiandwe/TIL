{
 "cells": [
  {
   "cell_type": "code",
   "execution_count": 2,
   "metadata": {
    "collapsed": true
   },
   "outputs": [],
   "source": [
    "from konlpy.tag import Hannanum\n",
    "hannanum = Hannanum()"
   ]
  },
  {
   "cell_type": "code",
   "execution_count": 6,
   "outputs": [
    {
     "data": {
      "text/plain": "['친척들',\n '이',\n '모이',\n 'ㄴ',\n '이번',\n '추석',\n '차례상',\n '에서는',\n '단연',\n \"'\",\n '집값',\n \"'\",\n '이',\n '화제',\n '에',\n '오르',\n '아다',\n '.']"
     },
     "execution_count": 6,
     "metadata": {},
     "output_type": "execute_result"
    }
   ],
   "source": [
    "text = \"친척들이 모인 이번 추석 차례상에서는 단연 '집값'이 화제에 올랐다.\"\n",
    "# 형태소\n",
    "hannanum.morphs(text)"
   ],
   "metadata": {
    "collapsed": false,
    "pycharm": {
     "name": "#%%\n"
    }
   }
  },
  {
   "cell_type": "code",
   "execution_count": 9,
   "outputs": [
    {
     "data": {
      "text/plain": "[('친척들', 'NC'),\n ('이', 'JC'),\n ('모이', 'PV'),\n ('ㄴ', 'ET'),\n ('이', 'NN'),\n ('번', 'NB'),\n ('추석', 'NC'),\n ('차례상', 'NC'),\n ('에서', 'JC'),\n ('는', 'JX'),\n ('단연', 'MA'),\n (\"'\", 'SR'),\n ('집값', 'NC'),\n (\"'\", 'SR'),\n ('이', 'JC'),\n ('화제', 'NC'),\n ('에', 'JC'),\n ('오르', 'PV'),\n ('아', 'EP'),\n ('다', 'EF'),\n ('.', 'SF')]"
     },
     "execution_count": 9,
     "metadata": {},
     "output_type": "execute_result"
    }
   ],
   "source": [
    "# 명사\n",
    "hannanum.nouns(text)\n",
    "\n",
    "hannanum.pos(text, ntags=22)"
   ],
   "metadata": {
    "collapsed": false,
    "pycharm": {
     "name": "#%%\n"
    }
   }
  },
  {
   "cell_type": "code",
   "execution_count": 10,
   "outputs": [
    {
     "data": {
      "text/plain": "['친척',\n '들',\n '이',\n '모이',\n 'ㄴ',\n '이번',\n '추석',\n '차례',\n '상',\n '에서',\n '는',\n '단연',\n \"'\",\n '집',\n '값',\n \"'\",\n '이',\n '화제',\n '에',\n '오르',\n '았',\n '다',\n '.']"
     },
     "execution_count": 10,
     "metadata": {},
     "output_type": "execute_result"
    }
   ],
   "source": [
    "from konlpy.tag import Kkma\n",
    "kkma = Kkma()\n",
    "\n",
    "kkma.morphs(text)\n"
   ],
   "metadata": {
    "collapsed": false,
    "pycharm": {
     "name": "#%%\n"
    }
   }
  },
  {
   "cell_type": "code",
   "execution_count": 11,
   "outputs": [
    {
     "data": {
      "text/plain": "['친척', '이번', '추석', '차례', '차례상', '상', '집', '집값', '값', '화제']"
     },
     "execution_count": 11,
     "metadata": {},
     "output_type": "execute_result"
    }
   ],
   "source": [
    "kkma.nouns(text)\n",
    "\n"
   ],
   "metadata": {
    "collapsed": false,
    "pycharm": {
     "name": "#%%\n"
    }
   }
  },
  {
   "cell_type": "code",
   "execution_count": 12,
   "outputs": [
    {
     "data": {
      "text/plain": "[('친척', 'NNG'),\n ('들', 'XSN'),\n ('이', 'JKS'),\n ('모이', 'VV'),\n ('ㄴ', 'ETD'),\n ('이번', 'NNG'),\n ('추석', 'NNG'),\n ('차례', 'NNG'),\n ('상', 'NNG'),\n ('에서', 'JKM'),\n ('는', 'JX'),\n ('단연', 'MAG'),\n (\"'\", 'SS'),\n ('집', 'NNG'),\n ('값', 'NNG'),\n (\"'\", 'SS'),\n ('이', 'MDT'),\n ('화제', 'NNG'),\n ('에', 'JKM'),\n ('오르', 'VV'),\n ('았', 'EPT'),\n ('다', 'EFN'),\n ('.', 'SF')]"
     },
     "execution_count": 12,
     "metadata": {},
     "output_type": "execute_result"
    }
   ],
   "source": [
    "kkma.pos(text)"
   ],
   "metadata": {
    "collapsed": false,
    "pycharm": {
     "name": "#%%\n"
    }
   }
  },
  {
   "cell_type": "code",
   "execution_count": 13,
   "outputs": [
    {
     "name": "stderr",
     "output_type": "stream",
     "text": [
      "/Users/sj.hyeon/development/env/python36/lib/python3.6/site-packages/konlpy/tag/_okt.py:16: UserWarning: \"Twitter\" has changed to \"Okt\" since KoNLPy v0.4.5.\n",
      "  warn('\"Twitter\" has changed to \"Okt\" since KoNLPy v0.4.5.')\n"
     ]
    },
    {
     "data": {
      "text/plain": "['친척',\n '들',\n '이',\n '모인',\n '이번',\n '추석',\n '차례상',\n '에서는',\n '단연',\n \"'\",\n '집값',\n \"'\",\n '이',\n '화제',\n '에',\n '올랐다',\n '.']"
     },
     "execution_count": 13,
     "metadata": {},
     "output_type": "execute_result"
    }
   ],
   "source": [
    "from konlpy.tag import Twitter\n",
    "twitter = Twitter()\n",
    "\n",
    "twitter.morphs(text)"
   ],
   "metadata": {
    "collapsed": false,
    "pycharm": {
     "name": "#%%\n"
    }
   }
  },
  {
   "cell_type": "code",
   "execution_count": null,
   "outputs": [],
   "source": [
    "\n"
   ],
   "metadata": {
    "collapsed": false,
    "pycharm": {
     "name": "#%%\n"
    }
   }
  }
 ],
 "metadata": {
  "kernelspec": {
   "display_name": "Python 3",
   "language": "python",
   "name": "python3"
  },
  "language_info": {
   "codemirror_mode": {
    "name": "ipython",
    "version": 2
   },
   "file_extension": ".py",
   "mimetype": "text/x-python",
   "name": "python",
   "nbconvert_exporter": "python",
   "pygments_lexer": "ipython2",
   "version": "2.7.6"
  }
 },
 "nbformat": 4,
 "nbformat_minor": 0
}