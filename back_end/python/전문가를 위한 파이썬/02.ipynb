{
 "cells": [
  {
   "cell_type": "markdown",
   "metadata": {
    "collapsed": true
   },
   "source": [
    "# Ch02. 시퀀스"
   ]
  },
  {
   "cell_type": "markdown",
   "metadata": {},
   "source": [
    "# 1. 내장 시퀀스 개요\n",
    "\n",
    "\n",
    "* 파이썬에서는 여러 종류의 '시퀀스'를 거의 유사한 인터페이스로 다룰 수 있다.\n",
    "* http://static.zybuluo.com/plutoese/ofxhh57y7wadbzld2r6angwj/p004.png\n",
    "\n",
    "\n",
    "## 시퀀스의 분류 1\n",
    "\n",
    "* 컨테이너 시퀀스 (Container sequence): 객체에 대한 reference를 담고 있음; 여러 종류 객체 저장 가능\n",
    "    * `list`, `tuple`, `collections.deque`\n",
    "* 균일 시퀀스 (Flat sequence): 단 하나의 자료형만 담을 수 있음\n",
    "    * `str`, `bytes`, `bytearray`, `array.array`\n"
   ]
  },
  {
   "cell_type": "markdown",
   "metadata": {},
   "source": [
    "## 시퀀스의 분류 2\n",
    "\n",
    "* 가변 시퀀스 (Mutable sequence) - 수정시 기존 레퍼런스가 변경\n",
    "    * `list`, `bytearray`, `array.array`\n",
    "* 불변 시퀀스 (Immutable sequence) - 수정시 새로운 레퍼런스를 생성\n",
    "    * `tuple`, `str`, `bytes`"
   ]
  },
  {
   "cell_type": "markdown",
   "metadata": {},
   "source": [
    "# 2. 지능형 리스트와 제너레이터 표현식"
   ]
  },
  {
   "cell_type": "code",
   "execution_count": 2,
   "metadata": {},
   "outputs": [
    {
     "name": "stdout",
     "output_type": "stream",
     "text": [
      "['a', 's', 'd', 'b', 'x', 'c', 'v']\n",
      "['a', 's', 'd', 'b', 'x', 'c', 'v']\n"
     ]
    }
   ],
   "source": [
    "symbols = 'asdbxcv'\n",
    "codes = []\n",
    "# for\n",
    "for symbol in symbols:\n",
    "    codes.append(symbol)\n",
    "print(codes)\n",
    "\n",
    "# 지능형 리스트 = list comprehension\n",
    "codes = [symbol for symbol in symbols]\n",
    "print(codes)"
   ]
  },
  {
   "cell_type": "markdown",
   "metadata": {},
   "source": [
    "* 파이썬 내장 함수인 `map()` `filter()`를 사용하는 것과 list comprehension은 거의 동일하다.\n",
    "* 그러나 가급적 list comprehension을 쓰자\n",
    "    * 더 좋은 가독성\n",
    "    * 더 좋은 표현력 (for 문 두 개 -> 곧 보게 될 것)\n",
    "    * `lambda`를 쓰지 않아도 됨"
   ]
  },
  {
   "cell_type": "markdown",
   "metadata": {},
   "source": [
    "### 제너레이터(generator) 표현식\n",
    "\n",
    "* list comprehension과 똑같은 방식으로 dictionary, set, array 등도 만들 수 있다.\n",
    "\n",
    "* 시퀀스 전체가 아니라 한번에 하나씩만 넘기기 때문에 메모리를 더 적게 사용한다."
   ]
  },
  {
   "cell_type": "code",
   "execution_count": 3,
   "metadata": {},
   "outputs": [
    {
     "name": "stdout",
     "output_type": "stream",
     "text": [
      "('@', 'A', 'B')\n",
      "('@', 'A', 'B')\n",
      "{64: '@', 65: 'A', 66: 'B'}\n"
     ]
    }
   ],
   "source": [
    "'''tuple with comprehension'''\n",
    "print(tuple(chr(i) for i in range(64, 67)))\n",
    "\n",
    "'''tuple from list'''\n",
    "l = [chr(i) for i in range(64, 67)]\n",
    "print(tuple(l))\n",
    "\n",
    "'''dictionary'''\n",
    "print({i: chr(i) for i in range(64, 67)})"
   ]
  },
  {
   "cell_type": "markdown",
   "metadata": {},
   "source": [
    "## 튜플 언패킹 \n"
   ]
  },
  {
   "cell_type": "code",
   "execution_count": 17,
   "metadata": {},
   "outputs": [
    {
     "name": "stdout",
     "output_type": "stream",
     "text": [
      "(33.9425, -118.408056)\n",
      "Tokyo 2003 32450 0.66 8014\n",
      "BRA/CE342567\n",
      "ESP/XDA205856\n",
      "USA/31195855\n",
      "USA\n",
      "BRA\n",
      "ESP\n"
     ]
    }
   ],
   "source": [
    "lax_coordinates = (33.9425, -118.408056)\n",
    "print(lax_coordinates)\n",
    "\n",
    "city, year, pop, chg, area = ('Tokyo', 2003, 32450, 0.66, 8014)\n",
    "print(city, year, pop, chg, area)\n",
    "\n",
    "traveler_ids = [('USA', '31195855'), ('BRA', 'CE342567'), ('ESP', 'XDA205856')]\n",
    "for passport in sorted(traveler_ids):\n",
    "    print('%s/%s' % passport)\n",
    "\n",
    "for country, _ in traveler_ids:\n",
    "    print(country)\n"
   ]
  },
  {
   "cell_type": "code",
   "execution_count": 18,
   "metadata": {},
   "outputs": [
    {
     "name": "stdout",
     "output_type": "stream",
     "text": [
      "2 1\n"
     ]
    }
   ],
   "source": [
    "# 언패킹으로 교환도 가능하다\n",
    "a = 1\n",
    "b = 2\n",
    "b, a = a, b\n",
    "print(a, b)"
   ]
  },
  {
   "cell_type": "code",
   "execution_count": 24,
   "metadata": {},
   "outputs": [
    {
     "name": "stdout",
     "output_type": "stream",
     "text": [
      "0 1 [2, 3, 4]\n",
      "0 1 []\n",
      "0 [1, 2] 3 4\n",
      "[0, 1] 2 3 4\n"
     ]
    }
   ],
   "source": [
    "a, b, *rest = range(5)\n",
    "print(a, b, rest)\n",
    "\n",
    "a, b, *rest = range(2)\n",
    "print(a, b, rest)\n",
    "\n",
    "a, *body, c, d = range(5)\n",
    "print(a, body, c, d)\n",
    "\n",
    "*head, b, c, d = range(5)\n",
    "print(head, b, c, d)"
   ]
  },
  {
   "cell_type": "markdown",
   "metadata": {},
   "source": [
    "# 4. 슬라이싱\n",
    "\n",
    "* 슬라이스 객체 `slice()` 가 위의 연산을 표현한다.\n",
    "* `seq[start:stop:step]` == `seq.__getitem__(slice(start, stop, step))`\n",
    "* 슬라이스 오브젝트를 이용하면 범위에 이름을 붙일 수가 있다. 예를 들어서 csv 파싱할 때 편리함.\n",
    "* 슬라이스에 할당도 가능\n"
   ]
  },
  {
   "cell_type": "code",
   "execution_count": 4,
   "metadata": {},
   "outputs": [
    {
     "name": "stdout",
     "output_type": "stream",
     "text": [
      "[10, 20]\n",
      "[30, 40, 50, 60, 70, 80]\n"
     ]
    }
   ],
   "source": [
    "'''basics'''\n",
    "l = [10, 20, 30, 40, 50, 60, 70, 80]\n",
    "break_ = 2\n",
    "print(l[:break_])\n",
    "print(l[break_:])"
   ]
  },
  {
   "cell_type": "code",
   "execution_count": 5,
   "metadata": {},
   "outputs": [
    {
     "data": {
      "text/plain": [
       "['60', '60', '1']"
      ]
     },
     "execution_count": 5,
     "metadata": {},
     "output_type": "execute_result"
    }
   ],
   "source": [
    "score_cols = slice(1, 4)\n",
    "l = 'uiandwe,60,60,1'\n",
    "l.split(',')[score_cols]"
   ]
  },
  {
   "cell_type": "markdown",
   "metadata": {},
   "source": [
    "## 5. list.sort() // sorted() 내장 함수\n",
    "\n",
    "- list.sort() -- inplace\n",
    "- sorted(l)  -- 새로운 list 반환"
   ]
  },
  {
   "cell_type": "code",
   "execution_count": 11,
   "metadata": {},
   "outputs": [
    {
     "name": "stdout",
     "output_type": "stream",
     "text": [
      "[(0, 6), (3, 4), (5, 1)]\n"
     ]
    }
   ],
   "source": [
    "# 튜플을 정렬할땐 sorted()를 써야 한다\n",
    "a = ((0, 6), \n",
    "     (3, 4), \n",
    "     (5, 1))\n",
    "\n",
    "print(sorted(a))"
   ]
  },
  {
   "cell_type": "code",
   "execution_count": 8,
   "metadata": {},
   "outputs": [
    {
     "data": {
      "text/plain": [
       "[(5, 1), (3, 4), (0, 6)]"
      ]
     },
     "execution_count": 8,
     "metadata": {},
     "output_type": "execute_result"
    }
   ],
   "source": [
    "sorted(a, key=lambda x: x[1])"
   ]
  },
  {
   "cell_type": "code",
   "execution_count": null,
   "metadata": {
    "collapsed": true
   },
   "outputs": [],
   "source": []
  }
 ],
 "metadata": {
  "kernelspec": {
   "display_name": "Python 3",
   "language": "python",
   "name": "python3"
  },
  "language_info": {
   "codemirror_mode": {
    "name": "ipython",
    "version": 3
   },
   "file_extension": ".py",
   "mimetype": "text/x-python",
   "name": "python",
   "nbconvert_exporter": "python",
   "pygments_lexer": "ipython3",
   "version": "3.5.2"
  }
 },
 "nbformat": 4,
 "nbformat_minor": 2
}
