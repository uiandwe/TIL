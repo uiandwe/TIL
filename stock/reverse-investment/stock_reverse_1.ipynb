{
  "nbformat": 4,
  "nbformat_minor": 0,
  "metadata": {
    "colab": {
      "name": "stock-reverse-1.ipynb",
      "provenance": []
    },
    "kernelspec": {
      "name": "python3",
      "display_name": "Python 3"
    }
  },
  "cells": [
    {
      "cell_type": "code",
      "metadata": {
        "id": "Hvo5fbi9cUD0",
        "colab_type": "code",
        "colab": {
          "base_uri": "https://localhost:8080/",
          "height": 72
        },
        "outputId": "9e7d10a9-6d9e-467e-d2c9-24465e536d4d"
      },
      "source": [
        "import requests\n",
        "from io import BytesIO\n",
        "import pandas as pd\n",
        "import seaborn as sns"
      ],
      "execution_count": 1,
      "outputs": [
        {
          "output_type": "stream",
          "text": [
            "/usr/local/lib/python3.6/dist-packages/statsmodels/tools/_testing.py:19: FutureWarning: pandas.util.testing is deprecated. Use the functions in the public API at pandas.testing instead.\n",
            "  import pandas.util.testing as tm\n"
          ],
          "name": "stderr"
        }
      ]
    },
    {
      "cell_type": "code",
      "metadata": {
        "id": "_h3qiUPrclbx",
        "colab_type": "code",
        "colab": {}
      },
      "source": [
        "page = 1\n",
        "url = \"https://finance.naver.com/sise/investorDealTrendDay.nhn?bizdate=20200522&sosok=&page={page}\".format(page=page)\n",
        "resp = requests.get(url)\n",
        "html = BytesIO(resp.content)\n",
        "df = pd.read_html(html)[0]"
      ],
      "execution_count": 0,
      "outputs": []
    },
    {
      "cell_type": "code",
      "metadata": {
        "id": "QJ-oWBgveLK1",
        "colab_type": "code",
        "colab": {
          "base_uri": "https://localhost:8080/",
          "height": 225
        },
        "outputId": "acc17645-afa5-43c7-8544-eb2ea657d085"
      },
      "source": [
        "cols = df.columns\n",
        "cols"
      ],
      "execution_count": 7,
      "outputs": [
        {
          "output_type": "execute_result",
          "data": {
            "text/plain": [
              "MultiIndex([(  '날짜',     '날짜'),\n",
              "            (  '개인',     '개인'),\n",
              "            ( '외국인',    '외국인'),\n",
              "            ( '기관계',    '기관계'),\n",
              "            (  '기관',   '금융투자'),\n",
              "            (  '기관',     '보험'),\n",
              "            (  '기관', '투신(사모)'),\n",
              "            (  '기관',     '은행'),\n",
              "            (  '기관', '기타금융기관'),\n",
              "            (  '기관',   '연기금등'),\n",
              "            ('기타법인',   '기타법인')],\n",
              "           )"
            ]
          },
          "metadata": {
            "tags": []
          },
          "execution_count": 7
        }
      ]
    },
    {
      "cell_type": "code",
      "metadata": {
        "id": "Cystt-jdeRWl",
        "colab_type": "code",
        "colab": {
          "base_uri": "https://localhost:8080/",
          "height": 81
        },
        "outputId": "93e989bd-7a47-4beb-f2f6-1b488cfd3dae"
      },
      "source": [
        "df = pd.DataFrame(columns = cols)\n",
        "df"
      ],
      "execution_count": 9,
      "outputs": [
        {
          "output_type": "execute_result",
          "data": {
            "text/html": [
              "<div>\n",
              "<style scoped>\n",
              "    .dataframe tbody tr th:only-of-type {\n",
              "        vertical-align: middle;\n",
              "    }\n",
              "\n",
              "    .dataframe tbody tr th {\n",
              "        vertical-align: top;\n",
              "    }\n",
              "\n",
              "    .dataframe thead tr th {\n",
              "        text-align: left;\n",
              "    }\n",
              "</style>\n",
              "<table border=\"1\" class=\"dataframe\">\n",
              "  <thead>\n",
              "    <tr>\n",
              "      <th></th>\n",
              "      <th>날짜</th>\n",
              "      <th>개인</th>\n",
              "      <th>외국인</th>\n",
              "      <th>기관계</th>\n",
              "      <th colspan=\"6\" halign=\"left\">기관</th>\n",
              "      <th>기타법인</th>\n",
              "    </tr>\n",
              "    <tr>\n",
              "      <th></th>\n",
              "      <th>날짜</th>\n",
              "      <th>개인</th>\n",
              "      <th>외국인</th>\n",
              "      <th>기관계</th>\n",
              "      <th>금융투자</th>\n",
              "      <th>보험</th>\n",
              "      <th>투신(사모)</th>\n",
              "      <th>은행</th>\n",
              "      <th>기타금융기관</th>\n",
              "      <th>연기금등</th>\n",
              "      <th>기타법인</th>\n",
              "    </tr>\n",
              "  </thead>\n",
              "  <tbody>\n",
              "  </tbody>\n",
              "</table>\n",
              "</div>"
            ],
            "text/plain": [
              "Empty DataFrame\n",
              "Columns: [(날짜, 날짜), (개인, 개인), (외국인, 외국인), (기관계, 기관계), (기관, 금융투자), (기관, 보험), (기관, 투신(사모)), (기관, 은행), (기관, 기타금융기관), (기관, 연기금등), (기타법인, 기타법인)]\n",
              "Index: []"
            ]
          },
          "metadata": {
            "tags": []
          },
          "execution_count": 9
        }
      ]
    },
    {
      "cell_type": "code",
      "metadata": {
        "id": "vxDS-q_Ee2Wa",
        "colab_type": "code",
        "colab": {
          "base_uri": "https://localhost:8080/",
          "height": 34
        },
        "outputId": "0c7a89c9-505f-456b-a62d-176025d7d14f"
      },
      "source": [
        "from tqdm import tqdm\n",
        "\n",
        "for page in tqdm(range(1, 381)):\n",
        "  url = \"https://finance.naver.com/sise/investorDealTrendDay.nhn?bizdate=20200522&sosok=&page={page}\".format(page=page)\n",
        "  resp = requests.get(url)\n",
        "  html = BytesIO(resp.content)\n",
        "  df_single = pd.read_html(html)[0].dropna()\n",
        "  df = pd.concat([df, df_single])\n",
        "df"
      ],
      "execution_count": 0,
      "outputs": [
        {
          "output_type": "stream",
          "text": [
            " 45%|████▍     | 170/380 [03:19<04:25,  1.26s/it]"
          ],
          "name": "stderr"
        }
      ]
    },
    {
      "cell_type": "code",
      "metadata": {
        "id": "CpvEosVbfXz6",
        "colab_type": "code",
        "colab": {
          "base_uri": "https://localhost:8080/",
          "height": 219
        },
        "outputId": "2fb5e1a7-ee7a-499b-a526-5e2668cfae3a"
      },
      "source": [
        "df.reset_index(drop=True, inplce=True)\n",
        "df"
      ],
      "execution_count": 13,
      "outputs": [
        {
          "output_type": "stream",
          "text": [
            "  1%|▏         | 5/380 [00:05<07:24,  1.19s/it]\n"
          ],
          "name": "stderr"
        },
        {
          "output_type": "error",
          "ename": "KeyboardInterrupt",
          "evalue": "ignored",
          "traceback": [
            "\u001b[0;31m---------------------------------------------------------------------------\u001b[0m",
            "\u001b[0;31mKeyboardInterrupt\u001b[0m                         Traceback (most recent call last)",
            "\u001b[0;32m<ipython-input-13-2c351d79c2d7>\u001b[0m in \u001b[0;36m<module>\u001b[0;34m()\u001b[0m\n\u001b[1;32m      3\u001b[0m \u001b[0;32mfrom\u001b[0m \u001b[0mtqdm\u001b[0m \u001b[0;32mimport\u001b[0m \u001b[0mtqdm\u001b[0m\u001b[0;34m\u001b[0m\u001b[0;34m\u001b[0m\u001b[0m\n\u001b[1;32m      4\u001b[0m \u001b[0;32mfor\u001b[0m \u001b[0mpage\u001b[0m \u001b[0;32min\u001b[0m \u001b[0mtqdm\u001b[0m\u001b[0;34m(\u001b[0m\u001b[0mrange\u001b[0m\u001b[0;34m(\u001b[0m\u001b[0;36m1\u001b[0m\u001b[0;34m,\u001b[0m \u001b[0;36m381\u001b[0m\u001b[0;34m)\u001b[0m\u001b[0;34m)\u001b[0m\u001b[0;34m:\u001b[0m\u001b[0;34m\u001b[0m\u001b[0;34m\u001b[0m\u001b[0m\n\u001b[0;32m----> 5\u001b[0;31m   \u001b[0mtime\u001b[0m\u001b[0;34m.\u001b[0m\u001b[0msleep\u001b[0m\u001b[0;34m(\u001b[0m\u001b[0;36m1\u001b[0m\u001b[0;34m)\u001b[0m\u001b[0;34m\u001b[0m\u001b[0;34m\u001b[0m\u001b[0m\n\u001b[0m",
            "\u001b[0;31mKeyboardInterrupt\u001b[0m: "
          ]
        }
      ]
    },
    {
      "cell_type": "code",
      "metadata": {
        "id": "KqFte5Vwfm3w",
        "colab_type": "code",
        "colab": {}
      },
      "source": [
        ""
      ],
      "execution_count": 0,
      "outputs": []
    }
  ]
}