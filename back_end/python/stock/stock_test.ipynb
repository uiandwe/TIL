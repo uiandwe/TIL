{
 "cells": [
  {
   "cell_type": "code",
   "execution_count": 0,
   "metadata": {
    "id": "1IFE2ph1i_N3",
    "colab_type": "code",
    "colab": {}
   },
   "outputs": [],
   "source": [
    "import pandas as pd\n",
    "import pandas_datareader as pdr"
   ]
  },
  {
   "cell_type": "code",
   "execution_count": 0,
   "metadata": {
    "id": "1dRNPv1PjF6J",
    "colab_type": "code",
    "colab": {}
   },
   "outputs": [],
   "source": [
    "stock_type = {\n",
    "    'kospi': 'stockMkt',\n",
    "    'kosdaq': 'kosdaqMkt'\n",
    "}\n",
    "\n",
    "def get_code(df, name):\n",
    "  code = df.query(\"name=='{}'\".format(name))['code'].to_string(index=False)\n",
    "  code = code.strip()\n",
    "  return code\n",
    "\n",
    "def get_download_stock(market_type=None):\n",
    "  market_type_param = stock_type[market_type]\n",
    "  download_link = 'http://kind.krx.co.kr/corpgeneral/corpList.do?method=download&marketType=' + market_type_param\n",
    "  \n",
    "  df = pd.read_html(download_link, header=0)[0]\n",
    "  return df;\n",
    "\n",
    "def get_download_kospi():\n",
    "  df = get_download_stock('kospi')\n",
    "  df.종목코드 = df.종목코드.map('{:06d}.KS'.format)\n",
    "  return df\n",
    "\n",
    "def get_download_kosdaq():\n",
    "  df = get_download_stock('kosdaq')\n",
    "  df.종목코드 = df.종목코드.map('{:06d}.KQ'.format)\n",
    "  return df"
   ]
  },
  {
   "cell_type": "code",
   "execution_count": 0,
   "metadata": {
    "id": "1xsrf70gjgfp",
    "colab_type": "code",
    "colab": {}
   },
   "outputs": [],
   "source": [
    "# kospi, kosdaq 종목코드 각각 다운로드\n",
    "kospi_df = get_download_kospi()\n",
    "kosdaq_df = get_download_kosdaq()\n",
    "\n",
    "# data frame merge\n",
    "code_df = pd.concat([kospi_df, kosdaq_df])\n",
    "\n",
    "# data frame정리\n",
    "code_df = code_df[['회사명', '종목코드']]\n",
    "\n",
    "# data frame title 변경 '회사명' = name, 종목코드 = 'code'\n",
    "code_df = code_df.rename(columns={'회사명': 'name', '종목코드': 'code'})"
   ]
  },
  {
   "cell_type": "code",
   "execution_count": 4,
   "metadata": {
    "id": "mNm5Ii5ojkaZ",
    "colab_type": "code",
    "colab": {
     "base_uri": "https://localhost:8080/",
     "height": 424.0
    },
    "outputId": "0984e8cc-4844-448d-dab4-0e495085a02a"
   },
   "outputs": [
    {
     "data": {
      "text/html": [
       "<div>\n",
       "<style scoped>\n",
       "    .dataframe tbody tr th:only-of-type {\n",
       "        vertical-align: middle;\n",
       "    }\n",
       "\n",
       "    .dataframe tbody tr th {\n",
       "        vertical-align: top;\n",
       "    }\n",
       "\n",
       "    .dataframe thead th {\n",
       "        text-align: right;\n",
       "    }\n",
       "</style>\n",
       "<table border=\"1\" class=\"dataframe\">\n",
       "  <thead>\n",
       "    <tr style=\"text-align: right;\">\n",
       "      <th></th>\n",
       "      <th>name</th>\n",
       "      <th>code</th>\n",
       "    </tr>\n",
       "  </thead>\n",
       "  <tbody>\n",
       "    <tr>\n",
       "      <th>0</th>\n",
       "      <td>JS전선</td>\n",
       "      <td>005560.KS</td>\n",
       "    </tr>\n",
       "    <tr>\n",
       "      <th>1</th>\n",
       "      <td>거북선2호</td>\n",
       "      <td>101380.KS</td>\n",
       "    </tr>\n",
       "    <tr>\n",
       "      <th>2</th>\n",
       "      <td>거북선6호</td>\n",
       "      <td>114140.KS</td>\n",
       "    </tr>\n",
       "    <tr>\n",
       "      <th>3</th>\n",
       "      <td>교보메리츠</td>\n",
       "      <td>064900.KS</td>\n",
       "    </tr>\n",
       "    <tr>\n",
       "      <th>4</th>\n",
       "      <td>국제관광공사</td>\n",
       "      <td>028780.KS</td>\n",
       "    </tr>\n",
       "    <tr>\n",
       "      <th>...</th>\n",
       "      <td>...</td>\n",
       "      <td>...</td>\n",
       "    </tr>\n",
       "    <tr>\n",
       "      <th>2215</th>\n",
       "      <td>한라IMS</td>\n",
       "      <td>092460.KQ</td>\n",
       "    </tr>\n",
       "    <tr>\n",
       "      <th>2216</th>\n",
       "      <td>한류AI센터</td>\n",
       "      <td>222810.KQ</td>\n",
       "    </tr>\n",
       "    <tr>\n",
       "      <th>2217</th>\n",
       "      <td>홈센타홀딩스</td>\n",
       "      <td>060560.KQ</td>\n",
       "    </tr>\n",
       "    <tr>\n",
       "      <th>2218</th>\n",
       "      <td>휴맥스</td>\n",
       "      <td>115160.KQ</td>\n",
       "    </tr>\n",
       "    <tr>\n",
       "      <th>2219</th>\n",
       "      <td>휴메딕스</td>\n",
       "      <td>200670.KQ</td>\n",
       "    </tr>\n",
       "  </tbody>\n",
       "</table>\n",
       "<p>3608 rows × 2 columns</p>\n",
       "</div>"
      ],
      "text/plain": [
       "        name       code\n",
       "0       JS전선  005560.KS\n",
       "1      거북선2호  101380.KS\n",
       "2      거북선6호  114140.KS\n",
       "3      교보메리츠  064900.KS\n",
       "4     국제관광공사  028780.KS\n",
       "...      ...        ...\n",
       "2215   한라IMS  092460.KQ\n",
       "2216  한류AI센터  222810.KQ\n",
       "2217  홈센타홀딩스  060560.KQ\n",
       "2218     휴맥스  115160.KQ\n",
       "2219    휴메딕스  200670.KQ\n",
       "\n",
       "[3608 rows x 2 columns]"
      ]
     },
     "execution_count": 4,
     "metadata": {
      "tags": []
     },
     "output_type": "execute_result"
    }
   ],
   "source": [
    "code_df"
   ]
  },
  {
   "cell_type": "code",
   "execution_count": 5,
   "metadata": {
    "id": "Y0EzwF_ajmIL",
    "colab_type": "code",
    "colab": {
     "base_uri": "https://localhost:8080/",
     "height": 34.0
    },
    "outputId": "dda780e9-6b10-427a-bf26-a4f14993cd11"
   },
   "outputs": [
    {
     "data": {
      "text/plain": [
       "'035720.KS'"
      ]
     },
     "execution_count": 5,
     "metadata": {
      "tags": []
     },
     "output_type": "execute_result"
    }
   ],
   "source": [
    "code = get_code(code_df, '카카오')\n",
    "code"
   ]
  },
  {
   "cell_type": "code",
   "execution_count": 6,
   "metadata": {
    "id": "mAQMqPKqjtPp",
    "colab_type": "code",
    "colab": {
     "base_uri": "https://localhost:8080/",
     "height": 455.0
    },
    "outputId": "36ebcb01-5f1e-4053-9b4d-2e61a98ffcfa"
   },
   "outputs": [
    {
     "data": {
      "text/html": [
       "<div>\n",
       "<style scoped>\n",
       "    .dataframe tbody tr th:only-of-type {\n",
       "        vertical-align: middle;\n",
       "    }\n",
       "\n",
       "    .dataframe tbody tr th {\n",
       "        vertical-align: top;\n",
       "    }\n",
       "\n",
       "    .dataframe thead th {\n",
       "        text-align: right;\n",
       "    }\n",
       "</style>\n",
       "<table border=\"1\" class=\"dataframe\">\n",
       "  <thead>\n",
       "    <tr style=\"text-align: right;\">\n",
       "      <th></th>\n",
       "      <th>High</th>\n",
       "      <th>Low</th>\n",
       "      <th>Open</th>\n",
       "      <th>Close</th>\n",
       "      <th>Volume</th>\n",
       "      <th>Adj Close</th>\n",
       "    </tr>\n",
       "    <tr>\n",
       "      <th>Date</th>\n",
       "      <th></th>\n",
       "      <th></th>\n",
       "      <th></th>\n",
       "      <th></th>\n",
       "      <th></th>\n",
       "      <th></th>\n",
       "    </tr>\n",
       "  </thead>\n",
       "  <tbody>\n",
       "    <tr>\n",
       "      <th>2010-01-04</th>\n",
       "      <td>74200.0</td>\n",
       "      <td>69100.0</td>\n",
       "      <td>70300.0</td>\n",
       "      <td>73400.0</td>\n",
       "      <td>158976.0</td>\n",
       "      <td>69441.968750</td>\n",
       "    </tr>\n",
       "    <tr>\n",
       "      <th>2010-01-05</th>\n",
       "      <td>75300.0</td>\n",
       "      <td>72200.0</td>\n",
       "      <td>73000.0</td>\n",
       "      <td>74000.0</td>\n",
       "      <td>124156.0</td>\n",
       "      <td>70009.625000</td>\n",
       "    </tr>\n",
       "    <tr>\n",
       "      <th>2010-01-06</th>\n",
       "      <td>75200.0</td>\n",
       "      <td>73000.0</td>\n",
       "      <td>74600.0</td>\n",
       "      <td>74300.0</td>\n",
       "      <td>72453.0</td>\n",
       "      <td>70293.445312</td>\n",
       "    </tr>\n",
       "    <tr>\n",
       "      <th>2010-01-07</th>\n",
       "      <td>74800.0</td>\n",
       "      <td>72100.0</td>\n",
       "      <td>74300.0</td>\n",
       "      <td>73400.0</td>\n",
       "      <td>99241.0</td>\n",
       "      <td>69441.968750</td>\n",
       "    </tr>\n",
       "    <tr>\n",
       "      <th>2010-01-08</th>\n",
       "      <td>73500.0</td>\n",
       "      <td>70100.0</td>\n",
       "      <td>73500.0</td>\n",
       "      <td>72900.0</td>\n",
       "      <td>114554.0</td>\n",
       "      <td>68968.937500</td>\n",
       "    </tr>\n",
       "    <tr>\n",
       "      <th>...</th>\n",
       "      <td>...</td>\n",
       "      <td>...</td>\n",
       "      <td>...</td>\n",
       "      <td>...</td>\n",
       "      <td>...</td>\n",
       "      <td>...</td>\n",
       "    </tr>\n",
       "    <tr>\n",
       "      <th>2020-02-20</th>\n",
       "      <td>191500.0</td>\n",
       "      <td>188000.0</td>\n",
       "      <td>190500.0</td>\n",
       "      <td>190500.0</td>\n",
       "      <td>547405.0</td>\n",
       "      <td>190500.000000</td>\n",
       "    </tr>\n",
       "    <tr>\n",
       "      <th>2020-02-21</th>\n",
       "      <td>191500.0</td>\n",
       "      <td>187500.0</td>\n",
       "      <td>188500.0</td>\n",
       "      <td>189500.0</td>\n",
       "      <td>558497.0</td>\n",
       "      <td>189500.000000</td>\n",
       "    </tr>\n",
       "    <tr>\n",
       "      <th>2020-02-24</th>\n",
       "      <td>186000.0</td>\n",
       "      <td>182000.0</td>\n",
       "      <td>184500.0</td>\n",
       "      <td>183500.0</td>\n",
       "      <td>792733.0</td>\n",
       "      <td>183500.000000</td>\n",
       "    </tr>\n",
       "    <tr>\n",
       "      <th>2020-02-25</th>\n",
       "      <td>186000.0</td>\n",
       "      <td>180000.0</td>\n",
       "      <td>182000.0</td>\n",
       "      <td>185500.0</td>\n",
       "      <td>596763.0</td>\n",
       "      <td>185500.000000</td>\n",
       "    </tr>\n",
       "    <tr>\n",
       "      <th>2020-02-27</th>\n",
       "      <td>185500.0</td>\n",
       "      <td>176500.0</td>\n",
       "      <td>184000.0</td>\n",
       "      <td>178500.0</td>\n",
       "      <td>782041.0</td>\n",
       "      <td>178500.000000</td>\n",
       "    </tr>\n",
       "  </tbody>\n",
       "</table>\n",
       "<p>2498 rows × 6 columns</p>\n",
       "</div>"
      ],
      "text/plain": [
       "                High       Low      Open     Close    Volume      Adj Close\n",
       "Date                                                                       \n",
       "2010-01-04   74200.0   69100.0   70300.0   73400.0  158976.0   69441.968750\n",
       "2010-01-05   75300.0   72200.0   73000.0   74000.0  124156.0   70009.625000\n",
       "2010-01-06   75200.0   73000.0   74600.0   74300.0   72453.0   70293.445312\n",
       "2010-01-07   74800.0   72100.0   74300.0   73400.0   99241.0   69441.968750\n",
       "2010-01-08   73500.0   70100.0   73500.0   72900.0  114554.0   68968.937500\n",
       "...              ...       ...       ...       ...       ...            ...\n",
       "2020-02-20  191500.0  188000.0  190500.0  190500.0  547405.0  190500.000000\n",
       "2020-02-21  191500.0  187500.0  188500.0  189500.0  558497.0  189500.000000\n",
       "2020-02-24  186000.0  182000.0  184500.0  183500.0  792733.0  183500.000000\n",
       "2020-02-25  186000.0  180000.0  182000.0  185500.0  596763.0  185500.000000\n",
       "2020-02-27  185500.0  176500.0  184000.0  178500.0  782041.0  178500.000000\n",
       "\n",
       "[2498 rows x 6 columns]"
      ]
     },
     "execution_count": 6,
     "metadata": {
      "tags": []
     },
     "output_type": "execute_result"
    }
   ],
   "source": [
    "df = pdr.get_data_yahoo(code)\n",
    "df"
   ]
  },
  {
   "cell_type": "code",
   "execution_count": 7,
   "metadata": {
    "id": "qYV6yuM5jxA8",
    "colab_type": "code",
    "colab": {
     "base_uri": "https://localhost:8080/",
     "height": 286.0
    },
    "outputId": "7c028e67-db5d-4e7c-f5ed-9d079abee4a9"
   },
   "outputs": [
    {
     "data": {
      "text/plain": [
       "<matplotlib.axes._subplots.AxesSubplot at 0x7f804291b2b0>"
      ]
     },
     "execution_count": 7,
     "metadata": {
      "tags": []
     },
     "output_type": "execute_result"
    },
    {
     "data": {
      "image/png": "[encoded data removed]",
      "text/plain": [
       "<Figure size 432x288 with 1 Axes>"
      ]
     },
     "metadata": {
      "tags": []
     },
     "output_type": "display_data"
    }
   ],
   "source": [
    "df['Close'].plot()"
   ]
  },
  {
   "cell_type": "code",
   "execution_count": 0,
   "metadata": {
    "id": "K2NA1Fhsj2XU",
    "colab_type": "code",
    "colab": {}
   },
   "outputs": [],
   "source": [
    ""
   ]
  }
 ],
 "metadata": {
  "colab": {
   "name": "stock_test.ipynb",
   "provenance": []
  },
  "kernelspec": {
   "name": "python3",
   "display_name": "Python 3"
  }
 },
 "nbformat": 4,
 "nbformat_minor": 0
}
