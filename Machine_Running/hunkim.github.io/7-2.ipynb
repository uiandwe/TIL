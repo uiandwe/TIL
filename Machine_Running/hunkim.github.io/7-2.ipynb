{
 "cells": [
  {
   "cell_type": "code",
   "execution_count": 7,
   "metadata": {},
   "outputs": [
    {
     "name": "stdout",
     "output_type": "stream",
     "text": [
      "Extracting MNIST_data/train-images-idx3-ubyte.gz\n",
      "Extracting MNIST_data/train-labels-idx1-ubyte.gz\n",
      "Extracting MNIST_data/t10k-images-idx3-ubyte.gz\n",
      "Extracting MNIST_data/t10k-labels-idx1-ubyte.gz\n",
      "('epoch:, ', '0001', ' cost = ', '2.576385108')\n",
      "('epoch:, ', '0002', ' cost = ', '1.072589894')\n",
      "('epoch:, ', '0003', ' cost = ', '0.856648478')\n",
      "('epoch:, ', '0004', ' cost = ', '0.753083360')\n",
      "('epoch:, ', '0005', ' cost = ', '0.688584651')\n",
      "('epoch:, ', '0006', ' cost = ', '0.642893145')\n",
      "('epoch:, ', '0007', ' cost = ', '0.608282274')\n",
      "('epoch:, ', '0008', ' cost = ', '0.580402354')\n",
      "('epoch:, ', '0009', ' cost = ', '0.557514496')\n",
      "('epoch:, ', '0010', ' cost = ', '0.537580997')\n",
      "('epoch:, ', '0011', ' cost = ', '0.520592697')\n",
      "('epoch:, ', '0012', ' cost = ', '0.505975684')\n",
      "('epoch:, ', '0013', ' cost = ', '0.492716662')\n",
      "('epoch:, ', '0014', ' cost = ', '0.481139521')\n",
      "('epoch:, ', '0015', ' cost = ', '0.470281405')\n",
      "Learning finished\n",
      "('Accuracy: ', 0.8917)\n",
      "('Label: ', array([9]))\n",
      "('Prediction: ', array([9]))\n"
     ]
    },
    {
     "data": {
      "image/png": "[encoded data removed]",
      "text/plain": [
       "<Figure size 432x288 with 1 Axes>"
      ]
     },
     "metadata": {
      "needs_background": "light"
     },
     "output_type": "display_data"
    }
   ],
   "source": [
    "import tensorflow as tf\n",
    "import random\n",
    "import matplotlib.pyplot as plt\n",
    "tf.set_random_seed(777) \n",
    "from tensorflow.examples.tutorials.mnist import input_data\n",
    "\n",
    "nb_classes = 10\n",
    "mnist = input_data.read_data_sets(\"MNIST_data/\", one_hot=True)\n",
    "\n",
    "X = tf.placeholder(tf.float32, [None, 784])\n",
    "Y = tf.placeholder(tf.float32, [None, nb_classes])\n",
    "\n",
    "W = tf.Variable(tf.random_normal([784, nb_classes]))\n",
    "b = tf.Variable(tf.random_normal([nb_classes]))\n",
    "\n",
    "hypothesis = tf.nn.softmax(tf.matmul(X, W)+b)\n",
    "cost = tf.reduce_mean(-tf.reduce_sum(Y*tf.log(hypothesis), axis=1))\n",
    "optimizer = tf.train.GradientDescentOptimizer(learning_rate=0.1).minimize(cost)\n",
    "\n",
    "is_corrent = tf.equal(tf.arg_max(hypothesis, 1), tf.arg_max(Y,1))\n",
    "accuracy = tf.reduce_mean(tf.cast(is_corrent, tf.float32))\n",
    "\n",
    "training_epochs =  15\n",
    "batch_size = 100\n",
    "\n",
    "with tf.Session() as sess:\n",
    "    sess.run(tf.global_variables_initializer())\n",
    "    \n",
    "    for epoch in range(training_epochs):\n",
    "        avg_cost = 0\n",
    "        total_batch = int(mnist.train.num_examples / batch_size)\n",
    "        \n",
    "        for i in range(total_batch):\n",
    "            batch_xs, batch_ys = mnist.train.next_batch(batch_size)\n",
    "            c, _ = sess.run([cost, optimizer], feed_dict={X:batch_xs, Y:batch_ys})\n",
    "            avg_cost += c / total_batch\n",
    "            \n",
    "        print('epoch:, ', '%04d' % (epoch+1), ' cost = ', '{:.9f}'.format(avg_cost))\n",
    "    \n",
    "    \n",
    "    print(\"Learning finished\")\n",
    "\n",
    "    print(\"Accuracy: \", accuracy.eval(session=sess, feed_dict={\n",
    "          X: mnist.test.images, Y: mnist.test.labels}))\n",
    "\n",
    "    r = random.randint(0, mnist.test.num_examples - 1)\n",
    "    print(\"Label: \", sess.run(tf.argmax(mnist.test.labels[r:r + 1], 1)))\n",
    "    print(\"Prediction: \", sess.run(\n",
    "        tf.argmax(hypothesis, 1), feed_dict={X: mnist.test.images[r:r + 1]}))\n",
    "\n",
    "    plt.imshow(\n",
    "        mnist.test.images[r:r + 1].reshape(28, 28),\n",
    "        cmap='Greys',\n",
    "        interpolation='nearest')\n",
    "    plt.show()\n",
    "        \n",
    "\n",
    "\n"
   ]
  },
  {
   "cell_type": "code",
   "execution_count": null,
   "metadata": {},
   "outputs": [],
   "source": []
  },
  {
   "cell_type": "code",
   "execution_count": null,
   "metadata": {},
   "outputs": [],
   "source": []
  }
 ],
 "metadata": {
  "kernelspec": {
   "display_name": "Python 2",
   "language": "python",
   "name": "python2"
  },
  "language_info": {
   "codemirror_mode": {
    "name": "ipython",
    "version": 2
   },
   "file_extension": ".py",
   "mimetype": "text/x-python",
   "name": "python",
   "nbconvert_exporter": "python",
   "pygments_lexer": "ipython2",
   "version": "2.7.12"
  }
 },
 "nbformat": 4,
 "nbformat_minor": 2
}
