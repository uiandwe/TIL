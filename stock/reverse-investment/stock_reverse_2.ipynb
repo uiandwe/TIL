{
  "nbformat": 4,
  "nbformat_minor": 0,
  "metadata": {
    "colab": {
      "name": "stock-reverse-1.ipynb",
      "provenance": []
    },
    "kernelspec": {
      "name": "python3",
      "display_name": "Python 3"
    }
  },
  "cells": [
    {
      "cell_type": "code",
      "metadata": {
        "id": "Hvo5fbi9cUD0",
        "colab_type": "code",
        "colab": {
          "base_uri": "https://localhost:8080/",
          "height": 72
        },
        "outputId": "d590ba69-e41f-45f4-bd20-4d916d0723b3"
      },
      "source": [
        "import requests\n",
        "from io import BytesIO\n",
        "import pandas as pd\n",
        "import seaborn as sns"
      ],
      "execution_count": 2,
      "outputs": [
        {
          "output_type": "stream",
          "text": [
            "/usr/local/lib/python3.6/dist-packages/statsmodels/tools/_testing.py:19: FutureWarning: pandas.util.testing is deprecated. Use the functions in the public API at pandas.testing instead.\n",
            "  import pandas.util.testing as tm\n"
          ],
          "name": "stderr"
        }
      ]
    },
    {
      "cell_type": "code",
      "metadata": {
        "id": "_h3qiUPrclbx",
        "colab_type": "code",
        "colab": {}
      },
      "source": [
        "page = 1\n",
        "url = \"https://finance.naver.com/sise/investorDealTrendDay.nhn?bizdate=20200522&sosok=&page={page}\".format(page=page)\n",
        "resp = requests.get(url)\n",
        "html = BytesIO(resp.content)\n",
        "df = pd.read_html(html)[0]"
      ],
      "execution_count": 0,
      "outputs": []
    },
    {
      "cell_type": "code",
      "metadata": {
        "id": "QJ-oWBgveLK1",
        "colab_type": "code",
        "colab": {
          "base_uri": "https://localhost:8080/",
          "height": 225
        },
        "outputId": "4b0344f0-aa56-434d-b7ce-126c5b544448"
      },
      "source": [
        "cols = df.columns\n",
        "cols"
      ],
      "execution_count": 5,
      "outputs": [
        {
          "output_type": "execute_result",
          "data": {
            "text/plain": [
              "MultiIndex([(  '날짜',     '날짜'),\n",
              "            (  '개인',     '개인'),\n",
              "            ( '외국인',    '외국인'),\n",
              "            ( '기관계',    '기관계'),\n",
              "            (  '기관',   '금융투자'),\n",
              "            (  '기관',     '보험'),\n",
              "            (  '기관', '투신(사모)'),\n",
              "            (  '기관',     '은행'),\n",
              "            (  '기관', '기타금융기관'),\n",
              "            (  '기관',   '연기금등'),\n",
              "            ('기타법인',   '기타법인')],\n",
              "           )"
            ]
          },
          "metadata": {
            "tags": []
          },
          "execution_count": 5
        }
      ]
    },
    {
      "cell_type": "code",
      "metadata": {
        "id": "Cystt-jdeRWl",
        "colab_type": "code",
        "colab": {
          "base_uri": "https://localhost:8080/",
          "height": 81
        },
        "outputId": "0bf9577d-2082-49fe-ed15-615b0491d9c2"
      },
      "source": [
        "df = pd.DataFrame(columns = cols)\n",
        "df"
      ],
      "execution_count": 6,
      "outputs": [
        {
          "output_type": "execute_result",
          "data": {
            "text/html": [
              "<div>\n",
              "<style scoped>\n",
              "    .dataframe tbody tr th:only-of-type {\n",
              "        vertical-align: middle;\n",
              "    }\n",
              "\n",
              "    .dataframe tbody tr th {\n",
              "        vertical-align: top;\n",
              "    }\n",
              "\n",
              "    .dataframe thead tr th {\n",
              "        text-align: left;\n",
              "    }\n",
              "</style>\n",
              "<table border=\"1\" class=\"dataframe\">\n",
              "  <thead>\n",
              "    <tr>\n",
              "      <th></th>\n",
              "      <th>날짜</th>\n",
              "      <th>개인</th>\n",
              "      <th>외국인</th>\n",
              "      <th>기관계</th>\n",
              "      <th colspan=\"6\" halign=\"left\">기관</th>\n",
              "      <th>기타법인</th>\n",
              "    </tr>\n",
              "    <tr>\n",
              "      <th></th>\n",
              "      <th>날짜</th>\n",
              "      <th>개인</th>\n",
              "      <th>외국인</th>\n",
              "      <th>기관계</th>\n",
              "      <th>금융투자</th>\n",
              "      <th>보험</th>\n",
              "      <th>투신(사모)</th>\n",
              "      <th>은행</th>\n",
              "      <th>기타금융기관</th>\n",
              "      <th>연기금등</th>\n",
              "      <th>기타법인</th>\n",
              "    </tr>\n",
              "  </thead>\n",
              "  <tbody>\n",
              "  </tbody>\n",
              "</table>\n",
              "</div>"
            ],
            "text/plain": [
              "Empty DataFrame\n",
              "Columns: [(날짜, 날짜), (개인, 개인), (외국인, 외국인), (기관계, 기관계), (기관, 금융투자), (기관, 보험), (기관, 투신(사모)), (기관, 은행), (기관, 기타금융기관), (기관, 연기금등), (기타법인, 기타법인)]\n",
              "Index: []"
            ]
          },
          "metadata": {
            "tags": []
          },
          "execution_count": 6
        }
      ]
    },
    {
      "cell_type": "code",
      "metadata": {
        "id": "vxDS-q_Ee2Wa",
        "colab_type": "code",
        "colab": {
          "base_uri": "https://localhost:8080/",
          "height": 472
        },
        "outputId": "1269dee9-2681-4e60-aee5-cbbe1398ba0b"
      },
      "source": [
        "from tqdm import tqdm\n",
        "\n",
        "for page in tqdm(range(1, 381)):\n",
        "  url = \"https://finance.naver.com/sise/investorDealTrendDay.nhn?bizdate=20200522&sosok=&page={page}\".format(page=page)\n",
        "  resp = requests.get(url)\n",
        "  html = BytesIO(resp.content)\n",
        "  df_single = pd.read_html(html)[0].dropna()\n",
        "  df = pd.concat([df, df_single])\n",
        "df"
      ],
      "execution_count": 7,
      "outputs": [
        {
          "output_type": "stream",
          "text": [
            "100%|██████████| 380/380 [09:04<00:00,  1.43s/it]\n"
          ],
          "name": "stderr"
        },
        {
          "output_type": "execute_result",
          "data": {
            "text/html": [
              "<div>\n",
              "<style scoped>\n",
              "    .dataframe tbody tr th:only-of-type {\n",
              "        vertical-align: middle;\n",
              "    }\n",
              "\n",
              "    .dataframe tbody tr th {\n",
              "        vertical-align: top;\n",
              "    }\n",
              "\n",
              "    .dataframe thead tr th {\n",
              "        text-align: left;\n",
              "    }\n",
              "</style>\n",
              "<table border=\"1\" class=\"dataframe\">\n",
              "  <thead>\n",
              "    <tr>\n",
              "      <th></th>\n",
              "      <th>날짜</th>\n",
              "      <th>개인</th>\n",
              "      <th>외국인</th>\n",
              "      <th>기관계</th>\n",
              "      <th colspan=\"6\" halign=\"left\">기관</th>\n",
              "      <th>기타법인</th>\n",
              "    </tr>\n",
              "    <tr>\n",
              "      <th></th>\n",
              "      <th>날짜</th>\n",
              "      <th>개인</th>\n",
              "      <th>외국인</th>\n",
              "      <th>기관계</th>\n",
              "      <th>금융투자</th>\n",
              "      <th>보험</th>\n",
              "      <th>투신(사모)</th>\n",
              "      <th>은행</th>\n",
              "      <th>기타금융기관</th>\n",
              "      <th>연기금등</th>\n",
              "      <th>기타법인</th>\n",
              "    </tr>\n",
              "  </thead>\n",
              "  <tbody>\n",
              "    <tr>\n",
              "      <th>0</th>\n",
              "      <td>20.05.22</td>\n",
              "      <td>9362.0</td>\n",
              "      <td>-4749.0</td>\n",
              "      <td>-4485.0</td>\n",
              "      <td>-2513.0</td>\n",
              "      <td>-180.0</td>\n",
              "      <td>-971.0</td>\n",
              "      <td>-58.0</td>\n",
              "      <td>0.0</td>\n",
              "      <td>-763.0</td>\n",
              "      <td>-128.0</td>\n",
              "    </tr>\n",
              "    <tr>\n",
              "      <th>1</th>\n",
              "      <td>20.05.21</td>\n",
              "      <td>2904.0</td>\n",
              "      <td>764.0</td>\n",
              "      <td>-3882.0</td>\n",
              "      <td>-3422.0</td>\n",
              "      <td>-310.0</td>\n",
              "      <td>-225.0</td>\n",
              "      <td>-16.0</td>\n",
              "      <td>65.0</td>\n",
              "      <td>25.0</td>\n",
              "      <td>214.0</td>\n",
              "    </tr>\n",
              "    <tr>\n",
              "      <th>2</th>\n",
              "      <td>20.05.20</td>\n",
              "      <td>-1819.0</td>\n",
              "      <td>788.0</td>\n",
              "      <td>981.0</td>\n",
              "      <td>-78.0</td>\n",
              "      <td>-22.0</td>\n",
              "      <td>459.0</td>\n",
              "      <td>-4.0</td>\n",
              "      <td>75.0</td>\n",
              "      <td>552.0</td>\n",
              "      <td>49.0</td>\n",
              "    </tr>\n",
              "    <tr>\n",
              "      <th>3</th>\n",
              "      <td>20.05.19</td>\n",
              "      <td>-11869.0</td>\n",
              "      <td>3658.0</td>\n",
              "      <td>8432.0</td>\n",
              "      <td>5235.0</td>\n",
              "      <td>15.0</td>\n",
              "      <td>1009.0</td>\n",
              "      <td>150.0</td>\n",
              "      <td>114.0</td>\n",
              "      <td>1909.0</td>\n",
              "      <td>-221.0</td>\n",
              "    </tr>\n",
              "    <tr>\n",
              "      <th>4</th>\n",
              "      <td>20.05.18</td>\n",
              "      <td>301.0</td>\n",
              "      <td>-931.0</td>\n",
              "      <td>339.0</td>\n",
              "      <td>-245.0</td>\n",
              "      <td>-108.0</td>\n",
              "      <td>-114.0</td>\n",
              "      <td>4.0</td>\n",
              "      <td>96.0</td>\n",
              "      <td>706.0</td>\n",
              "      <td>291.0</td>\n",
              "    </tr>\n",
              "    <tr>\n",
              "      <th>...</th>\n",
              "      <td>...</td>\n",
              "      <td>...</td>\n",
              "      <td>...</td>\n",
              "      <td>...</td>\n",
              "      <td>...</td>\n",
              "      <td>...</td>\n",
              "      <td>...</td>\n",
              "      <td>...</td>\n",
              "      <td>...</td>\n",
              "      <td>...</td>\n",
              "      <td>...</td>\n",
              "    </tr>\n",
              "    <tr>\n",
              "      <th>8</th>\n",
              "      <td>05.01.14</td>\n",
              "      <td>-3914.0</td>\n",
              "      <td>1892.0</td>\n",
              "      <td>2022.0</td>\n",
              "      <td>-133.0</td>\n",
              "      <td>-134.0</td>\n",
              "      <td>1661.0</td>\n",
              "      <td>91.0</td>\n",
              "      <td>117.0</td>\n",
              "      <td>419.0</td>\n",
              "      <td>0.0</td>\n",
              "    </tr>\n",
              "    <tr>\n",
              "      <th>9</th>\n",
              "      <td>05.01.13</td>\n",
              "      <td>-533.0</td>\n",
              "      <td>-269.0</td>\n",
              "      <td>802.0</td>\n",
              "      <td>-628.0</td>\n",
              "      <td>-7.0</td>\n",
              "      <td>404.0</td>\n",
              "      <td>67.0</td>\n",
              "      <td>54.0</td>\n",
              "      <td>912.0</td>\n",
              "      <td>0.0</td>\n",
              "    </tr>\n",
              "    <tr>\n",
              "      <th>10</th>\n",
              "      <td>05.01.12</td>\n",
              "      <td>16.0</td>\n",
              "      <td>966.0</td>\n",
              "      <td>-982.0</td>\n",
              "      <td>-107.0</td>\n",
              "      <td>9.0</td>\n",
              "      <td>-186.0</td>\n",
              "      <td>-56.0</td>\n",
              "      <td>103.0</td>\n",
              "      <td>-744.0</td>\n",
              "      <td>0.0</td>\n",
              "    </tr>\n",
              "    <tr>\n",
              "      <th>11</th>\n",
              "      <td>05.01.11</td>\n",
              "      <td>-648.0</td>\n",
              "      <td>-35.0</td>\n",
              "      <td>682.0</td>\n",
              "      <td>270.0</td>\n",
              "      <td>73.0</td>\n",
              "      <td>262.0</td>\n",
              "      <td>101.0</td>\n",
              "      <td>-11.0</td>\n",
              "      <td>-12.0</td>\n",
              "      <td>0.0</td>\n",
              "    </tr>\n",
              "    <tr>\n",
              "      <th>12</th>\n",
              "      <td>05.01.10</td>\n",
              "      <td>150.0</td>\n",
              "      <td>440.0</td>\n",
              "      <td>-590.0</td>\n",
              "      <td>192.0</td>\n",
              "      <td>40.0</td>\n",
              "      <td>-806.0</td>\n",
              "      <td>42.0</td>\n",
              "      <td>20.0</td>\n",
              "      <td>-78.0</td>\n",
              "      <td>0.0</td>\n",
              "    </tr>\n",
              "  </tbody>\n",
              "</table>\n",
              "<p>3800 rows × 11 columns</p>\n",
              "</div>"
            ],
            "text/plain": [
              "          날짜       개인     외국인     기관계  ...     기관                  기타법인\n",
              "          날짜       개인     외국인     기관계  ...     은행 기타금융기관    연기금등   기타법인\n",
              "0   20.05.22   9362.0 -4749.0 -4485.0  ...  -58.0    0.0  -763.0 -128.0\n",
              "1   20.05.21   2904.0   764.0 -3882.0  ...  -16.0   65.0    25.0  214.0\n",
              "2   20.05.20  -1819.0   788.0   981.0  ...   -4.0   75.0   552.0   49.0\n",
              "3   20.05.19 -11869.0  3658.0  8432.0  ...  150.0  114.0  1909.0 -221.0\n",
              "4   20.05.18    301.0  -931.0   339.0  ...    4.0   96.0   706.0  291.0\n",
              "..       ...      ...     ...     ...  ...    ...    ...     ...    ...\n",
              "8   05.01.14  -3914.0  1892.0  2022.0  ...   91.0  117.0   419.0    0.0\n",
              "9   05.01.13   -533.0  -269.0   802.0  ...   67.0   54.0   912.0    0.0\n",
              "10  05.01.12     16.0   966.0  -982.0  ...  -56.0  103.0  -744.0    0.0\n",
              "11  05.01.11   -648.0   -35.0   682.0  ...  101.0  -11.0   -12.0    0.0\n",
              "12  05.01.10    150.0   440.0  -590.0  ...   42.0   20.0   -78.0    0.0\n",
              "\n",
              "[3800 rows x 11 columns]"
            ]
          },
          "metadata": {
            "tags": []
          },
          "execution_count": 7
        }
      ]
    },
    {
      "cell_type": "code",
      "metadata": {
        "id": "CpvEosVbfXz6",
        "colab_type": "code",
        "colab": {
          "base_uri": "https://localhost:8080/",
          "height": 206
        },
        "outputId": "83ae1c8b-f4c8-447a-ddc0-11f4e503ff6f"
      },
      "source": [
        "df.reset_index(drop=True, inplace=True)\n",
        "df.columns = df.columns.droplevel()\n",
        "df.head()"
      ],
      "execution_count": 8,
      "outputs": [
        {
          "output_type": "execute_result",
          "data": {
            "text/html": [
              "<div>\n",
              "<style scoped>\n",
              "    .dataframe tbody tr th:only-of-type {\n",
              "        vertical-align: middle;\n",
              "    }\n",
              "\n",
              "    .dataframe tbody tr th {\n",
              "        vertical-align: top;\n",
              "    }\n",
              "\n",
              "    .dataframe thead th {\n",
              "        text-align: right;\n",
              "    }\n",
              "</style>\n",
              "<table border=\"1\" class=\"dataframe\">\n",
              "  <thead>\n",
              "    <tr style=\"text-align: right;\">\n",
              "      <th></th>\n",
              "      <th>날짜</th>\n",
              "      <th>개인</th>\n",
              "      <th>외국인</th>\n",
              "      <th>기관계</th>\n",
              "      <th>금융투자</th>\n",
              "      <th>보험</th>\n",
              "      <th>투신(사모)</th>\n",
              "      <th>은행</th>\n",
              "      <th>기타금융기관</th>\n",
              "      <th>연기금등</th>\n",
              "      <th>기타법인</th>\n",
              "    </tr>\n",
              "  </thead>\n",
              "  <tbody>\n",
              "    <tr>\n",
              "      <th>0</th>\n",
              "      <td>20.05.22</td>\n",
              "      <td>9362.0</td>\n",
              "      <td>-4749.0</td>\n",
              "      <td>-4485.0</td>\n",
              "      <td>-2513.0</td>\n",
              "      <td>-180.0</td>\n",
              "      <td>-971.0</td>\n",
              "      <td>-58.0</td>\n",
              "      <td>0.0</td>\n",
              "      <td>-763.0</td>\n",
              "      <td>-128.0</td>\n",
              "    </tr>\n",
              "    <tr>\n",
              "      <th>1</th>\n",
              "      <td>20.05.21</td>\n",
              "      <td>2904.0</td>\n",
              "      <td>764.0</td>\n",
              "      <td>-3882.0</td>\n",
              "      <td>-3422.0</td>\n",
              "      <td>-310.0</td>\n",
              "      <td>-225.0</td>\n",
              "      <td>-16.0</td>\n",
              "      <td>65.0</td>\n",
              "      <td>25.0</td>\n",
              "      <td>214.0</td>\n",
              "    </tr>\n",
              "    <tr>\n",
              "      <th>2</th>\n",
              "      <td>20.05.20</td>\n",
              "      <td>-1819.0</td>\n",
              "      <td>788.0</td>\n",
              "      <td>981.0</td>\n",
              "      <td>-78.0</td>\n",
              "      <td>-22.0</td>\n",
              "      <td>459.0</td>\n",
              "      <td>-4.0</td>\n",
              "      <td>75.0</td>\n",
              "      <td>552.0</td>\n",
              "      <td>49.0</td>\n",
              "    </tr>\n",
              "    <tr>\n",
              "      <th>3</th>\n",
              "      <td>20.05.19</td>\n",
              "      <td>-11869.0</td>\n",
              "      <td>3658.0</td>\n",
              "      <td>8432.0</td>\n",
              "      <td>5235.0</td>\n",
              "      <td>15.0</td>\n",
              "      <td>1009.0</td>\n",
              "      <td>150.0</td>\n",
              "      <td>114.0</td>\n",
              "      <td>1909.0</td>\n",
              "      <td>-221.0</td>\n",
              "    </tr>\n",
              "    <tr>\n",
              "      <th>4</th>\n",
              "      <td>20.05.18</td>\n",
              "      <td>301.0</td>\n",
              "      <td>-931.0</td>\n",
              "      <td>339.0</td>\n",
              "      <td>-245.0</td>\n",
              "      <td>-108.0</td>\n",
              "      <td>-114.0</td>\n",
              "      <td>4.0</td>\n",
              "      <td>96.0</td>\n",
              "      <td>706.0</td>\n",
              "      <td>291.0</td>\n",
              "    </tr>\n",
              "  </tbody>\n",
              "</table>\n",
              "</div>"
            ],
            "text/plain": [
              "         날짜       개인     외국인     기관계  ...     은행  기타금융기관    연기금등   기타법인\n",
              "0  20.05.22   9362.0 -4749.0 -4485.0  ...  -58.0     0.0  -763.0 -128.0\n",
              "1  20.05.21   2904.0   764.0 -3882.0  ...  -16.0    65.0    25.0  214.0\n",
              "2  20.05.20  -1819.0   788.0   981.0  ...   -4.0    75.0   552.0   49.0\n",
              "3  20.05.19 -11869.0  3658.0  8432.0  ...  150.0   114.0  1909.0 -221.0\n",
              "4  20.05.18    301.0  -931.0   339.0  ...    4.0    96.0   706.0  291.0\n",
              "\n",
              "[5 rows x 11 columns]"
            ]
          },
          "metadata": {
            "tags": []
          },
          "execution_count": 8
        }
      ]
    },
    {
      "cell_type": "code",
      "metadata": {
        "id": "KqFte5Vwfm3w",
        "colab_type": "code",
        "colab": {
          "base_uri": "https://localhost:8080/",
          "height": 208
        },
        "outputId": "70447a23-79cd-4c03-a562-bf87d896c453"
      },
      "source": [
        "import matplotlib as mpl\n",
        "import matplotlib.pyplot as plt\n",
        " \n",
        "%config InlineBackend.figure_format = 'retina'\n",
        " \n",
        "!apt -qq -y install fonts-nanum\n",
        " \n",
        "import matplotlib.font_manager as fm\n",
        "fontpath = '/usr/share/fonts/truetype/nanum/NanumBarunGothic.ttf'\n",
        "font = fm.FontProperties(fname=fontpath, size=9)\n",
        "plt.rc('font', family='NanumBarunGothic') \n",
        "mpl.font_manager._rebuild()"
      ],
      "execution_count": 9,
      "outputs": [
        {
          "output_type": "stream",
          "text": [
            "The following NEW packages will be installed:\n",
            "  fonts-nanum\n",
            "0 upgraded, 1 newly installed, 0 to remove and 31 not upgraded.\n",
            "Need to get 9,604 kB of archives.\n",
            "After this operation, 29.5 MB of additional disk space will be used.\n",
            "Selecting previously unselected package fonts-nanum.\n",
            "(Reading database ... 144433 files and directories currently installed.)\n",
            "Preparing to unpack .../fonts-nanum_20170925-1_all.deb ...\n",
            "Unpacking fonts-nanum (20170925-1) ...\n",
            "Setting up fonts-nanum (20170925-1) ...\n",
            "Processing triggers for fontconfig (2.12.6-0ubuntu2) ...\n"
          ],
          "name": "stdout"
        }
      ]
    },
    {
      "cell_type": "code",
      "metadata": {
        "id": "REsLc6z3E4vP",
        "colab_type": "code",
        "colab": {
          "base_uri": "https://localhost:8080/",
          "height": 631
        },
        "outputId": "2ec1a021-3f5c-40ef-dc6a-5bff8be642f5"
      },
      "source": [
        "sns.set_context('talk')\n",
        "sns.regplot('개인',  '외국인',  df)"
      ],
      "execution_count": 10,
      "outputs": [
        {
          "output_type": "execute_result",
          "data": {
            "text/plain": [
              "<matplotlib.axes._subplots.AxesSubplot at 0x7f1a82f8ca58>"
            ]
          },
          "metadata": {
            "tags": []
          },
          "execution_count": 10
        },
        {
          "output_type": "stream",
          "text": [
            "findfont: Font family ['NanumBarunGothic'] not found. Falling back to DejaVu Sans.\n",
            "findfont: Font family ['NanumBarunGothic'] not found. Falling back to DejaVu Sans.\n",
            "/usr/local/lib/python3.6/dist-packages/matplotlib/backends/backend_agg.py:214: RuntimeWarning: Glyph 44060 missing from current font.\n",
            "  font.set_text(s, 0.0, flags=flags)\n",
            "/usr/local/lib/python3.6/dist-packages/matplotlib/backends/backend_agg.py:214: RuntimeWarning: Glyph 51064 missing from current font.\n",
            "  font.set_text(s, 0.0, flags=flags)\n",
            "/usr/local/lib/python3.6/dist-packages/matplotlib/backends/backend_agg.py:183: RuntimeWarning: Glyph 44060 missing from current font.\n",
            "  font.set_text(s, 0, flags=flags)\n",
            "/usr/local/lib/python3.6/dist-packages/matplotlib/backends/backend_agg.py:183: RuntimeWarning: Glyph 51064 missing from current font.\n",
            "  font.set_text(s, 0, flags=flags)\n",
            "/usr/local/lib/python3.6/dist-packages/matplotlib/backends/backend_agg.py:214: RuntimeWarning: Glyph 50808 missing from current font.\n",
            "  font.set_text(s, 0.0, flags=flags)\n",
            "/usr/local/lib/python3.6/dist-packages/matplotlib/backends/backend_agg.py:214: RuntimeWarning: Glyph 44397 missing from current font.\n",
            "  font.set_text(s, 0.0, flags=flags)\n",
            "/usr/local/lib/python3.6/dist-packages/matplotlib/backends/backend_agg.py:183: RuntimeWarning: Glyph 50808 missing from current font.\n",
            "  font.set_text(s, 0, flags=flags)\n",
            "/usr/local/lib/python3.6/dist-packages/matplotlib/backends/backend_agg.py:183: RuntimeWarning: Glyph 44397 missing from current font.\n",
            "  font.set_text(s, 0, flags=flags)\n"
          ],
          "name": "stderr"
        },
        {
          "output_type": "display_data",
          "data": {
            "image/png": "[encoded data removed]",
            "text/plain": [
              "<Figure size 432x288 with 1 Axes>"
            ]
          },
          "metadata": {
            "tags": [],
            "image/png": {
              "width": 448,
              "height": 281
            },
            "needs_background": "light"
          }
        }
      ]
    },
    {
      "cell_type": "code",
      "metadata": {
        "id": "4hQgt8DdFFbQ",
        "colab_type": "code",
        "colab": {}
      },
      "source": [
        ""
      ],
      "execution_count": 0,
      "outputs": []
    }
  ]
}