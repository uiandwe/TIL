{
  "nbformat": 4,
  "nbformat_minor": 0,
  "metadata": {
    "colab": {
      "name": "4.ipynb",
      "provenance": []
    },
    "kernelspec": {
      "name": "python3",
      "display_name": "Python 3"
    }
  },
  "cells": [
    {
      "cell_type": "code",
      "metadata": {
        "id": "_57CjvfoBQc9",
        "colab_type": "code",
        "colab": {}
      },
      "source": [
        "import datetime as dt\n",
        "import matplotlib.pyplot as plt\n",
        "from matplotlib import style\n",
        "import pandas as pd\n",
        "import pandas_datareader.data as web\n",
        "# !pip install mpl_finance\n",
        "from mpl_finance import candlestick_ohlc\n",
        "import matplotlib.dates as mdates\n",
        "style.use('ggplot')\n",
        "\n",
        "\n",
        "start = dt.datetime(2015, 1, 1)\n",
        "end = dt.datetime.now()\n",
        "\n",
        "df = web.DataReader('005930.KS', 'yahoo',start,end)\n",
        "df.reset_index(inplace=True)\n",
        "df.set_index(\"Date\", inplace=True)"
      ],
      "execution_count": 0,
      "outputs": []
    },
    {
      "cell_type": "code",
      "metadata": {
        "id": "i0MMdUx8BicZ",
        "colab_type": "code",
        "outputId": "4aea7016-4541-4f0d-8bea-6e02c065e9ff",
        "colab": {
          "base_uri": "https://localhost:8080/",
          "height": 235
        }
      },
      "source": [
        "df.head()"
      ],
      "execution_count": 21,
      "outputs": [
        {
          "output_type": "execute_result",
          "data": {
            "text/html": [
              "<div>\n",
              "<style scoped>\n",
              "    .dataframe tbody tr th:only-of-type {\n",
              "        vertical-align: middle;\n",
              "    }\n",
              "\n",
              "    .dataframe tbody tr th {\n",
              "        vertical-align: top;\n",
              "    }\n",
              "\n",
              "    .dataframe thead th {\n",
              "        text-align: right;\n",
              "    }\n",
              "</style>\n",
              "<table border=\"1\" class=\"dataframe\">\n",
              "  <thead>\n",
              "    <tr style=\"text-align: right;\">\n",
              "      <th></th>\n",
              "      <th>High</th>\n",
              "      <th>Low</th>\n",
              "      <th>Open</th>\n",
              "      <th>Close</th>\n",
              "      <th>Volume</th>\n",
              "      <th>Adj Close</th>\n",
              "    </tr>\n",
              "    <tr>\n",
              "      <th>Date</th>\n",
              "      <th></th>\n",
              "      <th></th>\n",
              "      <th></th>\n",
              "      <th></th>\n",
              "      <th></th>\n",
              "      <th></th>\n",
              "    </tr>\n",
              "  </thead>\n",
              "  <tbody>\n",
              "    <tr>\n",
              "      <th>2015-01-02</th>\n",
              "      <td>26800.0</td>\n",
              "      <td>26540.0</td>\n",
              "      <td>26800.0</td>\n",
              "      <td>26600.0</td>\n",
              "      <td>8774950.0</td>\n",
              "      <td>257.958313</td>\n",
              "    </tr>\n",
              "    <tr>\n",
              "      <th>2015-01-05</th>\n",
              "      <td>26720.0</td>\n",
              "      <td>26260.0</td>\n",
              "      <td>26720.0</td>\n",
              "      <td>26660.0</td>\n",
              "      <td>10139500.0</td>\n",
              "      <td>258.540161</td>\n",
              "    </tr>\n",
              "    <tr>\n",
              "      <th>2015-01-06</th>\n",
              "      <td>26340.0</td>\n",
              "      <td>25760.0</td>\n",
              "      <td>26300.0</td>\n",
              "      <td>25900.0</td>\n",
              "      <td>15235500.0</td>\n",
              "      <td>251.169937</td>\n",
              "    </tr>\n",
              "    <tr>\n",
              "      <th>2015-01-07</th>\n",
              "      <td>26220.0</td>\n",
              "      <td>25640.0</td>\n",
              "      <td>25880.0</td>\n",
              "      <td>26140.0</td>\n",
              "      <td>14322750.0</td>\n",
              "      <td>253.497406</td>\n",
              "    </tr>\n",
              "    <tr>\n",
              "      <th>2015-01-08</th>\n",
              "      <td>26780.0</td>\n",
              "      <td>26200.0</td>\n",
              "      <td>26780.0</td>\n",
              "      <td>26280.0</td>\n",
              "      <td>14477600.0</td>\n",
              "      <td>254.855087</td>\n",
              "    </tr>\n",
              "  </tbody>\n",
              "</table>\n",
              "</div>"
            ],
            "text/plain": [
              "               High      Low     Open    Close      Volume   Adj Close\n",
              "Date                                                                  \n",
              "2015-01-02  26800.0  26540.0  26800.0  26600.0   8774950.0  257.958313\n",
              "2015-01-05  26720.0  26260.0  26720.0  26660.0  10139500.0  258.540161\n",
              "2015-01-06  26340.0  25760.0  26300.0  25900.0  15235500.0  251.169937\n",
              "2015-01-07  26220.0  25640.0  25880.0  26140.0  14322750.0  253.497406\n",
              "2015-01-08  26780.0  26200.0  26780.0  26280.0  14477600.0  254.855087"
            ]
          },
          "metadata": {
            "tags": []
          },
          "execution_count": 21
        }
      ]
    },
    {
      "cell_type": "code",
      "metadata": {
        "id": "zh3-zxkWCVVp",
        "colab_type": "code",
        "outputId": "cb5af088-3c87-4d5b-d236-01e3357ad4ca",
        "colab": {
          "base_uri": "https://localhost:8080/",
          "height": 235
        }
      },
      "source": [
        "df_ohlc = df['Adj Close'].resample('10D').ohlc()\n",
        "df_ohlc.head()"
      ],
      "execution_count": 22,
      "outputs": [
        {
          "output_type": "execute_result",
          "data": {
            "text/html": [
              "<div>\n",
              "<style scoped>\n",
              "    .dataframe tbody tr th:only-of-type {\n",
              "        vertical-align: middle;\n",
              "    }\n",
              "\n",
              "    .dataframe tbody tr th {\n",
              "        vertical-align: top;\n",
              "    }\n",
              "\n",
              "    .dataframe thead th {\n",
              "        text-align: right;\n",
              "    }\n",
              "</style>\n",
              "<table border=\"1\" class=\"dataframe\">\n",
              "  <thead>\n",
              "    <tr style=\"text-align: right;\">\n",
              "      <th></th>\n",
              "      <th>open</th>\n",
              "      <th>high</th>\n",
              "      <th>low</th>\n",
              "      <th>close</th>\n",
              "    </tr>\n",
              "    <tr>\n",
              "      <th>Date</th>\n",
              "      <th></th>\n",
              "      <th></th>\n",
              "      <th></th>\n",
              "      <th></th>\n",
              "    </tr>\n",
              "  </thead>\n",
              "  <tbody>\n",
              "    <tr>\n",
              "      <th>2015-01-02</th>\n",
              "      <td>257.958313</td>\n",
              "      <td>258.540161</td>\n",
              "      <td>251.169937</td>\n",
              "      <td>254.855087</td>\n",
              "    </tr>\n",
              "    <tr>\n",
              "      <th>2015-01-12</th>\n",
              "      <td>255.242996</td>\n",
              "      <td>270.565308</td>\n",
              "      <td>255.242996</td>\n",
              "      <td>270.565308</td>\n",
              "    </tr>\n",
              "    <tr>\n",
              "      <th>2015-01-22</th>\n",
              "      <td>267.268097</td>\n",
              "      <td>271.535034</td>\n",
              "      <td>263.776917</td>\n",
              "      <td>264.746674</td>\n",
              "    </tr>\n",
              "    <tr>\n",
              "      <th>2015-02-01</th>\n",
              "      <td>265.328522</td>\n",
              "      <td>270.565308</td>\n",
              "      <td>263.389038</td>\n",
              "      <td>267.268097</td>\n",
              "    </tr>\n",
              "    <tr>\n",
              "      <th>2015-02-11</th>\n",
              "      <td>262.807129</td>\n",
              "      <td>267.074066</td>\n",
              "      <td>260.673676</td>\n",
              "      <td>267.074066</td>\n",
              "    </tr>\n",
              "  </tbody>\n",
              "</table>\n",
              "</div>"
            ],
            "text/plain": [
              "                  open        high         low       close\n",
              "Date                                                      \n",
              "2015-01-02  257.958313  258.540161  251.169937  254.855087\n",
              "2015-01-12  255.242996  270.565308  255.242996  270.565308\n",
              "2015-01-22  267.268097  271.535034  263.776917  264.746674\n",
              "2015-02-01  265.328522  270.565308  263.389038  267.268097\n",
              "2015-02-11  262.807129  267.074066  260.673676  267.074066"
            ]
          },
          "metadata": {
            "tags": []
          },
          "execution_count": 22
        }
      ]
    },
    {
      "cell_type": "code",
      "metadata": {
        "id": "D3J52EFACWAu",
        "colab_type": "code",
        "colab": {
          "base_uri": "https://localhost:8080/",
          "height": 136
        },
        "outputId": "18bd07b1-ba4d-4059-e6ca-2682390ed8a7"
      },
      "source": [
        "df_volume = df['Volume'].resample('10D').sum()\n",
        "df_volume.head()"
      ],
      "execution_count": 23,
      "outputs": [
        {
          "output_type": "execute_result",
          "data": {
            "text/plain": [
              "Date\n",
              "2015-01-02    72262700.0\n",
              "2015-01-12    99187100.0\n",
              "2015-01-22    91570900.0\n",
              "2015-02-01    55492600.0\n",
              "2015-02-11    39216400.0\n",
              "Freq: 10D, Name: Volume, dtype: float64"
            ]
          },
          "metadata": {
            "tags": []
          },
          "execution_count": 23
        }
      ]
    },
    {
      "cell_type": "code",
      "metadata": {
        "id": "ykqm1r5T82jI",
        "colab_type": "code",
        "colab": {
          "base_uri": "https://localhost:8080/",
          "height": 235
        },
        "outputId": "82c9dd25-79ff-4ed0-c782-615d82ac3c0b"
      },
      "source": [
        "df_ohlc.reset_index(inplace=True)\n",
        "df.head()"
      ],
      "execution_count": 25,
      "outputs": [
        {
          "output_type": "execute_result",
          "data": {
            "text/html": [
              "<div>\n",
              "<style scoped>\n",
              "    .dataframe tbody tr th:only-of-type {\n",
              "        vertical-align: middle;\n",
              "    }\n",
              "\n",
              "    .dataframe tbody tr th {\n",
              "        vertical-align: top;\n",
              "    }\n",
              "\n",
              "    .dataframe thead th {\n",
              "        text-align: right;\n",
              "    }\n",
              "</style>\n",
              "<table border=\"1\" class=\"dataframe\">\n",
              "  <thead>\n",
              "    <tr style=\"text-align: right;\">\n",
              "      <th></th>\n",
              "      <th>High</th>\n",
              "      <th>Low</th>\n",
              "      <th>Open</th>\n",
              "      <th>Close</th>\n",
              "      <th>Volume</th>\n",
              "      <th>Adj Close</th>\n",
              "    </tr>\n",
              "    <tr>\n",
              "      <th>Date</th>\n",
              "      <th></th>\n",
              "      <th></th>\n",
              "      <th></th>\n",
              "      <th></th>\n",
              "      <th></th>\n",
              "      <th></th>\n",
              "    </tr>\n",
              "  </thead>\n",
              "  <tbody>\n",
              "    <tr>\n",
              "      <th>2015-01-02</th>\n",
              "      <td>26800.0</td>\n",
              "      <td>26540.0</td>\n",
              "      <td>26800.0</td>\n",
              "      <td>26600.0</td>\n",
              "      <td>8774950.0</td>\n",
              "      <td>257.958313</td>\n",
              "    </tr>\n",
              "    <tr>\n",
              "      <th>2015-01-05</th>\n",
              "      <td>26720.0</td>\n",
              "      <td>26260.0</td>\n",
              "      <td>26720.0</td>\n",
              "      <td>26660.0</td>\n",
              "      <td>10139500.0</td>\n",
              "      <td>258.540161</td>\n",
              "    </tr>\n",
              "    <tr>\n",
              "      <th>2015-01-06</th>\n",
              "      <td>26340.0</td>\n",
              "      <td>25760.0</td>\n",
              "      <td>26300.0</td>\n",
              "      <td>25900.0</td>\n",
              "      <td>15235500.0</td>\n",
              "      <td>251.169937</td>\n",
              "    </tr>\n",
              "    <tr>\n",
              "      <th>2015-01-07</th>\n",
              "      <td>26220.0</td>\n",
              "      <td>25640.0</td>\n",
              "      <td>25880.0</td>\n",
              "      <td>26140.0</td>\n",
              "      <td>14322750.0</td>\n",
              "      <td>253.497406</td>\n",
              "    </tr>\n",
              "    <tr>\n",
              "      <th>2015-01-08</th>\n",
              "      <td>26780.0</td>\n",
              "      <td>26200.0</td>\n",
              "      <td>26780.0</td>\n",
              "      <td>26280.0</td>\n",
              "      <td>14477600.0</td>\n",
              "      <td>254.855087</td>\n",
              "    </tr>\n",
              "  </tbody>\n",
              "</table>\n",
              "</div>"
            ],
            "text/plain": [
              "               High      Low     Open    Close      Volume   Adj Close\n",
              "Date                                                                  \n",
              "2015-01-02  26800.0  26540.0  26800.0  26600.0   8774950.0  257.958313\n",
              "2015-01-05  26720.0  26260.0  26720.0  26660.0  10139500.0  258.540161\n",
              "2015-01-06  26340.0  25760.0  26300.0  25900.0  15235500.0  251.169937\n",
              "2015-01-07  26220.0  25640.0  25880.0  26140.0  14322750.0  253.497406\n",
              "2015-01-08  26780.0  26200.0  26780.0  26280.0  14477600.0  254.855087"
            ]
          },
          "metadata": {
            "tags": []
          },
          "execution_count": 25
        }
      ]
    },
    {
      "cell_type": "code",
      "metadata": {
        "id": "eIFYsaySCyKf",
        "colab_type": "code",
        "colab": {
          "base_uri": "https://localhost:8080/",
          "height": 265
        },
        "outputId": "f981144d-dff6-4e94-9d4f-c011b8042451"
      },
      "source": [
        "fig = plt.figure()\n",
        "ax1 = plt.subplot2grid((6,1), (0,0), rowspan=5, colspan=1)\n",
        "ax2 = plt.subplot2grid((6,1), (5,0), rowspan=1, colspan=1,sharex=ax1)\n",
        "ax1.xaxis_date()\n",
        "candlestick_ohlc(ax1,zip(mdates.date2num(df.index.to_pydatetime()),\n",
        "                        df['Open'],df['High'],df['Low'],\n",
        "                        df['Close']),width=0.5,colorup=\"r\",colordown=\"b\")\n",
        "ax2.fill_between(df_volume.index.map(mdates.date2num),df_volume.values,0)\n",
        "plt.show()"
      ],
      "execution_count": 29,
      "outputs": [
        {
          "output_type": "display_data",
          "data": {
            "image/png": "[encoded data removed]",
            "text/plain": [
              "<Figure size 432x288 with 2 Axes>"
            ]
          },
          "metadata": {
            "tags": []
          }
        }
      ]
    },
    {
      "cell_type": "code",
      "metadata": {
        "id": "79sHr-SQCv3c",
        "colab_type": "code",
        "colab": {}
      },
      "source": [
        ""
      ],
      "execution_count": 0,
      "outputs": []
    },
    {
      "cell_type": "code",
      "metadata": {
        "id": "MUa3oZqb9NaL",
        "colab_type": "code",
        "colab": {
          "base_uri": "https://localhost:8080/",
          "height": 496
        },
        "outputId": "68839142-1996-4d72-8217-9b38bf7fe9aa"
      },
      "source": [
        "import datetime\n",
        "start = datetime.datetime(2018, 12, 1)\n",
        "end = datetime.datetime(2018, 12, 31)\n",
        "# 코스닥은 \"코드.KQ\" 사용\n",
        "samsung = web.DataReader(\"005930.KS\", \"yahoo\", start, end)\n",
        "\n",
        "fig = plt.figure(figsize=(12, 8))\n",
        "ax = fig.add_subplot(111)\n",
        "\n",
        "# \"from mpl_finance 의 candlestick_ohlc()\" 입니다.\n",
        "candlestick_ohlc(ax,zip(mdates.date2num(samsung.index.to_pydatetime()),\n",
        "                        samsung['Open'],samsung['High'],samsung['Low'],\n",
        "                        samsung['Close']),width=0.5,colorup=\"r\",colordown=\"b\")\n",
        "plt.show()"
      ],
      "execution_count": 18,
      "outputs": [
        {
          "output_type": "display_data",
          "data": {
            "image/png": "[encoded data removed]",
            "text/plain": [
              "<Figure size 864x576 with 1 Axes>"
            ]
          },
          "metadata": {
            "tags": []
          }
        }
      ]
    }
  ]
}