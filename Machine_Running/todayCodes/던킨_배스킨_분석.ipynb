{
 "cells": [
  {
   "cell_type": "markdown",
   "metadata": {},
   "source": [
    "\n",
    "### 소상공인시장진흥공단_상가업소정보_201806\n",
    "https://www.data.go.kr/dataset/15012005/fileData.do"
   ]
  },
  {
   "cell_type": "code",
   "execution_count": 2,
   "metadata": {},
   "outputs": [
    {
     "name": "stdout",
     "output_type": "stream",
     "text": [
      "commercial_store.ipynb          store_location_by_folium.ipynb\r\n",
      "\u001b[31mstore_201806_01.csv\u001b[m\u001b[m*\r\n"
     ]
    }
   ],
   "source": [
    "%ls"
   ]
  },
  {
   "cell_type": "code",
   "execution_count": 3,
   "metadata": {},
   "outputs": [],
   "source": [
    "import warnings\n",
    "warnings.filterwarnings('ignore')"
   ]
  },
  {
   "cell_type": "code",
   "execution_count": 4,
   "metadata": {},
   "outputs": [],
   "source": [
    "import pandas as pd\n",
    "import numpy as np\n",
    "from plotnine import *\n",
    "import folium"
   ]
  },
  {
   "cell_type": "code",
   "execution_count": 6,
   "metadata": {},
   "outputs": [
    {
     "data": {
      "text/html": [
       "<div>\n",
       "<style scoped>\n",
       "    .dataframe tbody tr th:only-of-type {\n",
       "        vertical-align: middle;\n",
       "    }\n",
       "\n",
       "    .dataframe tbody tr th {\n",
       "        vertical-align: top;\n",
       "    }\n",
       "\n",
       "    .dataframe thead th {\n",
       "        text-align: right;\n",
       "    }\n",
       "</style>\n",
       "<table border=\"1\" class=\"dataframe\">\n",
       "  <thead>\n",
       "    <tr style=\"text-align: right;\">\n",
       "      <th></th>\n",
       "      <th>상가업소번호</th>\n",
       "      <th>상호명</th>\n",
       "      <th>지점명</th>\n",
       "      <th>상권업종대분류코드</th>\n",
       "      <th>상권업종대분류명</th>\n",
       "      <th>상권업종중분류코드</th>\n",
       "      <th>상권업종중분류명</th>\n",
       "      <th>상권업종소분류코드</th>\n",
       "      <th>상권업종소분류명</th>\n",
       "      <th>표준산업분류코드</th>\n",
       "      <th>...</th>\n",
       "      <th>건물관리번호</th>\n",
       "      <th>건물명</th>\n",
       "      <th>도로명주소</th>\n",
       "      <th>구우편번호</th>\n",
       "      <th>신우편번호</th>\n",
       "      <th>동정보</th>\n",
       "      <th>층정보</th>\n",
       "      <th>호정보</th>\n",
       "      <th>경도</th>\n",
       "      <th>위도</th>\n",
       "    </tr>\n",
       "  </thead>\n",
       "  <tbody>\n",
       "    <tr>\n",
       "      <th>0</th>\n",
       "      <td>28523551</td>\n",
       "      <td>엘가커피부산아시아드점</td>\n",
       "      <td>부산아시아드점</td>\n",
       "      <td>Q</td>\n",
       "      <td>음식</td>\n",
       "      <td>Q12</td>\n",
       "      <td>커피점/카페</td>\n",
       "      <td>Q12A01</td>\n",
       "      <td>커피전문점/카페/다방</td>\n",
       "      <td>I56220</td>\n",
       "      <td>...</td>\n",
       "      <td>2647010100111980000009422</td>\n",
       "      <td>부산아시아드주경기장노외주차장</td>\n",
       "      <td>부산광역시 연제구 종합운동장로 7</td>\n",
       "      <td>611070</td>\n",
       "      <td>47500.0</td>\n",
       "      <td>NaN</td>\n",
       "      <td>1</td>\n",
       "      <td>NaN</td>\n",
       "      <td>129.062034</td>\n",
       "      <td>35.191284</td>\n",
       "    </tr>\n",
       "    <tr>\n",
       "      <th>1</th>\n",
       "      <td>28498271</td>\n",
       "      <td>비비안아울렛중계점</td>\n",
       "      <td>아울렛중계점</td>\n",
       "      <td>D</td>\n",
       "      <td>소매</td>\n",
       "      <td>D05</td>\n",
       "      <td>의복의류</td>\n",
       "      <td>D05A07</td>\n",
       "      <td>셔츠/내의/속옷</td>\n",
       "      <td>NaN</td>\n",
       "      <td>...</td>\n",
       "      <td>1135010600105090000010511</td>\n",
       "      <td>2001아울렛</td>\n",
       "      <td>서울특별시 노원구 동일로204가길 46</td>\n",
       "      <td>139726</td>\n",
       "      <td>1783.0</td>\n",
       "      <td>NaN</td>\n",
       "      <td>3</td>\n",
       "      <td>NaN</td>\n",
       "      <td>127.067888</td>\n",
       "      <td>37.641280</td>\n",
       "    </tr>\n",
       "    <tr>\n",
       "      <th>2</th>\n",
       "      <td>28512174</td>\n",
       "      <td>연세정신건강의학과의원</td>\n",
       "      <td>NaN</td>\n",
       "      <td>S</td>\n",
       "      <td>의료</td>\n",
       "      <td>S01</td>\n",
       "      <td>병원</td>\n",
       "      <td>S01B99</td>\n",
       "      <td>기타병원</td>\n",
       "      <td>NaN</td>\n",
       "      <td>...</td>\n",
       "      <td>1111017400102990000005842</td>\n",
       "      <td>유림문화사</td>\n",
       "      <td>서울특별시 종로구 종로 335-3</td>\n",
       "      <td>110540</td>\n",
       "      <td>3104.0</td>\n",
       "      <td>NaN</td>\n",
       "      <td>2</td>\n",
       "      <td>NaN</td>\n",
       "      <td>127.014500</td>\n",
       "      <td>37.573196</td>\n",
       "    </tr>\n",
       "    <tr>\n",
       "      <th>3</th>\n",
       "      <td>28499926</td>\n",
       "      <td>독일지멘스보청기은평점</td>\n",
       "      <td>은평점</td>\n",
       "      <td>D</td>\n",
       "      <td>소매</td>\n",
       "      <td>D20</td>\n",
       "      <td>의약/의료품소매</td>\n",
       "      <td>D20A02</td>\n",
       "      <td>보청기판매</td>\n",
       "      <td>G47812</td>\n",
       "      <td>...</td>\n",
       "      <td>1138010300102810108040063</td>\n",
       "      <td>NaN</td>\n",
       "      <td>서울특별시 은평구 통일로 732</td>\n",
       "      <td>122040</td>\n",
       "      <td>3368.0</td>\n",
       "      <td>NaN</td>\n",
       "      <td>2</td>\n",
       "      <td>NaN</td>\n",
       "      <td>126.929871</td>\n",
       "      <td>37.610888</td>\n",
       "    </tr>\n",
       "    <tr>\n",
       "      <th>4</th>\n",
       "      <td>28490321</td>\n",
       "      <td>서울모드</td>\n",
       "      <td>NaN</td>\n",
       "      <td>Q</td>\n",
       "      <td>음식</td>\n",
       "      <td>Q12</td>\n",
       "      <td>커피점/카페</td>\n",
       "      <td>Q12A01</td>\n",
       "      <td>커피전문점/카페/다방</td>\n",
       "      <td>I56220</td>\n",
       "      <td>...</td>\n",
       "      <td>1168010700105170027011767</td>\n",
       "      <td>SM빌딩</td>\n",
       "      <td>서울특별시 강남구 도산대로11길 29</td>\n",
       "      <td>135888</td>\n",
       "      <td>6034.0</td>\n",
       "      <td>NaN</td>\n",
       "      <td>1</td>\n",
       "      <td>NaN</td>\n",
       "      <td>127.022212</td>\n",
       "      <td>37.519315</td>\n",
       "    </tr>\n",
       "  </tbody>\n",
       "</table>\n",
       "<p>5 rows × 39 columns</p>\n",
       "</div>"
      ],
      "text/plain": [
       "     상가업소번호          상호명      지점명 상권업종대분류코드 상권업종대분류명 상권업종중분류코드  상권업종중분류명  \\\n",
       "0  28523551  엘가커피부산아시아드점  부산아시아드점         Q       음식       Q12    커피점/카페   \n",
       "1  28498271    비비안아울렛중계점   아울렛중계점         D       소매       D05      의복의류   \n",
       "2  28512174  연세정신건강의학과의원      NaN         S       의료       S01        병원   \n",
       "3  28499926  독일지멘스보청기은평점      은평점         D       소매       D20  의약/의료품소매   \n",
       "4  28490321         서울모드      NaN         Q       음식       Q12    커피점/카페   \n",
       "\n",
       "  상권업종소분류코드     상권업종소분류명 표준산업분류코드  ...                     건물관리번호  \\\n",
       "0    Q12A01  커피전문점/카페/다방   I56220  ...  2647010100111980000009422   \n",
       "1    D05A07     셔츠/내의/속옷      NaN  ...  1135010600105090000010511   \n",
       "2    S01B99         기타병원      NaN  ...  1111017400102990000005842   \n",
       "3    D20A02        보청기판매   G47812  ...  1138010300102810108040063   \n",
       "4    Q12A01  커피전문점/카페/다방   I56220  ...  1168010700105170027011767   \n",
       "\n",
       "               건물명                  도로명주소   구우편번호    신우편번호  동정보 층정보  호정보  \\\n",
       "0  부산아시아드주경기장노외주차장     부산광역시 연제구 종합운동장로 7  611070  47500.0  NaN   1  NaN   \n",
       "1          2001아울렛  서울특별시 노원구 동일로204가길 46  139726   1783.0  NaN   3  NaN   \n",
       "2            유림문화사     서울특별시 종로구 종로 335-3  110540   3104.0  NaN   2  NaN   \n",
       "3              NaN      서울특별시 은평구 통일로 732  122040   3368.0  NaN   2  NaN   \n",
       "4             SM빌딩   서울특별시 강남구 도산대로11길 29  135888   6034.0  NaN   1  NaN   \n",
       "\n",
       "           경도         위도  \n",
       "0  129.062034  35.191284  \n",
       "1  127.067888  37.641280  \n",
       "2  127.014500  37.573196  \n",
       "3  126.929871  37.610888  \n",
       "4  127.022212  37.519315  \n",
       "\n",
       "[5 rows x 39 columns]"
      ]
     },
     "execution_count": 6,
     "metadata": {},
     "output_type": "execute_result"
    }
   ],
   "source": [
    "shop_2018 = pd.read_csv('store_201806_01.csv', encoding='cp949')\n",
    "shop_2018.head()"
   ]
  },
  {
   "cell_type": "code",
   "execution_count": 7,
   "metadata": {},
   "outputs": [
    {
     "data": {
      "text/plain": [
       "(476183, 39)"
      ]
     },
     "execution_count": 7,
     "metadata": {},
     "output_type": "execute_result"
    }
   ],
   "source": [
    "shop_2018.shape"
   ]
  },
  {
   "cell_type": "code",
   "execution_count": 8,
   "metadata": {},
   "outputs": [
    {
     "data": {
      "text/plain": [
       "(18759, 39)"
      ]
     },
     "execution_count": 8,
     "metadata": {},
     "output_type": "execute_result"
    }
   ],
   "source": [
    "coffee = shop_2018[shop_2018['상권업종소분류명'].str.contains('커피')]\n",
    "coffee.shape"
   ]
  },
  {
   "cell_type": "code",
   "execution_count": 9,
   "metadata": {},
   "outputs": [
    {
     "data": {
      "text/plain": [
       "Index(['상가업소번호', '상호명', '지점명', '상권업종대분류코드', '상권업종대분류명', '상권업종중분류코드',\n",
       "       '상권업종중분류명', '상권업종소분류코드', '상권업종소분류명', '표준산업분류코드', '표준산업분류명', '시도코드',\n",
       "       '시도명', '시군구코드', '시군구명', '행정동코드', '행정동명', '법정동코드', '법정동명', '지번코드',\n",
       "       '대지구분코드', '대지구분명', '지번본번지', '지번부번지', '지번주소', '도로명코드', '도로명', '건물본번지',\n",
       "       '건물부번지', '건물관리번호', '건물명', '도로명주소', '구우편번호', '신우편번호', '동정보', '층정보',\n",
       "       '호정보', '경도', '위도'],\n",
       "      dtype='object')"
      ]
     },
     "execution_count": 9,
     "metadata": {},
     "output_type": "execute_result"
    }
   ],
   "source": [
    "coffee.columns"
   ]
  },
  {
   "cell_type": "code",
   "execution_count": 10,
   "metadata": {},
   "outputs": [
    {
     "data": {
      "text/plain": [
       "(13472,)"
      ]
     },
     "execution_count": 10,
     "metadata": {},
     "output_type": "execute_result"
    }
   ],
   "source": [
    "coffee['상호명'].unique().shape"
   ]
  },
  {
   "cell_type": "code",
   "execution_count": 11,
   "metadata": {},
   "outputs": [
    {
     "data": {
      "text/plain": [
       "array(['스타벅스종로3가점', '스타벅스커피여의도IFC1F', '스타벅스', '스타벅스신림사거리점', '스타벅스커피홍대역',\n",
       "       '스타벅스새문안로점', '스타벅스올림픽평화의문점', '스타벅스연신내역', '스타벅스가락시장역점', '스타벅스외대점',\n",
       "       '스타벅스연세백양로점', '스타벅스명지대점', '스타벅스석촌역', '스타벅스연대동문', '스타벅스압구정로데오역',\n",
       "       '스타벅스서울대입구역점', '스타벅스신림점', '스타벅스강남삼성타운점', '스타벅스사당점', '스타벅스광장점',\n",
       "       '스타벅스신촌명물거리점', '스타벅스명동미래', '스타벅스건국클래식점', '스타벅스연희DT점', '스타벅스삼선교점',\n",
       "       '스타벅스올림픽공원북문점', '스타벅스커피여의도호성', '스타벅스충정타워', '스타벅스종각점', '스타벅스방배카페입구',\n",
       "       '스타벅스이수역점', '스타벅스W-MALL점', '스타벅스천호로데오점', '스타벅스마포일진빌딩점', '스타벅스용산역점',\n",
       "       '스타벅스명동메트로', '스타벅스중계역점', '스타벅스마포아크로타워점', '스타벅스남부터미널2점',\n",
       "       '스타벅스중랑구청점', '스타벅스구로디지털로점', '스타벅스논현힐탑', '스타벅스종로관수점', '스타벅스삼성도심공항점',\n",
       "       '스타벅스부산서면', '스타벅스종로2가점', '스타벅스선정릉역점', '스타벅스미아역점', '스타벅스선릉로점',\n",
       "       '스타벅스역삼럭키', '스타벅스커피신도림디큐브시티B2', '스타벅스이태원거리점', '스타벅스구로에이스트윈타워1점',\n",
       "       '스타벅스을지로입구', '스타벅스교대역점', '스타벅스서울중앙우체국점', '스타벅스남산스테이트',\n",
       "       '스타벅스구로하이엔드점', '스타벅스명일이마트점', '스타벅스조선호텔후문', '스타벅스목동점', '스타벅스삼성교점',\n",
       "       '스타벅스서울교대점', '스타벅스커리학동사거리점', '스타벅스강북구청사거리점', '스타벅스청담사거리점',\n",
       "       '스타벅스방이역점', '스타벅스종로평창', '스타벅스서초파라곤점', '스타벅스강변역점', '스타벅스올림픽공원남문점',\n",
       "       '스타벅스신압구정점', '스타벅스명동중앙로', '스타벅스광화문역점', '스타벅스서소문배재', '스타벅스세종로점',\n",
       "       '스타벅스커피가산그레이트', '스타벅스여의도점', '스타벅스경복궁역', '스타벅스을지로센타', '스타벅스예술의전당점',\n",
       "       '스타벅스중랑역점', '스타벅스상봉역점', '스타벅스학여울점', '스타벅스사당로데오점', '스타벅스구파발역점',\n",
       "       '스타벅스숙대입구역점', '스타벅스금정이마트점', '스타벅스신천역점', '스타벅스서면센트럴스퀘어점',\n",
       "       '스타벅스커피신도림디큐브시티2F', '스타벅스서면중앙점', '스타벅스가든파이브', '스타벅스커피가산브이타워',\n",
       "       '스타벅스동교삼거리점', '스타벅스차병원사거리점', '스타벅스뱅뱅사거리점', '스타벅스센텀신세계B1',\n",
       "       '스타벅스경복아파트점', '스타벅스석촌서호점', '스타벅스동교점', '스타벅스월계이마트점', '스타벅스구산역점',\n",
       "       '스타벅스광화문점', '스타벅스상일동점', '스타벅스신촌점', '스타벅스상암DMC센트럴몰점', '스타벅스삼청동점',\n",
       "       '스타벅스숭실대점', '스타벅스역삼역점', '스타벅스대치점', '스타벅스홍대삼거리점', '스타벅스석촌호수점',\n",
       "       '스타벅스홍대갤러리점', '스타벅스광운대점', '스타벅스목동5단지점', '스타벅스청량리역점', '스타벅스합정메세나몰점',\n",
       "       '스타벅스숙대점', '스타벅스서소문배재점', '스타벅스부산서면점', '스타벅스센텀그린타워점', '스타벅스서교점',\n",
       "       '스타벅스가산디지털단지점', '스타벅스금천독산점', '스타벅스길동사거리점', '스타벅스노원케이티점',\n",
       "       '스타벅스오목교역점', '스타벅스잠실점', '스타벅스한성대입구역점', '스타벅스송파사거리점', '스타벅스하단역점',\n",
       "       '스타벅스코엑스사거리점', '스타벅스황학캐슬점', '스타벅스고대프라자점', '스타벅스명동역점', '스타벅스부산초량점',\n",
       "       '스타벅스강남에비뉴점', 'PPANGJIP(스타벅스재능기부카페2호점)', '스타벅스센텀KNN점',\n",
       "       '스타벅스월드컵경기장점', '스타벅스압구정로데오역점', '스타벅스연신내역점', '스타벅스상암디지털큐브점상암디지털큐브점',\n",
       "       '스타벅스명동길점', '스타벅스마포트라팰점', '스타벅스종로수송점', '스타벅스방배카페입구점',\n",
       "       '스타벅스엔터식스한양대점', '스타벅스동묘앞역점동묘앞역점', '스타벅스신설동역점', '스타벅스화곡동점',\n",
       "       '스타벅스포스코사거리점', '스타벅스종암점', '스타벅스마포이마트점', '스타벅스현대디큐브B2점',\n",
       "       '스타벅스숭실대입구역점', '스타벅스약수역점', '스타벅스회현역점', '스타벅스명동입구점', '스타벅스신촌오거리점',\n",
       "       '스타벅스염창역점', '스타벅스서교동사거리점', '스타벅스부산교대역점', '스타벅스역삼럭키점', '스타벅스동여의도점',\n",
       "       '스타벅스소공로북창점', '스타벅스청계산입구역점', '스타벅스송파방이DT점', '스타벅스둔촌동점',\n",
       "       '스타벅스동의대역점동의대역점', '스타벅스해운대점', '스타벅스명지오션시티점', '스타벅스미아사거리역점',\n",
       "       '스타벅스가산디지털단지역점', '스타벅스압구정점', '스타벅스영등포신길DT점', '스타벅스대치사거리점',\n",
       "       '스타벅스중구저동점', '스타벅스부산프리미엄점', '스타벅스충정타워점', '스타벅스강동역점',\n",
       "       '스타벅스대치은마사거리점', '스타벅스부산재송DT점', '스타벅스한남동점', '스타벅스성신여대정문',\n",
       "       '스타벅스낙성대DT점', '스타벅스양천향교역점', '스타벅스강남우성점', '스타벅스광안비치점', '스타벅스커피마포염리',\n",
       "       '스타벅스화곡DT점', '스타벅스동부산DT', '스타벅스합정점', '스타벅스을숙도강변DT점', '스타벅스서면NC점',\n",
       "       '스타벅스신세계본점', '스타벅스송파구청점', '스타벅스신사가로수점', '스타벅스신세계본점5F',\n",
       "       '스타벅스경희대삼거리점', '스타벅스문정역점', '스타벅스황학사거리점', '스타벅스서강대흥역점', '스타벅스사직구장점',\n",
       "       '스타벅스서강광흥창역점', '스타벅스서울대역점', '스타벅스청담영동대로점', '스타벅스송파위례점',\n",
       "       '스타벅스연산시티타워점', '스타벅스문정하비오점', '스타벅스강남점', '스타벅스커피강남대로신사',\n",
       "       '스타벅스잠실대교남단점', '스타벅스자갈치역점', '스타벅스구로디지털타워점', '스타벅스동명대DT점',\n",
       "       '스타벅스강남오거리점', '스타벅스국제시장점', '스타벅스공릉역점', '스타벅스이수역사거리점', '스타벅스외대정문점',\n",
       "       '스타벅스노원마들역점', '스타벅스마곡나루역점', '스타벅스신대방삼거리역점', '스타벅스방화DT', '스타벅스신도림점',\n",
       "       '스타벅스역점', '스타벅스공덕'], dtype=object)"
      ]
     },
     "execution_count": 11,
     "metadata": {},
     "output_type": "execute_result"
    }
   ],
   "source": [
    "coffee.loc[coffee['상호명'].str.contains('스타벅스'), '상호명'].unique()"
   ]
  },
  {
   "cell_type": "code",
   "execution_count": 12,
   "metadata": {},
   "outputs": [
    {
     "data": {
      "text/plain": [
       "0"
      ]
     },
     "execution_count": 12,
     "metadata": {},
     "output_type": "execute_result"
    }
   ],
   "source": [
    "coffee['시도명'].isnull().sum()"
   ]
  },
  {
   "cell_type": "code",
   "execution_count": 13,
   "metadata": {},
   "outputs": [
    {
     "data": {
      "text/plain": [
       "서울특별시    14662\n",
       "부산광역시     4097\n",
       "Name: 시도명, dtype: int64"
      ]
     },
     "execution_count": 13,
     "metadata": {},
     "output_type": "execute_result"
    }
   ],
   "source": [
    "coffee['시도명'].value_counts()"
   ]
  },
  {
   "cell_type": "code",
   "execution_count": 14,
   "metadata": {},
   "outputs": [
    {
     "data": {
      "text/plain": [
       "array(['연제구', '강남구', '영등포구', '중구', '서초구', '성북구', '구로구', '종로구', '도봉구',\n",
       "       '마포구', '광진구', '기장군', '남구', '서대문구', '은평구', '양천구', '해운대구', '관악구',\n",
       "       '성동구', '송파구', '금천구', '사상구', '동대문구', '강서구', '금정구', '동작구', '중랑구',\n",
       "       '강동구', '사하구', '북구', '용산구', '노원구', '부산진구', '강북구', '수영구', '동구',\n",
       "       '동래구', '영도구', '서구'], dtype=object)"
      ]
     },
     "execution_count": 14,
     "metadata": {},
     "output_type": "execute_result"
    }
   ],
   "source": [
    "coffee['시군구명'].unique()"
   ]
  },
  {
   "cell_type": "code",
   "execution_count": 15,
   "metadata": {},
   "outputs": [
    {
     "data": {
      "text/plain": [
       "커피점/카페    18759\n",
       "Name: 상권업종중분류명, dtype: int64"
      ]
     },
     "execution_count": 15,
     "metadata": {},
     "output_type": "execute_result"
    }
   ],
   "source": [
    "coffee['상권업종중분류명'].value_counts()"
   ]
  },
  {
   "cell_type": "code",
   "execution_count": 16,
   "metadata": {},
   "outputs": [
    {
     "data": {
      "text/plain": [
       "(330089, 39)"
      ]
     },
     "execution_count": 16,
     "metadata": {},
     "output_type": "execute_result"
    }
   ],
   "source": [
    "df_seoul = shop_2018.loc[shop_2018['시도명'].str.startswith('서울')].copy()\n",
    "df_seoul.shape"
   ]
  },
  {
   "cell_type": "code",
   "execution_count": 17,
   "metadata": {},
   "outputs": [
    {
     "data": {
      "text/plain": [
       "상가업소번호            0\n",
       "상호명               0\n",
       "지점명          285856\n",
       "상권업종대분류코드         0\n",
       "상권업종대분류명          0\n",
       "상권업종중분류코드         0\n",
       "상권업종중분류명          0\n",
       "상권업종소분류코드         0\n",
       "상권업종소분류명          0\n",
       "표준산업분류코드      19088\n",
       "표준산업분류명       19088\n",
       "시도코드              0\n",
       "시도명               0\n",
       "시군구코드             0\n",
       "시군구명              0\n",
       "행정동코드             0\n",
       "행정동명              0\n",
       "법정동코드             0\n",
       "법정동명              0\n",
       "지번코드              0\n",
       "대지구분코드            0\n",
       "대지구분명             0\n",
       "지번본번지             0\n",
       "지번부번지         62453\n",
       "지번주소              0\n",
       "도로명코드             0\n",
       "도로명               0\n",
       "건물본번지             0\n",
       "건물부번지        289290\n",
       "건물관리번호            0\n",
       "건물명          176500\n",
       "도로명주소             0\n",
       "구우편번호             0\n",
       "신우편번호             2\n",
       "동정보          305116\n",
       "층정보           97585\n",
       "호정보          283475\n",
       "경도                0\n",
       "위도                0\n",
       "dtype: int64"
      ]
     },
     "execution_count": 17,
     "metadata": {},
     "output_type": "execute_result"
    }
   ],
   "source": [
    "df_seoul.isnull().sum()"
   ]
  },
  {
   "cell_type": "code",
   "execution_count": 18,
   "metadata": {},
   "outputs": [
    {
     "data": {
      "text/plain": [
       "음식          109766\n",
       "소매          101297\n",
       "생활서비스        52728\n",
       "학문/교육        26294\n",
       "의료           15144\n",
       "부동산          12905\n",
       "관광/여가/오락      9165\n",
       "숙박            2744\n",
       "스포츠             46\n",
       "Name: 상권업종대분류명, dtype: int64"
      ]
     },
     "execution_count": 18,
     "metadata": {},
     "output_type": "execute_result"
    }
   ],
   "source": [
    "df_seoul['상권업종대분류명'].value_counts()"
   ]
  },
  {
   "cell_type": "code",
   "execution_count": 19,
   "metadata": {},
   "outputs": [
    {
     "data": {
      "text/html": [
       "<div>\n",
       "<style scoped>\n",
       "    .dataframe tbody tr th:only-of-type {\n",
       "        vertical-align: middle;\n",
       "    }\n",
       "\n",
       "    .dataframe tbody tr th {\n",
       "        vertical-align: top;\n",
       "    }\n",
       "\n",
       "    .dataframe thead th {\n",
       "        text-align: right;\n",
       "    }\n",
       "</style>\n",
       "<table border=\"1\" class=\"dataframe\">\n",
       "  <thead>\n",
       "    <tr style=\"text-align: right;\">\n",
       "      <th></th>\n",
       "      <th>상호명</th>\n",
       "      <th>지점명</th>\n",
       "      <th>상권업종대분류코드</th>\n",
       "      <th>상권업종대분류명</th>\n",
       "      <th>상권업종중분류코드</th>\n",
       "      <th>상권업종중분류명</th>\n",
       "      <th>상권업종소분류코드</th>\n",
       "      <th>상권업종소분류명</th>\n",
       "      <th>표준산업분류코드</th>\n",
       "      <th>표준산업분류명</th>\n",
       "      <th>...</th>\n",
       "      <th>법정동명</th>\n",
       "      <th>대지구분명</th>\n",
       "      <th>지번주소</th>\n",
       "      <th>도로명</th>\n",
       "      <th>건물관리번호</th>\n",
       "      <th>건물명</th>\n",
       "      <th>도로명주소</th>\n",
       "      <th>동정보</th>\n",
       "      <th>층정보</th>\n",
       "      <th>호정보</th>\n",
       "    </tr>\n",
       "  </thead>\n",
       "  <tbody>\n",
       "    <tr>\n",
       "      <th>count</th>\n",
       "      <td>330089</td>\n",
       "      <td>44233</td>\n",
       "      <td>330089</td>\n",
       "      <td>330089</td>\n",
       "      <td>330089</td>\n",
       "      <td>330089</td>\n",
       "      <td>330089</td>\n",
       "      <td>330089</td>\n",
       "      <td>311001</td>\n",
       "      <td>311001</td>\n",
       "      <td>...</td>\n",
       "      <td>330089</td>\n",
       "      <td>330089</td>\n",
       "      <td>330089</td>\n",
       "      <td>330089</td>\n",
       "      <td>330089</td>\n",
       "      <td>153589</td>\n",
       "      <td>330089</td>\n",
       "      <td>24973</td>\n",
       "      <td>232504</td>\n",
       "      <td>46614</td>\n",
       "    </tr>\n",
       "    <tr>\n",
       "      <th>unique</th>\n",
       "      <td>233567</td>\n",
       "      <td>15087</td>\n",
       "      <td>9</td>\n",
       "      <td>9</td>\n",
       "      <td>94</td>\n",
       "      <td>94</td>\n",
       "      <td>686</td>\n",
       "      <td>686</td>\n",
       "      <td>210</td>\n",
       "      <td>210</td>\n",
       "      <td>...</td>\n",
       "      <td>465</td>\n",
       "      <td>2</td>\n",
       "      <td>124181</td>\n",
       "      <td>11861</td>\n",
       "      <td>124735</td>\n",
       "      <td>25179</td>\n",
       "      <td>123973</td>\n",
       "      <td>914</td>\n",
       "      <td>115</td>\n",
       "      <td>2494</td>\n",
       "    </tr>\n",
       "    <tr>\n",
       "      <th>top</th>\n",
       "      <td>CU</td>\n",
       "      <td>본점</td>\n",
       "      <td>Q</td>\n",
       "      <td>음식</td>\n",
       "      <td>Q01</td>\n",
       "      <td>한식</td>\n",
       "      <td>Q01A01</td>\n",
       "      <td>한식/백반/한정식</td>\n",
       "      <td>I56111</td>\n",
       "      <td>한식 음식점업</td>\n",
       "      <td>...</td>\n",
       "      <td>신림동</td>\n",
       "      <td>대지</td>\n",
       "      <td>서울특별시 종로구 종로6가 262-1</td>\n",
       "      <td>서울특별시 종로구 종로</td>\n",
       "      <td>1111016400102700003012054</td>\n",
       "      <td>동대문종합시장</td>\n",
       "      <td>서울특별시 종로구 종로 266</td>\n",
       "      <td>1</td>\n",
       "      <td>1</td>\n",
       "      <td>1</td>\n",
       "    </tr>\n",
       "    <tr>\n",
       "      <th>freq</th>\n",
       "      <td>1450</td>\n",
       "      <td>294</td>\n",
       "      <td>109766</td>\n",
       "      <td>109766</td>\n",
       "      <td>35778</td>\n",
       "      <td>35778</td>\n",
       "      <td>23721</td>\n",
       "      <td>23721</td>\n",
       "      <td>43878</td>\n",
       "      <td>43878</td>\n",
       "      <td>...</td>\n",
       "      <td>6759</td>\n",
       "      <td>329735</td>\n",
       "      <td>976</td>\n",
       "      <td>2352</td>\n",
       "      <td>1008</td>\n",
       "      <td>1011</td>\n",
       "      <td>995</td>\n",
       "      <td>4307</td>\n",
       "      <td>161124</td>\n",
       "      <td>5469</td>\n",
       "    </tr>\n",
       "  </tbody>\n",
       "</table>\n",
       "<p>4 rows × 23 columns</p>\n",
       "</div>"
      ],
      "text/plain": [
       "           상호명    지점명 상권업종대분류코드 상권업종대분류명 상권업종중분류코드 상권업종중분류명 상권업종소분류코드  \\\n",
       "count   330089  44233    330089   330089    330089   330089    330089   \n",
       "unique  233567  15087         9        9        94       94       686   \n",
       "top         CU     본점         Q       음식       Q01       한식    Q01A01   \n",
       "freq      1450    294    109766   109766     35778    35778     23721   \n",
       "\n",
       "         상권업종소분류명 표준산업분류코드  표준산업분류명  ...    법정동명   대지구분명  \\\n",
       "count      330089   311001   311001  ...  330089  330089   \n",
       "unique        686      210      210  ...     465       2   \n",
       "top     한식/백반/한정식   I56111  한식 음식점업  ...     신림동      대지   \n",
       "freq        23721    43878    43878  ...    6759  329735   \n",
       "\n",
       "                        지번주소           도로명                     건물관리번호  \\\n",
       "count                 330089        330089                     330089   \n",
       "unique                124181         11861                     124735   \n",
       "top     서울특별시 종로구 종로6가 262-1  서울특별시 종로구 종로  1111016400102700003012054   \n",
       "freq                     976          2352                       1008   \n",
       "\n",
       "            건물명             도로명주소    동정보     층정보    호정보  \n",
       "count    153589            330089  24973  232504  46614  \n",
       "unique    25179            123973    914     115   2494  \n",
       "top     동대문종합시장  서울특별시 종로구 종로 266      1       1      1  \n",
       "freq       1011               995   4307  161124   5469  \n",
       "\n",
       "[4 rows x 23 columns]"
      ]
     },
     "execution_count": 19,
     "metadata": {},
     "output_type": "execute_result"
    }
   ],
   "source": [
    "df_seoul.describe(include=np.object)"
   ]
  },
  {
   "cell_type": "code",
   "execution_count": 20,
   "metadata": {},
   "outputs": [
    {
     "data": {
      "text/html": [
       "<div>\n",
       "<style scoped>\n",
       "    .dataframe tbody tr th:only-of-type {\n",
       "        vertical-align: middle;\n",
       "    }\n",
       "\n",
       "    .dataframe tbody tr th {\n",
       "        vertical-align: top;\n",
       "    }\n",
       "\n",
       "    .dataframe thead th {\n",
       "        text-align: right;\n",
       "    }\n",
       "</style>\n",
       "<table border=\"1\" class=\"dataframe\">\n",
       "  <thead>\n",
       "    <tr style=\"text-align: right;\">\n",
       "      <th></th>\n",
       "      <th>위도</th>\n",
       "      <th>경도</th>\n",
       "    </tr>\n",
       "  </thead>\n",
       "  <tbody>\n",
       "    <tr>\n",
       "      <th>count</th>\n",
       "      <td>330089.000000</td>\n",
       "      <td>330089.000000</td>\n",
       "    </tr>\n",
       "    <tr>\n",
       "      <th>mean</th>\n",
       "      <td>37.545992</td>\n",
       "      <td>126.994943</td>\n",
       "    </tr>\n",
       "    <tr>\n",
       "      <th>std</th>\n",
       "      <td>0.049406</td>\n",
       "      <td>0.081294</td>\n",
       "    </tr>\n",
       "    <tr>\n",
       "      <th>min</th>\n",
       "      <td>37.434081</td>\n",
       "      <td>126.768169</td>\n",
       "    </tr>\n",
       "    <tr>\n",
       "      <th>25%</th>\n",
       "      <td>37.505306</td>\n",
       "      <td>126.925013</td>\n",
       "    </tr>\n",
       "    <tr>\n",
       "      <th>50%</th>\n",
       "      <td>37.543243</td>\n",
       "      <td>127.009046</td>\n",
       "    </tr>\n",
       "    <tr>\n",
       "      <th>75%</th>\n",
       "      <td>37.574720</td>\n",
       "      <td>127.055651</td>\n",
       "    </tr>\n",
       "    <tr>\n",
       "      <th>max</th>\n",
       "      <td>37.692398</td>\n",
       "      <td>127.182588</td>\n",
       "    </tr>\n",
       "  </tbody>\n",
       "</table>\n",
       "</div>"
      ],
      "text/plain": [
       "                  위도             경도\n",
       "count  330089.000000  330089.000000\n",
       "mean       37.545992     126.994943\n",
       "std         0.049406       0.081294\n",
       "min        37.434081     126.768169\n",
       "25%        37.505306     126.925013\n",
       "50%        37.543243     127.009046\n",
       "75%        37.574720     127.055651\n",
       "max        37.692398     127.182588"
      ]
     },
     "execution_count": 20,
     "metadata": {},
     "output_type": "execute_result"
    }
   ],
   "source": [
    "df_seoul[['위도', '경도']].describe(include=np.number)"
   ]
  },
  {
   "cell_type": "code",
   "execution_count": 21,
   "metadata": {},
   "outputs": [
    {
     "name": "stderr",
     "output_type": "stream",
     "text": [
      "/usr/local/lib/python3.7/site-packages/matplotlib/font_manager.py:1241: UserWarning: findfont: Font family ['NanumBarunGothic'] not found. Falling back to DejaVu Sans.\n",
      "  (prop.get_family(), self.defaultFamily[fontext]))\n",
      "/usr/local/lib/python3.7/site-packages/matplotlib/font_manager.py:1241: UserWarning: findfont: Font family ['NanumBarunGothic'] not found. Falling back to DejaVu Sans.\n",
      "  (prop.get_family(), self.defaultFamily[fontext]))\n",
      "/usr/local/lib/python3.7/site-packages/matplotlib/font_manager.py:1241: UserWarning: findfont: Font family ['NanumBarunGothic'] not found. Falling back to DejaVu Sans.\n",
      "  (prop.get_family(), self.defaultFamily[fontext]))\n"
     ]
    },
    {
     "data": {
      "image/png": "[encoded data removed]",
      "text/plain": [
       "<Figure size 640x480 with 1 Axes>"
      ]
     },
     "metadata": {},
     "output_type": "display_data"
    },
    {
     "data": {
      "text/plain": [
       "<ggplot: (-9223372036550406277)>"
      ]
     },
     "execution_count": 21,
     "metadata": {},
     "output_type": "execute_result"
    }
   ],
   "source": [
    "\n",
    "(ggplot(df_seoul)\n",
    " + aes('상권업종대분류명')\n",
    " + geom_bar(fill='#8181F7')\n",
    " + ggtitle('상권업종대분류명')\n",
    " + coord_flip()\n",
    " + theme(text=element_text(family='NanumBarunGothic'),\n",
    "        axis_text_x=element_text(rotation=60))\n",
    ")"
   ]
  },
  {
   "cell_type": "code",
   "execution_count": 22,
   "metadata": {},
   "outputs": [
    {
     "data": {
      "text/plain": [
       "(109766, 39)"
      ]
     },
     "execution_count": 22,
     "metadata": {},
     "output_type": "execute_result"
    }
   ],
   "source": [
    "df_food = df_seoul.loc[df_seoul['상권업종대분류명'].str.contains('음식')]\n",
    "df_food.shape"
   ]
  },
  {
   "cell_type": "code",
   "execution_count": 23,
   "metadata": {},
   "outputs": [
    {
     "data": {
      "image/png": "[encoded data removed]",
      "text/plain": [
       "<Figure size 640x480 with 1 Axes>"
      ]
     },
     "metadata": {},
     "output_type": "display_data"
    },
    {
     "data": {
      "text/plain": [
       "<ggplot: (304638447)>"
      ]
     },
     "execution_count": 23,
     "metadata": {},
     "output_type": "execute_result"
    }
   ],
   "source": [
    "(ggplot(df_food)\n",
    " + aes('상권업종중분류명')\n",
    " + geom_bar(fill='#817FEE')\n",
    " + ggtitle('상권업종중분류명')\n",
    " + coord_flip()\n",
    " + theme(text=element_text(family='NanumBarunGothic'),\n",
    "        axis_text_x=element_text(rotation=60))\n",
    ")"
   ]
  },
  {
   "cell_type": "code",
   "execution_count": 24,
   "metadata": {},
   "outputs": [
    {
     "data": {
      "text/plain": [
       "(4605, 39)"
      ]
     },
     "execution_count": 24,
     "metadata": {},
     "output_type": "execute_result"
    }
   ],
   "source": [
    "df_fast_food = df_food.loc[df_food['상권업종중분류명'] == '패스트푸드']\n",
    "df_fast_food.shape"
   ]
  },
  {
   "cell_type": "code",
   "execution_count": 25,
   "metadata": {},
   "outputs": [
    {
     "data": {
      "text/plain": [
       "array(['피자마루', '롯데리아', '배스킨라빈스', ..., '브리웰', '베이크럽', '델리'], dtype=object)"
      ]
     },
     "execution_count": 25,
     "metadata": {},
     "output_type": "execute_result"
    }
   ],
   "source": [
    "df_fast_food['상호명'].unique()"
   ]
  },
  {
   "cell_type": "code",
   "execution_count": 26,
   "metadata": {},
   "outputs": [
    {
     "data": {
      "text/plain": [
       "(438, 39)"
      ]
     },
     "execution_count": 26,
     "metadata": {},
     "output_type": "execute_result"
    }
   ],
   "source": [
    "df_31 = df_seoul[df_seoul['상호명'].str.contains('배스킨|던킨')].copy()\n",
    "df_31.shape"
   ]
  },
  {
   "cell_type": "code",
   "execution_count": 27,
   "metadata": {},
   "outputs": [
    {
     "data": {
      "text/plain": [
       "Index(['상호명', '지점명', '상권업종대분류명', '상권업종중분류명', '지번주소', '도로명주소', '위도', '경도',\n",
       "       '시군구명', '행정동명'],\n",
       "      dtype='object')"
      ]
     },
     "execution_count": 27,
     "metadata": {},
     "output_type": "execute_result"
    }
   ],
   "source": [
    "df_31 = df_31[['상호명', '지점명', '상권업종대분류명', '상권업종중분류명', \n",
    "               '지번주소', '도로명주소',  '위도', '경도', '시군구명', '행정동명']].copy()\n",
    "df_31.columns\n"
   ]
  },
  {
   "cell_type": "code",
   "execution_count": 28,
   "metadata": {},
   "outputs": [
    {
     "data": {
      "text/html": [
       "<div>\n",
       "<style scoped>\n",
       "    .dataframe tbody tr th:only-of-type {\n",
       "        vertical-align: middle;\n",
       "    }\n",
       "\n",
       "    .dataframe tbody tr th {\n",
       "        vertical-align: top;\n",
       "    }\n",
       "\n",
       "    .dataframe thead th {\n",
       "        text-align: right;\n",
       "    }\n",
       "</style>\n",
       "<table border=\"1\" class=\"dataframe\">\n",
       "  <thead>\n",
       "    <tr style=\"text-align: right;\">\n",
       "      <th></th>\n",
       "      <th>상호명</th>\n",
       "      <th>지점명</th>\n",
       "      <th>상권업종대분류명</th>\n",
       "      <th>상권업종중분류명</th>\n",
       "      <th>지번주소</th>\n",
       "      <th>도로명주소</th>\n",
       "      <th>위도</th>\n",
       "      <th>경도</th>\n",
       "      <th>시군구명</th>\n",
       "      <th>행정동명</th>\n",
       "    </tr>\n",
       "  </thead>\n",
       "  <tbody>\n",
       "    <tr>\n",
       "      <th>63</th>\n",
       "      <td>배스킨라빈스</td>\n",
       "      <td>관악구청점</td>\n",
       "      <td>음식</td>\n",
       "      <td>패스트푸드</td>\n",
       "      <td>서울특별시 관악구 봉천동 863-13</td>\n",
       "      <td>서울특별시 관악구 관악로 161</td>\n",
       "      <td>37.479599</td>\n",
       "      <td>126.952166</td>\n",
       "      <td>관악구</td>\n",
       "      <td>청룡동</td>\n",
       "    </tr>\n",
       "    <tr>\n",
       "      <th>1564</th>\n",
       "      <td>던킨도너츠테크노마트점</td>\n",
       "      <td>테크노마트점</td>\n",
       "      <td>음식</td>\n",
       "      <td>패스트푸드</td>\n",
       "      <td>서울특별시 광진구 구의동 546-4</td>\n",
       "      <td>서울특별시 광진구 광나루로56길 85</td>\n",
       "      <td>37.535713</td>\n",
       "      <td>127.095681</td>\n",
       "      <td>광진구</td>\n",
       "      <td>구의3동</td>\n",
       "    </tr>\n",
       "    <tr>\n",
       "      <th>1921</th>\n",
       "      <td>던킨도너츠창동하나로</td>\n",
       "      <td>NaN</td>\n",
       "      <td>음식</td>\n",
       "      <td>패스트푸드</td>\n",
       "      <td>서울특별시 도봉구 창동 1-10</td>\n",
       "      <td>서울특별시 도봉구 마들로11길 20</td>\n",
       "      <td>37.655101</td>\n",
       "      <td>127.050818</td>\n",
       "      <td>도봉구</td>\n",
       "      <td>창4동</td>\n",
       "    </tr>\n",
       "    <tr>\n",
       "      <th>1958</th>\n",
       "      <td>던킨도너츠용산민자역사2호</td>\n",
       "      <td>NaN</td>\n",
       "      <td>음식</td>\n",
       "      <td>패스트푸드</td>\n",
       "      <td>서울특별시 용산구 한강로3가 40-999</td>\n",
       "      <td>서울특별시 용산구 한강대로21나길 7</td>\n",
       "      <td>37.527903</td>\n",
       "      <td>126.963223</td>\n",
       "      <td>용산구</td>\n",
       "      <td>한강로동</td>\n",
       "    </tr>\n",
       "    <tr>\n",
       "      <th>2459</th>\n",
       "      <td>던킨도너츠</td>\n",
       "      <td>잠실본동점</td>\n",
       "      <td>음식</td>\n",
       "      <td>패스트푸드</td>\n",
       "      <td>서울특별시 송파구 잠실동 242-9</td>\n",
       "      <td>서울특별시 송파구 석촌호수로 118</td>\n",
       "      <td>37.507431</td>\n",
       "      <td>127.090005</td>\n",
       "      <td>송파구</td>\n",
       "      <td>잠실본동</td>\n",
       "    </tr>\n",
       "  </tbody>\n",
       "</table>\n",
       "</div>"
      ],
      "text/plain": [
       "                상호명     지점명 상권업종대분류명 상권업종중분류명                    지번주소  \\\n",
       "63           배스킨라빈스   관악구청점       음식    패스트푸드    서울특별시 관악구 봉천동 863-13   \n",
       "1564    던킨도너츠테크노마트점  테크노마트점       음식    패스트푸드     서울특별시 광진구 구의동 546-4   \n",
       "1921     던킨도너츠창동하나로     NaN       음식    패스트푸드       서울특별시 도봉구 창동 1-10   \n",
       "1958  던킨도너츠용산민자역사2호     NaN       음식    패스트푸드  서울특별시 용산구 한강로3가 40-999   \n",
       "2459          던킨도너츠   잠실본동점       음식    패스트푸드     서울특별시 송파구 잠실동 242-9   \n",
       "\n",
       "                     도로명주소         위도          경도 시군구명  행정동명  \n",
       "63       서울특별시 관악구 관악로 161  37.479599  126.952166  관악구   청룡동  \n",
       "1564  서울특별시 광진구 광나루로56길 85  37.535713  127.095681  광진구  구의3동  \n",
       "1921   서울특별시 도봉구 마들로11길 20  37.655101  127.050818  도봉구   창4동  \n",
       "1958  서울특별시 용산구 한강대로21나길 7  37.527903  126.963223  용산구  한강로동  \n",
       "2459   서울특별시 송파구 석촌호수로 118  37.507431  127.090005  송파구  잠실본동  "
      ]
     },
     "execution_count": 28,
     "metadata": {},
     "output_type": "execute_result"
    }
   ],
   "source": [
    "df_31.head()"
   ]
  },
  {
   "cell_type": "code",
   "execution_count": 29,
   "metadata": {},
   "outputs": [
    {
     "data": {
      "text/plain": [
       "배스킨라빈스31             102\n",
       "던킨도너츠                 86\n",
       "배스킨라빈스                44\n",
       "던킨도넛                   4\n",
       "배스킨라빈스위례아이파크점          1\n",
       "던킨도너츠중앙보훈병원점           1\n",
       "배스킨라빈스31남구로점           1\n",
       "배스킨라빈스31신월신곡점          1\n",
       "비알코리아던킨도너츠은행           1\n",
       "던킨도너츠광운대역              1\n",
       "배스킨라빈스31미아역점           1\n",
       "배스킨라빈스31광운대역점          1\n",
       "배스킨라빈스31도화점            1\n",
       "비알코리아던킨도너츠두산           1\n",
       "배스킨라빈스31방화동점           1\n",
       "배스킨라빈스31망원역점           1\n",
       "배스킨라빈스31이수역점           1\n",
       "배스킨라빈스31화양삼거리점         1\n",
       "배스킨라빈스31홍대상상마당점        1\n",
       "배스킨라빈스31이태원점           1\n",
       "배스킨라빈스보라매공원점           1\n",
       "배스킨라빈스31구로천왕역점         1\n",
       "배스킨라빈스31서울대점           1\n",
       "배스킨라빈스31포이점            1\n",
       "던킨도너츠동대문홈플러스           1\n",
       "배스킨라빈스31성북종암점          1\n",
       "배스킨라빈스31공릉점            1\n",
       "던킨도너츠도곡                1\n",
       "던킨도너츠합정역사점             1\n",
       "배스킨라빈스31둔촌역점           1\n",
       "                    ... \n",
       "배스킨라빈스강남중앙             1\n",
       "배스킨라빈스31마포용강점          1\n",
       "배스킨라빈스31홍은동점           1\n",
       "던킨도너츠올림픽공원점            1\n",
       "배스킨라빈스31CAFE31신촌점      1\n",
       "배스킨라빈스용산후암             1\n",
       "배스킨라빈스31불광역점           1\n",
       "배스킨라빈스31구의역점           1\n",
       "배스킨라빈스31쌍문점            1\n",
       "배스킨라빈스31금천홈플러스점        1\n",
       "배스킨라빈스신풍역              1\n",
       "배스킨라빈스브라운청담점           1\n",
       "던킨도너츠동대문푸르지오시티점        1\n",
       "비알코리아던킨도너츠고대           1\n",
       "배스킨라빈스31중앙대점           1\n",
       "배스킨라빈스31성신여대점          1\n",
       "배스킨라빈스31면목역점           1\n",
       "던킨도너츠수서역점              1\n",
       "배스킨라빈스31중랑구청점          1\n",
       "던킨도너츠동대문               1\n",
       "배스킨라빈스청량리역사점           1\n",
       "배스킨라빈스31영등포문래점         1\n",
       "던킨도너츠용산센트럴점            1\n",
       "비알코리아던킨도너츠목동           1\n",
       "던킨도너츠염창점               1\n",
       "배스킨라빈스31신정점            1\n",
       "비알코리아던킨도너츠강남스퀘어        1\n",
       "배스킨라빈스31굽은다리역점         1\n",
       "코레일유통커피앤던킨도너츠          1\n",
       "배스킨라빈스31명동1호점          1\n",
       "Name: 상호명, Length: 206, dtype: int64"
      ]
     },
     "execution_count": 29,
     "metadata": {},
     "output_type": "execute_result"
    }
   ],
   "source": [
    "df_31['상호명'].value_counts()"
   ]
  },
  {
   "cell_type": "code",
   "execution_count": 30,
   "metadata": {},
   "outputs": [],
   "source": [
    "df_31['브랜드명'] = ''"
   ]
  },
  {
   "cell_type": "code",
   "execution_count": 31,
   "metadata": {},
   "outputs": [
    {
     "data": {
      "text/html": [
       "<div>\n",
       "<style scoped>\n",
       "    .dataframe tbody tr th:only-of-type {\n",
       "        vertical-align: middle;\n",
       "    }\n",
       "\n",
       "    .dataframe tbody tr th {\n",
       "        vertical-align: top;\n",
       "    }\n",
       "\n",
       "    .dataframe thead th {\n",
       "        text-align: right;\n",
       "    }\n",
       "</style>\n",
       "<table border=\"1\" class=\"dataframe\">\n",
       "  <thead>\n",
       "    <tr style=\"text-align: right;\">\n",
       "      <th></th>\n",
       "      <th>상호명</th>\n",
       "      <th>브랜드명</th>\n",
       "    </tr>\n",
       "  </thead>\n",
       "  <tbody>\n",
       "    <tr>\n",
       "      <th>63</th>\n",
       "      <td>배스킨라빈스</td>\n",
       "      <td></td>\n",
       "    </tr>\n",
       "    <tr>\n",
       "      <th>1564</th>\n",
       "      <td>던킨도너츠테크노마트점</td>\n",
       "      <td></td>\n",
       "    </tr>\n",
       "    <tr>\n",
       "      <th>1921</th>\n",
       "      <td>던킨도너츠창동하나로</td>\n",
       "      <td></td>\n",
       "    </tr>\n",
       "    <tr>\n",
       "      <th>1958</th>\n",
       "      <td>던킨도너츠용산민자역사2호</td>\n",
       "      <td></td>\n",
       "    </tr>\n",
       "    <tr>\n",
       "      <th>2459</th>\n",
       "      <td>던킨도너츠</td>\n",
       "      <td></td>\n",
       "    </tr>\n",
       "  </tbody>\n",
       "</table>\n",
       "</div>"
      ],
      "text/plain": [
       "                상호명 브랜드명\n",
       "63           배스킨라빈스     \n",
       "1564    던킨도너츠테크노마트점     \n",
       "1921     던킨도너츠창동하나로     \n",
       "1958  던킨도너츠용산민자역사2호     \n",
       "2459          던킨도너츠     "
      ]
     },
     "execution_count": 31,
     "metadata": {},
     "output_type": "execute_result"
    }
   ],
   "source": [
    "df_31[['상호명', '브랜드명']].head()"
   ]
  },
  {
   "cell_type": "code",
   "execution_count": 35,
   "metadata": {},
   "outputs": [],
   "source": [
    "df_31.loc[df_31['상호명'].str.contains('배스킨'), '브랜드명'] = '배스킨라빈스'\n",
    "df_31.loc[df_31['상호명'].str.contains('던킨'), '브랜드명'] = '던킨도너츠'"
   ]
  },
  {
   "cell_type": "code",
   "execution_count": 36,
   "metadata": {},
   "outputs": [
    {
     "data": {
      "text/html": [
       "<div>\n",
       "<style scoped>\n",
       "    .dataframe tbody tr th:only-of-type {\n",
       "        vertical-align: middle;\n",
       "    }\n",
       "\n",
       "    .dataframe tbody tr th {\n",
       "        vertical-align: top;\n",
       "    }\n",
       "\n",
       "    .dataframe thead th {\n",
       "        text-align: right;\n",
       "    }\n",
       "</style>\n",
       "<table border=\"1\" class=\"dataframe\">\n",
       "  <thead>\n",
       "    <tr style=\"text-align: right;\">\n",
       "      <th></th>\n",
       "      <th>상호명</th>\n",
       "      <th>브랜드명</th>\n",
       "    </tr>\n",
       "  </thead>\n",
       "  <tbody>\n",
       "    <tr>\n",
       "      <th>63</th>\n",
       "      <td>배스킨라빈스</td>\n",
       "      <td>배스킨라빈스</td>\n",
       "    </tr>\n",
       "    <tr>\n",
       "      <th>1564</th>\n",
       "      <td>던킨도너츠테크노마트점</td>\n",
       "      <td>던킨도너츠</td>\n",
       "    </tr>\n",
       "    <tr>\n",
       "      <th>1921</th>\n",
       "      <td>던킨도너츠창동하나로</td>\n",
       "      <td>던킨도너츠</td>\n",
       "    </tr>\n",
       "    <tr>\n",
       "      <th>1958</th>\n",
       "      <td>던킨도너츠용산민자역사2호</td>\n",
       "      <td>던킨도너츠</td>\n",
       "    </tr>\n",
       "    <tr>\n",
       "      <th>2459</th>\n",
       "      <td>던킨도너츠</td>\n",
       "      <td>던킨도너츠</td>\n",
       "    </tr>\n",
       "  </tbody>\n",
       "</table>\n",
       "</div>"
      ],
      "text/plain": [
       "                상호명    브랜드명\n",
       "63           배스킨라빈스  배스킨라빈스\n",
       "1564    던킨도너츠테크노마트점   던킨도너츠\n",
       "1921     던킨도너츠창동하나로   던킨도너츠\n",
       "1958  던킨도너츠용산민자역사2호   던킨도너츠\n",
       "2459          던킨도너츠   던킨도너츠"
      ]
     },
     "execution_count": 36,
     "metadata": {},
     "output_type": "execute_result"
    }
   ],
   "source": [
    "df_31[['상호명', '브랜드명']].head()"
   ]
  },
  {
   "cell_type": "code",
   "execution_count": 37,
   "metadata": {},
   "outputs": [
    {
     "data": {
      "text/plain": [
       "배스킨라빈스    290\n",
       "던킨도너츠     148\n",
       "Name: 브랜드명, dtype: int64"
      ]
     },
     "execution_count": 37,
     "metadata": {},
     "output_type": "execute_result"
    }
   ],
   "source": [
    "df_31_group_count = df_31['브랜드명'].value_counts()\n",
    "df_31_group_count"
   ]
  },
  {
   "cell_type": "code",
   "execution_count": 38,
   "metadata": {},
   "outputs": [
    {
     "name": "stdout",
     "output_type": "stream",
     "text": [
      "제공된 데이터로 봤을 때 서울에는 던킨도너츠보다 배스킨라빈스의 매장이 1.96배가량 많습니다.\n"
     ]
    }
   ],
   "source": [
    "df_31_ratio = df_31_group_count[0]/df_31_group_count[1]\n",
    "print('제공된 데이터로 봤을 때 서울에는 던킨도너츠보다 배스킨라빈스의 매장이 {0:.2f}배가량 많습니다.'.format(df_31_ratio))"
   ]
  },
  {
   "cell_type": "code",
   "execution_count": 39,
   "metadata": {},
   "outputs": [],
   "source": [
    "df_31['위도'] = df_31['위도'].astype(float)\n",
    "df_31['경도'] = df_31['경도'].astype(float)"
   ]
  },
  {
   "cell_type": "code",
   "execution_count": 40,
   "metadata": {},
   "outputs": [
    {
     "name": "stderr",
     "output_type": "stream",
     "text": [
      "/usr/local/lib/python3.7/site-packages/plotnine/guides/guides.py:198: UserWarning: Cannot generate legend for the 'fill' aesthetic. Make sure you have mapped a variable to it\n",
      "  \"variable to it\".format(output))\n"
     ]
    },
    {
     "data": {
      "image/png": "[encoded data removed]",
      "text/plain": [
       "<Figure size 640x480 with 1 Axes>"
      ]
     },
     "metadata": {},
     "output_type": "display_data"
    },
    {
     "data": {
      "text/plain": [
       "<ggplot: (305929522)>"
      ]
     },
     "execution_count": 40,
     "metadata": {},
     "output_type": "execute_result"
    }
   ],
   "source": [
    "\n",
    "(ggplot(df_31)\n",
    " + aes(x='경도', y='위도', color='브랜드명')\n",
    " + geom_point()\n",
    " + theme(text=element_text(family='NanumBarunGothic'))\n",
    " + scale_fill_gradient(low = 'blue', high = 'green') \n",
    ")"
   ]
  },
  {
   "cell_type": "code",
   "execution_count": null,
   "metadata": {},
   "outputs": [],
   "source": []
  },
  {
   "cell_type": "code",
   "execution_count": null,
   "metadata": {},
   "outputs": [],
   "source": []
  }
 ],
 "metadata": {
  "kernelspec": {
   "display_name": "Python 3",
   "language": "python",
   "name": "python3"
  },
  "language_info": {
   "codemirror_mode": {
    "name": "ipython",
    "version": 3
   },
   "file_extension": ".py",
   "mimetype": "text/x-python",
   "name": "python",
   "nbconvert_exporter": "python",
   "pygments_lexer": "ipython3",
   "version": "3.7.0"
  }
 },
 "nbformat": 4,
 "nbformat_minor": 2
}
