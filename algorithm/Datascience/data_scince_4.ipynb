{
  "nbformat": 4,
  "nbformat_minor": 0,
  "metadata": {
    "colab": {
      "name": "data_scince_4.ipynb",
      "provenance": []
    },
    "kernelspec": {
      "name": "python3",
      "display_name": "Python 3"
    }
  },
  "cells": [
    {
      "cell_type": "code",
      "metadata": {
        "id": "0YEnNeNq8JGL",
        "colab_type": "code",
        "colab": {
          "base_uri": "https://localhost:8080/",
          "height": 52
        },
        "outputId": "82d6c395-033a-44cf-ec11-0ffe4be7740e"
      },
      "source": [
        "import matplotlib as mpl\n",
        "import matplotlib.pyplot as plt\n",
        " \n",
        "%config InlineBackend.figure_format = 'retina'\n",
        " \n",
        "!apt -qq -y install fonts-nanum\n",
        " \n",
        "import matplotlib.font_manager as fm\n",
        "fontpath = '/usr/share/fonts/truetype/nanum/NanumBarunGothic.ttf'\n",
        "font = fm.FontProperties(fname=fontpath, size=9)\n",
        "plt.rc('font', family='NanumBarunGothic') \n",
        "mpl.font_manager._rebuild()"
      ],
      "execution_count": 3,
      "outputs": [
        {
          "output_type": "stream",
          "text": [
            "fonts-nanum is already the newest version (20170925-1).\n",
            "0 upgraded, 0 newly installed, 0 to remove and 25 not upgraded.\n"
          ],
          "name": "stdout"
        }
      ]
    },
    {
      "cell_type": "code",
      "metadata": {
        "id": "CV-6purk8fg5",
        "colab_type": "code",
        "colab": {
          "base_uri": "https://localhost:8080/",
          "height": 206
        },
        "outputId": "a126eb2c-cee1-40eb-b8cd-759b152003f4"
      },
      "source": [
        "import pandas as pd\n",
        "station_raw = pd.read_excel('gas_station.xls', encoding='utf-8', header=2)\n",
        "station_raw.head()"
      ],
      "execution_count": 12,
      "outputs": [
        {
          "output_type": "execute_result",
          "data": {
            "text/html": [
              "<div>\n",
              "<style scoped>\n",
              "    .dataframe tbody tr th:only-of-type {\n",
              "        vertical-align: middle;\n",
              "    }\n",
              "\n",
              "    .dataframe tbody tr th {\n",
              "        vertical-align: top;\n",
              "    }\n",
              "\n",
              "    .dataframe thead th {\n",
              "        text-align: right;\n",
              "    }\n",
              "</style>\n",
              "<table border=\"1\" class=\"dataframe\">\n",
              "  <thead>\n",
              "    <tr style=\"text-align: right;\">\n",
              "      <th></th>\n",
              "      <th>지역</th>\n",
              "      <th>상호</th>\n",
              "      <th>주소</th>\n",
              "      <th>상표</th>\n",
              "      <th>전화번호</th>\n",
              "      <th>셀프여부</th>\n",
              "      <th>고급휘발유</th>\n",
              "      <th>휘발유</th>\n",
              "      <th>경유</th>\n",
              "      <th>실내등유</th>\n",
              "    </tr>\n",
              "  </thead>\n",
              "  <tbody>\n",
              "    <tr>\n",
              "      <th>0</th>\n",
              "      <td>서울특별시</td>\n",
              "      <td>(주)보성 세곡주유소</td>\n",
              "      <td>서울특별시 강남구  헌릉로 731 (세곡동)</td>\n",
              "      <td>SK에너지</td>\n",
              "      <td>02-445-6870</td>\n",
              "      <td>Y</td>\n",
              "      <td>-</td>\n",
              "      <td>1548</td>\n",
              "      <td>1345</td>\n",
              "      <td>-</td>\n",
              "    </tr>\n",
              "    <tr>\n",
              "      <th>1</th>\n",
              "      <td>서울특별시</td>\n",
              "      <td>SK서광주유소</td>\n",
              "      <td>서울 강남구 역삼로 142 (역삼동)</td>\n",
              "      <td>SK에너지</td>\n",
              "      <td>02-562-4855</td>\n",
              "      <td>Y</td>\n",
              "      <td>1765</td>\n",
              "      <td>1565</td>\n",
              "      <td>1365</td>\n",
              "      <td>990</td>\n",
              "    </tr>\n",
              "    <tr>\n",
              "      <th>2</th>\n",
              "      <td>서울특별시</td>\n",
              "      <td>현대오일뱅크㈜ 직영 도곡셀프주유소</td>\n",
              "      <td>서울특별시 강남구  남부순환로 2718 (도곡동)</td>\n",
              "      <td>현대오일뱅크</td>\n",
              "      <td>02-529-5101</td>\n",
              "      <td>Y</td>\n",
              "      <td>1780</td>\n",
              "      <td>1566</td>\n",
              "      <td>1361</td>\n",
              "      <td>-</td>\n",
              "    </tr>\n",
              "    <tr>\n",
              "      <th>3</th>\n",
              "      <td>서울특별시</td>\n",
              "      <td>(주)정원이디에쓰 산성주유소</td>\n",
              "      <td>서울 강남구 헌릉로 730 (세곡동)</td>\n",
              "      <td>GS칼텍스</td>\n",
              "      <td>02-2226-4963</td>\n",
              "      <td>Y</td>\n",
              "      <td>-</td>\n",
              "      <td>1568</td>\n",
              "      <td>1365</td>\n",
              "      <td>-</td>\n",
              "    </tr>\n",
              "    <tr>\n",
              "      <th>4</th>\n",
              "      <td>서울특별시</td>\n",
              "      <td>현대오일뱅크(주)유진주유소</td>\n",
              "      <td>서울 강남구 논현로 152 (도곡동)</td>\n",
              "      <td>현대오일뱅크</td>\n",
              "      <td>02-3462-5215</td>\n",
              "      <td>N</td>\n",
              "      <td>1805</td>\n",
              "      <td>1586</td>\n",
              "      <td>1384</td>\n",
              "      <td>1060</td>\n",
              "    </tr>\n",
              "  </tbody>\n",
              "</table>\n",
              "</div>"
            ],
            "text/plain": [
              "      지역                   상호                           주소  ...   휘발유    경유  실내등유\n",
              "0  서울특별시          (주)보성 세곡주유소     서울특별시 강남구  헌릉로 731 (세곡동)  ...  1548  1345     -\n",
              "1  서울특별시              SK서광주유소         서울 강남구 역삼로 142 (역삼동)  ...  1565  1365   990\n",
              "2  서울특별시   현대오일뱅크㈜ 직영 도곡셀프주유소  서울특별시 강남구  남부순환로 2718 (도곡동)  ...  1566  1361     -\n",
              "3  서울특별시      (주)정원이디에쓰 산성주유소         서울 강남구 헌릉로 730 (세곡동)  ...  1568  1365     -\n",
              "4  서울특별시       현대오일뱅크(주)유진주유소         서울 강남구 논현로 152 (도곡동)  ...  1586  1384  1060\n",
              "\n",
              "[5 rows x 10 columns]"
            ]
          },
          "metadata": {
            "tags": []
          },
          "execution_count": 12
        }
      ]
    },
    {
      "cell_type": "code",
      "metadata": {
        "id": "1rDii72w9yi9",
        "colab_type": "code",
        "colab": {
          "base_uri": "https://localhost:8080/",
          "height": 206
        },
        "outputId": "55099dd2-e5dc-44c6-ee06-d788a3af575f"
      },
      "source": [
        "stations = pd.DataFrame({'Oil_store':station_raw['상호'], \n",
        "                                       '주소':station_raw['주소'],\n",
        "                                       '가격':station_raw['휘발유'],\n",
        "                                       '셀프':station_raw['셀프여부'],\n",
        "                                       '상표':station_raw['상표']  })\n",
        "stations.head()"
      ],
      "execution_count": 13,
      "outputs": [
        {
          "output_type": "execute_result",
          "data": {
            "text/html": [
              "<div>\n",
              "<style scoped>\n",
              "    .dataframe tbody tr th:only-of-type {\n",
              "        vertical-align: middle;\n",
              "    }\n",
              "\n",
              "    .dataframe tbody tr th {\n",
              "        vertical-align: top;\n",
              "    }\n",
              "\n",
              "    .dataframe thead th {\n",
              "        text-align: right;\n",
              "    }\n",
              "</style>\n",
              "<table border=\"1\" class=\"dataframe\">\n",
              "  <thead>\n",
              "    <tr style=\"text-align: right;\">\n",
              "      <th></th>\n",
              "      <th>Oil_store</th>\n",
              "      <th>주소</th>\n",
              "      <th>가격</th>\n",
              "      <th>셀프</th>\n",
              "      <th>상표</th>\n",
              "    </tr>\n",
              "  </thead>\n",
              "  <tbody>\n",
              "    <tr>\n",
              "      <th>0</th>\n",
              "      <td>(주)보성 세곡주유소</td>\n",
              "      <td>서울특별시 강남구  헌릉로 731 (세곡동)</td>\n",
              "      <td>1548</td>\n",
              "      <td>Y</td>\n",
              "      <td>SK에너지</td>\n",
              "    </tr>\n",
              "    <tr>\n",
              "      <th>1</th>\n",
              "      <td>SK서광주유소</td>\n",
              "      <td>서울 강남구 역삼로 142 (역삼동)</td>\n",
              "      <td>1565</td>\n",
              "      <td>Y</td>\n",
              "      <td>SK에너지</td>\n",
              "    </tr>\n",
              "    <tr>\n",
              "      <th>2</th>\n",
              "      <td>현대오일뱅크㈜ 직영 도곡셀프주유소</td>\n",
              "      <td>서울특별시 강남구  남부순환로 2718 (도곡동)</td>\n",
              "      <td>1566</td>\n",
              "      <td>Y</td>\n",
              "      <td>현대오일뱅크</td>\n",
              "    </tr>\n",
              "    <tr>\n",
              "      <th>3</th>\n",
              "      <td>(주)정원이디에쓰 산성주유소</td>\n",
              "      <td>서울 강남구 헌릉로 730 (세곡동)</td>\n",
              "      <td>1568</td>\n",
              "      <td>Y</td>\n",
              "      <td>GS칼텍스</td>\n",
              "    </tr>\n",
              "    <tr>\n",
              "      <th>4</th>\n",
              "      <td>현대오일뱅크(주)유진주유소</td>\n",
              "      <td>서울 강남구 논현로 152 (도곡동)</td>\n",
              "      <td>1586</td>\n",
              "      <td>N</td>\n",
              "      <td>현대오일뱅크</td>\n",
              "    </tr>\n",
              "  </tbody>\n",
              "</table>\n",
              "</div>"
            ],
            "text/plain": [
              "             Oil_store                           주소    가격 셀프      상표\n",
              "0          (주)보성 세곡주유소     서울특별시 강남구  헌릉로 731 (세곡동)  1548  Y   SK에너지\n",
              "1              SK서광주유소         서울 강남구 역삼로 142 (역삼동)  1565  Y   SK에너지\n",
              "2   현대오일뱅크㈜ 직영 도곡셀프주유소  서울특별시 강남구  남부순환로 2718 (도곡동)  1566  Y  현대오일뱅크\n",
              "3      (주)정원이디에쓰 산성주유소         서울 강남구 헌릉로 730 (세곡동)  1568  Y   GS칼텍스\n",
              "4       현대오일뱅크(주)유진주유소         서울 강남구 논현로 152 (도곡동)  1586  N  현대오일뱅크"
            ]
          },
          "metadata": {
            "tags": []
          },
          "execution_count": 13
        }
      ]
    },
    {
      "cell_type": "code",
      "metadata": {
        "id": "dn2cV7Sc9ygl",
        "colab_type": "code",
        "colab": {
          "base_uri": "https://localhost:8080/",
          "height": 206
        },
        "outputId": "b49764af-3915-4187-dcf7-ed35dd82a7f9"
      },
      "source": [
        "stations['구'] = [eachAddress.split()[1] for eachAddress in stations['주소']]\n",
        "stations.head()"
      ],
      "execution_count": 18,
      "outputs": [
        {
          "output_type": "execute_result",
          "data": {
            "text/html": [
              "<div>\n",
              "<style scoped>\n",
              "    .dataframe tbody tr th:only-of-type {\n",
              "        vertical-align: middle;\n",
              "    }\n",
              "\n",
              "    .dataframe tbody tr th {\n",
              "        vertical-align: top;\n",
              "    }\n",
              "\n",
              "    .dataframe thead th {\n",
              "        text-align: right;\n",
              "    }\n",
              "</style>\n",
              "<table border=\"1\" class=\"dataframe\">\n",
              "  <thead>\n",
              "    <tr style=\"text-align: right;\">\n",
              "      <th></th>\n",
              "      <th>Oil_store</th>\n",
              "      <th>주소</th>\n",
              "      <th>가격</th>\n",
              "      <th>셀프</th>\n",
              "      <th>상표</th>\n",
              "      <th>구</th>\n",
              "    </tr>\n",
              "  </thead>\n",
              "  <tbody>\n",
              "    <tr>\n",
              "      <th>0</th>\n",
              "      <td>(주)보성 세곡주유소</td>\n",
              "      <td>서울특별시 강남구  헌릉로 731 (세곡동)</td>\n",
              "      <td>1548</td>\n",
              "      <td>Y</td>\n",
              "      <td>SK에너지</td>\n",
              "      <td>강남구</td>\n",
              "    </tr>\n",
              "    <tr>\n",
              "      <th>1</th>\n",
              "      <td>SK서광주유소</td>\n",
              "      <td>서울 강남구 역삼로 142 (역삼동)</td>\n",
              "      <td>1565</td>\n",
              "      <td>Y</td>\n",
              "      <td>SK에너지</td>\n",
              "      <td>강남구</td>\n",
              "    </tr>\n",
              "    <tr>\n",
              "      <th>2</th>\n",
              "      <td>현대오일뱅크㈜ 직영 도곡셀프주유소</td>\n",
              "      <td>서울특별시 강남구  남부순환로 2718 (도곡동)</td>\n",
              "      <td>1566</td>\n",
              "      <td>Y</td>\n",
              "      <td>현대오일뱅크</td>\n",
              "      <td>강남구</td>\n",
              "    </tr>\n",
              "    <tr>\n",
              "      <th>3</th>\n",
              "      <td>(주)정원이디에쓰 산성주유소</td>\n",
              "      <td>서울 강남구 헌릉로 730 (세곡동)</td>\n",
              "      <td>1568</td>\n",
              "      <td>Y</td>\n",
              "      <td>GS칼텍스</td>\n",
              "      <td>강남구</td>\n",
              "    </tr>\n",
              "    <tr>\n",
              "      <th>4</th>\n",
              "      <td>현대오일뱅크(주)유진주유소</td>\n",
              "      <td>서울 강남구 논현로 152 (도곡동)</td>\n",
              "      <td>1586</td>\n",
              "      <td>N</td>\n",
              "      <td>현대오일뱅크</td>\n",
              "      <td>강남구</td>\n",
              "    </tr>\n",
              "  </tbody>\n",
              "</table>\n",
              "</div>"
            ],
            "text/plain": [
              "             Oil_store                           주소    가격 셀프      상표    구\n",
              "0          (주)보성 세곡주유소     서울특별시 강남구  헌릉로 731 (세곡동)  1548  Y   SK에너지  강남구\n",
              "1              SK서광주유소         서울 강남구 역삼로 142 (역삼동)  1565  Y   SK에너지  강남구\n",
              "2   현대오일뱅크㈜ 직영 도곡셀프주유소  서울특별시 강남구  남부순환로 2718 (도곡동)  1566  Y  현대오일뱅크  강남구\n",
              "3      (주)정원이디에쓰 산성주유소         서울 강남구 헌릉로 730 (세곡동)  1568  Y   GS칼텍스  강남구\n",
              "4       현대오일뱅크(주)유진주유소         서울 강남구 논현로 152 (도곡동)  1586  N  현대오일뱅크  강남구"
            ]
          },
          "metadata": {
            "tags": []
          },
          "execution_count": 18
        }
      ]
    },
    {
      "cell_type": "code",
      "metadata": {
        "id": "dewVRTSf9yd5",
        "colab_type": "code",
        "colab": {
          "base_uri": "https://localhost:8080/",
          "height": 49
        },
        "outputId": "1b3a46b5-c4af-45d3-9365-7715dbf365be"
      },
      "source": [
        "stations['구'].unique()\n",
        "stations[stations['구']=='서울특별시']"
      ],
      "execution_count": 19,
      "outputs": [
        {
          "output_type": "execute_result",
          "data": {
            "text/html": [
              "<div>\n",
              "<style scoped>\n",
              "    .dataframe tbody tr th:only-of-type {\n",
              "        vertical-align: middle;\n",
              "    }\n",
              "\n",
              "    .dataframe tbody tr th {\n",
              "        vertical-align: top;\n",
              "    }\n",
              "\n",
              "    .dataframe thead th {\n",
              "        text-align: right;\n",
              "    }\n",
              "</style>\n",
              "<table border=\"1\" class=\"dataframe\">\n",
              "  <thead>\n",
              "    <tr style=\"text-align: right;\">\n",
              "      <th></th>\n",
              "      <th>Oil_store</th>\n",
              "      <th>주소</th>\n",
              "      <th>가격</th>\n",
              "      <th>셀프</th>\n",
              "      <th>상표</th>\n",
              "      <th>구</th>\n",
              "    </tr>\n",
              "  </thead>\n",
              "  <tbody>\n",
              "  </tbody>\n",
              "</table>\n",
              "</div>"
            ],
            "text/plain": [
              "Empty DataFrame\n",
              "Columns: [Oil_store, 주소, 가격, 셀프, 상표, 구]\n",
              "Index: []"
            ]
          },
          "metadata": {
            "tags": []
          },
          "execution_count": 19
        }
      ]
    },
    {
      "cell_type": "code",
      "metadata": {
        "id": "IZq8xOw-9ybD",
        "colab_type": "code",
        "colab": {
          "base_uri": "https://localhost:8080/",
          "height": 34
        },
        "outputId": "32e080aa-394b-46b7-e09c-088dff1f7bec"
      },
      "source": [
        "stations.loc[stations['구']=='서울특별시', '구'] = '성동구'\n",
        "stations['구'].unique()"
      ],
      "execution_count": 20,
      "outputs": [
        {
          "output_type": "execute_result",
          "data": {
            "text/plain": [
              "array(['강남구'], dtype=object)"
            ]
          },
          "metadata": {
            "tags": []
          },
          "execution_count": 20
        }
      ]
    },
    {
      "cell_type": "code",
      "metadata": {
        "id": "7wmx7a2r9yYh",
        "colab_type": "code",
        "colab": {
          "base_uri": "https://localhost:8080/",
          "height": 241
        },
        "outputId": "dcc90f6d-8135-4896-dfb0-7cf9343e8be9"
      },
      "source": [
        "stations = stations[stations['가격'] != '-']\n",
        "stations.head()"
      ],
      "execution_count": 23,
      "outputs": [
        {
          "output_type": "stream",
          "text": [
            "/usr/local/lib/python3.6/dist-packages/pandas/core/ops/__init__.py:1115: FutureWarning: elementwise comparison failed; returning scalar instead, but in the future will perform elementwise comparison\n",
            "  result = method(y)\n"
          ],
          "name": "stderr"
        },
        {
          "output_type": "execute_result",
          "data": {
            "text/html": [
              "<div>\n",
              "<style scoped>\n",
              "    .dataframe tbody tr th:only-of-type {\n",
              "        vertical-align: middle;\n",
              "    }\n",
              "\n",
              "    .dataframe tbody tr th {\n",
              "        vertical-align: top;\n",
              "    }\n",
              "\n",
              "    .dataframe thead th {\n",
              "        text-align: right;\n",
              "    }\n",
              "</style>\n",
              "<table border=\"1\" class=\"dataframe\">\n",
              "  <thead>\n",
              "    <tr style=\"text-align: right;\">\n",
              "      <th></th>\n",
              "      <th>Oil_store</th>\n",
              "      <th>주소</th>\n",
              "      <th>가격</th>\n",
              "      <th>셀프</th>\n",
              "      <th>상표</th>\n",
              "      <th>구</th>\n",
              "    </tr>\n",
              "  </thead>\n",
              "  <tbody>\n",
              "    <tr>\n",
              "      <th>0</th>\n",
              "      <td>(주)보성 세곡주유소</td>\n",
              "      <td>서울특별시 강남구  헌릉로 731 (세곡동)</td>\n",
              "      <td>1548</td>\n",
              "      <td>Y</td>\n",
              "      <td>SK에너지</td>\n",
              "      <td>강남구</td>\n",
              "    </tr>\n",
              "    <tr>\n",
              "      <th>1</th>\n",
              "      <td>SK서광주유소</td>\n",
              "      <td>서울 강남구 역삼로 142 (역삼동)</td>\n",
              "      <td>1565</td>\n",
              "      <td>Y</td>\n",
              "      <td>SK에너지</td>\n",
              "      <td>강남구</td>\n",
              "    </tr>\n",
              "    <tr>\n",
              "      <th>2</th>\n",
              "      <td>현대오일뱅크㈜ 직영 도곡셀프주유소</td>\n",
              "      <td>서울특별시 강남구  남부순환로 2718 (도곡동)</td>\n",
              "      <td>1566</td>\n",
              "      <td>Y</td>\n",
              "      <td>현대오일뱅크</td>\n",
              "      <td>강남구</td>\n",
              "    </tr>\n",
              "    <tr>\n",
              "      <th>3</th>\n",
              "      <td>(주)정원이디에쓰 산성주유소</td>\n",
              "      <td>서울 강남구 헌릉로 730 (세곡동)</td>\n",
              "      <td>1568</td>\n",
              "      <td>Y</td>\n",
              "      <td>GS칼텍스</td>\n",
              "      <td>강남구</td>\n",
              "    </tr>\n",
              "    <tr>\n",
              "      <th>4</th>\n",
              "      <td>현대오일뱅크(주)유진주유소</td>\n",
              "      <td>서울 강남구 논현로 152 (도곡동)</td>\n",
              "      <td>1586</td>\n",
              "      <td>N</td>\n",
              "      <td>현대오일뱅크</td>\n",
              "      <td>강남구</td>\n",
              "    </tr>\n",
              "  </tbody>\n",
              "</table>\n",
              "</div>"
            ],
            "text/plain": [
              "             Oil_store                           주소    가격 셀프      상표    구\n",
              "0          (주)보성 세곡주유소     서울특별시 강남구  헌릉로 731 (세곡동)  1548  Y   SK에너지  강남구\n",
              "1              SK서광주유소         서울 강남구 역삼로 142 (역삼동)  1565  Y   SK에너지  강남구\n",
              "2   현대오일뱅크㈜ 직영 도곡셀프주유소  서울특별시 강남구  남부순환로 2718 (도곡동)  1566  Y  현대오일뱅크  강남구\n",
              "3      (주)정원이디에쓰 산성주유소         서울 강남구 헌릉로 730 (세곡동)  1568  Y   GS칼텍스  강남구\n",
              "4       현대오일뱅크(주)유진주유소         서울 강남구 논현로 152 (도곡동)  1586  N  현대오일뱅크  강남구"
            ]
          },
          "metadata": {
            "tags": []
          },
          "execution_count": 23
        }
      ]
    },
    {
      "cell_type": "code",
      "metadata": {
        "id": "KZ3_rpmd9yV0",
        "colab_type": "code",
        "colab": {}
      },
      "source": [
        "stations['가격'] = [float(value) for value in stations['가격']]\n",
        "stations.reset_index(inplace=True)\n",
        "del stations['index']"
      ],
      "execution_count": 0,
      "outputs": []
    },
    {
      "cell_type": "code",
      "metadata": {
        "id": "S5V570lZ9yTj",
        "colab_type": "code",
        "colab": {
          "base_uri": "https://localhost:8080/",
          "height": 542
        },
        "outputId": "64873091-897f-4906-8e5d-9f5872e9b2b8"
      },
      "source": [
        "stations.boxplot(column='가격', by='셀프', figsize=(12,8));"
      ],
      "execution_count": 25,
      "outputs": [
        {
          "output_type": "display_data",
          "data": {
            "image/png": "[encoded data removed]",
            "text/plain": [
              "<Figure size 864x576 with 1 Axes>"
            ]
          },
          "metadata": {
            "tags": [],
            "image/png": {
              "width": 735,
              "height": 525
            }
          }
        }
      ]
    },
    {
      "cell_type": "code",
      "metadata": {
        "id": "SP7cKFIg9ySL",
        "colab_type": "code",
        "colab": {
          "base_uri": "https://localhost:8080/",
          "height": 499
        },
        "outputId": "a913b725-d2b4-4775-88a9-74a3ab814cd9"
      },
      "source": [
        "import seaborn as sns\n",
        "plt.figure(figsize=(12,8))\n",
        "sns.boxplot(x=\"상표\", y=\"가격\", hue=\"셀프\", data=stations, palette=\"Set3\")\n",
        "plt.show()"
      ],
      "execution_count": 27,
      "outputs": [
        {
          "output_type": "display_data",
          "data": {
            "image/png": "[encoded data removed]",
            "text/plain": [
              "<Figure size 864x576 with 1 Axes>"
            ]
          },
          "metadata": {
            "tags": [],
            "image/png": {
              "width": 729,
              "height": 482
            }
          }
        }
      ]
    },
    {
      "cell_type": "code",
      "metadata": {
        "id": "XEwaNFMo9yP8",
        "colab_type": "code",
        "colab": {
          "base_uri": "https://localhost:8080/",
          "height": 499
        },
        "outputId": "9d8dd294-8801-4cc5-8a8d-9fceac1a468c"
      },
      "source": [
        "plt.figure(figsize=(12,8))\n",
        "sns.boxplot(x=\"상표\", y=\"가격\", data=stations, palette=\"Set3\")\n",
        "sns.swarmplot(x=\"상표\", y=\"가격\", data=stations, color=\".6\")\n",
        "plt.show()"
      ],
      "execution_count": 28,
      "outputs": [
        {
          "output_type": "display_data",
          "data": {
            "image/png": "[encoded data removed]",
            "text/plain": [
              "<Figure size 864x576 with 1 Axes>"
            ]
          },
          "metadata": {
            "tags": [],
            "image/png": {
              "width": 729,
              "height": 482
            }
          }
        }
      ]
    },
    {
      "cell_type": "code",
      "metadata": {
        "id": "8W-ciFHS9yNg",
        "colab_type": "code",
        "colab": {}
      },
      "source": [
        ""
      ],
      "execution_count": 0,
      "outputs": []
    },
    {
      "cell_type": "code",
      "metadata": {
        "id": "KCS-sswD9yLI",
        "colab_type": "code",
        "colab": {}
      },
      "source": [
        ""
      ],
      "execution_count": 0,
      "outputs": []
    },
    {
      "cell_type": "code",
      "metadata": {
        "id": "imjmcs6n9yIr",
        "colab_type": "code",
        "colab": {}
      },
      "source": [
        ""
      ],
      "execution_count": 0,
      "outputs": []
    },
    {
      "cell_type": "code",
      "metadata": {
        "id": "NZVOVNsD9yGL",
        "colab_type": "code",
        "colab": {}
      },
      "source": [
        ""
      ],
      "execution_count": 0,
      "outputs": []
    },
    {
      "cell_type": "code",
      "metadata": {
        "id": "PICOf7xE9yDp",
        "colab_type": "code",
        "colab": {}
      },
      "source": [
        ""
      ],
      "execution_count": 0,
      "outputs": []
    },
    {
      "cell_type": "code",
      "metadata": {
        "id": "FF_55olr9yBW",
        "colab_type": "code",
        "colab": {}
      },
      "source": [
        ""
      ],
      "execution_count": 0,
      "outputs": []
    },
    {
      "cell_type": "code",
      "metadata": {
        "id": "5_9_jMP_9x-w",
        "colab_type": "code",
        "colab": {}
      },
      "source": [
        ""
      ],
      "execution_count": 0,
      "outputs": []
    },
    {
      "cell_type": "code",
      "metadata": {
        "id": "Q5gXIQ0c9x8C",
        "colab_type": "code",
        "colab": {}
      },
      "source": [
        ""
      ],
      "execution_count": 0,
      "outputs": []
    },
    {
      "cell_type": "code",
      "metadata": {
        "id": "UJdjNqzW9x5k",
        "colab_type": "code",
        "colab": {}
      },
      "source": [
        ""
      ],
      "execution_count": 0,
      "outputs": []
    },
    {
      "cell_type": "code",
      "metadata": {
        "id": "OVCSBDMH9x3K",
        "colab_type": "code",
        "colab": {}
      },
      "source": [
        ""
      ],
      "execution_count": 0,
      "outputs": []
    },
    {
      "cell_type": "code",
      "metadata": {
        "id": "bWvFHG2y9xuN",
        "colab_type": "code",
        "colab": {}
      },
      "source": [
        ""
      ],
      "execution_count": 0,
      "outputs": []
    }
  ]
}