{
 "cells": [
  {
   "cell_type": "markdown",
   "metadata": {},
   "source": [
    "# 4장 셀프 주유소는 정말 저렴할까\n",
    "\n",
    "### 작성 : [PinkWink](http://pinkwink.kr) \n",
    "\n",
    "## 4-1 Selenium 사용하기"
   ]
  },
  {
   "cell_type": "code",
   "execution_count": 1,
   "metadata": {
    "collapsed": true
   },
   "outputs": [],
   "source": [
    "from selenium import webdriver"
   ]
  },
  {
   "cell_type": "markdown",
   "metadata": {},
   "source": [
    "* 현재 최신 크롬드라이버의 명령 중 일부가 다른 버전과 다른듯 합니다. 본 Github에서 배포하는 driver를 사용하시기 바랍니다."
   ]
  },
  {
   "cell_type": "code",
   "execution_count": 2,
   "metadata": {
    "collapsed": true
   },
   "outputs": [],
   "source": [
    "driver = webdriver.Chrome('../driver/chromedriver')\n",
    "driver.get(\"http://naver.com\")"
   ]
  },
  {
   "cell_type": "code",
   "execution_count": 3,
   "metadata": {},
   "outputs": [
    {
     "data": {
      "text/plain": [
       "True"
      ]
     },
     "execution_count": 3,
     "metadata": {},
     "output_type": "execute_result"
    }
   ],
   "source": [
    "driver.save_screenshot('../images/001.png')"
   ]
  },
  {
   "cell_type": "code",
   "execution_count": 4,
   "metadata": {
    "collapsed": true
   },
   "outputs": [],
   "source": [
    "elem_login = driver.find_element_by_id(\"id\")\n",
    "elem_login.clear()\n",
    "elem_login.send_keys(\"pinkwink\")\n",
    "\n",
    "elem_login = driver.find_element_by_id(\"pw\")\n",
    "elem_login.clear()\n",
    "elem_login.send_keys(\" ************ \") #자신의 비번을 넣으세요"
   ]
  },
  {
   "cell_type": "code",
   "execution_count": 5,
   "metadata": {
    "collapsed": true
   },
   "outputs": [],
   "source": [
    "xpath = \"\"\"//*[@id=\"frmNIDLogin\"]/fieldset/span/input\"\"\"\n",
    "driver.find_element_by_xpath(xpath).click()"
   ]
  },
  {
   "cell_type": "code",
   "execution_count": 6,
   "metadata": {
    "collapsed": true
   },
   "outputs": [],
   "source": [
    "driver.get(\"http://mail.naver.com\")"
   ]
  },
  {
   "cell_type": "code",
   "execution_count": 7,
   "metadata": {
    "collapsed": true
   },
   "outputs": [],
   "source": [
    "from bs4 import BeautifulSoup\n",
    "\n",
    "html = driver.page_source\n",
    "soup = BeautifulSoup(html, 'html.parser')"
   ]
  },
  {
   "cell_type": "code",
   "execution_count": 8,
   "metadata": {
    "scrolled": true
   },
   "outputs": [
    {
     "data": {
      "text/plain": [
       "[<div class=\"name _ccr(lst.from) \"><span class=\"blind\">보낸 이:</span><a class=\"_c1(myContextMenu|showSenderContextLayer|list|7025) _stopDefault\" href=\"#\" title='\"에브리존\" &lt;mail1@everyzone.com&gt;'>에브리존</a></div>,\n",
       " <div class=\"name _ccr(lst.from) \"><span class=\"blind\">보낸 이:</span><a class=\"_c1(myContextMenu|showSenderContextLayer|list|7024) _stopDefault\" href=\"#\" title='\"에브리존\" &lt;mail1@everyzone.com&gt;'>에브리존</a></div>,\n",
       " <div class=\"name _ccr(lst.from) \"><span class=\"blind\">보낸 이:</span><a class=\"_c1(myContextMenu|showSenderContextLayer|list|7020) _stopDefault\" href=\"#\" title='\"에브리존\" &lt;mail1@everyzone.com&gt;'>에브리존</a></div>,\n",
       " <div class=\"name _ccr(lst.from) \"><span class=\"blind\">보낸 이:</span><a class=\"_c1(myContextMenu|showSenderContextLayer|list|7017) _stopDefault\" href=\"#\" title='\"에브리존\" &lt;mail1@everyzone.com&gt;'>에브리존</a></div>,\n",
       " <div class=\"name _ccr(lst.from) \"><span class=\"blind\">보낸 이:</span><a class=\"_c1(myContextMenu|showSenderContextLayer|list|7016) _stopDefault\" href=\"#\" title='\"에브리존\" &lt;mail1@everyzone.com&gt;'>에브리존</a></div>,\n",
       " <div class=\"name _ccr(lst.from) \"><span class=\"blind\">보낸 이:</span><a class=\"_c1(myContextMenu|showSenderContextLayer|list|7014) _stopDefault\" href=\"#\" title='\"에브리존\" &lt;mail1@everyzone.com&gt;'>에브리존</a></div>,\n",
       " <div class=\"name _ccr(lst.from) \"><span class=\"blind\">보낸 이:</span><a class=\"_c1(myContextMenu|showSenderContextLayer|list|7013) _stopDefault\" href=\"#\" title='\"에브리존\" &lt;mail1@everyzone.com&gt;'>에브리존</a></div>,\n",
       " <div class=\"name _ccr(lst.from) \"><span class=\"blind\">보낸 이:</span><a class=\"_c1(myContextMenu|showSenderContextLayer|list|7012) _stopDefault\" href=\"#\" title='\"에브리존\" &lt;mail1@everyzone.com&gt;'>에브리존</a></div>,\n",
       " <div class=\"name _ccr(lst.from) \"><span class=\"blind\">보낸 이:</span><a class=\"_c1(myContextMenu|showSenderContextLayer|list|7010) _stopDefault\" href=\"#\" title='\"반려동물관리사\" &lt;edupoppro@hanmail.net&gt;'>반려동물관리사</a></div>,\n",
       " <div class=\"name _ccr(lst.from) \"><span class=\"blind\">보낸 이:</span><a class=\"_c1(myContextMenu|showSenderContextLayer|list|7006) _stopDefault\" href=\"#\" title='\"에브리존\" &lt;mail1@everyzone.com&gt;'>에브리존</a></div>,\n",
       " <div class=\"name _ccr(lst.from) \"><span class=\"blind\">보낸 이:</span><a class=\"_c1(myContextMenu|showSenderContextLayer|list|7005) _stopDefault\" href=\"#\" title='\"에브리존\" &lt;mail1@everyzone.com&gt;'>에브리존</a></div>,\n",
       " <div class=\"name _ccr(lst.from) \"><span class=\"blind\">보낸 이:</span><a class=\"_c1(myContextMenu|showSenderContextLayer|list|7004) _stopDefault\" href=\"#\" title='\"에브리존\" &lt;mail1@everyzone.com&gt;'>에브리존</a></div>,\n",
       " <div class=\"name _ccr(lst.from) \"><span class=\"blind\">보낸 이:</span><a class=\"_c1(myContextMenu|showSenderContextLayer|list|7003) _stopDefault\" href=\"#\" title='\"중소기업제도홍보센타\" &lt;kbiz9869@gmail.com&gt;'>중소기업제도홍보센..</a></div>,\n",
       " <div class=\"name _ccr(lst.from) \"><span class=\"blind\">보낸 이:</span><a class=\"_c1(myContextMenu|showSenderContextLayer|list|7001) _stopDefault\" href=\"#\" title='\"에브리존\" &lt;mail1@everyzone.com&gt;'>에브리존</a></div>,\n",
       " <div class=\"name _ccr(lst.from) \"><span class=\"blind\">보낸 이:</span><a class=\"_c1(myContextMenu|showSenderContextLayer|list|6998) _stopDefault\" href=\"#\" title='\"에브리존\" &lt;mail1@everyzone.com&gt;'>에브리존</a></div>]"
      ]
     },
     "execution_count": 8,
     "metadata": {},
     "output_type": "execute_result"
    }
   ],
   "source": [
    "raw_list = soup.find_all('div', 'name _ccr(lst.from) ')\n",
    "raw_list"
   ]
  },
  {
   "cell_type": "code",
   "execution_count": 9,
   "metadata": {},
   "outputs": [
    {
     "data": {
      "text/plain": [
       "['에브리존',\n",
       " '에브리존',\n",
       " '에브리존',\n",
       " '에브리존',\n",
       " '에브리존',\n",
       " '에브리존',\n",
       " '에브리존',\n",
       " '에브리존',\n",
       " '반려동물관리사',\n",
       " '에브리존',\n",
       " '에브리존',\n",
       " '에브리존',\n",
       " '중소기업제도홍보센..',\n",
       " '에브리존',\n",
       " '에브리존']"
      ]
     },
     "execution_count": 9,
     "metadata": {},
     "output_type": "execute_result"
    }
   ],
   "source": [
    "send_list = [raw_list[n].find('a').get_text() for n in range(0, len(raw_list))]\n",
    "send_list"
   ]
  },
  {
   "cell_type": "code",
   "execution_count": 10,
   "metadata": {
    "collapsed": true
   },
   "outputs": [],
   "source": [
    "driver.close()"
   ]
  },
  {
   "cell_type": "markdown",
   "metadata": {
    "collapsed": true
   },
   "source": [
    "## 4-2 서울시 구별 주유소 가격 정보 얻기"
   ]
  },
  {
   "cell_type": "code",
   "execution_count": 11,
   "metadata": {
    "collapsed": true
   },
   "outputs": [],
   "source": [
    "driver = webdriver.Chrome('../driver/chromedriver')\n",
    "driver.get(\"http://www.opinet.co.kr/searRgSelect.do\")"
   ]
  },
  {
   "cell_type": "markdown",
   "metadata": {},
   "source": [
    "* Opinet은 사용자가 접속한 지역에 따라 지역을 잡아주는 기능이 있습니다.\n",
    "* 이 기능을 배려하지 않고 코드가 짜여졌습니다.\n",
    "\n",
    "<img src=\"../img/001.JPG\"></img>\n",
    "\n",
    "* 지역에 **서울**이라고 나타나지 않으면 크롬 드라이버에서 손으로 **서울**로 잡아주세요."
   ]
  },
  {
   "cell_type": "code",
   "execution_count": 19,
   "metadata": {
    "collapsed": true
   },
   "outputs": [],
   "source": [
    "gu_list_raw = driver.find_element_by_xpath(\"\"\"//*[@id=\"SIGUNGU_NM0\"]\"\"\")\n",
    "gu_list = gu_list_raw.find_elements_by_tag_name(\"option\")"
   ]
  },
  {
   "cell_type": "code",
   "execution_count": 20,
   "metadata": {
    "scrolled": true
   },
   "outputs": [
    {
     "data": {
      "text/plain": [
       "['강남구',\n",
       " '강동구',\n",
       " '강북구',\n",
       " '강서구',\n",
       " '관악구',\n",
       " '광진구',\n",
       " '구로구',\n",
       " '금천구',\n",
       " '노원구',\n",
       " '도봉구',\n",
       " '동대문구',\n",
       " '동작구',\n",
       " '마포구',\n",
       " '서대문구',\n",
       " '서초구',\n",
       " '성동구',\n",
       " '성북구',\n",
       " '송파구',\n",
       " '양천구',\n",
       " '영등포구',\n",
       " '용산구',\n",
       " '은평구',\n",
       " '종로구',\n",
       " '중구',\n",
       " '중랑구']"
      ]
     },
     "execution_count": 20,
     "metadata": {},
     "output_type": "execute_result"
    }
   ],
   "source": [
    "gu_names = [option.get_attribute(\"value\") for option in gu_list]\n",
    "gu_names.remove('')\n",
    "gu_names"
   ]
  },
  {
   "cell_type": "code",
   "execution_count": 21,
   "metadata": {
    "collapsed": true
   },
   "outputs": [],
   "source": [
    "element = driver.find_element_by_id(\"SIGUNGU_NM0\")\n",
    "element.send_keys(gu_names[0])"
   ]
  },
  {
   "cell_type": "code",
   "execution_count": 22,
   "metadata": {
    "collapsed": true
   },
   "outputs": [],
   "source": [
    "xpath = \"\"\"//*[@id=\"searRgSelect\"]\"\"\"\n",
    "element_sel_gu = driver.find_element_by_xpath(xpath).click()"
   ]
  },
  {
   "cell_type": "code",
   "execution_count": 23,
   "metadata": {
    "collapsed": true
   },
   "outputs": [],
   "source": [
    "xpath = \"\"\"//*[@id=\"glopopd_excel\"]\"\"\"\n",
    "element_get_excel = driver.find_element_by_xpath(xpath).click()"
   ]
  },
  {
   "cell_type": "code",
   "execution_count": 24,
   "metadata": {},
   "outputs": [
    {
     "data": {
      "application/vnd.jupyter.widget-view+json": {
       "model_id": "c9eb4b6e127244438dca43bf31e49046",
       "version_major": 2,
       "version_minor": 0
      },
      "text/plain": [
       "A Jupyter Widget"
      ]
     },
     "metadata": {},
     "output_type": "display_data"
    },
    {
     "name": "stdout",
     "output_type": "stream",
     "text": [
      "\n"
     ]
    }
   ],
   "source": [
    "import time\n",
    "from tqdm import tqdm_notebook\n",
    "\n",
    "for gu in tqdm_notebook(gu_names):\n",
    "    element = driver.find_element_by_id(\"SIGUNGU_NM0\")\n",
    "    element.send_keys(gu)\n",
    "    \n",
    "    time.sleep(2)\n",
    "    \n",
    "    xpath = \"\"\"//*[@id=\"searRgSelect\"]\"\"\"\n",
    "    element_sel_gu = driver.find_element_by_xpath(xpath).click()\n",
    "    \n",
    "    time.sleep(1)\n",
    "    \n",
    "    xpath = \"\"\"//*[@id=\"glopopd_excel\"]\"\"\"\n",
    "    element_get_excel = driver.find_element_by_xpath(xpath).click()\n",
    "    \n",
    "    time.sleep(1)"
   ]
  },
  {
   "cell_type": "code",
   "execution_count": 25,
   "metadata": {
    "collapsed": true
   },
   "outputs": [],
   "source": [
    "driver.close()"
   ]
  },
  {
   "cell_type": "markdown",
   "metadata": {
    "collapsed": true
   },
   "source": [
    "## 4-5. 구별 주유 가격에 대한 데이터의 정리"
   ]
  },
  {
   "cell_type": "code",
   "execution_count": 1,
   "metadata": {},
   "outputs": [],
   "source": [
    "import pandas as pd\n",
    "from glob import glob"
   ]
  },
  {
   "cell_type": "code",
   "execution_count": 4,
   "metadata": {
    "scrolled": true
   },
   "outputs": [
    {
     "data": {
      "text/plain": [
       "['../data/지역_위치별(주유소) (1).xls',\n",
       " '../data/지역_위치별(주유소) (10).xls',\n",
       " '../data/지역_위치별(주유소) (11).xls',\n",
       " '../data/지역_위치별(주유소) (12).xls',\n",
       " '../data/지역_위치별(주유소) (13).xls',\n",
       " '../data/지역_위치별(주유소) (14).xls',\n",
       " '../data/지역_위치별(주유소) (15).xls',\n",
       " '../data/지역_위치별(주유소) (16).xls',\n",
       " '../data/지역_위치별(주유소) (17).xls',\n",
       " '../data/지역_위치별(주유소) (18).xls',\n",
       " '../data/지역_위치별(주유소) (19).xls',\n",
       " '../data/지역_위치별(주유소) (2).xls',\n",
       " '../data/지역_위치별(주유소) (20).xls',\n",
       " '../data/지역_위치별(주유소) (21).xls',\n",
       " '../data/지역_위치별(주유소) (22).xls',\n",
       " '../data/지역_위치별(주유소) (23).xls',\n",
       " '../data/지역_위치별(주유소) (24).xls',\n",
       " '../data/지역_위치별(주유소) (3).xls',\n",
       " '../data/지역_위치별(주유소) (4).xls',\n",
       " '../data/지역_위치별(주유소) (5).xls',\n",
       " '../data/지역_위치별(주유소) (6).xls',\n",
       " '../data/지역_위치별(주유소) (7).xls',\n",
       " '../data/지역_위치별(주유소) (8).xls',\n",
       " '../data/지역_위치별(주유소) (9).xls',\n",
       " '../data/지역_위치별(주유소).xls']"
      ]
     },
     "execution_count": 4,
     "metadata": {},
     "output_type": "execute_result"
    }
   ],
   "source": [
    "glob('../data/지역_위치별*xls')"
   ]
  },
  {
   "cell_type": "code",
   "execution_count": 5,
   "metadata": {
    "scrolled": true
   },
   "outputs": [
    {
     "data": {
      "text/plain": [
       "['../data/지역_위치별(주유소) (1).xls',\n",
       " '../data/지역_위치별(주유소) (10).xls',\n",
       " '../data/지역_위치별(주유소) (11).xls',\n",
       " '../data/지역_위치별(주유소) (12).xls',\n",
       " '../data/지역_위치별(주유소) (13).xls',\n",
       " '../data/지역_위치별(주유소) (14).xls',\n",
       " '../data/지역_위치별(주유소) (15).xls',\n",
       " '../data/지역_위치별(주유소) (16).xls',\n",
       " '../data/지역_위치별(주유소) (17).xls',\n",
       " '../data/지역_위치별(주유소) (18).xls',\n",
       " '../data/지역_위치별(주유소) (19).xls',\n",
       " '../data/지역_위치별(주유소) (2).xls',\n",
       " '../data/지역_위치별(주유소) (20).xls',\n",
       " '../data/지역_위치별(주유소) (21).xls',\n",
       " '../data/지역_위치별(주유소) (22).xls',\n",
       " '../data/지역_위치별(주유소) (23).xls',\n",
       " '../data/지역_위치별(주유소) (24).xls',\n",
       " '../data/지역_위치별(주유소) (3).xls',\n",
       " '../data/지역_위치별(주유소) (4).xls',\n",
       " '../data/지역_위치별(주유소) (5).xls',\n",
       " '../data/지역_위치별(주유소) (6).xls',\n",
       " '../data/지역_위치별(주유소) (7).xls',\n",
       " '../data/지역_위치별(주유소) (8).xls',\n",
       " '../data/지역_위치별(주유소) (9).xls',\n",
       " '../data/지역_위치별(주유소).xls']"
      ]
     },
     "execution_count": 5,
     "metadata": {},
     "output_type": "execute_result"
    }
   ],
   "source": [
    "stations_files = glob('../data/지역_위치별*xls')\n",
    "stations_files"
   ]
  },
  {
   "cell_type": "code",
   "execution_count": 6,
   "metadata": {},
   "outputs": [],
   "source": [
    "tmp_raw = []\n",
    "\n",
    "for file_name in stations_files:\n",
    "    tmp = pd.read_excel(file_name, header=2)\n",
    "    tmp_raw.append(tmp)\n",
    "    \n",
    "station_raw = pd.concat(tmp_raw)"
   ]
  },
  {
   "cell_type": "code",
   "execution_count": 7,
   "metadata": {},
   "outputs": [
    {
     "name": "stdout",
     "output_type": "stream",
     "text": [
      "<class 'pandas.core.frame.DataFrame'>\n",
      "Int64Index: 537 entries, 0 to 45\n",
      "Data columns (total 10 columns):\n",
      "지역       537 non-null object\n",
      "상호       537 non-null object\n",
      "주소       537 non-null object\n",
      "상표       537 non-null object\n",
      "전화번호     537 non-null object\n",
      "셀프여부     537 non-null object\n",
      "고급휘발유    537 non-null object\n",
      "휘발유      537 non-null object\n",
      "경유       537 non-null object\n",
      "실내등유     537 non-null object\n",
      "dtypes: object(10)\n",
      "memory usage: 46.1+ KB\n"
     ]
    }
   ],
   "source": [
    "station_raw.info()"
   ]
  },
  {
   "cell_type": "code",
   "execution_count": 8,
   "metadata": {},
   "outputs": [
    {
     "data": {
      "text/html": [
       "<div>\n",
       "<style scoped>\n",
       "    .dataframe tbody tr th:only-of-type {\n",
       "        vertical-align: middle;\n",
       "    }\n",
       "\n",
       "    .dataframe tbody tr th {\n",
       "        vertical-align: top;\n",
       "    }\n",
       "\n",
       "    .dataframe thead th {\n",
       "        text-align: right;\n",
       "    }\n",
       "</style>\n",
       "<table border=\"1\" class=\"dataframe\">\n",
       "  <thead>\n",
       "    <tr style=\"text-align: right;\">\n",
       "      <th></th>\n",
       "      <th>지역</th>\n",
       "      <th>상호</th>\n",
       "      <th>주소</th>\n",
       "      <th>상표</th>\n",
       "      <th>전화번호</th>\n",
       "      <th>셀프여부</th>\n",
       "      <th>고급휘발유</th>\n",
       "      <th>휘발유</th>\n",
       "      <th>경유</th>\n",
       "      <th>실내등유</th>\n",
       "    </tr>\n",
       "  </thead>\n",
       "  <tbody>\n",
       "    <tr>\n",
       "      <th>0</th>\n",
       "      <td>서울특별시</td>\n",
       "      <td>오렌지주유소</td>\n",
       "      <td>서울 강동구 성안로 102 (성내동)</td>\n",
       "      <td>SK에너지</td>\n",
       "      <td>02-484-6165</td>\n",
       "      <td>N</td>\n",
       "      <td>-</td>\n",
       "      <td>1554</td>\n",
       "      <td>1354</td>\n",
       "      <td>997</td>\n",
       "    </tr>\n",
       "    <tr>\n",
       "      <th>1</th>\n",
       "      <td>서울특별시</td>\n",
       "      <td>구천면주유소</td>\n",
       "      <td>서울 강동구 구천면로 357 (암사동)</td>\n",
       "      <td>현대오일뱅크</td>\n",
       "      <td>02-441-0536</td>\n",
       "      <td>N</td>\n",
       "      <td>-</td>\n",
       "      <td>1556</td>\n",
       "      <td>1355</td>\n",
       "      <td>-</td>\n",
       "    </tr>\n",
       "    <tr>\n",
       "      <th>2</th>\n",
       "      <td>서울특별시</td>\n",
       "      <td>GS칼텍스㈜직영 신월주유소</td>\n",
       "      <td>서울 강동구 양재대로 1323 (성내동)</td>\n",
       "      <td>GS칼텍스</td>\n",
       "      <td>02-475-2600</td>\n",
       "      <td>N</td>\n",
       "      <td>1855</td>\n",
       "      <td>1559</td>\n",
       "      <td>1349</td>\n",
       "      <td>1000</td>\n",
       "    </tr>\n",
       "    <tr>\n",
       "      <th>3</th>\n",
       "      <td>서울특별시</td>\n",
       "      <td>광성주유소</td>\n",
       "      <td>서울 강동구 올림픽로 673 (천호동)</td>\n",
       "      <td>S-OIL</td>\n",
       "      <td>02-470-5133</td>\n",
       "      <td>N</td>\n",
       "      <td>-</td>\n",
       "      <td>1578</td>\n",
       "      <td>1388</td>\n",
       "      <td>1100</td>\n",
       "    </tr>\n",
       "    <tr>\n",
       "      <th>4</th>\n",
       "      <td>서울특별시</td>\n",
       "      <td>(주)소모에너지엔테크놀러지성내주유소</td>\n",
       "      <td>서울 강동구 올림픽로 578 (성내동)</td>\n",
       "      <td>GS칼텍스</td>\n",
       "      <td>02-479-3838</td>\n",
       "      <td>Y</td>\n",
       "      <td>-</td>\n",
       "      <td>1588</td>\n",
       "      <td>1388</td>\n",
       "      <td>-</td>\n",
       "    </tr>\n",
       "  </tbody>\n",
       "</table>\n",
       "</div>"
      ],
      "text/plain": [
       "      지역                   상호                      주소      상표         전화번호  \\\n",
       "0  서울특별시               오렌지주유소    서울 강동구 성안로 102 (성내동)   SK에너지  02-484-6165   \n",
       "1  서울특별시               구천면주유소   서울 강동구 구천면로 357 (암사동)  현대오일뱅크  02-441-0536   \n",
       "2  서울특별시       GS칼텍스㈜직영 신월주유소  서울 강동구 양재대로 1323 (성내동)   GS칼텍스  02-475-2600   \n",
       "3  서울특별시                광성주유소   서울 강동구 올림픽로 673 (천호동)   S-OIL  02-470-5133   \n",
       "4  서울특별시  (주)소모에너지엔테크놀러지성내주유소   서울 강동구 올림픽로 578 (성내동)   GS칼텍스  02-479-3838   \n",
       "\n",
       "  셀프여부 고급휘발유   휘발유    경유  실내등유  \n",
       "0    N     -  1554  1354   997  \n",
       "1    N     -  1556  1355     -  \n",
       "2    N  1855  1559  1349  1000  \n",
       "3    N     -  1578  1388  1100  \n",
       "4    Y     -  1588  1388     -  "
      ]
     },
     "execution_count": 8,
     "metadata": {},
     "output_type": "execute_result"
    }
   ],
   "source": [
    "station_raw.head()"
   ]
  },
  {
   "cell_type": "code",
   "execution_count": 9,
   "metadata": {},
   "outputs": [
    {
     "data": {
      "text/html": [
       "<div>\n",
       "<style scoped>\n",
       "    .dataframe tbody tr th:only-of-type {\n",
       "        vertical-align: middle;\n",
       "    }\n",
       "\n",
       "    .dataframe tbody tr th {\n",
       "        vertical-align: top;\n",
       "    }\n",
       "\n",
       "    .dataframe thead th {\n",
       "        text-align: right;\n",
       "    }\n",
       "</style>\n",
       "<table border=\"1\" class=\"dataframe\">\n",
       "  <thead>\n",
       "    <tr style=\"text-align: right;\">\n",
       "      <th></th>\n",
       "      <th>Oil_store</th>\n",
       "      <th>가격</th>\n",
       "      <th>상표</th>\n",
       "      <th>셀프</th>\n",
       "      <th>주소</th>\n",
       "    </tr>\n",
       "  </thead>\n",
       "  <tbody>\n",
       "    <tr>\n",
       "      <th>0</th>\n",
       "      <td>오렌지주유소</td>\n",
       "      <td>1554</td>\n",
       "      <td>SK에너지</td>\n",
       "      <td>N</td>\n",
       "      <td>서울 강동구 성안로 102 (성내동)</td>\n",
       "    </tr>\n",
       "    <tr>\n",
       "      <th>1</th>\n",
       "      <td>구천면주유소</td>\n",
       "      <td>1556</td>\n",
       "      <td>현대오일뱅크</td>\n",
       "      <td>N</td>\n",
       "      <td>서울 강동구 구천면로 357 (암사동)</td>\n",
       "    </tr>\n",
       "    <tr>\n",
       "      <th>2</th>\n",
       "      <td>GS칼텍스㈜직영 신월주유소</td>\n",
       "      <td>1559</td>\n",
       "      <td>GS칼텍스</td>\n",
       "      <td>N</td>\n",
       "      <td>서울 강동구 양재대로 1323 (성내동)</td>\n",
       "    </tr>\n",
       "    <tr>\n",
       "      <th>3</th>\n",
       "      <td>광성주유소</td>\n",
       "      <td>1578</td>\n",
       "      <td>S-OIL</td>\n",
       "      <td>N</td>\n",
       "      <td>서울 강동구 올림픽로 673 (천호동)</td>\n",
       "    </tr>\n",
       "    <tr>\n",
       "      <th>4</th>\n",
       "      <td>(주)소모에너지엔테크놀러지성내주유소</td>\n",
       "      <td>1588</td>\n",
       "      <td>GS칼텍스</td>\n",
       "      <td>Y</td>\n",
       "      <td>서울 강동구 올림픽로 578 (성내동)</td>\n",
       "    </tr>\n",
       "  </tbody>\n",
       "</table>\n",
       "</div>"
      ],
      "text/plain": [
       "             Oil_store    가격      상표 셀프                      주소\n",
       "0               오렌지주유소  1554   SK에너지  N    서울 강동구 성안로 102 (성내동)\n",
       "1               구천면주유소  1556  현대오일뱅크  N   서울 강동구 구천면로 357 (암사동)\n",
       "2       GS칼텍스㈜직영 신월주유소  1559   GS칼텍스  N  서울 강동구 양재대로 1323 (성내동)\n",
       "3                광성주유소  1578   S-OIL  N   서울 강동구 올림픽로 673 (천호동)\n",
       "4  (주)소모에너지엔테크놀러지성내주유소  1588   GS칼텍스  Y   서울 강동구 올림픽로 578 (성내동)"
      ]
     },
     "execution_count": 9,
     "metadata": {},
     "output_type": "execute_result"
    }
   ],
   "source": [
    "stations = pd.DataFrame({'Oil_store':station_raw['상호'], \n",
    "                                       '주소':station_raw['주소'],\n",
    "                                       '가격':station_raw['휘발유'],\n",
    "                                       '셀프':station_raw['셀프여부'],\n",
    "                                       '상표':station_raw['상표']  })\n",
    "stations.head()"
   ]
  },
  {
   "cell_type": "code",
   "execution_count": 10,
   "metadata": {},
   "outputs": [
    {
     "data": {
      "text/html": [
       "<div>\n",
       "<style scoped>\n",
       "    .dataframe tbody tr th:only-of-type {\n",
       "        vertical-align: middle;\n",
       "    }\n",
       "\n",
       "    .dataframe tbody tr th {\n",
       "        vertical-align: top;\n",
       "    }\n",
       "\n",
       "    .dataframe thead th {\n",
       "        text-align: right;\n",
       "    }\n",
       "</style>\n",
       "<table border=\"1\" class=\"dataframe\">\n",
       "  <thead>\n",
       "    <tr style=\"text-align: right;\">\n",
       "      <th></th>\n",
       "      <th>Oil_store</th>\n",
       "      <th>가격</th>\n",
       "      <th>상표</th>\n",
       "      <th>셀프</th>\n",
       "      <th>주소</th>\n",
       "      <th>구</th>\n",
       "    </tr>\n",
       "  </thead>\n",
       "  <tbody>\n",
       "    <tr>\n",
       "      <th>0</th>\n",
       "      <td>오렌지주유소</td>\n",
       "      <td>1554</td>\n",
       "      <td>SK에너지</td>\n",
       "      <td>N</td>\n",
       "      <td>서울 강동구 성안로 102 (성내동)</td>\n",
       "      <td>강동구</td>\n",
       "    </tr>\n",
       "    <tr>\n",
       "      <th>1</th>\n",
       "      <td>구천면주유소</td>\n",
       "      <td>1556</td>\n",
       "      <td>현대오일뱅크</td>\n",
       "      <td>N</td>\n",
       "      <td>서울 강동구 구천면로 357 (암사동)</td>\n",
       "      <td>강동구</td>\n",
       "    </tr>\n",
       "    <tr>\n",
       "      <th>2</th>\n",
       "      <td>GS칼텍스㈜직영 신월주유소</td>\n",
       "      <td>1559</td>\n",
       "      <td>GS칼텍스</td>\n",
       "      <td>N</td>\n",
       "      <td>서울 강동구 양재대로 1323 (성내동)</td>\n",
       "      <td>강동구</td>\n",
       "    </tr>\n",
       "    <tr>\n",
       "      <th>3</th>\n",
       "      <td>광성주유소</td>\n",
       "      <td>1578</td>\n",
       "      <td>S-OIL</td>\n",
       "      <td>N</td>\n",
       "      <td>서울 강동구 올림픽로 673 (천호동)</td>\n",
       "      <td>강동구</td>\n",
       "    </tr>\n",
       "    <tr>\n",
       "      <th>4</th>\n",
       "      <td>(주)소모에너지엔테크놀러지성내주유소</td>\n",
       "      <td>1588</td>\n",
       "      <td>GS칼텍스</td>\n",
       "      <td>Y</td>\n",
       "      <td>서울 강동구 올림픽로 578 (성내동)</td>\n",
       "      <td>강동구</td>\n",
       "    </tr>\n",
       "  </tbody>\n",
       "</table>\n",
       "</div>"
      ],
      "text/plain": [
       "             Oil_store    가격      상표 셀프                      주소    구\n",
       "0               오렌지주유소  1554   SK에너지  N    서울 강동구 성안로 102 (성내동)  강동구\n",
       "1               구천면주유소  1556  현대오일뱅크  N   서울 강동구 구천면로 357 (암사동)  강동구\n",
       "2       GS칼텍스㈜직영 신월주유소  1559   GS칼텍스  N  서울 강동구 양재대로 1323 (성내동)  강동구\n",
       "3                광성주유소  1578   S-OIL  N   서울 강동구 올림픽로 673 (천호동)  강동구\n",
       "4  (주)소모에너지엔테크놀러지성내주유소  1588   GS칼텍스  Y   서울 강동구 올림픽로 578 (성내동)  강동구"
      ]
     },
     "execution_count": 10,
     "metadata": {},
     "output_type": "execute_result"
    }
   ],
   "source": [
    "stations['구'] = [eachAddress.split()[1] for eachAddress in stations['주소']]\n",
    "stations.head()"
   ]
  },
  {
   "cell_type": "code",
   "execution_count": 11,
   "metadata": {},
   "outputs": [
    {
     "data": {
      "text/plain": [
       "array(['강동구', '동대문구', '동작구', '마포구', '서대문구', '서초구', '성동구', '서울특별시', '성북구',\n",
       "       '송파구', '양천구', '영등포구', '강북구', '용산구', '은평구', '종로구', '중구', '중랑구',\n",
       "       '강서구', '관악구', '광진구', '구로구', '금천구', '노원구', '도봉구', '특별시', '강남구'],\n",
       "      dtype=object)"
      ]
     },
     "execution_count": 11,
     "metadata": {},
     "output_type": "execute_result"
    }
   ],
   "source": [
    "stations['구'].unique()"
   ]
  },
  {
   "cell_type": "code",
   "execution_count": 12,
   "metadata": {},
   "outputs": [
    {
     "data": {
      "text/html": [
       "<div>\n",
       "<style scoped>\n",
       "    .dataframe tbody tr th:only-of-type {\n",
       "        vertical-align: middle;\n",
       "    }\n",
       "\n",
       "    .dataframe tbody tr th {\n",
       "        vertical-align: top;\n",
       "    }\n",
       "\n",
       "    .dataframe thead th {\n",
       "        text-align: right;\n",
       "    }\n",
       "</style>\n",
       "<table border=\"1\" class=\"dataframe\">\n",
       "  <thead>\n",
       "    <tr style=\"text-align: right;\">\n",
       "      <th></th>\n",
       "      <th>Oil_store</th>\n",
       "      <th>가격</th>\n",
       "      <th>상표</th>\n",
       "      <th>셀프</th>\n",
       "      <th>주소</th>\n",
       "      <th>구</th>\n",
       "    </tr>\n",
       "  </thead>\n",
       "  <tbody>\n",
       "    <tr>\n",
       "      <th>12</th>\n",
       "      <td>SK네트웍스(주)효진주유소</td>\n",
       "      <td>1654</td>\n",
       "      <td>SK에너지</td>\n",
       "      <td>N</td>\n",
       "      <td>1 서울특별시 성동구 동일로 129 (성수동2가)</td>\n",
       "      <td>서울특별시</td>\n",
       "    </tr>\n",
       "  </tbody>\n",
       "</table>\n",
       "</div>"
      ],
      "text/plain": [
       "         Oil_store    가격     상표 셀프                           주소      구\n",
       "12  SK네트웍스(주)효진주유소  1654  SK에너지  N  1 서울특별시 성동구 동일로 129 (성수동2가)  서울특별시"
      ]
     },
     "execution_count": 12,
     "metadata": {},
     "output_type": "execute_result"
    }
   ],
   "source": [
    "stations[stations['구']=='서울특별시']"
   ]
  },
  {
   "cell_type": "code",
   "execution_count": 13,
   "metadata": {},
   "outputs": [
    {
     "data": {
      "text/plain": [
       "array(['강동구', '동대문구', '동작구', '마포구', '서대문구', '서초구', '성동구', '성북구', '송파구',\n",
       "       '양천구', '영등포구', '강북구', '용산구', '은평구', '종로구', '중구', '중랑구', '강서구',\n",
       "       '관악구', '광진구', '구로구', '금천구', '노원구', '도봉구', '특별시', '강남구'],\n",
       "      dtype=object)"
      ]
     },
     "execution_count": 13,
     "metadata": {},
     "output_type": "execute_result"
    }
   ],
   "source": [
    "stations.loc[stations['구']=='서울특별시', '구'] = '성동구'\n",
    "stations['구'].unique()"
   ]
  },
  {
   "cell_type": "code",
   "execution_count": 14,
   "metadata": {},
   "outputs": [
    {
     "data": {
      "text/html": [
       "<div>\n",
       "<style scoped>\n",
       "    .dataframe tbody tr th:only-of-type {\n",
       "        vertical-align: middle;\n",
       "    }\n",
       "\n",
       "    .dataframe tbody tr th {\n",
       "        vertical-align: top;\n",
       "    }\n",
       "\n",
       "    .dataframe thead th {\n",
       "        text-align: right;\n",
       "    }\n",
       "</style>\n",
       "<table border=\"1\" class=\"dataframe\">\n",
       "  <thead>\n",
       "    <tr style=\"text-align: right;\">\n",
       "      <th></th>\n",
       "      <th>Oil_store</th>\n",
       "      <th>가격</th>\n",
       "      <th>상표</th>\n",
       "      <th>셀프</th>\n",
       "      <th>주소</th>\n",
       "      <th>구</th>\n",
       "    </tr>\n",
       "  </thead>\n",
       "  <tbody>\n",
       "    <tr>\n",
       "      <th>10</th>\n",
       "      <td>서현주유소</td>\n",
       "      <td>1524</td>\n",
       "      <td>S-OIL</td>\n",
       "      <td>Y</td>\n",
       "      <td>서울 특별시 도봉구 방학로 142 (방학동)</td>\n",
       "      <td>특별시</td>\n",
       "    </tr>\n",
       "  </tbody>\n",
       "</table>\n",
       "</div>"
      ],
      "text/plain": [
       "   Oil_store    가격     상표 셀프                        주소    구\n",
       "10     서현주유소  1524  S-OIL  Y  서울 특별시 도봉구 방학로 142 (방학동)  특별시"
      ]
     },
     "execution_count": 14,
     "metadata": {},
     "output_type": "execute_result"
    }
   ],
   "source": [
    "stations[stations['구']=='특별시']"
   ]
  },
  {
   "cell_type": "code",
   "execution_count": 15,
   "metadata": {},
   "outputs": [
    {
     "data": {
      "text/plain": [
       "array(['강동구', '동대문구', '동작구', '마포구', '서대문구', '서초구', '성동구', '성북구', '송파구',\n",
       "       '양천구', '영등포구', '강북구', '용산구', '은평구', '종로구', '중구', '중랑구', '강서구',\n",
       "       '관악구', '광진구', '구로구', '금천구', '노원구', '도봉구', '강남구'], dtype=object)"
      ]
     },
     "execution_count": 15,
     "metadata": {},
     "output_type": "execute_result"
    }
   ],
   "source": [
    "stations.loc[stations['구']=='특별시', '구'] = '도봉구'\n",
    "stations['구'].unique()"
   ]
  },
  {
   "cell_type": "code",
   "execution_count": 16,
   "metadata": {},
   "outputs": [
    {
     "data": {
      "text/html": [
       "<div>\n",
       "<style scoped>\n",
       "    .dataframe tbody tr th:only-of-type {\n",
       "        vertical-align: middle;\n",
       "    }\n",
       "\n",
       "    .dataframe tbody tr th {\n",
       "        vertical-align: top;\n",
       "    }\n",
       "\n",
       "    .dataframe thead th {\n",
       "        text-align: right;\n",
       "    }\n",
       "</style>\n",
       "<table border=\"1\" class=\"dataframe\">\n",
       "  <thead>\n",
       "    <tr style=\"text-align: right;\">\n",
       "      <th></th>\n",
       "      <th>Oil_store</th>\n",
       "      <th>가격</th>\n",
       "      <th>상표</th>\n",
       "      <th>셀프</th>\n",
       "      <th>주소</th>\n",
       "      <th>구</th>\n",
       "    </tr>\n",
       "  </thead>\n",
       "  <tbody>\n",
       "    <tr>\n",
       "      <th>18</th>\n",
       "      <td>명진석유(주)동서울주유소</td>\n",
       "      <td>-</td>\n",
       "      <td>GS칼텍스</td>\n",
       "      <td>Y</td>\n",
       "      <td>서울특별시 강동구  천호대로 1456 (상일동)</td>\n",
       "      <td>강동구</td>\n",
       "    </tr>\n",
       "    <tr>\n",
       "      <th>33</th>\n",
       "      <td>하나주유소</td>\n",
       "      <td>-</td>\n",
       "      <td>S-OIL</td>\n",
       "      <td>N</td>\n",
       "      <td>서울특별시 영등포구  도림로 236 (신길동)</td>\n",
       "      <td>영등포구</td>\n",
       "    </tr>\n",
       "    <tr>\n",
       "      <th>12</th>\n",
       "      <td>(주)에이앤이청담주유소</td>\n",
       "      <td>-</td>\n",
       "      <td>SK에너지</td>\n",
       "      <td>Y</td>\n",
       "      <td>서울특별시 강북구 도봉로 155  (미아동)</td>\n",
       "      <td>강북구</td>\n",
       "    </tr>\n",
       "    <tr>\n",
       "      <th>13</th>\n",
       "      <td>송정주유소</td>\n",
       "      <td>-</td>\n",
       "      <td>자가상표</td>\n",
       "      <td>N</td>\n",
       "      <td>서울특별시 강북구 인수봉로 185 (수유동)</td>\n",
       "      <td>강북구</td>\n",
       "    </tr>\n",
       "  </tbody>\n",
       "</table>\n",
       "</div>"
      ],
      "text/plain": [
       "        Oil_store 가격     상표 셀프                          주소     구\n",
       "18  명진석유(주)동서울주유소  -  GS칼텍스  Y  서울특별시 강동구  천호대로 1456 (상일동)   강동구\n",
       "33          하나주유소  -  S-OIL  N   서울특별시 영등포구  도림로 236 (신길동)  영등포구\n",
       "12   (주)에이앤이청담주유소  -  SK에너지  Y    서울특별시 강북구 도봉로 155  (미아동)   강북구\n",
       "13          송정주유소  -   자가상표  N    서울특별시 강북구 인수봉로 185 (수유동)   강북구"
      ]
     },
     "execution_count": 16,
     "metadata": {},
     "output_type": "execute_result"
    }
   ],
   "source": [
    "stations[stations['가격']=='-']"
   ]
  },
  {
   "cell_type": "code",
   "execution_count": 17,
   "metadata": {},
   "outputs": [
    {
     "data": {
      "text/html": [
       "<div>\n",
       "<style scoped>\n",
       "    .dataframe tbody tr th:only-of-type {\n",
       "        vertical-align: middle;\n",
       "    }\n",
       "\n",
       "    .dataframe tbody tr th {\n",
       "        vertical-align: top;\n",
       "    }\n",
       "\n",
       "    .dataframe thead th {\n",
       "        text-align: right;\n",
       "    }\n",
       "</style>\n",
       "<table border=\"1\" class=\"dataframe\">\n",
       "  <thead>\n",
       "    <tr style=\"text-align: right;\">\n",
       "      <th></th>\n",
       "      <th>Oil_store</th>\n",
       "      <th>가격</th>\n",
       "      <th>상표</th>\n",
       "      <th>셀프</th>\n",
       "      <th>주소</th>\n",
       "      <th>구</th>\n",
       "    </tr>\n",
       "  </thead>\n",
       "  <tbody>\n",
       "    <tr>\n",
       "      <th>0</th>\n",
       "      <td>오렌지주유소</td>\n",
       "      <td>1554</td>\n",
       "      <td>SK에너지</td>\n",
       "      <td>N</td>\n",
       "      <td>서울 강동구 성안로 102 (성내동)</td>\n",
       "      <td>강동구</td>\n",
       "    </tr>\n",
       "    <tr>\n",
       "      <th>1</th>\n",
       "      <td>구천면주유소</td>\n",
       "      <td>1556</td>\n",
       "      <td>현대오일뱅크</td>\n",
       "      <td>N</td>\n",
       "      <td>서울 강동구 구천면로 357 (암사동)</td>\n",
       "      <td>강동구</td>\n",
       "    </tr>\n",
       "    <tr>\n",
       "      <th>2</th>\n",
       "      <td>GS칼텍스㈜직영 신월주유소</td>\n",
       "      <td>1559</td>\n",
       "      <td>GS칼텍스</td>\n",
       "      <td>N</td>\n",
       "      <td>서울 강동구 양재대로 1323 (성내동)</td>\n",
       "      <td>강동구</td>\n",
       "    </tr>\n",
       "    <tr>\n",
       "      <th>3</th>\n",
       "      <td>광성주유소</td>\n",
       "      <td>1578</td>\n",
       "      <td>S-OIL</td>\n",
       "      <td>N</td>\n",
       "      <td>서울 강동구 올림픽로 673 (천호동)</td>\n",
       "      <td>강동구</td>\n",
       "    </tr>\n",
       "    <tr>\n",
       "      <th>4</th>\n",
       "      <td>(주)소모에너지엔테크놀러지성내주유소</td>\n",
       "      <td>1588</td>\n",
       "      <td>GS칼텍스</td>\n",
       "      <td>Y</td>\n",
       "      <td>서울 강동구 올림픽로 578 (성내동)</td>\n",
       "      <td>강동구</td>\n",
       "    </tr>\n",
       "  </tbody>\n",
       "</table>\n",
       "</div>"
      ],
      "text/plain": [
       "             Oil_store    가격      상표 셀프                      주소    구\n",
       "0               오렌지주유소  1554   SK에너지  N    서울 강동구 성안로 102 (성내동)  강동구\n",
       "1               구천면주유소  1556  현대오일뱅크  N   서울 강동구 구천면로 357 (암사동)  강동구\n",
       "2       GS칼텍스㈜직영 신월주유소  1559   GS칼텍스  N  서울 강동구 양재대로 1323 (성내동)  강동구\n",
       "3                광성주유소  1578   S-OIL  N   서울 강동구 올림픽로 673 (천호동)  강동구\n",
       "4  (주)소모에너지엔테크놀러지성내주유소  1588   GS칼텍스  Y   서울 강동구 올림픽로 578 (성내동)  강동구"
      ]
     },
     "execution_count": 17,
     "metadata": {},
     "output_type": "execute_result"
    }
   ],
   "source": [
    "stations = stations[stations['가격'] != '-']\n",
    "stations.head()"
   ]
  },
  {
   "cell_type": "code",
   "execution_count": 18,
   "metadata": {},
   "outputs": [],
   "source": [
    "stations['가격'] = [float(value) for value in stations['가격']]"
   ]
  },
  {
   "cell_type": "code",
   "execution_count": 19,
   "metadata": {},
   "outputs": [],
   "source": [
    "stations.reset_index(inplace=True)\n",
    "del stations['index']"
   ]
  },
  {
   "cell_type": "code",
   "execution_count": 20,
   "metadata": {},
   "outputs": [
    {
     "name": "stdout",
     "output_type": "stream",
     "text": [
      "<class 'pandas.core.frame.DataFrame'>\n",
      "RangeIndex: 533 entries, 0 to 532\n",
      "Data columns (total 6 columns):\n",
      "Oil_store    533 non-null object\n",
      "가격           533 non-null float64\n",
      "상표           533 non-null object\n",
      "셀프           533 non-null object\n",
      "주소           533 non-null object\n",
      "구            533 non-null object\n",
      "dtypes: float64(1), object(5)\n",
      "memory usage: 25.1+ KB\n"
     ]
    }
   ],
   "source": [
    "stations.info()"
   ]
  },
  {
   "cell_type": "code",
   "execution_count": 21,
   "metadata": {},
   "outputs": [
    {
     "data": {
      "text/html": [
       "<div>\n",
       "<style scoped>\n",
       "    .dataframe tbody tr th:only-of-type {\n",
       "        vertical-align: middle;\n",
       "    }\n",
       "\n",
       "    .dataframe tbody tr th {\n",
       "        vertical-align: top;\n",
       "    }\n",
       "\n",
       "    .dataframe thead th {\n",
       "        text-align: right;\n",
       "    }\n",
       "</style>\n",
       "<table border=\"1\" class=\"dataframe\">\n",
       "  <thead>\n",
       "    <tr style=\"text-align: right;\">\n",
       "      <th></th>\n",
       "      <th>Oil_store</th>\n",
       "      <th>가격</th>\n",
       "      <th>상표</th>\n",
       "      <th>셀프</th>\n",
       "      <th>주소</th>\n",
       "      <th>구</th>\n",
       "    </tr>\n",
       "  </thead>\n",
       "  <tbody>\n",
       "    <tr>\n",
       "      <th>0</th>\n",
       "      <td>오렌지주유소</td>\n",
       "      <td>1554.0</td>\n",
       "      <td>SK에너지</td>\n",
       "      <td>N</td>\n",
       "      <td>서울 강동구 성안로 102 (성내동)</td>\n",
       "      <td>강동구</td>\n",
       "    </tr>\n",
       "    <tr>\n",
       "      <th>1</th>\n",
       "      <td>구천면주유소</td>\n",
       "      <td>1556.0</td>\n",
       "      <td>현대오일뱅크</td>\n",
       "      <td>N</td>\n",
       "      <td>서울 강동구 구천면로 357 (암사동)</td>\n",
       "      <td>강동구</td>\n",
       "    </tr>\n",
       "    <tr>\n",
       "      <th>2</th>\n",
       "      <td>GS칼텍스㈜직영 신월주유소</td>\n",
       "      <td>1559.0</td>\n",
       "      <td>GS칼텍스</td>\n",
       "      <td>N</td>\n",
       "      <td>서울 강동구 양재대로 1323 (성내동)</td>\n",
       "      <td>강동구</td>\n",
       "    </tr>\n",
       "    <tr>\n",
       "      <th>3</th>\n",
       "      <td>광성주유소</td>\n",
       "      <td>1578.0</td>\n",
       "      <td>S-OIL</td>\n",
       "      <td>N</td>\n",
       "      <td>서울 강동구 올림픽로 673 (천호동)</td>\n",
       "      <td>강동구</td>\n",
       "    </tr>\n",
       "    <tr>\n",
       "      <th>4</th>\n",
       "      <td>(주)소모에너지엔테크놀러지성내주유소</td>\n",
       "      <td>1588.0</td>\n",
       "      <td>GS칼텍스</td>\n",
       "      <td>Y</td>\n",
       "      <td>서울 강동구 올림픽로 578 (성내동)</td>\n",
       "      <td>강동구</td>\n",
       "    </tr>\n",
       "  </tbody>\n",
       "</table>\n",
       "</div>"
      ],
      "text/plain": [
       "             Oil_store      가격      상표 셀프                      주소    구\n",
       "0               오렌지주유소  1554.0   SK에너지  N    서울 강동구 성안로 102 (성내동)  강동구\n",
       "1               구천면주유소  1556.0  현대오일뱅크  N   서울 강동구 구천면로 357 (암사동)  강동구\n",
       "2       GS칼텍스㈜직영 신월주유소  1559.0   GS칼텍스  N  서울 강동구 양재대로 1323 (성내동)  강동구\n",
       "3                광성주유소  1578.0   S-OIL  N   서울 강동구 올림픽로 673 (천호동)  강동구\n",
       "4  (주)소모에너지엔테크놀러지성내주유소  1588.0   GS칼텍스  Y   서울 강동구 올림픽로 578 (성내동)  강동구"
      ]
     },
     "execution_count": 21,
     "metadata": {},
     "output_type": "execute_result"
    }
   ],
   "source": [
    "stations.head()"
   ]
  },
  {
   "cell_type": "markdown",
   "metadata": {
    "collapsed": true
   },
   "source": [
    "## 4-4 셀프 주유소는 정말 저렴한지 boxplot으로 확인하기"
   ]
  },
  {
   "cell_type": "code",
   "execution_count": 22,
   "metadata": {},
   "outputs": [],
   "source": [
    "import matplotlib.pyplot as plt\n",
    "import seaborn as sns\n",
    "%matplotlib inline\n",
    "\n",
    "import platform\n",
    "\n",
    "path = \"c:/Windows/Fonts/malgun.ttf\"\n",
    "from matplotlib import font_manager, rc\n",
    "if platform.system() == 'Darwin':\n",
    "    rc('font', family='AppleGothic')\n",
    "elif platform.system() == 'Windows':\n",
    "    font_name = font_manager.FontProperties(fname=path).get_name()\n",
    "    rc('font', family=font_name)\n",
    "else:\n",
    "    print('Unknown system... sorry~~~~') "
   ]
  },
  {
   "cell_type": "code",
   "execution_count": 23,
   "metadata": {},
   "outputs": [
    {
     "data": {
      "image/png": "[encoded data removed]",
      "text/plain": [
       "<matplotlib.figure.Figure at 0x10c7c69e8>"
      ]
     },
     "metadata": {},
     "output_type": "display_data"
    }
   ],
   "source": [
    "stations.boxplot(column='가격', by='셀프', figsize=(12,8));"
   ]
  },
  {
   "cell_type": "code",
   "execution_count": 24,
   "metadata": {},
   "outputs": [
    {
     "data": {
      "image/png": "[encoded data removed]",
      "text/plain": [
       "<matplotlib.figure.Figure at 0x10e9d8080>"
      ]
     },
     "metadata": {},
     "output_type": "display_data"
    }
   ],
   "source": [
    "plt.figure(figsize=(12,8))\n",
    "sns.boxplot(x=\"상표\", y=\"가격\", hue=\"셀프\", data=stations, palette=\"Set3\")\n",
    "plt.show()"
   ]
  },
  {
   "cell_type": "code",
   "execution_count": 25,
   "metadata": {},
   "outputs": [
    {
     "data": {
      "image/png": "[encoded data removed]",
      "text/plain": [
       "<matplotlib.figure.Figure at 0x110e04668>"
      ]
     },
     "metadata": {},
     "output_type": "display_data"
    }
   ],
   "source": [
    "plt.figure(figsize=(12,8))\n",
    "sns.boxplot(x=\"상표\", y=\"가격\", data=stations, palette=\"Set3\")\n",
    "sns.swarmplot(x=\"상표\", y=\"가격\", data=stations, color=\".6\")\n",
    "plt.show()"
   ]
  },
  {
   "cell_type": "markdown",
   "metadata": {
    "collapsed": true
   },
   "source": [
    "## 4-5 서울시 구별 주유 가격 확인하기"
   ]
  },
  {
   "cell_type": "code",
   "execution_count": 26,
   "metadata": {},
   "outputs": [],
   "source": [
    "import json\n",
    "import folium\n",
    "import googlemaps\n",
    "import warnings\n",
    "warnings.simplefilter(action = \"ignore\", category = FutureWarning)"
   ]
  },
  {
   "cell_type": "code",
   "execution_count": 27,
   "metadata": {},
   "outputs": [
    {
     "data": {
      "text/html": [
       "<div>\n",
       "<style scoped>\n",
       "    .dataframe tbody tr th:only-of-type {\n",
       "        vertical-align: middle;\n",
       "    }\n",
       "\n",
       "    .dataframe tbody tr th {\n",
       "        vertical-align: top;\n",
       "    }\n",
       "\n",
       "    .dataframe thead th {\n",
       "        text-align: right;\n",
       "    }\n",
       "</style>\n",
       "<table border=\"1\" class=\"dataframe\">\n",
       "  <thead>\n",
       "    <tr style=\"text-align: right;\">\n",
       "      <th></th>\n",
       "      <th>Oil_store</th>\n",
       "      <th>가격</th>\n",
       "      <th>상표</th>\n",
       "      <th>셀프</th>\n",
       "      <th>주소</th>\n",
       "      <th>구</th>\n",
       "    </tr>\n",
       "  </thead>\n",
       "  <tbody>\n",
       "    <tr>\n",
       "      <th>325</th>\n",
       "      <td>서남주유소</td>\n",
       "      <td>2132.0</td>\n",
       "      <td>SK에너지</td>\n",
       "      <td>N</td>\n",
       "      <td>서울 중구 통일로 30 (봉래동1가)</td>\n",
       "      <td>중구</td>\n",
       "    </tr>\n",
       "    <tr>\n",
       "      <th>324</th>\n",
       "      <td>장충주유소</td>\n",
       "      <td>2130.0</td>\n",
       "      <td>SK에너지</td>\n",
       "      <td>N</td>\n",
       "      <td>서울 중구 장충단로 202 (장충동1가)</td>\n",
       "      <td>중구</td>\n",
       "    </tr>\n",
       "    <tr>\n",
       "      <th>124</th>\n",
       "      <td>양재주유소</td>\n",
       "      <td>2128.0</td>\n",
       "      <td>SK에너지</td>\n",
       "      <td>N</td>\n",
       "      <td>서울 서초구 바우뫼로 178 (양재동)</td>\n",
       "      <td>서초구</td>\n",
       "    </tr>\n",
       "    <tr>\n",
       "      <th>532</th>\n",
       "      <td>뉴서울(강남)</td>\n",
       "      <td>2120.0</td>\n",
       "      <td>SK에너지</td>\n",
       "      <td>N</td>\n",
       "      <td>서울 강남구 언주로 716 (논현동)</td>\n",
       "      <td>강남구</td>\n",
       "    </tr>\n",
       "    <tr>\n",
       "      <th>531</th>\n",
       "      <td>오천주유소</td>\n",
       "      <td>2107.0</td>\n",
       "      <td>SK에너지</td>\n",
       "      <td>N</td>\n",
       "      <td>서울 강남구 봉은사로 503 (삼성동)</td>\n",
       "      <td>강남구</td>\n",
       "    </tr>\n",
       "    <tr>\n",
       "      <th>313</th>\n",
       "      <td>재동주유소</td>\n",
       "      <td>2106.0</td>\n",
       "      <td>SK에너지</td>\n",
       "      <td>N</td>\n",
       "      <td>서울특별시 종로구  율곡로 58 (경운동)</td>\n",
       "      <td>종로구</td>\n",
       "    </tr>\n",
       "    <tr>\n",
       "      <th>285</th>\n",
       "      <td>청파주유소</td>\n",
       "      <td>2106.0</td>\n",
       "      <td>SK에너지</td>\n",
       "      <td>N</td>\n",
       "      <td>서울특별시 용산구  청파로 311 (청파동1가)</td>\n",
       "      <td>용산구</td>\n",
       "    </tr>\n",
       "    <tr>\n",
       "      <th>284</th>\n",
       "      <td>갈월동주유소</td>\n",
       "      <td>2106.0</td>\n",
       "      <td>SK에너지</td>\n",
       "      <td>N</td>\n",
       "      <td>서울특별시 용산구  한강대로 322 (갈월동)</td>\n",
       "      <td>용산구</td>\n",
       "    </tr>\n",
       "    <tr>\n",
       "      <th>283</th>\n",
       "      <td>강변주유소</td>\n",
       "      <td>2106.0</td>\n",
       "      <td>SK에너지</td>\n",
       "      <td>N</td>\n",
       "      <td>서울특별시 용산구  원효로 9 (청암동)</td>\n",
       "      <td>용산구</td>\n",
       "    </tr>\n",
       "    <tr>\n",
       "      <th>323</th>\n",
       "      <td>통일주유소</td>\n",
       "      <td>2106.0</td>\n",
       "      <td>SK에너지</td>\n",
       "      <td>N</td>\n",
       "      <td>서울 중구 동호로 296 (장충동2가)</td>\n",
       "      <td>중구</td>\n",
       "    </tr>\n",
       "  </tbody>\n",
       "</table>\n",
       "</div>"
      ],
      "text/plain": [
       "    Oil_store      가격     상표 셀프                          주소    구\n",
       "325     서남주유소  2132.0  SK에너지  N        서울 중구 통일로 30 (봉래동1가)   중구\n",
       "324     장충주유소  2130.0  SK에너지  N      서울 중구 장충단로 202 (장충동1가)   중구\n",
       "124     양재주유소  2128.0  SK에너지  N       서울 서초구 바우뫼로 178 (양재동)  서초구\n",
       "532   뉴서울(강남)  2120.0  SK에너지  N        서울 강남구 언주로 716 (논현동)  강남구\n",
       "531     오천주유소  2107.0  SK에너지  N       서울 강남구 봉은사로 503 (삼성동)  강남구\n",
       "313     재동주유소  2106.0  SK에너지  N     서울특별시 종로구  율곡로 58 (경운동)  종로구\n",
       "285     청파주유소  2106.0  SK에너지  N  서울특별시 용산구  청파로 311 (청파동1가)  용산구\n",
       "284    갈월동주유소  2106.0  SK에너지  N   서울특별시 용산구  한강대로 322 (갈월동)  용산구\n",
       "283     강변주유소  2106.0  SK에너지  N      서울특별시 용산구  원효로 9 (청암동)  용산구\n",
       "323     통일주유소  2106.0  SK에너지  N       서울 중구 동호로 296 (장충동2가)   중구"
      ]
     },
     "execution_count": 27,
     "metadata": {},
     "output_type": "execute_result"
    }
   ],
   "source": [
    "stations.sort_values(by='가격', ascending=False).head(10)"
   ]
  },
  {
   "cell_type": "code",
   "execution_count": 28,
   "metadata": {},
   "outputs": [
    {
     "data": {
      "text/html": [
       "<div>\n",
       "<style scoped>\n",
       "    .dataframe tbody tr th:only-of-type {\n",
       "        vertical-align: middle;\n",
       "    }\n",
       "\n",
       "    .dataframe tbody tr th {\n",
       "        vertical-align: top;\n",
       "    }\n",
       "\n",
       "    .dataframe thead th {\n",
       "        text-align: right;\n",
       "    }\n",
       "</style>\n",
       "<table border=\"1\" class=\"dataframe\">\n",
       "  <thead>\n",
       "    <tr style=\"text-align: right;\">\n",
       "      <th></th>\n",
       "      <th>Oil_store</th>\n",
       "      <th>가격</th>\n",
       "      <th>상표</th>\n",
       "      <th>셀프</th>\n",
       "      <th>주소</th>\n",
       "      <th>구</th>\n",
       "    </tr>\n",
       "  </thead>\n",
       "  <tbody>\n",
       "    <tr>\n",
       "      <th>83</th>\n",
       "      <td>만남의광장주유소</td>\n",
       "      <td>1490.0</td>\n",
       "      <td>알뜰(ex)</td>\n",
       "      <td>N</td>\n",
       "      <td>서울 서초구 양재대로12길 73-71 (원지동)</td>\n",
       "      <td>서초구</td>\n",
       "    </tr>\n",
       "    <tr>\n",
       "      <th>344</th>\n",
       "      <td>강서오곡셀프주유소</td>\n",
       "      <td>1497.0</td>\n",
       "      <td>SK에너지</td>\n",
       "      <td>Y</td>\n",
       "      <td>서울특별시 강서구 벌말로 254 (오곡동)</td>\n",
       "      <td>강서구</td>\n",
       "    </tr>\n",
       "    <tr>\n",
       "      <th>451</th>\n",
       "      <td>태릉솔밭주유소</td>\n",
       "      <td>1497.0</td>\n",
       "      <td>S-OIL</td>\n",
       "      <td>Y</td>\n",
       "      <td>서울특별시 노원구 노원로 49 (공릉동)</td>\n",
       "      <td>노원구</td>\n",
       "    </tr>\n",
       "    <tr>\n",
       "      <th>258</th>\n",
       "      <td>수유동주유소</td>\n",
       "      <td>1498.0</td>\n",
       "      <td>GS칼텍스</td>\n",
       "      <td>Y</td>\n",
       "      <td>서울특별시 강북구  도봉로 395 (수유동)</td>\n",
       "      <td>강북구</td>\n",
       "    </tr>\n",
       "    <tr>\n",
       "      <th>227</th>\n",
       "      <td>(주)강서오일</td>\n",
       "      <td>1499.0</td>\n",
       "      <td>현대오일뱅크</td>\n",
       "      <td>N</td>\n",
       "      <td>서울 영등포구 도신로 151 (도림동)</td>\n",
       "      <td>영등포구</td>\n",
       "    </tr>\n",
       "    <tr>\n",
       "      <th>225</th>\n",
       "      <td>도림주유소</td>\n",
       "      <td>1499.0</td>\n",
       "      <td>알뜰주유소</td>\n",
       "      <td>Y</td>\n",
       "      <td>서울 영등포구 도림로 343 (도림동)</td>\n",
       "      <td>영등포구</td>\n",
       "    </tr>\n",
       "    <tr>\n",
       "      <th>226</th>\n",
       "      <td>(주)대청에너지 대청주유소</td>\n",
       "      <td>1499.0</td>\n",
       "      <td>GS칼텍스</td>\n",
       "      <td>N</td>\n",
       "      <td>서울 영등포구 가마산로 328 (대림동)</td>\n",
       "      <td>영등포구</td>\n",
       "    </tr>\n",
       "    <tr>\n",
       "      <th>415</th>\n",
       "      <td>풀페이주유소</td>\n",
       "      <td>1499.0</td>\n",
       "      <td>SK에너지</td>\n",
       "      <td>N</td>\n",
       "      <td>서울특별시 구로구 경인로 41 (온수동)</td>\n",
       "      <td>구로구</td>\n",
       "    </tr>\n",
       "    <tr>\n",
       "      <th>326</th>\n",
       "      <td>신일셀프주유소</td>\n",
       "      <td>1499.0</td>\n",
       "      <td>SK에너지</td>\n",
       "      <td>Y</td>\n",
       "      <td>서울 중랑구 상봉로 58 (망우동)</td>\n",
       "      <td>중랑구</td>\n",
       "    </tr>\n",
       "    <tr>\n",
       "      <th>40</th>\n",
       "      <td>서경주유소</td>\n",
       "      <td>1499.0</td>\n",
       "      <td>현대오일뱅크</td>\n",
       "      <td>N</td>\n",
       "      <td>서울 동작구 대림로 46 (신대방동)</td>\n",
       "      <td>동작구</td>\n",
       "    </tr>\n",
       "  </tbody>\n",
       "</table>\n",
       "</div>"
      ],
      "text/plain": [
       "          Oil_store      가격      상표 셀프                          주소     구\n",
       "83         만남의광장주유소  1490.0  알뜰(ex)  N  서울 서초구 양재대로12길 73-71 (원지동)   서초구\n",
       "344       강서오곡셀프주유소  1497.0   SK에너지  Y     서울특별시 강서구 벌말로 254 (오곡동)   강서구\n",
       "451         태릉솔밭주유소  1497.0   S-OIL  Y      서울특별시 노원구 노원로 49 (공릉동)   노원구\n",
       "258          수유동주유소  1498.0   GS칼텍스  Y    서울특별시 강북구  도봉로 395 (수유동)   강북구\n",
       "227         (주)강서오일  1499.0  현대오일뱅크  N       서울 영등포구 도신로 151 (도림동)  영등포구\n",
       "225           도림주유소  1499.0   알뜰주유소  Y       서울 영등포구 도림로 343 (도림동)  영등포구\n",
       "226  (주)대청에너지 대청주유소  1499.0   GS칼텍스  N      서울 영등포구 가마산로 328 (대림동)  영등포구\n",
       "415          풀페이주유소  1499.0   SK에너지  N      서울특별시 구로구 경인로 41 (온수동)   구로구\n",
       "326         신일셀프주유소  1499.0   SK에너지  Y         서울 중랑구 상봉로 58 (망우동)   중랑구\n",
       "40            서경주유소  1499.0  현대오일뱅크  N        서울 동작구 대림로 46 (신대방동)   동작구"
      ]
     },
     "execution_count": 28,
     "metadata": {},
     "output_type": "execute_result"
    }
   ],
   "source": [
    "stations.sort_values(by='가격', ascending=True).head(10)"
   ]
  },
  {
   "cell_type": "code",
   "execution_count": 29,
   "metadata": {},
   "outputs": [
    {
     "data": {
      "text/html": [
       "<div>\n",
       "<style scoped>\n",
       "    .dataframe tbody tr th:only-of-type {\n",
       "        vertical-align: middle;\n",
       "    }\n",
       "\n",
       "    .dataframe tbody tr th {\n",
       "        vertical-align: top;\n",
       "    }\n",
       "\n",
       "    .dataframe thead th {\n",
       "        text-align: right;\n",
       "    }\n",
       "</style>\n",
       "<table border=\"1\" class=\"dataframe\">\n",
       "  <thead>\n",
       "    <tr style=\"text-align: right;\">\n",
       "      <th></th>\n",
       "      <th>가격</th>\n",
       "    </tr>\n",
       "    <tr>\n",
       "      <th>구</th>\n",
       "      <th></th>\n",
       "    </tr>\n",
       "  </thead>\n",
       "  <tbody>\n",
       "    <tr>\n",
       "      <th>강남구</th>\n",
       "      <td>1791.000000</td>\n",
       "    </tr>\n",
       "    <tr>\n",
       "      <th>강동구</th>\n",
       "      <td>1656.722222</td>\n",
       "    </tr>\n",
       "    <tr>\n",
       "      <th>강북구</th>\n",
       "      <td>1534.333333</td>\n",
       "    </tr>\n",
       "    <tr>\n",
       "      <th>강서구</th>\n",
       "      <td>1576.428571</td>\n",
       "    </tr>\n",
       "    <tr>\n",
       "      <th>관악구</th>\n",
       "      <td>1603.055556</td>\n",
       "    </tr>\n",
       "  </tbody>\n",
       "</table>\n",
       "</div>"
      ],
      "text/plain": [
       "              가격\n",
       "구               \n",
       "강남구  1791.000000\n",
       "강동구  1656.722222\n",
       "강북구  1534.333333\n",
       "강서구  1576.428571\n",
       "관악구  1603.055556"
      ]
     },
     "execution_count": 29,
     "metadata": {},
     "output_type": "execute_result"
    }
   ],
   "source": [
    "import numpy as np\n",
    "\n",
    "gu_data = pd.pivot_table(stations, index=[\"구\"], values=[\"가격\"], \n",
    "                         aggfunc=np.mean)\n",
    "gu_data.head()"
   ]
  },
  {
   "cell_type": "code",
   "execution_count": 30,
   "metadata": {},
   "outputs": [
    {
     "data": {
      "text/html": [
       "<div style=\"width:100%;\"><div style=\"position:relative;width:100%;height:0;padding-bottom:60%;\"><iframe src=\"data:text/html;charset=utf-8;base64,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\" style=\"position:absolute;width:100%;height:100%;left:0;top:0;border:none !important;\" allowfullscreen webkitallowfullscreen mozallowfullscreen></iframe></div></div>"
      ],
      "text/plain": [
       "<folium.folium.Map at 0x1a18cfd5c0>"
      ]
     },
     "execution_count": 30,
     "metadata": {},
     "output_type": "execute_result"
    }
   ],
   "source": [
    "geo_path = '../data/02. skorea_municipalities_geo_simple.json'\n",
    "geo_str = json.load(open(geo_path, encoding='utf-8'))\n",
    "\n",
    "map = folium.Map(location=[37.5502, 126.982], zoom_start=10.5, \n",
    "                 tiles='Stamen Toner')\n",
    "\n",
    "map.choropleth(geo_data = geo_str,\n",
    "               data = gu_data,\n",
    "               columns=[gu_data.index, '가격'],\n",
    "               fill_color='PuRd', #PuRd, YlGnBu\n",
    "               key_on='feature.id')\n",
    "map"
   ]
  },
  {
   "cell_type": "markdown",
   "metadata": {},
   "source": [
    "## 4-6 서울시 주유 가격 상하위 10개 주유소 지도에 표기하기"
   ]
  },
  {
   "cell_type": "code",
   "execution_count": 31,
   "metadata": {},
   "outputs": [
    {
     "data": {
      "text/html": [
       "<div>\n",
       "<style scoped>\n",
       "    .dataframe tbody tr th:only-of-type {\n",
       "        vertical-align: middle;\n",
       "    }\n",
       "\n",
       "    .dataframe tbody tr th {\n",
       "        vertical-align: top;\n",
       "    }\n",
       "\n",
       "    .dataframe thead th {\n",
       "        text-align: right;\n",
       "    }\n",
       "</style>\n",
       "<table border=\"1\" class=\"dataframe\">\n",
       "  <thead>\n",
       "    <tr style=\"text-align: right;\">\n",
       "      <th></th>\n",
       "      <th>Oil_store</th>\n",
       "      <th>가격</th>\n",
       "      <th>상표</th>\n",
       "      <th>셀프</th>\n",
       "      <th>주소</th>\n",
       "      <th>구</th>\n",
       "    </tr>\n",
       "  </thead>\n",
       "  <tbody>\n",
       "    <tr>\n",
       "      <th>325</th>\n",
       "      <td>서남주유소</td>\n",
       "      <td>2132.0</td>\n",
       "      <td>SK에너지</td>\n",
       "      <td>N</td>\n",
       "      <td>서울 중구 통일로 30 (봉래동1가)</td>\n",
       "      <td>중구</td>\n",
       "    </tr>\n",
       "    <tr>\n",
       "      <th>324</th>\n",
       "      <td>장충주유소</td>\n",
       "      <td>2130.0</td>\n",
       "      <td>SK에너지</td>\n",
       "      <td>N</td>\n",
       "      <td>서울 중구 장충단로 202 (장충동1가)</td>\n",
       "      <td>중구</td>\n",
       "    </tr>\n",
       "    <tr>\n",
       "      <th>124</th>\n",
       "      <td>양재주유소</td>\n",
       "      <td>2128.0</td>\n",
       "      <td>SK에너지</td>\n",
       "      <td>N</td>\n",
       "      <td>서울 서초구 바우뫼로 178 (양재동)</td>\n",
       "      <td>서초구</td>\n",
       "    </tr>\n",
       "    <tr>\n",
       "      <th>532</th>\n",
       "      <td>뉴서울(강남)</td>\n",
       "      <td>2120.0</td>\n",
       "      <td>SK에너지</td>\n",
       "      <td>N</td>\n",
       "      <td>서울 강남구 언주로 716 (논현동)</td>\n",
       "      <td>강남구</td>\n",
       "    </tr>\n",
       "    <tr>\n",
       "      <th>531</th>\n",
       "      <td>오천주유소</td>\n",
       "      <td>2107.0</td>\n",
       "      <td>SK에너지</td>\n",
       "      <td>N</td>\n",
       "      <td>서울 강남구 봉은사로 503 (삼성동)</td>\n",
       "      <td>강남구</td>\n",
       "    </tr>\n",
       "    <tr>\n",
       "      <th>313</th>\n",
       "      <td>재동주유소</td>\n",
       "      <td>2106.0</td>\n",
       "      <td>SK에너지</td>\n",
       "      <td>N</td>\n",
       "      <td>서울특별시 종로구  율곡로 58 (경운동)</td>\n",
       "      <td>종로구</td>\n",
       "    </tr>\n",
       "    <tr>\n",
       "      <th>285</th>\n",
       "      <td>청파주유소</td>\n",
       "      <td>2106.0</td>\n",
       "      <td>SK에너지</td>\n",
       "      <td>N</td>\n",
       "      <td>서울특별시 용산구  청파로 311 (청파동1가)</td>\n",
       "      <td>용산구</td>\n",
       "    </tr>\n",
       "    <tr>\n",
       "      <th>284</th>\n",
       "      <td>갈월동주유소</td>\n",
       "      <td>2106.0</td>\n",
       "      <td>SK에너지</td>\n",
       "      <td>N</td>\n",
       "      <td>서울특별시 용산구  한강대로 322 (갈월동)</td>\n",
       "      <td>용산구</td>\n",
       "    </tr>\n",
       "    <tr>\n",
       "      <th>283</th>\n",
       "      <td>강변주유소</td>\n",
       "      <td>2106.0</td>\n",
       "      <td>SK에너지</td>\n",
       "      <td>N</td>\n",
       "      <td>서울특별시 용산구  원효로 9 (청암동)</td>\n",
       "      <td>용산구</td>\n",
       "    </tr>\n",
       "    <tr>\n",
       "      <th>323</th>\n",
       "      <td>통일주유소</td>\n",
       "      <td>2106.0</td>\n",
       "      <td>SK에너지</td>\n",
       "      <td>N</td>\n",
       "      <td>서울 중구 동호로 296 (장충동2가)</td>\n",
       "      <td>중구</td>\n",
       "    </tr>\n",
       "  </tbody>\n",
       "</table>\n",
       "</div>"
      ],
      "text/plain": [
       "    Oil_store      가격     상표 셀프                          주소    구\n",
       "325     서남주유소  2132.0  SK에너지  N        서울 중구 통일로 30 (봉래동1가)   중구\n",
       "324     장충주유소  2130.0  SK에너지  N      서울 중구 장충단로 202 (장충동1가)   중구\n",
       "124     양재주유소  2128.0  SK에너지  N       서울 서초구 바우뫼로 178 (양재동)  서초구\n",
       "532   뉴서울(강남)  2120.0  SK에너지  N        서울 강남구 언주로 716 (논현동)  강남구\n",
       "531     오천주유소  2107.0  SK에너지  N       서울 강남구 봉은사로 503 (삼성동)  강남구\n",
       "313     재동주유소  2106.0  SK에너지  N     서울특별시 종로구  율곡로 58 (경운동)  종로구\n",
       "285     청파주유소  2106.0  SK에너지  N  서울특별시 용산구  청파로 311 (청파동1가)  용산구\n",
       "284    갈월동주유소  2106.0  SK에너지  N   서울특별시 용산구  한강대로 322 (갈월동)  용산구\n",
       "283     강변주유소  2106.0  SK에너지  N      서울특별시 용산구  원효로 9 (청암동)  용산구\n",
       "323     통일주유소  2106.0  SK에너지  N       서울 중구 동호로 296 (장충동2가)   중구"
      ]
     },
     "execution_count": 31,
     "metadata": {},
     "output_type": "execute_result"
    }
   ],
   "source": [
    "oil_price_top10 = stations.sort_values(by='가격', ascending=False).head(10)\n",
    "oil_price_top10"
   ]
  },
  {
   "cell_type": "code",
   "execution_count": 32,
   "metadata": {},
   "outputs": [
    {
     "data": {
      "text/html": [
       "<div>\n",
       "<style scoped>\n",
       "    .dataframe tbody tr th:only-of-type {\n",
       "        vertical-align: middle;\n",
       "    }\n",
       "\n",
       "    .dataframe tbody tr th {\n",
       "        vertical-align: top;\n",
       "    }\n",
       "\n",
       "    .dataframe thead th {\n",
       "        text-align: right;\n",
       "    }\n",
       "</style>\n",
       "<table border=\"1\" class=\"dataframe\">\n",
       "  <thead>\n",
       "    <tr style=\"text-align: right;\">\n",
       "      <th></th>\n",
       "      <th>Oil_store</th>\n",
       "      <th>가격</th>\n",
       "      <th>상표</th>\n",
       "      <th>셀프</th>\n",
       "      <th>주소</th>\n",
       "      <th>구</th>\n",
       "    </tr>\n",
       "  </thead>\n",
       "  <tbody>\n",
       "    <tr>\n",
       "      <th>83</th>\n",
       "      <td>만남의광장주유소</td>\n",
       "      <td>1490.0</td>\n",
       "      <td>알뜰(ex)</td>\n",
       "      <td>N</td>\n",
       "      <td>서울 서초구 양재대로12길 73-71 (원지동)</td>\n",
       "      <td>서초구</td>\n",
       "    </tr>\n",
       "    <tr>\n",
       "      <th>344</th>\n",
       "      <td>강서오곡셀프주유소</td>\n",
       "      <td>1497.0</td>\n",
       "      <td>SK에너지</td>\n",
       "      <td>Y</td>\n",
       "      <td>서울특별시 강서구 벌말로 254 (오곡동)</td>\n",
       "      <td>강서구</td>\n",
       "    </tr>\n",
       "    <tr>\n",
       "      <th>451</th>\n",
       "      <td>태릉솔밭주유소</td>\n",
       "      <td>1497.0</td>\n",
       "      <td>S-OIL</td>\n",
       "      <td>Y</td>\n",
       "      <td>서울특별시 노원구 노원로 49 (공릉동)</td>\n",
       "      <td>노원구</td>\n",
       "    </tr>\n",
       "    <tr>\n",
       "      <th>258</th>\n",
       "      <td>수유동주유소</td>\n",
       "      <td>1498.0</td>\n",
       "      <td>GS칼텍스</td>\n",
       "      <td>Y</td>\n",
       "      <td>서울특별시 강북구  도봉로 395 (수유동)</td>\n",
       "      <td>강북구</td>\n",
       "    </tr>\n",
       "    <tr>\n",
       "      <th>227</th>\n",
       "      <td>(주)강서오일</td>\n",
       "      <td>1499.0</td>\n",
       "      <td>현대오일뱅크</td>\n",
       "      <td>N</td>\n",
       "      <td>서울 영등포구 도신로 151 (도림동)</td>\n",
       "      <td>영등포구</td>\n",
       "    </tr>\n",
       "    <tr>\n",
       "      <th>225</th>\n",
       "      <td>도림주유소</td>\n",
       "      <td>1499.0</td>\n",
       "      <td>알뜰주유소</td>\n",
       "      <td>Y</td>\n",
       "      <td>서울 영등포구 도림로 343 (도림동)</td>\n",
       "      <td>영등포구</td>\n",
       "    </tr>\n",
       "    <tr>\n",
       "      <th>226</th>\n",
       "      <td>(주)대청에너지 대청주유소</td>\n",
       "      <td>1499.0</td>\n",
       "      <td>GS칼텍스</td>\n",
       "      <td>N</td>\n",
       "      <td>서울 영등포구 가마산로 328 (대림동)</td>\n",
       "      <td>영등포구</td>\n",
       "    </tr>\n",
       "    <tr>\n",
       "      <th>415</th>\n",
       "      <td>풀페이주유소</td>\n",
       "      <td>1499.0</td>\n",
       "      <td>SK에너지</td>\n",
       "      <td>N</td>\n",
       "      <td>서울특별시 구로구 경인로 41 (온수동)</td>\n",
       "      <td>구로구</td>\n",
       "    </tr>\n",
       "    <tr>\n",
       "      <th>326</th>\n",
       "      <td>신일셀프주유소</td>\n",
       "      <td>1499.0</td>\n",
       "      <td>SK에너지</td>\n",
       "      <td>Y</td>\n",
       "      <td>서울 중랑구 상봉로 58 (망우동)</td>\n",
       "      <td>중랑구</td>\n",
       "    </tr>\n",
       "    <tr>\n",
       "      <th>40</th>\n",
       "      <td>서경주유소</td>\n",
       "      <td>1499.0</td>\n",
       "      <td>현대오일뱅크</td>\n",
       "      <td>N</td>\n",
       "      <td>서울 동작구 대림로 46 (신대방동)</td>\n",
       "      <td>동작구</td>\n",
       "    </tr>\n",
       "  </tbody>\n",
       "</table>\n",
       "</div>"
      ],
      "text/plain": [
       "          Oil_store      가격      상표 셀프                          주소     구\n",
       "83         만남의광장주유소  1490.0  알뜰(ex)  N  서울 서초구 양재대로12길 73-71 (원지동)   서초구\n",
       "344       강서오곡셀프주유소  1497.0   SK에너지  Y     서울특별시 강서구 벌말로 254 (오곡동)   강서구\n",
       "451         태릉솔밭주유소  1497.0   S-OIL  Y      서울특별시 노원구 노원로 49 (공릉동)   노원구\n",
       "258          수유동주유소  1498.0   GS칼텍스  Y    서울특별시 강북구  도봉로 395 (수유동)   강북구\n",
       "227         (주)강서오일  1499.0  현대오일뱅크  N       서울 영등포구 도신로 151 (도림동)  영등포구\n",
       "225           도림주유소  1499.0   알뜰주유소  Y       서울 영등포구 도림로 343 (도림동)  영등포구\n",
       "226  (주)대청에너지 대청주유소  1499.0   GS칼텍스  N      서울 영등포구 가마산로 328 (대림동)  영등포구\n",
       "415          풀페이주유소  1499.0   SK에너지  N      서울특별시 구로구 경인로 41 (온수동)   구로구\n",
       "326         신일셀프주유소  1499.0   SK에너지  Y         서울 중랑구 상봉로 58 (망우동)   중랑구\n",
       "40            서경주유소  1499.0  현대오일뱅크  N        서울 동작구 대림로 46 (신대방동)   동작구"
      ]
     },
     "execution_count": 32,
     "metadata": {},
     "output_type": "execute_result"
    }
   ],
   "source": [
    "oil_price_bottom10 = stations.sort_values(by='가격', ascending=True).head(10)\n",
    "oil_price_bottom10"
   ]
  },
  {
   "cell_type": "code",
   "execution_count": 35,
   "metadata": {},
   "outputs": [],
   "source": [
    "gmap_key = \"***************************************\" # 2장에서 구한 자신의 key를 입력\n",
    "gmaps = googlemaps.Client(key=gmap_key)"
   ]
  },
  {
   "cell_type": "code",
   "execution_count": 36,
   "metadata": {},
   "outputs": [
    {
     "data": {
      "application/vnd.jupyter.widget-view+json": {
       "model_id": "689905dd3f3640dd8b5ddcf58c2986ff",
       "version_major": 2,
       "version_minor": 0
      },
      "text/html": [
       "<p>Failed to display Jupyter Widget of type <code>HBox</code>.</p>\n",
       "<p>\n",
       "  If you're reading this message in the Jupyter Notebook or JupyterLab Notebook, it may mean\n",
       "  that the widgets JavaScript is still loading. If this message persists, it\n",
       "  likely means that the widgets JavaScript library is either not installed or\n",
       "  not enabled. See the <a href=\"https://ipywidgets.readthedocs.io/en/stable/user_install.html\">Jupyter\n",
       "  Widgets Documentation</a> for setup instructions.\n",
       "</p>\n",
       "<p>\n",
       "  If you're reading this message in another frontend (for example, a static\n",
       "  rendering on GitHub or <a href=\"https://nbviewer.jupyter.org/\">NBViewer</a>),\n",
       "  it may mean that your frontend doesn't currently support widgets.\n",
       "</p>\n"
      ],
      "text/plain": [
       "HBox(children=(IntProgress(value=0, max=10), HTML(value='')))"
      ]
     },
     "metadata": {},
     "output_type": "display_data"
    },
    {
     "name": "stdout",
     "output_type": "stream",
     "text": [
      "\n"
     ]
    },
    {
     "data": {
      "text/html": [
       "<div>\n",
       "<style scoped>\n",
       "    .dataframe tbody tr th:only-of-type {\n",
       "        vertical-align: middle;\n",
       "    }\n",
       "\n",
       "    .dataframe tbody tr th {\n",
       "        vertical-align: top;\n",
       "    }\n",
       "\n",
       "    .dataframe thead th {\n",
       "        text-align: right;\n",
       "    }\n",
       "</style>\n",
       "<table border=\"1\" class=\"dataframe\">\n",
       "  <thead>\n",
       "    <tr style=\"text-align: right;\">\n",
       "      <th></th>\n",
       "      <th>Oil_store</th>\n",
       "      <th>가격</th>\n",
       "      <th>상표</th>\n",
       "      <th>셀프</th>\n",
       "      <th>주소</th>\n",
       "      <th>구</th>\n",
       "      <th>lat</th>\n",
       "      <th>lng</th>\n",
       "    </tr>\n",
       "  </thead>\n",
       "  <tbody>\n",
       "    <tr>\n",
       "      <th>325</th>\n",
       "      <td>서남주유소</td>\n",
       "      <td>2132.0</td>\n",
       "      <td>SK에너지</td>\n",
       "      <td>N</td>\n",
       "      <td>서울 중구 통일로 30 (봉래동1가)</td>\n",
       "      <td>중구</td>\n",
       "      <td>37.558348</td>\n",
       "      <td>126.972090</td>\n",
       "    </tr>\n",
       "    <tr>\n",
       "      <th>324</th>\n",
       "      <td>장충주유소</td>\n",
       "      <td>2130.0</td>\n",
       "      <td>SK에너지</td>\n",
       "      <td>N</td>\n",
       "      <td>서울 중구 장충단로 202 (장충동1가)</td>\n",
       "      <td>중구</td>\n",
       "      <td>37.562719</td>\n",
       "      <td>127.007010</td>\n",
       "    </tr>\n",
       "    <tr>\n",
       "      <th>124</th>\n",
       "      <td>양재주유소</td>\n",
       "      <td>2128.0</td>\n",
       "      <td>SK에너지</td>\n",
       "      <td>N</td>\n",
       "      <td>서울 서초구 바우뫼로 178 (양재동)</td>\n",
       "      <td>서초구</td>\n",
       "      <td>37.478071</td>\n",
       "      <td>127.039610</td>\n",
       "    </tr>\n",
       "    <tr>\n",
       "      <th>532</th>\n",
       "      <td>뉴서울(강남)</td>\n",
       "      <td>2120.0</td>\n",
       "      <td>SK에너지</td>\n",
       "      <td>N</td>\n",
       "      <td>서울 강남구 언주로 716 (논현동)</td>\n",
       "      <td>강남구</td>\n",
       "      <td>37.517636</td>\n",
       "      <td>127.035756</td>\n",
       "    </tr>\n",
       "    <tr>\n",
       "      <th>531</th>\n",
       "      <td>오천주유소</td>\n",
       "      <td>2107.0</td>\n",
       "      <td>SK에너지</td>\n",
       "      <td>N</td>\n",
       "      <td>서울 강남구 봉은사로 503 (삼성동)</td>\n",
       "      <td>강남구</td>\n",
       "      <td>37.513458</td>\n",
       "      <td>127.053786</td>\n",
       "    </tr>\n",
       "    <tr>\n",
       "      <th>313</th>\n",
       "      <td>재동주유소</td>\n",
       "      <td>2106.0</td>\n",
       "      <td>SK에너지</td>\n",
       "      <td>N</td>\n",
       "      <td>서울특별시 종로구  율곡로 58 (경운동)</td>\n",
       "      <td>종로구</td>\n",
       "      <td>37.576388</td>\n",
       "      <td>126.985851</td>\n",
       "    </tr>\n",
       "    <tr>\n",
       "      <th>285</th>\n",
       "      <td>청파주유소</td>\n",
       "      <td>2106.0</td>\n",
       "      <td>SK에너지</td>\n",
       "      <td>N</td>\n",
       "      <td>서울특별시 용산구  청파로 311 (청파동1가)</td>\n",
       "      <td>용산구</td>\n",
       "      <td>37.547451</td>\n",
       "      <td>126.969904</td>\n",
       "    </tr>\n",
       "    <tr>\n",
       "      <th>284</th>\n",
       "      <td>갈월동주유소</td>\n",
       "      <td>2106.0</td>\n",
       "      <td>SK에너지</td>\n",
       "      <td>N</td>\n",
       "      <td>서울특별시 용산구  한강대로 322 (갈월동)</td>\n",
       "      <td>용산구</td>\n",
       "      <td>37.546955</td>\n",
       "      <td>126.972218</td>\n",
       "    </tr>\n",
       "    <tr>\n",
       "      <th>283</th>\n",
       "      <td>강변주유소</td>\n",
       "      <td>2106.0</td>\n",
       "      <td>SK에너지</td>\n",
       "      <td>N</td>\n",
       "      <td>서울특별시 용산구  원효로 9 (청암동)</td>\n",
       "      <td>용산구</td>\n",
       "      <td>37.534910</td>\n",
       "      <td>126.945869</td>\n",
       "    </tr>\n",
       "    <tr>\n",
       "      <th>323</th>\n",
       "      <td>통일주유소</td>\n",
       "      <td>2106.0</td>\n",
       "      <td>SK에너지</td>\n",
       "      <td>N</td>\n",
       "      <td>서울 중구 동호로 296 (장충동2가)</td>\n",
       "      <td>중구</td>\n",
       "      <td>37.560714</td>\n",
       "      <td>127.003177</td>\n",
       "    </tr>\n",
       "  </tbody>\n",
       "</table>\n",
       "</div>"
      ],
      "text/plain": [
       "    Oil_store      가격     상표 셀프                          주소    구        lat  \\\n",
       "325     서남주유소  2132.0  SK에너지  N        서울 중구 통일로 30 (봉래동1가)   중구  37.558348   \n",
       "324     장충주유소  2130.0  SK에너지  N      서울 중구 장충단로 202 (장충동1가)   중구  37.562719   \n",
       "124     양재주유소  2128.0  SK에너지  N       서울 서초구 바우뫼로 178 (양재동)  서초구  37.478071   \n",
       "532   뉴서울(강남)  2120.0  SK에너지  N        서울 강남구 언주로 716 (논현동)  강남구  37.517636   \n",
       "531     오천주유소  2107.0  SK에너지  N       서울 강남구 봉은사로 503 (삼성동)  강남구  37.513458   \n",
       "313     재동주유소  2106.0  SK에너지  N     서울특별시 종로구  율곡로 58 (경운동)  종로구  37.576388   \n",
       "285     청파주유소  2106.0  SK에너지  N  서울특별시 용산구  청파로 311 (청파동1가)  용산구  37.547451   \n",
       "284    갈월동주유소  2106.0  SK에너지  N   서울특별시 용산구  한강대로 322 (갈월동)  용산구  37.546955   \n",
       "283     강변주유소  2106.0  SK에너지  N      서울특별시 용산구  원효로 9 (청암동)  용산구  37.534910   \n",
       "323     통일주유소  2106.0  SK에너지  N       서울 중구 동호로 296 (장충동2가)   중구  37.560714   \n",
       "\n",
       "            lng  \n",
       "325  126.972090  \n",
       "324  127.007010  \n",
       "124  127.039610  \n",
       "532  127.035756  \n",
       "531  127.053786  \n",
       "313  126.985851  \n",
       "285  126.969904  \n",
       "284  126.972218  \n",
       "283  126.945869  \n",
       "323  127.003177  "
      ]
     },
     "execution_count": 36,
     "metadata": {},
     "output_type": "execute_result"
    }
   ],
   "source": [
    "from tqdm import tqdm_notebook\n",
    "\n",
    "lat = []\n",
    "lng = []\n",
    "\n",
    "for n in tqdm_notebook(oil_price_top10.index):\n",
    "    try:\n",
    "        tmp_add = str(oil_price_top10['주소'][n]).split('(')[0]\n",
    "        tmp_map = gmaps.geocode(tmp_add)\n",
    "\n",
    "        tmp_loc = tmp_map[0].get('geometry')\n",
    "        lat.append(tmp_loc['location']['lat'])\n",
    "        lng.append(tmp_loc['location']['lng'])\n",
    "        \n",
    "    except:\n",
    "        lat.append(np.nan)\n",
    "        lng.append(np.nan)\n",
    "        print(\"Here is nan !\")\n",
    "        \n",
    "oil_price_top10['lat'] = lat\n",
    "oil_price_top10['lng'] = lng\n",
    "oil_price_top10"
   ]
  },
  {
   "cell_type": "code",
   "execution_count": 37,
   "metadata": {},
   "outputs": [
    {
     "data": {
      "application/vnd.jupyter.widget-view+json": {
       "model_id": "6168da9154dd49829c7ab8fa53afd6fd",
       "version_major": 2,
       "version_minor": 0
      },
      "text/html": [
       "<p>Failed to display Jupyter Widget of type <code>HBox</code>.</p>\n",
       "<p>\n",
       "  If you're reading this message in the Jupyter Notebook or JupyterLab Notebook, it may mean\n",
       "  that the widgets JavaScript is still loading. If this message persists, it\n",
       "  likely means that the widgets JavaScript library is either not installed or\n",
       "  not enabled. See the <a href=\"https://ipywidgets.readthedocs.io/en/stable/user_install.html\">Jupyter\n",
       "  Widgets Documentation</a> for setup instructions.\n",
       "</p>\n",
       "<p>\n",
       "  If you're reading this message in another frontend (for example, a static\n",
       "  rendering on GitHub or <a href=\"https://nbviewer.jupyter.org/\">NBViewer</a>),\n",
       "  it may mean that your frontend doesn't currently support widgets.\n",
       "</p>\n"
      ],
      "text/plain": [
       "HBox(children=(IntProgress(value=0, max=10), HTML(value='')))"
      ]
     },
     "metadata": {},
     "output_type": "display_data"
    },
    {
     "name": "stdout",
     "output_type": "stream",
     "text": [
      "\n"
     ]
    },
    {
     "data": {
      "text/html": [
       "<div>\n",
       "<style scoped>\n",
       "    .dataframe tbody tr th:only-of-type {\n",
       "        vertical-align: middle;\n",
       "    }\n",
       "\n",
       "    .dataframe tbody tr th {\n",
       "        vertical-align: top;\n",
       "    }\n",
       "\n",
       "    .dataframe thead th {\n",
       "        text-align: right;\n",
       "    }\n",
       "</style>\n",
       "<table border=\"1\" class=\"dataframe\">\n",
       "  <thead>\n",
       "    <tr style=\"text-align: right;\">\n",
       "      <th></th>\n",
       "      <th>Oil_store</th>\n",
       "      <th>가격</th>\n",
       "      <th>상표</th>\n",
       "      <th>셀프</th>\n",
       "      <th>주소</th>\n",
       "      <th>구</th>\n",
       "      <th>lat</th>\n",
       "      <th>lng</th>\n",
       "    </tr>\n",
       "  </thead>\n",
       "  <tbody>\n",
       "    <tr>\n",
       "      <th>83</th>\n",
       "      <td>만남의광장주유소</td>\n",
       "      <td>1490.0</td>\n",
       "      <td>알뜰(ex)</td>\n",
       "      <td>N</td>\n",
       "      <td>서울 서초구 양재대로12길 73-71 (원지동)</td>\n",
       "      <td>서초구</td>\n",
       "      <td>37.459906</td>\n",
       "      <td>127.042060</td>\n",
       "    </tr>\n",
       "    <tr>\n",
       "      <th>344</th>\n",
       "      <td>강서오곡셀프주유소</td>\n",
       "      <td>1497.0</td>\n",
       "      <td>SK에너지</td>\n",
       "      <td>Y</td>\n",
       "      <td>서울특별시 강서구 벌말로 254 (오곡동)</td>\n",
       "      <td>강서구</td>\n",
       "      <td>37.555284</td>\n",
       "      <td>126.768567</td>\n",
       "    </tr>\n",
       "    <tr>\n",
       "      <th>451</th>\n",
       "      <td>태릉솔밭주유소</td>\n",
       "      <td>1497.0</td>\n",
       "      <td>S-OIL</td>\n",
       "      <td>Y</td>\n",
       "      <td>서울특별시 노원구 노원로 49 (공릉동)</td>\n",
       "      <td>노원구</td>\n",
       "      <td>37.625918</td>\n",
       "      <td>127.085533</td>\n",
       "    </tr>\n",
       "    <tr>\n",
       "      <th>258</th>\n",
       "      <td>수유동주유소</td>\n",
       "      <td>1498.0</td>\n",
       "      <td>GS칼텍스</td>\n",
       "      <td>Y</td>\n",
       "      <td>서울특별시 강북구  도봉로 395 (수유동)</td>\n",
       "      <td>강북구</td>\n",
       "      <td>37.642140</td>\n",
       "      <td>127.029568</td>\n",
       "    </tr>\n",
       "    <tr>\n",
       "      <th>227</th>\n",
       "      <td>(주)강서오일</td>\n",
       "      <td>1499.0</td>\n",
       "      <td>현대오일뱅크</td>\n",
       "      <td>N</td>\n",
       "      <td>서울 영등포구 도신로 151 (도림동)</td>\n",
       "      <td>영등포구</td>\n",
       "      <td>37.509969</td>\n",
       "      <td>126.908231</td>\n",
       "    </tr>\n",
       "    <tr>\n",
       "      <th>225</th>\n",
       "      <td>도림주유소</td>\n",
       "      <td>1499.0</td>\n",
       "      <td>알뜰주유소</td>\n",
       "      <td>Y</td>\n",
       "      <td>서울 영등포구 도림로 343 (도림동)</td>\n",
       "      <td>영등포구</td>\n",
       "      <td>37.507656</td>\n",
       "      <td>126.900191</td>\n",
       "    </tr>\n",
       "    <tr>\n",
       "      <th>226</th>\n",
       "      <td>(주)대청에너지 대청주유소</td>\n",
       "      <td>1499.0</td>\n",
       "      <td>GS칼텍스</td>\n",
       "      <td>N</td>\n",
       "      <td>서울 영등포구 가마산로 328 (대림동)</td>\n",
       "      <td>영등포구</td>\n",
       "      <td>37.498556</td>\n",
       "      <td>126.895791</td>\n",
       "    </tr>\n",
       "    <tr>\n",
       "      <th>415</th>\n",
       "      <td>풀페이주유소</td>\n",
       "      <td>1499.0</td>\n",
       "      <td>SK에너지</td>\n",
       "      <td>N</td>\n",
       "      <td>서울특별시 구로구 경인로 41 (온수동)</td>\n",
       "      <td>구로구</td>\n",
       "      <td>37.491009</td>\n",
       "      <td>126.826675</td>\n",
       "    </tr>\n",
       "    <tr>\n",
       "      <th>326</th>\n",
       "      <td>신일셀프주유소</td>\n",
       "      <td>1499.0</td>\n",
       "      <td>SK에너지</td>\n",
       "      <td>Y</td>\n",
       "      <td>서울 중랑구 상봉로 58 (망우동)</td>\n",
       "      <td>중랑구</td>\n",
       "      <td>37.590907</td>\n",
       "      <td>127.093834</td>\n",
       "    </tr>\n",
       "    <tr>\n",
       "      <th>40</th>\n",
       "      <td>서경주유소</td>\n",
       "      <td>1499.0</td>\n",
       "      <td>현대오일뱅크</td>\n",
       "      <td>N</td>\n",
       "      <td>서울 동작구 대림로 46 (신대방동)</td>\n",
       "      <td>동작구</td>\n",
       "      <td>37.487947</td>\n",
       "      <td>126.908240</td>\n",
       "    </tr>\n",
       "  </tbody>\n",
       "</table>\n",
       "</div>"
      ],
      "text/plain": [
       "          Oil_store      가격      상표 셀프                          주소     구  \\\n",
       "83         만남의광장주유소  1490.0  알뜰(ex)  N  서울 서초구 양재대로12길 73-71 (원지동)   서초구   \n",
       "344       강서오곡셀프주유소  1497.0   SK에너지  Y     서울특별시 강서구 벌말로 254 (오곡동)   강서구   \n",
       "451         태릉솔밭주유소  1497.0   S-OIL  Y      서울특별시 노원구 노원로 49 (공릉동)   노원구   \n",
       "258          수유동주유소  1498.0   GS칼텍스  Y    서울특별시 강북구  도봉로 395 (수유동)   강북구   \n",
       "227         (주)강서오일  1499.0  현대오일뱅크  N       서울 영등포구 도신로 151 (도림동)  영등포구   \n",
       "225           도림주유소  1499.0   알뜰주유소  Y       서울 영등포구 도림로 343 (도림동)  영등포구   \n",
       "226  (주)대청에너지 대청주유소  1499.0   GS칼텍스  N      서울 영등포구 가마산로 328 (대림동)  영등포구   \n",
       "415          풀페이주유소  1499.0   SK에너지  N      서울특별시 구로구 경인로 41 (온수동)   구로구   \n",
       "326         신일셀프주유소  1499.0   SK에너지  Y         서울 중랑구 상봉로 58 (망우동)   중랑구   \n",
       "40            서경주유소  1499.0  현대오일뱅크  N        서울 동작구 대림로 46 (신대방동)   동작구   \n",
       "\n",
       "           lat         lng  \n",
       "83   37.459906  127.042060  \n",
       "344  37.555284  126.768567  \n",
       "451  37.625918  127.085533  \n",
       "258  37.642140  127.029568  \n",
       "227  37.509969  126.908231  \n",
       "225  37.507656  126.900191  \n",
       "226  37.498556  126.895791  \n",
       "415  37.491009  126.826675  \n",
       "326  37.590907  127.093834  \n",
       "40   37.487947  126.908240  "
      ]
     },
     "execution_count": 37,
     "metadata": {},
     "output_type": "execute_result"
    }
   ],
   "source": [
    "lat = []\n",
    "lng = []\n",
    "\n",
    "for n in tqdm_notebook(oil_price_bottom10.index):\n",
    "    try:\n",
    "        tmp_add = oil_price_bottom10['주소'][n].split('(')[0]\n",
    "        tmp_map = gmaps.geocode(tmp_add)\n",
    "\n",
    "        tmp_loc = tmp_map[0]['geometry']\n",
    "        lat.append(tmp_loc['location']['lat'])\n",
    "        lng.append(tmp_loc['location']['lng'])\n",
    "        \n",
    "    except:\n",
    "        lat.append(np.nan)\n",
    "        lng.append(np.nan)\n",
    "        print(\"Here is nan !\")\n",
    "    \n",
    "oil_price_bottom10['lat'] = lat\n",
    "oil_price_bottom10['lng'] = lng\n",
    "oil_price_bottom10"
   ]
  },
  {
   "cell_type": "code",
   "execution_count": 38,
   "metadata": {},
   "outputs": [
    {
     "data": {
      "text/html": [
       "<div style=\"width:100%;\"><div style=\"position:relative;width:100%;height:0;padding-bottom:60%;\"><iframe src=\"data:text/html;charset=utf-8;base64,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\" style=\"position:absolute;width:100%;height:100%;left:0;top:0;border:none !important;\" allowfullscreen webkitallowfullscreen mozallowfullscreen></iframe></div></div>"
      ],
      "text/plain": [
       "<folium.folium.Map at 0x110e719b0>"
      ]
     },
     "execution_count": 38,
     "metadata": {},
     "output_type": "execute_result"
    }
   ],
   "source": [
    "map = folium.Map(location=[37.5202, 126.975], zoom_start=10.5)\n",
    "\n",
    "for n in oil_price_top10.index:\n",
    "    if pd.notnull(oil_price_top10['lat'][n]):\n",
    "        folium.CircleMarker([oil_price_top10['lat'][n], oil_price_top10['lng'][n]], \n",
    "                                  radius=15, color='#CD3181', \n",
    "                                  fill_color='#CD3181',\n",
    "                                  fill=True).add_to(map)\n",
    "    \n",
    "for n in oil_price_bottom10.index:\n",
    "    if pd.notnull(oil_price_bottom10['lat'][n]): \n",
    "        folium.CircleMarker([oil_price_bottom10['lat'][n], \n",
    "                                  oil_price_bottom10['lng'][n]], \n",
    "                                  radius=15, color='#3186cc', \n",
    "                                  fill_color='#3186cc',\n",
    "                                  fill=True).add_to(map)\n",
    "        \n",
    "map"
   ]
  },
  {
   "cell_type": "code",
   "execution_count": null,
   "metadata": {
    "collapsed": true
   },
   "outputs": [],
   "source": []
  }
 ],
 "metadata": {
  "kernelspec": {
   "display_name": "Python 3",
   "language": "python",
   "name": "python3"
  },
  "language_info": {
   "codemirror_mode": {
    "name": "ipython",
    "version": 3
   },
   "file_extension": ".py",
   "mimetype": "text/x-python",
   "name": "python",
   "nbconvert_exporter": "python",
   "pygments_lexer": "ipython3",
   "version": "3.6.4"
  }
 },
 "nbformat": 4,
 "nbformat_minor": 1
}
