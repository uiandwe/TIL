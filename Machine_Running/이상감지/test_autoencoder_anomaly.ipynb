{
 "cells": [
  {
   "cell_type": "markdown",
   "metadata": {},
   "source": [
    "https://github.com/bnsreenu/python_for_microscopists/blob/master/088-autoencoder_anomaly_V0.1.py\n",
    "\n",
    "https://www.youtube.com/watch?v=u1vLJBwOFC8"
   ]
  },
  {
   "cell_type": "code",
   "execution_count": 1,
   "metadata": {},
   "outputs": [
    {
     "name": "stderr",
     "output_type": "stream",
     "text": [
      "/home/sjhyeon/venv/lib/python3.6/site-packages/pandas/compat/__init__.py:120: UserWarning: Could not import the lzma module. Your installed Python is incomplete. Attempting to use lzma compression will result in a RuntimeError.\n",
      "  warnings.warn(msg)\n"
     ]
    }
   ],
   "source": [
    "import pandas as pd\n",
    "df = pd.read_csv('anomaly.csv')"
   ]
  },
  {
   "cell_type": "code",
   "execution_count": 2,
   "metadata": {},
   "outputs": [
    {
     "name": "stdout",
     "output_type": "stream",
     "text": [
      "Quality\n",
      "Bad      407\n",
      "Good    1054\n",
      "Name: Quality, dtype: int64\n",
      "Good count: 1054\n",
      "Bad count: 407\n",
      "Good train count: 790\n",
      "Good test count: 264\n"
     ]
    },
    {
     "name": "stderr",
     "output_type": "stream",
     "text": [
      "/home/sjhyeon/venv/lib/python3.6/site-packages/ipykernel_launcher.py:11: SettingWithCopyWarning: \n",
      "A value is trying to be set on a copy of a slice from a DataFrame\n",
      "\n",
      "See the caveats in the documentation: https://pandas.pydata.org/pandas-docs/stable/user_guide/indexing.html#returning-a-view-versus-a-copy\n",
      "  # This is added back by InteractiveShellApp.init_path()\n",
      "/home/sjhyeon/venv/lib/python3.6/site-packages/ipykernel_launcher.py:12: SettingWithCopyWarning: \n",
      "A value is trying to be set on a copy of a slice from a DataFrame\n",
      "\n",
      "See the caveats in the documentation: https://pandas.pydata.org/pandas-docs/stable/user_guide/indexing.html#returning-a-view-versus-a-copy\n",
      "  if sys.path[0] == '':\n"
     ]
    }
   ],
   "source": [
    "print(df.groupby('Quality')['Quality'].count())\n",
    "\n",
    "df.drop(['Date'], axis=1, inplace=True)\n",
    "#print(df.head())\n",
    "\n",
    "#If there are missing entries, drop them.\n",
    "df.dropna(inplace=True,axis=1)\n",
    "\n",
    "\n",
    "#COnvert non-numeric to numeric\n",
    "df.Quality[df.Quality == 'Good'] = 1\n",
    "df.Quality[df.Quality == 'Bad'] = 2\n",
    "\n",
    "\n",
    "good_mask = df['Quality']== 1 #All good to be True for good data points\n",
    "bad_mask = df['Quality']== 2 #All values False for good data points\n",
    "#print(good_mask.head())\n",
    "\n",
    "df.drop('Quality',axis=1,inplace=True)\n",
    "\n",
    "df_good = df[good_mask]\n",
    "df_bad = df[bad_mask]\n",
    "\n",
    "print(f\"Good count: {len(df_good)}\")\n",
    "print(f\"Bad count: {len(df_bad)}\")\n",
    "\n",
    "# This is the feature vector that goes to the neural net\n",
    "x_good = df_good.values\n",
    "x_bad = df_bad.values\n",
    "\n",
    "from sklearn.model_selection import train_test_split\n",
    "\n",
    "x_good_train, x_good_test = train_test_split(\n",
    "        x_good, test_size=0.25, random_state=42)\n",
    "\n",
    "print(f\"Good train count: {len(x_good_train)}\")\n",
    "print(f\"Good test count: {len(x_good_test)}\")\n"
   ]
  },
  {
   "cell_type": "code",
   "execution_count": 3,
   "metadata": {},
   "outputs": [
    {
     "name": "stdout",
     "output_type": "stream",
     "text": [
      "Model: \"sequential\"\n",
      "_________________________________________________________________\n",
      "Layer (type)                 Output Shape              Param #   \n",
      "=================================================================\n",
      "dense (Dense)                (None, 10)                30        \n",
      "_________________________________________________________________\n",
      "dense_1 (Dense)              (None, 3)                 33        \n",
      "_________________________________________________________________\n",
      "dense_2 (Dense)              (None, 10)                40        \n",
      "_________________________________________________________________\n",
      "dense_3 (Dense)              (None, 2)                 22        \n",
      "=================================================================\n",
      "Total params: 125\n",
      "Trainable params: 125\n",
      "Non-trainable params: 0\n",
      "_________________________________________________________________\n"
     ]
    }
   ],
   "source": [
    "from sklearn import metrics\n",
    "import numpy as np\n",
    "import pandas as pd\n",
    "from tensorflow.keras.models import Sequential\n",
    "from tensorflow.keras.layers import Dense\n",
    "\n",
    "model = Sequential()\n",
    "model.add(Dense(10, input_dim=x_good.shape[1], activation='relu'))\n",
    "model.add(Dense(3, activation='relu'))\n",
    "model.add(Dense(10, activation='relu'))\n",
    "model.add(Dense(x_good.shape[1])) \n",
    "model.compile(loss='mean_squared_error', optimizer='adam')\n",
    "model.summary()\n"
   ]
  },
  {
   "cell_type": "code",
   "execution_count": 4,
   "metadata": {},
   "outputs": [
    {
     "name": "stdout",
     "output_type": "stream",
     "text": [
      "Epoch 1/100\n",
      "25/25 [==============================] - 0s 1ms/step - loss: 4499.0946\n",
      "Epoch 2/100\n",
      "25/25 [==============================] - 0s 908us/step - loss: 3914.8914\n",
      "Epoch 3/100\n",
      "25/25 [==============================] - 0s 712us/step - loss: 3167.8717\n",
      "Epoch 4/100\n",
      "25/25 [==============================] - 0s 786us/step - loss: 2154.4080\n",
      "Epoch 5/100\n",
      "25/25 [==============================] - 0s 684us/step - loss: 1036.0378\n",
      "Epoch 6/100\n",
      "25/25 [==============================] - 0s 779us/step - loss: 229.8377\n",
      "Epoch 7/100\n",
      "25/25 [==============================] - 0s 701us/step - loss: 7.4065\n",
      "Epoch 8/100\n",
      "25/25 [==============================] - 0s 627us/step - loss: 1.9361\n",
      "Epoch 9/100\n",
      "25/25 [==============================] - 0s 646us/step - loss: 1.2179\n",
      "Epoch 10/100\n",
      "25/25 [==============================] - 0s 600us/step - loss: 1.1070\n",
      "Epoch 11/100\n",
      "25/25 [==============================] - 0s 647us/step - loss: 1.2131\n",
      "Epoch 12/100\n",
      "25/25 [==============================] - 0s 989us/step - loss: 1.1095\n",
      "Epoch 13/100\n",
      "25/25 [==============================] - 0s 997us/step - loss: 1.1902\n",
      "Epoch 14/100\n",
      "25/25 [==============================] - 0s 893us/step - loss: 1.1683\n",
      "Epoch 15/100\n",
      "25/25 [==============================] - 0s 878us/step - loss: 1.1479\n",
      "Epoch 16/100\n",
      "25/25 [==============================] - 0s 971us/step - loss: 1.1159\n",
      "Epoch 17/100\n",
      "25/25 [==============================] - 0s 770us/step - loss: 1.1746\n",
      "Epoch 18/100\n",
      "25/25 [==============================] - 0s 739us/step - loss: 1.1435\n",
      "Epoch 19/100\n",
      "25/25 [==============================] - 0s 821us/step - loss: 1.1623\n",
      "Epoch 20/100\n",
      "25/25 [==============================] - 0s 808us/step - loss: 1.1641\n",
      "Epoch 21/100\n",
      "25/25 [==============================] - 0s 817us/step - loss: 1.1222\n",
      "Epoch 22/100\n",
      "25/25 [==============================] - 0s 863us/step - loss: 1.1257\n",
      "Epoch 23/100\n",
      "25/25 [==============================] - 0s 641us/step - loss: 1.0898\n",
      "Epoch 24/100\n",
      "25/25 [==============================] - 0s 741us/step - loss: 1.1123\n",
      "Epoch 25/100\n",
      "25/25 [==============================] - 0s 926us/step - loss: 1.2246\n",
      "Epoch 26/100\n",
      "25/25 [==============================] - 0s 1ms/step - loss: 1.2406\n",
      "Epoch 27/100\n",
      "25/25 [==============================] - 0s 1ms/step - loss: 1.1089\n",
      "Epoch 28/100\n",
      "25/25 [==============================] - 0s 848us/step - loss: 1.2133\n",
      "Epoch 29/100\n",
      "25/25 [==============================] - 0s 959us/step - loss: 1.1714\n",
      "Epoch 30/100\n",
      "25/25 [==============================] - 0s 839us/step - loss: 1.1815\n",
      "Epoch 31/100\n",
      "25/25 [==============================] - 0s 750us/step - loss: 1.1279\n",
      "Epoch 32/100\n",
      "25/25 [==============================] - 0s 728us/step - loss: 1.1590\n",
      "Epoch 33/100\n",
      "25/25 [==============================] - 0s 908us/step - loss: 1.1478\n",
      "Epoch 34/100\n",
      "25/25 [==============================] - 0s 936us/step - loss: 1.1249\n",
      "Epoch 35/100\n",
      "25/25 [==============================] - 0s 1ms/step - loss: 1.1968\n",
      "Epoch 36/100\n",
      "25/25 [==============================] - 0s 1ms/step - loss: 1.1614\n",
      "Epoch 37/100\n",
      "25/25 [==============================] - 0s 1ms/step - loss: 1.1783\n",
      "Epoch 38/100\n",
      "25/25 [==============================] - 0s 1ms/step - loss: 1.1968\n",
      "Epoch 39/100\n",
      "25/25 [==============================] - 0s 998us/step - loss: 1.1640\n",
      "Epoch 40/100\n",
      "25/25 [==============================] - 0s 1ms/step - loss: 1.1399\n",
      "Epoch 41/100\n",
      "25/25 [==============================] - 0s 1ms/step - loss: 1.0952\n",
      "Epoch 42/100\n",
      "25/25 [==============================] - 0s 1ms/step - loss: 1.1260\n",
      "Epoch 43/100\n",
      "25/25 [==============================] - 0s 1ms/step - loss: 1.1557\n",
      "Epoch 44/100\n",
      "25/25 [==============================] - 0s 1ms/step - loss: 1.1442\n",
      "Epoch 45/100\n",
      "25/25 [==============================] - 0s 1ms/step - loss: 1.0866\n",
      "Epoch 46/100\n",
      "25/25 [==============================] - 0s 1ms/step - loss: 1.1344\n",
      "Epoch 47/100\n",
      "25/25 [==============================] - 0s 1ms/step - loss: 1.1512\n",
      "Epoch 48/100\n",
      "25/25 [==============================] - 0s 1ms/step - loss: 1.1827\n",
      "Epoch 49/100\n",
      "25/25 [==============================] - 0s 1ms/step - loss: 1.0913\n",
      "Epoch 50/100\n",
      "25/25 [==============================] - 0s 1ms/step - loss: 1.1731\n",
      "Epoch 51/100\n",
      "25/25 [==============================] - 0s 1ms/step - loss: 1.1537\n",
      "Epoch 52/100\n",
      "25/25 [==============================] - 0s 838us/step - loss: 1.1195\n",
      "Epoch 53/100\n",
      "25/25 [==============================] - 0s 641us/step - loss: 1.1563\n",
      "Epoch 54/100\n",
      "25/25 [==============================] - 0s 691us/step - loss: 1.1110\n",
      "Epoch 55/100\n",
      "25/25 [==============================] - 0s 772us/step - loss: 1.1723\n",
      "Epoch 56/100\n",
      "25/25 [==============================] - 0s 703us/step - loss: 1.0740\n",
      "Epoch 57/100\n",
      "25/25 [==============================] - 0s 634us/step - loss: 1.1346\n",
      "Epoch 58/100\n",
      "25/25 [==============================] - 0s 728us/step - loss: 1.0917\n",
      "Epoch 59/100\n",
      "25/25 [==============================] - 0s 913us/step - loss: 1.1316\n",
      "Epoch 60/100\n",
      "25/25 [==============================] - 0s 975us/step - loss: 1.1735\n",
      "Epoch 61/100\n",
      "25/25 [==============================] - 0s 825us/step - loss: 1.1195\n",
      "Epoch 62/100\n",
      "25/25 [==============================] - 0s 889us/step - loss: 1.2400\n",
      "Epoch 63/100\n",
      "25/25 [==============================] - 0s 769us/step - loss: 1.1486\n",
      "Epoch 64/100\n",
      "25/25 [==============================] - 0s 745us/step - loss: 1.1300\n",
      "Epoch 65/100\n",
      "25/25 [==============================] - 0s 893us/step - loss: 1.0884\n",
      "Epoch 66/100\n",
      "25/25 [==============================] - 0s 820us/step - loss: 1.1211\n",
      "Epoch 67/100\n",
      "25/25 [==============================] - 0s 996us/step - loss: 1.1683\n",
      "Epoch 68/100\n",
      "25/25 [==============================] - 0s 1ms/step - loss: 1.1377\n",
      "Epoch 69/100\n",
      "25/25 [==============================] - 0s 1ms/step - loss: 1.1580\n",
      "Epoch 70/100\n",
      "25/25 [==============================] - 0s 869us/step - loss: 1.0655\n",
      "Epoch 71/100\n",
      "25/25 [==============================] - 0s 963us/step - loss: 1.0999\n",
      "Epoch 72/100\n",
      "25/25 [==============================] - 0s 1ms/step - loss: 1.1643\n",
      "Epoch 73/100\n",
      "25/25 [==============================] - 0s 1ms/step - loss: 1.1427\n",
      "Epoch 74/100\n",
      "25/25 [==============================] - 0s 1ms/step - loss: 1.2185\n",
      "Epoch 75/100\n",
      "25/25 [==============================] - 0s 1ms/step - loss: 1.1056\n",
      "Epoch 76/100\n",
      "25/25 [==============================] - 0s 968us/step - loss: 1.1577\n",
      "Epoch 77/100\n",
      "25/25 [==============================] - 0s 1ms/step - loss: 1.1427\n",
      "Epoch 78/100\n",
      "25/25 [==============================] - 0s 1ms/step - loss: 1.1843\n",
      "Epoch 79/100\n",
      "25/25 [==============================] - 0s 1ms/step - loss: 1.1461\n",
      "Epoch 80/100\n",
      "25/25 [==============================] - 0s 1ms/step - loss: 1.0751\n",
      "Epoch 81/100\n",
      "25/25 [==============================] - 0s 823us/step - loss: 1.1629\n",
      "Epoch 82/100\n",
      "25/25 [==============================] - 0s 1ms/step - loss: 1.1656\n",
      "Epoch 83/100\n",
      "25/25 [==============================] - 0s 1ms/step - loss: 1.1324\n",
      "Epoch 84/100\n",
      "25/25 [==============================] - 0s 909us/step - loss: 1.1170\n",
      "Epoch 85/100\n",
      "25/25 [==============================] - 0s 843us/step - loss: 1.1074\n",
      "Epoch 86/100\n",
      "25/25 [==============================] - 0s 842us/step - loss: 1.1483\n",
      "Epoch 87/100\n",
      "25/25 [==============================] - 0s 752us/step - loss: 1.1493\n",
      "Epoch 88/100\n",
      "25/25 [==============================] - 0s 805us/step - loss: 1.1067\n",
      "Epoch 89/100\n",
      "25/25 [==============================] - 0s 834us/step - loss: 1.0381\n",
      "Epoch 90/100\n",
      "25/25 [==============================] - 0s 928us/step - loss: 1.0857\n",
      "Epoch 91/100\n",
      "25/25 [==============================] - 0s 1ms/step - loss: 1.0839\n",
      "Epoch 92/100\n",
      "25/25 [==============================] - 0s 989us/step - loss: 1.1240\n",
      "Epoch 93/100\n",
      "25/25 [==============================] - 0s 1ms/step - loss: 1.0740\n",
      "Epoch 94/100\n",
      "25/25 [==============================] - 0s 1ms/step - loss: 1.1244\n",
      "Epoch 95/100\n",
      "25/25 [==============================] - 0s 1ms/step - loss: 1.1923\n",
      "Epoch 96/100\n",
      "25/25 [==============================] - 0s 1ms/step - loss: 1.1197\n",
      "Epoch 97/100\n",
      "25/25 [==============================] - 0s 1ms/step - loss: 1.0767\n",
      "Epoch 98/100\n",
      "25/25 [==============================] - 0s 893us/step - loss: 1.1512\n",
      "Epoch 99/100\n",
      "25/25 [==============================] - 0s 774us/step - loss: 1.0878\n",
      "Epoch 100/100\n",
      "25/25 [==============================] - 0s 628us/step - loss: 1.1345\n"
     ]
    },
    {
     "data": {
      "text/plain": [
       "<tensorflow.python.keras.callbacks.History at 0x7fc25c0d4978>"
      ]
     },
     "execution_count": 4,
     "metadata": {},
     "output_type": "execute_result"
    }
   ],
   "source": [
    "model.fit(x_good_train,x_good_train,verbose=1,epochs=100)"
   ]
  },
  {
   "cell_type": "code",
   "execution_count": 5,
   "metadata": {},
   "outputs": [
    {
     "name": "stdout",
     "output_type": "stream",
     "text": [
      "Insample Good Score (RMSE): 1.0574895601356746\n",
      "Out of Sample Good Score (RMSE): 1.056823929465085\n",
      "Bad sample Score (RMSE): 2.603613858294164\n"
     ]
    }
   ],
   "source": [
    "pred = model.predict(x_good_test)\n",
    "score1 = np.sqrt(metrics.mean_squared_error(pred,x_good_test))\n",
    "\n",
    "pred = model.predict(x_good)\n",
    "score2 = np.sqrt(metrics.mean_squared_error(pred,x_good))\n",
    "\n",
    "pred = model.predict(x_bad)\n",
    "score3 = np.sqrt(metrics.mean_squared_error(pred,x_bad))\n",
    "\n",
    "print(f\"Insample Good Score (RMSE): {score1}\".format(score1))\n",
    "print(f\"Out of Sample Good Score (RMSE): {score2}\")\n",
    "print(f\"Bad sample Score (RMSE): {score3}\")"
   ]
  },
  {
   "cell_type": "code",
   "execution_count": null,
   "metadata": {},
   "outputs": [],
   "source": []
  },
  {
   "cell_type": "code",
   "execution_count": null,
   "metadata": {},
   "outputs": [],
   "source": []
  },
  {
   "cell_type": "code",
   "execution_count": null,
   "metadata": {},
   "outputs": [],
   "source": []
  },
  {
   "cell_type": "code",
   "execution_count": null,
   "metadata": {},
   "outputs": [],
   "source": []
  },
  {
   "cell_type": "code",
   "execution_count": null,
   "metadata": {},
   "outputs": [],
   "source": []
  },
  {
   "cell_type": "code",
   "execution_count": null,
   "metadata": {},
   "outputs": [],
   "source": []
  },
  {
   "cell_type": "code",
   "execution_count": null,
   "metadata": {},
   "outputs": [],
   "source": []
  },
  {
   "cell_type": "code",
   "execution_count": null,
   "metadata": {},
   "outputs": [],
   "source": []
  },
  {
   "cell_type": "code",
   "execution_count": null,
   "metadata": {},
   "outputs": [],
   "source": []
  },
  {
   "cell_type": "code",
   "execution_count": null,
   "metadata": {},
   "outputs": [],
   "source": []
  },
  {
   "cell_type": "code",
   "execution_count": null,
   "metadata": {},
   "outputs": [],
   "source": []
  },
  {
   "cell_type": "code",
   "execution_count": null,
   "metadata": {},
   "outputs": [],
   "source": []
  },
  {
   "cell_type": "code",
   "execution_count": null,
   "metadata": {},
   "outputs": [],
   "source": []
  },
  {
   "cell_type": "code",
   "execution_count": null,
   "metadata": {},
   "outputs": [],
   "source": []
  },
  {
   "cell_type": "code",
   "execution_count": null,
   "metadata": {},
   "outputs": [],
   "source": []
  },
  {
   "cell_type": "code",
   "execution_count": null,
   "metadata": {},
   "outputs": [],
   "source": []
  },
  {
   "cell_type": "code",
   "execution_count": null,
   "metadata": {},
   "outputs": [],
   "source": []
  },
  {
   "cell_type": "code",
   "execution_count": null,
   "metadata": {},
   "outputs": [],
   "source": []
  },
  {
   "cell_type": "code",
   "execution_count": 12,
   "metadata": {
    "scrolled": true
   },
   "outputs": [
    {
     "data": {
      "text/plain": [
       "<AxesSubplot:xlabel='Date', ylabel='Close'>"
      ]
     },
     "execution_count": 12,
     "metadata": {},
     "output_type": "execute_result"
    },
    {
     "data": {
      "image/png": "[encoded data removed]",
      "text/plain": [
       "<Figure size 432x288 with 1 Axes>"
      ]
     },
     "metadata": {
      "needs_background": "light"
     },
     "output_type": "display_data"
    }
   ],
   "source": [
    "sns.lineplot(x=df['Date'], y=df['Close'])"
   ]
  },
  {
   "cell_type": "code",
   "execution_count": 13,
   "metadata": {},
   "outputs": [
    {
     "name": "stdout",
     "output_type": "stream",
     "text": [
      "Start date is:  1970-05-11 00:00:00\n",
      "End date is:  2021-05-10 00:00:00\n"
     ]
    }
   ],
   "source": [
    "print(\"Start date is: \", df['Date'].min())\n",
    "print(\"End date is: \", df['Date'].max())"
   ]
  },
  {
   "cell_type": "code",
   "execution_count": 14,
   "metadata": {},
   "outputs": [],
   "source": [
    "train, test = df.loc[df['Date'] <= '2003-12-31'], df.loc[df['Date'] > '2003-12-31']"
   ]
  },
  {
   "cell_type": "code",
   "execution_count": 15,
   "metadata": {},
   "outputs": [
    {
     "name": "stderr",
     "output_type": "stream",
     "text": [
      "/home/sjhyeon/venv/lib/python3.6/site-packages/ipykernel_launcher.py:4: SettingWithCopyWarning: \n",
      "A value is trying to be set on a copy of a slice from a DataFrame.\n",
      "Try using .loc[row_indexer,col_indexer] = value instead\n",
      "\n",
      "See the caveats in the documentation: https://pandas.pydata.org/pandas-docs/stable/user_guide/indexing.html#returning-a-view-versus-a-copy\n",
      "  after removing the cwd from sys.path.\n",
      "/home/sjhyeon/venv/lib/python3.6/site-packages/ipykernel_launcher.py:5: SettingWithCopyWarning: \n",
      "A value is trying to be set on a copy of a slice from a DataFrame.\n",
      "Try using .loc[row_indexer,col_indexer] = value instead\n",
      "\n",
      "See the caveats in the documentation: https://pandas.pydata.org/pandas-docs/stable/user_guide/indexing.html#returning-a-view-versus-a-copy\n",
      "  \"\"\"\n"
     ]
    }
   ],
   "source": [
    "scaler = StandardScaler()\n",
    "scaler = scaler.fit(train[['Close']])\n",
    "\n",
    "train['Close'] = scaler.transform(train[['Close']])\n",
    "test['Close'] = scaler.transform(test[['Close']])"
   ]
  },
  {
   "cell_type": "code",
   "execution_count": 16,
   "metadata": {},
   "outputs": [],
   "source": [
    "seq_size = 30\n",
    "\n",
    "def to_sequences(x, y, seq_size=1):\n",
    "    x_values = []\n",
    "    y_values = []\n",
    "\n",
    "    for i in range(len(x)-seq_size):\n",
    "        #print(i)\n",
    "        x_values.append(x.iloc[i:(i+seq_size)].values)\n",
    "        y_values.append(y.iloc[i+seq_size])\n",
    "        \n",
    "    return np.array(x_values), np.array(y_values)\n",
    "\n",
    "trainX, trainY = to_sequences(train[['Close']], train['Close'], seq_size)\n",
    "testX, testY = to_sequences(test[['Close']], test['Close'], seq_size)\n"
   ]
  },
  {
   "cell_type": "code",
   "execution_count": 23,
   "metadata": {},
   "outputs": [
    {
     "name": "stdout",
     "output_type": "stream",
     "text": [
      "Model: \"sequential_1\"\n",
      "_________________________________________________________________\n",
      "Layer (type)                 Output Shape              Param #   \n",
      "=================================================================\n",
      "lstm_4 (LSTM)                (None, 128)               66560     \n",
      "_________________________________________________________________\n",
      "dropout (Dropout)            (None, 128)               0         \n",
      "_________________________________________________________________\n",
      "repeat_vector_1 (RepeatVecto (None, 30, 128)           0         \n",
      "_________________________________________________________________\n",
      "lstm_5 (LSTM)                (None, 30, 128)           131584    \n",
      "_________________________________________________________________\n",
      "dropout_1 (Dropout)          (None, 30, 128)           0         \n",
      "_________________________________________________________________\n",
      "time_distributed_1 (TimeDist (None, 30, 1)             129       \n",
      "=================================================================\n",
      "Total params: 198,273\n",
      "Trainable params: 198,273\n",
      "Non-trainable params: 0\n",
      "_________________________________________________________________\n"
     ]
    }
   ],
   "source": [
    "# model = Sequential()\n",
    "# model.add(LSTM(128, activation='relu', input_shape=(trainX.shape[1], trainX.shape[2]), return_sequences=True))\n",
    "# model.add(LSTM(64, activation='relu', return_sequences=False))\n",
    "# model.add(RepeatVector(trainX.shape[1]))\n",
    "# model.add(LSTM(64, activation='relu', return_sequences=True))\n",
    "# model.add(LSTM(128, activation='relu', return_sequences=True))\n",
    "# model.add(TimeDistributed(Dense(trainX.shape[2])))\n",
    "\n",
    "# model.compile(optimizer='adam', loss='mse')\n",
    "# model.summary()\n",
    "\n",
    "model = Sequential()\n",
    "model.add(LSTM(128, input_shape=(trainX.shape[1], trainX.shape[2])))\n",
    "model.add(Dropout(rate=0.2))\n",
    "\n",
    "model.add(RepeatVector(trainX.shape[1]))\n",
    "\n",
    "model.add(LSTM(128, return_sequences=True))\n",
    "model.add(Dropout(rate=0.2))\n",
    "model.add(TimeDistributed(Dense(trainX.shape[2])))\n",
    "model.compile(optimizer='adam', loss='mae')\n",
    "model.summary()"
   ]
  },
  {
   "cell_type": "code",
   "execution_count": 24,
   "metadata": {},
   "outputs": [
    {
     "name": "stdout",
     "output_type": "stream",
     "text": [
      "Epoch 1/10\n",
      "239/239 [==============================] - 10s 33ms/step - loss: 0.1239 - val_loss: 0.1808\n",
      "Epoch 2/10\n",
      "239/239 [==============================] - 8s 32ms/step - loss: 0.0440 - val_loss: 0.0745\n",
      "Epoch 3/10\n",
      "239/239 [==============================] - 8s 32ms/step - loss: 0.0339 - val_loss: 0.0757\n",
      "Epoch 4/10\n",
      "239/239 [==============================] - 8s 32ms/step - loss: 0.0348 - val_loss: 0.0990\n",
      "Epoch 5/10\n",
      "239/239 [==============================] - 8s 32ms/step - loss: 0.0317 - val_loss: 0.0850\n",
      "Epoch 6/10\n",
      "239/239 [==============================] - 8s 32ms/step - loss: 0.0317 - val_loss: 0.0553\n",
      "Epoch 7/10\n",
      "239/239 [==============================] - 8s 33ms/step - loss: 0.0303 - val_loss: 0.0657\n",
      "Epoch 8/10\n",
      "239/239 [==============================] - 8s 33ms/step - loss: 0.0288 - val_loss: 0.0590\n",
      "Epoch 9/10\n",
      "239/239 [==============================] - 9s 37ms/step - loss: 0.0286 - val_loss: 0.1090\n",
      "Epoch 10/10\n",
      "239/239 [==============================] - 8s 33ms/step - loss: 0.0289 - val_loss: 0.0542\n"
     ]
    },
    {
     "data": {
      "text/plain": [
       "<matplotlib.legend.Legend at 0x7fc3d4500f60>"
      ]
     },
     "execution_count": 24,
     "metadata": {},
     "output_type": "execute_result"
    },
    {
     "data": {
      "image/png": "[encoded data removed]",
      "text/plain": [
       "<Figure size 432x288 with 1 Axes>"
      ]
     },
     "metadata": {
      "needs_background": "light"
     },
     "output_type": "display_data"
    }
   ],
   "source": [
    "history = model.fit(trainX, trainY, epochs=10, batch_size=32, validation_split=0.1, verbose=1)\n",
    "\n",
    "plt.plot(history.history['loss'], label='Training loss')\n",
    "plt.plot(history.history['val_loss'], label='Validation loss')\n",
    "plt.legend()\n"
   ]
  },
  {
   "cell_type": "code",
   "execution_count": 33,
   "metadata": {},
   "outputs": [
    {
     "data": {
      "image/png": "[encoded data removed]",
      "text/plain": [
       "<Figure size 432x288 with 1 Axes>"
      ]
     },
     "metadata": {
      "needs_background": "light"
     },
     "output_type": "display_data"
    }
   ],
   "source": [
    "trainPredict = model.predict(trainX)\n",
    "trainMAE = np.mean(np.abs(trainPredict - trainX), axis=1)\n",
    "plt.hist(trainMAE, bins=30)\n",
    "max_trainMAE = 0.3"
   ]
  },
  {
   "cell_type": "code",
   "execution_count": 34,
   "metadata": {},
   "outputs": [
    {
     "data": {
      "text/plain": [
       "(array([239., 870., 809., 561., 433., 358., 279., 200., 139., 129.,  82.,\n",
       "         46.,  43.,  35.,  24.,  32.,  16.,  11.,   4.,   4.,   6.,   9.,\n",
       "          2.,   2.,   2.,   0.,   2.,   0.,   0.,   1.]),\n",
       " array([0.00672264, 0.02007298, 0.03342332, 0.04677367, 0.06012401,\n",
       "        0.07347435, 0.08682469, 0.10017503, 0.11352538, 0.12687572,\n",
       "        0.14022606, 0.1535764 , 0.16692674, 0.18027708, 0.19362743,\n",
       "        0.20697777, 0.22032811, 0.23367845, 0.24702879, 0.26037914,\n",
       "        0.27372948, 0.28707982, 0.30043016, 0.3137805 , 0.32713085,\n",
       "        0.34048119, 0.35383153, 0.36718187, 0.38053221, 0.39388256,\n",
       "        0.4072329 ]),\n",
       " <BarContainer object of 30 artists>)"
      ]
     },
     "execution_count": 34,
     "metadata": {},
     "output_type": "execute_result"
    },
    {
     "data": {
      "image/png": "[encoded data removed]",
      "text/plain": [
       "<Figure size 432x288 with 1 Axes>"
      ]
     },
     "metadata": {
      "needs_background": "light"
     },
     "output_type": "display_data"
    }
   ],
   "source": [
    "testPredict = model.predict(testX)\n",
    "testMAE = np.mean(np.abs(testPredict - testX), axis=1)\n",
    "plt.hist(testMAE, bins=30)\n"
   ]
  },
  {
   "cell_type": "code",
   "execution_count": 35,
   "metadata": {},
   "outputs": [],
   "source": [
    "anomaly_df = pd.DataFrame(test[seq_size:])\n",
    "anomaly_df['testMAE'] = testMAE\n",
    "anomaly_df['max_trainMAE'] = max_trainMAE\n",
    "anomaly_df['anomaly'] = anomaly_df['testMAE'] > anomaly_df['max_trainMAE']\n",
    "anomaly_df['Close'] = test[seq_size:]['Close']"
   ]
  },
  {
   "cell_type": "code",
   "execution_count": 38,
   "metadata": {},
   "outputs": [
    {
     "data": {
      "image/png": "[encoded data removed]",
      "text/plain": [
       "<Figure size 432x288 with 1 Axes>"
      ]
     },
     "metadata": {
      "needs_background": "light"
     },
     "output_type": "display_data"
    }
   ],
   "source": [
    "sns.lineplot(x=anomaly_df['Date'], y=anomaly_df['testMAE'])\n",
    "sns.lineplot(x=anomaly_df['Date'], y=anomaly_df['max_trainMAE'])\n",
    "\n",
    "anomalies = anomaly_df.loc[anomaly_df['anomaly'] == True]\n",
    "\n"
   ]
  },
  {
   "cell_type": "code",
   "execution_count": 39,
   "metadata": {},
   "outputs": [
    {
     "data": {
      "text/plain": [
       "<AxesSubplot:xlabel='Date'>"
      ]
     },
     "execution_count": 39,
     "metadata": {},
     "output_type": "execute_result"
    },
    {
     "data": {
      "image/png": "[encoded data removed]",
      "text/plain": [
       "<Figure size 432x288 with 1 Axes>"
      ]
     },
     "metadata": {
      "needs_background": "light"
     },
     "output_type": "display_data"
    }
   ],
   "source": [
    "#Plot anomalies\n",
    "sns.lineplot(x=anomaly_df['Date'], y=scaler.inverse_transform(anomaly_df['Close']))\n",
    "sns.scatterplot(x=anomalies['Date'], y=scaler.inverse_transform(anomalies['Close']), color='r')\n"
   ]
  },
  {
   "cell_type": "code",
   "execution_count": 37,
   "metadata": {},
   "outputs": [
    {
     "data": {
      "text/html": [
       "<div>\n",
       "<style scoped>\n",
       "    .dataframe tbody tr th:only-of-type {\n",
       "        vertical-align: middle;\n",
       "    }\n",
       "\n",
       "    .dataframe tbody tr th {\n",
       "        vertical-align: top;\n",
       "    }\n",
       "\n",
       "    .dataframe thead th {\n",
       "        text-align: right;\n",
       "    }\n",
       "</style>\n",
       "<table border=\"1\" class=\"dataframe\">\n",
       "  <thead>\n",
       "    <tr style=\"text-align: right;\">\n",
       "      <th></th>\n",
       "      <th>Date</th>\n",
       "      <th>Close</th>\n",
       "      <th>testMAE</th>\n",
       "      <th>max_trainMAE</th>\n",
       "      <th>anomaly</th>\n",
       "    </tr>\n",
       "  </thead>\n",
       "  <tbody>\n",
       "    <tr>\n",
       "      <th>9696</th>\n",
       "      <td>2008-10-07</td>\n",
       "      <td>0.749434</td>\n",
       "      <td>0.318478</td>\n",
       "      <td>0.3</td>\n",
       "      <td>True</td>\n",
       "    </tr>\n",
       "    <tr>\n",
       "      <th>9697</th>\n",
       "      <td>2008-10-08</td>\n",
       "      <td>0.774843</td>\n",
       "      <td>0.362269</td>\n",
       "      <td>0.3</td>\n",
       "      <td>True</td>\n",
       "    </tr>\n",
       "    <tr>\n",
       "      <th>9698</th>\n",
       "      <td>2008-10-09</td>\n",
       "      <td>0.655784</td>\n",
       "      <td>0.361696</td>\n",
       "      <td>0.3</td>\n",
       "      <td>True</td>\n",
       "    </tr>\n",
       "    <tr>\n",
       "      <th>9699</th>\n",
       "      <td>2008-10-10</td>\n",
       "      <td>0.836551</td>\n",
       "      <td>0.407233</td>\n",
       "      <td>0.3</td>\n",
       "      <td>True</td>\n",
       "    </tr>\n",
       "    <tr>\n",
       "      <th>9700</th>\n",
       "      <td>2008-10-13</td>\n",
       "      <td>0.800252</td>\n",
       "      <td>0.337403</td>\n",
       "      <td>0.3</td>\n",
       "      <td>True</td>\n",
       "    </tr>\n",
       "    <tr>\n",
       "      <th>9701</th>\n",
       "      <td>2008-10-14</td>\n",
       "      <td>0.789363</td>\n",
       "      <td>0.302325</td>\n",
       "      <td>0.3</td>\n",
       "      <td>True</td>\n",
       "    </tr>\n",
       "    <tr>\n",
       "      <th>9703</th>\n",
       "      <td>2008-10-16</td>\n",
       "      <td>0.719669</td>\n",
       "      <td>0.305334</td>\n",
       "      <td>0.3</td>\n",
       "      <td>True</td>\n",
       "    </tr>\n",
       "    <tr>\n",
       "      <th>9729</th>\n",
       "      <td>2008-11-21</td>\n",
       "      <td>0.294250</td>\n",
       "      <td>0.334833</td>\n",
       "      <td>0.3</td>\n",
       "      <td>True</td>\n",
       "    </tr>\n",
       "    <tr>\n",
       "      <th>9730</th>\n",
       "      <td>2008-11-24</td>\n",
       "      <td>0.383545</td>\n",
       "      <td>0.326511</td>\n",
       "      <td>0.3</td>\n",
       "      <td>True</td>\n",
       "    </tr>\n",
       "  </tbody>\n",
       "</table>\n",
       "</div>"
      ],
      "text/plain": [
       "           Date     Close   testMAE  max_trainMAE  anomaly\n",
       "9696 2008-10-07  0.749434  0.318478           0.3     True\n",
       "9697 2008-10-08  0.774843  0.362269           0.3     True\n",
       "9698 2008-10-09  0.655784  0.361696           0.3     True\n",
       "9699 2008-10-10  0.836551  0.407233           0.3     True\n",
       "9700 2008-10-13  0.800252  0.337403           0.3     True\n",
       "9701 2008-10-14  0.789363  0.302325           0.3     True\n",
       "9703 2008-10-16  0.719669  0.305334           0.3     True\n",
       "9729 2008-11-21  0.294250  0.334833           0.3     True\n",
       "9730 2008-11-24  0.383545  0.326511           0.3     True"
      ]
     },
     "execution_count": 37,
     "metadata": {},
     "output_type": "execute_result"
    }
   ],
   "source": [
    "anomalies"
   ]
  },
  {
   "cell_type": "code",
   "execution_count": null,
   "metadata": {},
   "outputs": [],
   "source": []
  }
 ],
 "metadata": {
  "kernelspec": {
   "display_name": "Python 3",
   "language": "python",
   "name": "python3"
  },
  "language_info": {
   "codemirror_mode": {
    "name": "ipython",
    "version": 3
   },
   "file_extension": ".py",
   "mimetype": "text/x-python",
   "name": "python",
   "nbconvert_exporter": "python",
   "pygments_lexer": "ipython3",
   "version": "3.6.3"
  }
 },
 "nbformat": 4,
 "nbformat_minor": 2
}
