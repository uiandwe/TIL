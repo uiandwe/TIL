{
 "cells": [
  {
   "cell_type": "code",
   "execution_count": 4,
   "metadata": {},
   "outputs": [],
   "source": [
    "import tensorflow as tf\n",
    "import pandas as pd\n",
    "import seaborn as sns\n",
    "import matplotlib.pyplot as plt\n",
    "import os\n",
    "import numpy as np"
   ]
  },
  {
   "cell_type": "code",
   "execution_count": 5,
   "metadata": {},
   "outputs": [],
   "source": [
    "from keras.datasets import reuters\n",
    "from keras.models import Sequential\n",
    "from keras.layers import Dense, LSTM, Embedding\n",
    "from keras.preprocessing import sequence\n",
    "from keras.utils import np_utils"
   ]
  },
  {
   "cell_type": "code",
   "execution_count": 6,
   "metadata": {},
   "outputs": [],
   "source": [
    "seed = 0\n",
    "np.random.seed(seed)\n",
    "tf.set_random_seed(seed)"
   ]
  },
  {
   "cell_type": "code",
   "execution_count": 7,
   "metadata": {},
   "outputs": [],
   "source": [
    "(X_train, Y_train), (X_test, Y_test) = reuters.load_data(num_words = 1000, test_split=0.2)"
   ]
  },
  {
   "cell_type": "code",
   "execution_count": 8,
   "metadata": {},
   "outputs": [
    {
     "name": "stdout",
     "output_type": "stream",
     "text": [
      "46\n",
      "8982\n",
      "2246\n",
      "[1, 2, 2, 8, 43, 10, 447, 5, 25, 207, 270, 5, 2, 111, 16, 369, 186, 90, 67, 7, 89, 5, 19, 102, 6, 19, 124, 15, 90, 67, 84, 22, 482, 26, 7, 48, 4, 49, 8, 864, 39, 209, 154, 6, 151, 6, 83, 11, 15, 22, 155, 11, 15, 7, 48, 9, 2, 2, 504, 6, 258, 6, 272, 11, 15, 22, 134, 44, 11, 15, 16, 8, 197, 2, 90, 67, 52, 29, 209, 30, 32, 132, 6, 109, 15, 17, 12]\n"
     ]
    }
   ],
   "source": [
    "category = np.max(Y_train) + 1\n",
    "print(category)\n",
    "print(len(X_train))\n",
    "print(len(X_test))\n",
    "print(X_train[0])"
   ]
  },
  {
   "cell_type": "code",
   "execution_count": 9,
   "metadata": {},
   "outputs": [],
   "source": [
    "x_train = sequence.pad_sequences(X_train, maxlen=100)\n",
    "x_test = sequence.pad_sequences(X_test, maxlen=100)"
   ]
  },
  {
   "cell_type": "code",
   "execution_count": 11,
   "metadata": {},
   "outputs": [],
   "source": [
    "y_train = np_utils.to_categorical(Y_train)\n",
    "y_test = np_utils.to_categorical(Y_test)"
   ]
  },
  {
   "cell_type": "code",
   "execution_count": 12,
   "metadata": {},
   "outputs": [],
   "source": [
    "model = Sequential()\n",
    "model.add(Embedding(1000, 100))\n",
    "model.add(LSTM(100, activation='tanh'))\n",
    "model.add(Dense(46, activation='softmax'))\n",
    "model.compile(loss='categorical_crossentropy',\n",
    "             optimizer='adam',\n",
    "             metrics=['accuracy'])"
   ]
  },
  {
   "cell_type": "code",
   "execution_count": 13,
   "metadata": {},
   "outputs": [
    {
     "name": "stdout",
     "output_type": "stream",
     "text": [
      "Train on 8982 samples, validate on 2246 samples\n",
      "Epoch 1/20\n",
      "8982/8982 [==============================] - 37s 4ms/step - loss: 2.6147 - acc: 0.3442 - val_loss: 2.4222 - val_acc: 0.3620\n",
      "Epoch 2/20\n",
      "8982/8982 [==============================] - 36s 4ms/step - loss: 2.3039 - acc: 0.3901 - val_loss: 2.0308 - val_acc: 0.5058\n",
      "Epoch 3/20\n",
      "8982/8982 [==============================] - 41s 5ms/step - loss: 1.9062 - acc: 0.5136 - val_loss: 1.7961 - val_acc: 0.5414\n",
      "Epoch 4/20\n",
      "8982/8982 [==============================] - 42s 5ms/step - loss: 1.7397 - acc: 0.5517 - val_loss: 1.7626 - val_acc: 0.5534\n",
      "Epoch 5/20\n",
      "8982/8982 [==============================] - 45s 5ms/step - loss: 1.6638 - acc: 0.5750 - val_loss: 1.6984 - val_acc: 0.5668\n",
      "Epoch 6/20\n",
      "8982/8982 [==============================] - 43s 5ms/step - loss: 1.6067 - acc: 0.5863 - val_loss: 1.6575 - val_acc: 0.5801\n",
      "Epoch 7/20\n",
      "8982/8982 [==============================] - 35s 4ms/step - loss: 1.5504 - acc: 0.6114 - val_loss: 1.5874 - val_acc: 0.6118\n",
      "Epoch 8/20\n",
      "8982/8982 [==============================] - 35s 4ms/step - loss: 1.4532 - acc: 0.6357 - val_loss: 1.5428 - val_acc: 0.6167\n",
      "Epoch 9/20\n",
      "8982/8982 [==============================] - 34s 4ms/step - loss: 1.3664 - acc: 0.6539 - val_loss: 1.4460 - val_acc: 0.6327\n",
      "Epoch 10/20\n",
      "8982/8982 [==============================] - 32s 4ms/step - loss: 1.2981 - acc: 0.6674 - val_loss: 1.3867 - val_acc: 0.6536\n",
      "Epoch 11/20\n",
      "8982/8982 [==============================] - 33s 4ms/step - loss: 1.2376 - acc: 0.6858 - val_loss: 1.3466 - val_acc: 0.6567\n",
      "Epoch 12/20\n",
      "8982/8982 [==============================] - 33s 4ms/step - loss: 1.1835 - acc: 0.6957 - val_loss: 1.3195 - val_acc: 0.6661\n",
      "Epoch 13/20\n",
      "8982/8982 [==============================] - 32s 4ms/step - loss: 1.1329 - acc: 0.7080 - val_loss: 1.2621 - val_acc: 0.6763\n",
      "Epoch 14/20\n",
      "8982/8982 [==============================] - 32s 4ms/step - loss: 1.0864 - acc: 0.7206 - val_loss: 1.2748 - val_acc: 0.6830\n",
      "Epoch 15/20\n",
      "8982/8982 [==============================] - 32s 4ms/step - loss: 1.0333 - acc: 0.7332 - val_loss: 1.2485 - val_acc: 0.6830\n",
      "Epoch 16/20\n",
      "8982/8982 [==============================] - 33s 4ms/step - loss: 0.9778 - acc: 0.7497 - val_loss: 1.2340 - val_acc: 0.6821\n",
      "Epoch 17/20\n",
      "8982/8982 [==============================] - 32s 4ms/step - loss: 0.9366 - acc: 0.7607 - val_loss: 1.2136 - val_acc: 0.6995\n",
      "Epoch 18/20\n",
      "8982/8982 [==============================] - 32s 4ms/step - loss: 0.8971 - acc: 0.7715 - val_loss: 1.2155 - val_acc: 0.7004\n",
      "Epoch 19/20\n",
      "8982/8982 [==============================] - 34s 4ms/step - loss: 0.8501 - acc: 0.7843 - val_loss: 1.2296 - val_acc: 0.7075\n",
      "Epoch 20/20\n",
      "8982/8982 [==============================] - 32s 4ms/step - loss: 0.8052 - acc: 0.7965 - val_loss: 1.2143 - val_acc: 0.7182\n"
     ]
    }
   ],
   "source": [
    "history = model.fit(x_train, y_train, batch_size=100, epochs=20,\n",
    "                   validation_data=(x_test, y_test))"
   ]
  },
  {
   "cell_type": "code",
   "execution_count": 16,
   "metadata": {},
   "outputs": [
    {
     "name": "stdout",
     "output_type": "stream",
     "text": [
      "2246/2246 [==============================] - 3s 1ms/step\n",
      "Accuracy : 0.7182\n"
     ]
    }
   ],
   "source": [
    "print(\"Accuracy : %.4f\" % (model.evaluate(x_test, y_test)[1]))"
   ]
  },
  {
   "cell_type": "code",
   "execution_count": 17,
   "metadata": {},
   "outputs": [],
   "source": [
    "y_vloss = history.history['val_loss']\n",
    "y_loss = history.history['loss']"
   ]
  },
  {
   "cell_type": "code",
   "execution_count": 21,
   "metadata": {},
   "outputs": [
    {
     "data": {
      "image/png": "[encoded data removed]",
      "text/plain": [
       "<Figure size 432x288 with 1 Axes>"
      ]
     },
     "metadata": {
      "needs_background": "light"
     },
     "output_type": "display_data"
    }
   ],
   "source": [
    "x_len = np.arange(len(y_loss))\n",
    "plt.plot(x_len, y_vloss, marker='.', \n",
    "        c=\"red\", label=\"Testset_loss\")\n",
    "plt.plot(x_len, y_loss, marker='.', \n",
    "        c=\"blue\", label=\"Trainset_loss\")\n",
    "plt.legend(loc='upper right')\n",
    "plt.grid()\n",
    "plt.show()"
   ]
  },
  {
   "cell_type": "code",
   "execution_count": null,
   "metadata": {},
   "outputs": [],
   "source": []
  },
  {
   "cell_type": "code",
   "execution_count": null,
   "metadata": {},
   "outputs": [],
   "source": []
  }
 ],
 "metadata": {
  "kernelspec": {
   "display_name": "Python 2",
   "language": "python",
   "name": "python2"
  },
  "language_info": {
   "codemirror_mode": {
    "name": "ipython",
    "version": 2
   },
   "file_extension": ".py",
   "mimetype": "text/x-python",
   "name": "python",
   "nbconvert_exporter": "python",
   "pygments_lexer": "ipython2",
   "version": "2.7.12"
  }
 },
 "nbformat": 4,
 "nbformat_minor": 2
}
