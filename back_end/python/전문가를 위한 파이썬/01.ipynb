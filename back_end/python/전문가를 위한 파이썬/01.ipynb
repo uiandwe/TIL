{
 "cells": [
  {
   "cell_type": "markdown",
   "metadata": {},
   "source": [
    "## 특별 메소드 (매직 메소드, 던더 메소드)\n",
    "- 사용자가 아닌 인터프린터에 의해 호출\n",
    "- +,-,>=,& 등의 수식에 대해 매칭됨"
   ]
  },
  {
   "cell_type": "markdown",
   "metadata": {},
   "source": [
    "### ex1\n",
    "init()는 클래스 생성시 인터프린터에 의해 실행됨\n"
   ]
  },
  {
   "cell_type": "code",
   "execution_count": 5,
   "metadata": {},
   "outputs": [
    {
     "name": "stdout",
     "output_type": "stream",
     "text": [
      "흑두루미\n"
     ]
    }
   ],
   "source": [
    "class BlackDoorumi(object):\n",
    "    def __init__(self):\n",
    "        print('흑두루미')\n",
    "\n",
    "me = BlackDoorumi()"
   ]
  },
  {
   "cell_type": "markdown",
   "metadata": {},
   "source": [
    "### ex2\n",
    "int형의 + 와 특별메소드"
   ]
  },
  {
   "cell_type": "code",
   "execution_count": 12,
   "metadata": {},
   "outputs": [
    {
     "name": "stdout",
     "output_type": "stream",
     "text": [
      "type <class '__main__.testInt'>\n",
      "instance True\n",
      "base True\n",
      "add 7 더하기 3 은 10 입니다\n",
      "direct 7 더하기 3 은 10 입니다\n",
      "7 더하기 3 은 10 입니다\n"
     ]
    }
   ],
   "source": [
    "class testInt(int):\n",
    "  def __add__(self, other):\n",
    "    return '{} 더하기 {} 은 {} 입니다'.format(self.real, other.real, self.real + other.real)\n",
    "\n",
    "# 객체 생성\n",
    "num = testInt(7)\n",
    "\n",
    "# 타입 화인\n",
    "print('type', type(num))\n",
    "\n",
    "# int의 인스턴스인지 확인\n",
    "print('instance', isinstance(num, int))\n",
    "\n",
    "# testInt의 베이스 클래스 확인\n",
    "print('base', isinstance(num, testInt))\n",
    "\n",
    "\n",
    "# 덧셈 실행\n",
    "print('add', num + 3)\n",
    "\n",
    "# 특별 메소드 확인\n",
    "a = 1\n",
    "b = 2\n",
    "a + b == a.__add__(b)\n",
    "\n",
    "# 특별 메소드 직접호출\n",
    "print('direct', num.__add__(3))\n",
    "\n",
    "# __add__ 정의\n",
    "print(num + 3)\n"
   ]
  },
  {
   "cell_type": "markdown",
   "metadata": {},
   "source": [
    "### Example3\n",
    "- 아래코드는 특별메소드를 이용하여 카드 한 세트를 만들어 본 예제이다. __getitem__과 __len__ 만으로도 멋진 기능을 구현 할 수 있다."
   ]
  },
  {
   "cell_type": "code",
   "execution_count": 18,
   "metadata": {
    "collapsed": true
   },
   "outputs": [],
   "source": [
    "import collections\n",
    "\n",
    "Card = collections.namedtuple('Card', ['rank', 'suit'])\n",
    "\n",
    "class FrenchDeck:\n",
    "    ranks = [str(n) for n in range(2, 11)] + list('JQKA')\n",
    "    suits = 'spads diamonds clubs hearts'.split()\n",
    "    \n",
    "    # 카드생성\n",
    "    def __init__(self):\n",
    "        self._cards = [Card(rank, suit) for suit in self.suits for rank in self.ranks]\n",
    "\n",
    "    # 카드 수 반환 == len()\n",
    "    def __len__(self):\n",
    "        return len(self._cards)\n",
    "    \n",
    "    # 카드 데이터 접근 == for, [::]\n",
    "    def __getitem__(self, position):\n",
    "        return self._cards[position]\n",
    "    "
   ]
  },
  {
   "cell_type": "code",
   "execution_count": 20,
   "metadata": {},
   "outputs": [
    {
     "name": "stdout",
     "output_type": "stream",
     "text": [
      "52\n",
      "[Card(rank='A', suit='spads'), Card(rank='A', suit='diamonds'), Card(rank='A', suit='clubs'), Card(rank='A', suit='hearts')]\n",
      "Card(rank='2', suit='spads')\n",
      "Card(rank='3', suit='spads')\n",
      "Card(rank='4', suit='spads')\n",
      "Card(rank='5', suit='spads')\n",
      "Card(rank='6', suit='spads')\n",
      "Card(rank='7', suit='spads')\n",
      "Card(rank='8', suit='spads')\n",
      "Card(rank='9', suit='spads')\n",
      "Card(rank='10', suit='spads')\n",
      "Card(rank='J', suit='spads')\n",
      "Card(rank='Q', suit='spads')\n",
      "Card(rank='K', suit='spads')\n",
      "Card(rank='A', suit='spads')\n",
      "Card(rank='2', suit='diamonds')\n",
      "Card(rank='3', suit='diamonds')\n",
      "Card(rank='4', suit='diamonds')\n",
      "Card(rank='5', suit='diamonds')\n",
      "Card(rank='6', suit='diamonds')\n",
      "Card(rank='7', suit='diamonds')\n",
      "Card(rank='8', suit='diamonds')\n",
      "Card(rank='9', suit='diamonds')\n",
      "Card(rank='10', suit='diamonds')\n",
      "Card(rank='J', suit='diamonds')\n",
      "Card(rank='Q', suit='diamonds')\n",
      "Card(rank='K', suit='diamonds')\n",
      "Card(rank='A', suit='diamonds')\n",
      "Card(rank='2', suit='clubs')\n",
      "Card(rank='3', suit='clubs')\n",
      "Card(rank='4', suit='clubs')\n",
      "Card(rank='5', suit='clubs')\n",
      "Card(rank='6', suit='clubs')\n",
      "Card(rank='7', suit='clubs')\n",
      "Card(rank='8', suit='clubs')\n",
      "Card(rank='9', suit='clubs')\n",
      "Card(rank='10', suit='clubs')\n",
      "Card(rank='J', suit='clubs')\n",
      "Card(rank='Q', suit='clubs')\n",
      "Card(rank='K', suit='clubs')\n",
      "Card(rank='A', suit='clubs')\n",
      "Card(rank='2', suit='hearts')\n",
      "Card(rank='3', suit='hearts')\n",
      "Card(rank='4', suit='hearts')\n",
      "Card(rank='5', suit='hearts')\n",
      "Card(rank='6', suit='hearts')\n",
      "Card(rank='7', suit='hearts')\n",
      "Card(rank='8', suit='hearts')\n",
      "Card(rank='9', suit='hearts')\n",
      "Card(rank='10', suit='hearts')\n",
      "Card(rank='J', suit='hearts')\n",
      "Card(rank='Q', suit='hearts')\n",
      "Card(rank='K', suit='hearts')\n",
      "Card(rank='A', suit='hearts')\n"
     ]
    }
   ],
   "source": [
    "# deck 객체 생성\n",
    "deck = FrenchDeck()\n",
    "\n",
    "# # 카드의 수 반환\n",
    "print(len(deck))\n",
    "\n",
    "# 에이스만 가져오기(슬라이스 [start:end:step])\n",
    "print(deck[12::13])\n",
    "\n",
    "for c in deck:\n",
    "    print(c)"
   ]
  },
  {
   "cell_type": "code",
   "execution_count": 25,
   "metadata": {},
   "outputs": [
    {
     "name": "stdout",
     "output_type": "stream",
     "text": [
      "Vector(4, 5)\n",
      "5.0\n",
      "Vector(9, 12)\n"
     ]
    }
   ],
   "source": [
    "from math import hypot\n",
    "\n",
    "class Vector:\n",
    "\n",
    "    def __init__(self, x=0, y=0):\n",
    "        self.x = x\n",
    "        self.y = y\n",
    "\n",
    "    def __repr__(self):\n",
    "        return 'Vector(%r, %r)' % (self.x, self.y)\n",
    "\n",
    "    def __abs__(self):\n",
    "        return hypot(self.x, self.y)\n",
    "\n",
    "    def __bool__(self):\n",
    "        return bool(abs(self))\n",
    "\n",
    "    def __add__(self, other):\n",
    "        x = self.x + other.x\n",
    "        y = self.y + other.y\n",
    "        return Vector(x, y)\n",
    "\n",
    "    def __mul__(self, scalar):\n",
    "        return Vector(self.x * scalar, self.y * scalar)\n",
    "    \n",
    "v1 = Vector(2, 4)\n",
    "v2 = Vector(2, 1)\n",
    "print(v1 + v2)\n",
    "\n",
    "v = Vector(3, 4)\n",
    "print(abs(v))\n",
    "print(v * 3)"
   ]
  },
  {
   "cell_type": "code",
   "execution_count": null,
   "metadata": {
    "collapsed": true
   },
   "outputs": [],
   "source": []
  }
 ],
 "metadata": {
  "kernelspec": {
   "display_name": "Python 3",
   "language": "python",
   "name": "python3"
  },
  "language_info": {
   "codemirror_mode": {
    "name": "ipython",
    "version": 3
   },
   "file_extension": ".py",
   "mimetype": "text/x-python",
   "name": "python",
   "nbconvert_exporter": "python",
   "pygments_lexer": "ipython3",
   "version": "3.5.2"
  }
 },
 "nbformat": 4,
 "nbformat_minor": 2
}
