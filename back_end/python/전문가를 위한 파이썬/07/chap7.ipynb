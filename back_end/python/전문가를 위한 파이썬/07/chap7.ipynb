{
 "cells": [
  {
   "cell_type": "markdown",
   "metadata": {},
   "source": [
    "# 7. 함수 데커레이터와 클로저\n",
    "* 목차:\n",
    "    - 7.1. 데커레이터 기본 지식\n",
    "    - 7.2. 데커레이터 실행 시점\n",
    "    - 7.3. 데커레이터로 개선한 전략 패턴\n",
    "    - 7.4. 변수 범위 규칙\n",
    "    - 7.5. 클로저\n",
    "    - 7.6. nonlocal\n",
    "    - 7.7. 간단한 데커레이터 구현\n",
    "    - 7.8. 표준 라이브러리에서 제공하는 데커레이터\n",
    "    - 7.9. 누적된 데커레이터\n",
    "    - 7.10. 매개변수화된 데커레이터\n",
    "    - 7.11. 요약"
   ]
  },
  {
   "cell_type": "code",
   "execution_count": 1,
   "metadata": {},
   "outputs": [],
   "source": [
    "from scipy import misc\n",
    "import matplotlib.pyplot as plt\n",
    "%matplotlib inline\n",
    "plt.style.use('ggplot')\n",
    "\n",
    "def load_img(file, img_dir='fig/'):\n",
    "    img = misc.imread(img_dir + file)\n",
    "    plt.imshow(img)\n",
    "    plt.subplots_adjust(right=2, top=2)"
   ]
  },
  {
   "cell_type": "markdown",
   "metadata": {},
   "source": [
    "## 7.1. 데커레이터\n",
    "* 다른 함수를 인수로 받는 **콜러블**\n",
    "* 데커레이트된 함수에 어떤 처리를 수행하고,\n",
    "    - 함수를 반환하거나\n",
    "    - 다른 함수나 콜러블 객체로 대체\n",
    "* 아래 둘은 동일\n",
    "\n",
    "``` python\n",
    "@decorate\n",
    "def target():\n",
    "    print('running target()')\n",
    "```\n",
    "\n",
    "``` python\n",
    "def target():\n",
    "    print('running target()')\n",
    "    \n",
    "target = decorate(target)\n",
    "```"
   ]
  },
  {
   "cell_type": "markdown",
   "metadata": {},
   "source": [
    "* 예제 7-1.\n",
    "    - target은 inner를 가리키고 있음\n",
    "    - 일반적인 콜러블과 동일하지만 런타임에 프로그램 행위를 변경하는 메타프로그래밍을 할때 상당히 편리"
   ]
  },
  {
   "cell_type": "code",
   "execution_count": 2,
   "metadata": {},
   "outputs": [],
   "source": [
    "def deco(func):\n",
    "    def inner(x):\n",
    "        print('running inner()')\n",
    "        return 2*func(x)\n",
    "    return inner\n",
    "  \n",
    "@deco\n",
    "def target(x):\n",
    "    print('running target()')\n",
    "    return 1"
   ]
  },
  {
   "cell_type": "code",
   "execution_count": 3,
   "metadata": {},
   "outputs": [
    {
     "name": "stdout",
     "output_type": "stream",
     "text": [
      "running inner()\n",
      "running target()\n",
      "2\n"
     ]
    }
   ],
   "source": [
    "print(target(2))"
   ]
  },
  {
   "cell_type": "code",
   "execution_count": 20,
   "metadata": {},
   "outputs": [
    {
     "name": "stdout",
     "output_type": "stream",
     "text": [
      "<function deco.<locals>.inner at 0x7fc27d2e6620>\n"
     ]
    }
   ],
   "source": [
    "print(target)"
   ]
  },
  {
   "cell_type": "markdown",
   "metadata": {},
   "source": [
    "* 요약:\n",
    "    1. 데커레이터는 함수를 다른 함수로 대체\n",
    "    2. 데커레이터는 **모듈이 로딩되는 시점**에 실행됨"
   ]
  },
  {
   "cell_type": "markdown",
   "metadata": {},
   "source": [
    "## 7.2. 파이썬이 데커레이터 실행하는 시점"
   ]
  },
  {
   "cell_type": "code",
   "execution_count": 4,
   "metadata": {},
   "outputs": [
    {
     "name": "stdout",
     "output_type": "stream",
     "text": [
      "# -*- coding: utf-8 -*-\r\n",
      "\r\n",
      "registry = []\r\n",
      "\r\n",
      "def register(func):\r\n",
      "    print('running register(%s)' % func)\r\n",
      "    registry.append(func)\r\n",
      "    return func\r\n",
      "\r\n",
      "\r\n",
      "@register\r\n",
      "def f1():\r\n",
      "    print('running f1()')\r\n",
      "\r\n",
      "\r\n",
      "@register\r\n",
      "def f2():\r\n",
      "    print('running f2()')\r\n",
      "\r\n",
      "\r\n",
      "def f3():\r\n",
      "    print('running f3()')\r\n",
      "\r\n",
      "\r\n",
      "\r\n",
      "def main():\r\n",
      "    print('runnning main()')\r\n",
      "    print('registry ->', registry)\r\n",
      "    f1()\r\n",
      "    f2()\r\n",
      "    f3()\r\n",
      "\r\n",
      "\r\n",
      "if __name__ == '__main__':\r\n",
      "    main()\r\n"
     ]
    }
   ],
   "source": [
    "! cat registration.py"
   ]
  },
  {
   "cell_type": "code",
   "execution_count": 22,
   "metadata": {},
   "outputs": [
    {
     "name": "stdout",
     "output_type": "stream",
     "text": [
      "running register(<function f1 at 0x7f57f3e18620>)\r\n",
      "running register(<function f2 at 0x7f57f298dae8>)\r\n",
      "runnning main()\r\n",
      "registry -> [<function f1 at 0x7f57f3e18620>, <function f2 at 0x7f57f298dae8>]\r\n",
      "running f1()\r\n",
      "running f2()\r\n",
      "running f3()\r\n"
     ]
    }
   ],
   "source": [
    "! python registration.py"
   ]
  },
  {
   "cell_type": "code",
   "execution_count": 23,
   "metadata": {},
   "outputs": [
    {
     "name": "stdout",
     "output_type": "stream",
     "text": [
      "running register(<function f1 at 0x7fc27d2e6598>)\n",
      "running register(<function f2 at 0x7fc27d2e68c8>)\n"
     ]
    }
   ],
   "source": [
    "import registration"
   ]
  },
  {
   "cell_type": "code",
   "execution_count": 24,
   "metadata": {},
   "outputs": [
    {
     "data": {
      "text/plain": [
       "[<function registration.f1>, <function registration.f2>]"
      ]
     },
     "execution_count": 24,
     "metadata": {},
     "output_type": "execute_result"
    }
   ],
   "source": [
    "registration.registry"
   ]
  },
  {
   "cell_type": "markdown",
   "metadata": {},
   "source": [
    "* 요약:\n",
    "    - 함수 데커레이터는 모듈이 임포트 되자마자 실행 (import time)\n",
    "    - 데커레이트된 함수는 명시적으로 호출될때만 실행됨 (run time)\n",
    "    - 이 예제에서 데커레이터 함수는 데커레이트된 함수를 그대로 반환하지만 일반적으로는 내부 함수를 정의해서 이를 반환함"
   ]
  },
  {
   "cell_type": "markdown",
   "metadata": {},
   "source": [
    "## 7.3. 데커레이터로 개선한 전략 패턴"
   ]
  },
  {
   "cell_type": "code",
   "execution_count": 5,
   "metadata": {},
   "outputs": [],
   "source": [
    "promos = []\n",
    "\n",
    "def promotion(promo_func):\n",
    "    promos.append(promo_func)\n",
    "    return promo_func\n",
    "\n",
    "\n",
    "@promotion\n",
    "def fidelity(order):\n",
    "    return order.total() * 0.05 if order.customer.fidelity >= 1000 else 0\n",
    "\n",
    "\n",
    "@promotion\n",
    "def bulk_item(order):\n",
    "    discount = 0\n",
    "    for item in order.cart:\n",
    "        if item.quantity >= 20:\n",
    "            discount += item.total() * 0.1\n",
    "    return discount\n",
    "\n",
    "\n",
    "@promotion\n",
    "def large_order(order):\n",
    "    distinct_items = {item.product for item in order.cart}\n",
    "    if len(distinct_items) >= 10:\n",
    "        return order.total() * 0.07\n",
    "    return 0\n",
    "\n",
    "\n",
    "def best_promo(order):\n",
    "    return max(promo(order) for promo in promos)"
   ]
  },
  {
   "cell_type": "code",
   "execution_count": 7,
   "metadata": {},
   "outputs": [
    {
     "name": "stdout",
     "output_type": "stream",
     "text": [
      "[<function fidelity at 0x11d737c80>, <function bulk_item at 0x11d737d08>, <function large_order at 0x11d737bf8>]\n"
     ]
    }
   ],
   "source": [
    "print(promos)"
   ]
  },
  {
   "cell_type": "markdown",
   "metadata": {},
   "source": [
    "## 7.4. 변수 범위 규칙\n",
    "* 대부분의 데커레이터는 내부 함수를 정의하고 데커레이트된 함수를 대체함  \n",
    "$\\Rightarrow$ 거의 항상 클로저에 의존\n",
    "* 이를 이해하기 위해 변수 범위의 작동 방식에 대한 이해 필요"
   ]
  },
  {
   "cell_type": "code",
   "execution_count": 27,
   "metadata": {
    "collapsed": true
   },
   "outputs": [],
   "source": [
    "def f1(a):\n",
    "    print(a)\n",
    "    print(b)"
   ]
  },
  {
   "cell_type": "code",
   "execution_count": 28,
   "metadata": {},
   "outputs": [
    {
     "name": "stdout",
     "output_type": "stream",
     "text": [
      "3\n"
     ]
    },
    {
     "ename": "NameError",
     "evalue": "name 'b' is not defined",
     "output_type": "error",
     "traceback": [
      "\u001b[0;31m---------------------------------------------------------------------------\u001b[0m",
      "\u001b[0;31mNameError\u001b[0m                                 Traceback (most recent call last)",
      "\u001b[0;32m<ipython-input-28-d0340938dd9f>\u001b[0m in \u001b[0;36m<module>\u001b[0;34m()\u001b[0m\n\u001b[0;32m----> 1\u001b[0;31m \u001b[0mprint\u001b[0m\u001b[0;34m(\u001b[0m\u001b[0mf1\u001b[0m\u001b[0;34m(\u001b[0m\u001b[0;36m3\u001b[0m\u001b[0;34m)\u001b[0m\u001b[0;34m)\u001b[0m\u001b[0;34m\u001b[0m\u001b[0m\n\u001b[0m",
      "\u001b[0;32m<ipython-input-27-06ba9b782704>\u001b[0m in \u001b[0;36mf1\u001b[0;34m(a)\u001b[0m\n\u001b[1;32m      1\u001b[0m \u001b[0;32mdef\u001b[0m \u001b[0mf1\u001b[0m\u001b[0;34m(\u001b[0m\u001b[0ma\u001b[0m\u001b[0;34m)\u001b[0m\u001b[0;34m:\u001b[0m\u001b[0;34m\u001b[0m\u001b[0m\n\u001b[1;32m      2\u001b[0m     \u001b[0mprint\u001b[0m\u001b[0;34m(\u001b[0m\u001b[0ma\u001b[0m\u001b[0;34m)\u001b[0m\u001b[0;34m\u001b[0m\u001b[0m\n\u001b[0;32m----> 3\u001b[0;31m     \u001b[0mprint\u001b[0m\u001b[0;34m(\u001b[0m\u001b[0mb\u001b[0m\u001b[0;34m)\u001b[0m\u001b[0;34m\u001b[0m\u001b[0m\n\u001b[0m",
      "\u001b[0;31mNameError\u001b[0m: name 'b' is not defined"
     ]
    }
   ],
   "source": [
    "print(f1(3))"
   ]
  },
  {
   "cell_type": "code",
   "execution_count": 29,
   "metadata": {},
   "outputs": [
    {
     "name": "stdout",
     "output_type": "stream",
     "text": [
      "3\n",
      "6\n",
      "None\n"
     ]
    }
   ],
   "source": [
    "b = 6\n",
    "print(f1(3))"
   ]
  },
  {
   "cell_type": "code",
   "execution_count": 82,
   "metadata": {},
   "outputs": [
    {
     "name": "stdout",
     "output_type": "stream",
     "text": [
      "3\n"
     ]
    },
    {
     "ename": "UnboundLocalError",
     "evalue": "local variable 'b' referenced before assignment",
     "output_type": "error",
     "traceback": [
      "\u001b[0;31m---------------------------------------------------------------------------\u001b[0m",
      "\u001b[0;31mUnboundLocalError\u001b[0m                         Traceback (most recent call last)",
      "\u001b[0;32m<ipython-input-82-2f5296fe2e93>\u001b[0m in \u001b[0;36m<module>\u001b[0;34m()\u001b[0m\n\u001b[1;32m      5\u001b[0m     \u001b[0mb\u001b[0m \u001b[0;34m=\u001b[0m \u001b[0;36m9\u001b[0m\u001b[0;34m\u001b[0m\u001b[0m\n\u001b[1;32m      6\u001b[0m \u001b[0;34m\u001b[0m\u001b[0m\n\u001b[0;32m----> 7\u001b[0;31m \u001b[0mprint\u001b[0m\u001b[0;34m(\u001b[0m\u001b[0mf2\u001b[0m\u001b[0;34m(\u001b[0m\u001b[0;36m3\u001b[0m\u001b[0;34m)\u001b[0m\u001b[0;34m)\u001b[0m\u001b[0;34m\u001b[0m\u001b[0m\n\u001b[0m",
      "\u001b[0;32m<ipython-input-82-2f5296fe2e93>\u001b[0m in \u001b[0;36mf2\u001b[0;34m(a)\u001b[0m\n\u001b[1;32m      2\u001b[0m \u001b[0;32mdef\u001b[0m \u001b[0mf2\u001b[0m\u001b[0;34m(\u001b[0m\u001b[0ma\u001b[0m\u001b[0;34m)\u001b[0m\u001b[0;34m:\u001b[0m\u001b[0;34m\u001b[0m\u001b[0m\n\u001b[1;32m      3\u001b[0m     \u001b[0mprint\u001b[0m\u001b[0;34m(\u001b[0m\u001b[0ma\u001b[0m\u001b[0;34m)\u001b[0m\u001b[0;34m\u001b[0m\u001b[0m\n\u001b[0;32m----> 4\u001b[0;31m     \u001b[0mprint\u001b[0m\u001b[0;34m(\u001b[0m\u001b[0mb\u001b[0m\u001b[0;34m)\u001b[0m\u001b[0;34m\u001b[0m\u001b[0m\n\u001b[0m\u001b[1;32m      5\u001b[0m     \u001b[0mb\u001b[0m \u001b[0;34m=\u001b[0m \u001b[0;36m9\u001b[0m\u001b[0;34m\u001b[0m\u001b[0m\n\u001b[1;32m      6\u001b[0m \u001b[0;34m\u001b[0m\u001b[0m\n",
      "\u001b[0;31mUnboundLocalError\u001b[0m: local variable 'b' referenced before assignment"
     ]
    }
   ],
   "source": [
    "b = 6\n",
    "def f2(a):\n",
    "    print(a)\n",
    "    print(b)\n",
    "    b = 9\n",
    "    \n",
    "print(f2(3))"
   ]
  },
  {
   "cell_type": "markdown",
   "metadata": {},
   "source": [
    "* 요약:\n",
    "    - 파이썬이 본체 함수를 컴파일할 때 b가 함수 안에서 할당되므로, b를 지역 변수로 판단\n",
    "    - 함수 본체 안에서 할당된 변수는 지역 변수로 판단함\n",
    "* 인터프리터가 b를 전역 변수로 다루길 원하면 아래와 같이 global 키워드를 이용해 선언"
   ]
  },
  {
   "cell_type": "code",
   "execution_count": 31,
   "metadata": {},
   "outputs": [
    {
     "name": "stdout",
     "output_type": "stream",
     "text": [
      "=========\n",
      "3\n",
      "6\n",
      "None\n",
      "=========\n",
      "9\n",
      "=========\n",
      "30\n"
     ]
    }
   ],
   "source": [
    "b = 6\n",
    "def f3(a):\n",
    "    global b\n",
    "    print(a)\n",
    "    print(b)\n",
    "    b = 9\n",
    "\n",
    "print('==='*3)\n",
    "print(f3(3))\n",
    "\n",
    "print('==='*3)\n",
    "print(b)\n",
    "\n",
    "print('==='*3)\n",
    "b = 30\n",
    "print(b)"
   ]
  },
  {
   "cell_type": "markdown",
   "metadata": {},
   "source": [
    "* 디스어셈블리 코드 비교"
   ]
  },
  {
   "cell_type": "code",
   "execution_count": 35,
   "metadata": {
    "collapsed": true
   },
   "outputs": [],
   "source": [
    "from dis import dis"
   ]
  },
  {
   "cell_type": "markdown",
   "metadata": {},
   "source": [
    "* 지역명 a, 전역명 b"
   ]
  },
  {
   "cell_type": "code",
   "execution_count": 36,
   "metadata": {},
   "outputs": [
    {
     "name": "stdout",
     "output_type": "stream",
     "text": [
      "  2           0 LOAD_GLOBAL              0 (print)\n",
      "              2 LOAD_FAST                0 (a)\n",
      "              4 CALL_FUNCTION            1\n",
      "              6 POP_TOP\n",
      "\n",
      "  3           8 LOAD_GLOBAL              0 (print)\n",
      "             10 LOAD_GLOBAL              1 (b)\n",
      "             12 CALL_FUNCTION            1\n",
      "             14 POP_TOP\n",
      "             16 LOAD_CONST               0 (None)\n",
      "             18 RETURN_VALUE\n",
      "None\n"
     ]
    }
   ],
   "source": [
    "print(dis(f1))"
   ]
  },
  {
   "cell_type": "markdown",
   "metadata": {},
   "source": [
    "* 지역명 a, b"
   ]
  },
  {
   "cell_type": "code",
   "execution_count": 37,
   "metadata": {},
   "outputs": [
    {
     "name": "stdout",
     "output_type": "stream",
     "text": [
      "  3           0 LOAD_GLOBAL              0 (print)\n",
      "              2 LOAD_FAST                0 (a)\n",
      "              4 CALL_FUNCTION            1\n",
      "              6 POP_TOP\n",
      "\n",
      "  4           8 LOAD_GLOBAL              0 (print)\n",
      "             10 LOAD_FAST                1 (b)\n",
      "             12 CALL_FUNCTION            1\n",
      "             14 POP_TOP\n",
      "\n",
      "  5          16 LOAD_CONST               1 (9)\n",
      "             18 STORE_FAST               1 (b)\n",
      "             20 LOAD_CONST               0 (None)\n",
      "             22 RETURN_VALUE\n",
      "None\n"
     ]
    }
   ],
   "source": [
    "print(dis(f2))"
   ]
  },
  {
   "cell_type": "markdown",
   "metadata": {},
   "source": [
    "## 7.5. 클로저\n",
    "* 클로저: 함수 본체에서 정의하지 않고 참조하는 비전역(nonglobal) 변수를 포함한 확장 범위를 가진 함수\n",
    "* 함수 본체 외부에 정의된 비전역 변수에 접근할 수 있음\n",
    "* 함수를 정의할 때 존재하던 자유 변수에 대한 바인딩을 유지하는 함수\n",
    "    - 함수를 정의하는 범위가 사라진 후에 함수를 호출해도 자유 변수에 접근 가능\n",
    "    - 함수가 비전역 외부 변수를 다루는 경우는 그 함수가 다른 함수 안에 정의된 경우뿐임"
   ]
  },
  {
   "cell_type": "code",
   "execution_count": 39,
   "metadata": {},
   "outputs": [
    {
     "name": "stderr",
     "output_type": "stream",
     "text": [
      "/home/yjlee/venvs/youjin2_py3/lib/python3.6/site-packages/ipykernel_launcher.py:7: DeprecationWarning: `imread` is deprecated!\n",
      "`imread` is deprecated in SciPy 1.0.0, and will be removed in 1.2.0.\n",
      "Use ``imageio.imread`` instead.\n",
      "  import sys\n"
     ]
    },
    {
     "data": {
      "image/png": "[encoded data removed]",
      "text/plain": [
       "<matplotlib.figure.Figure at 0x7fc2a9084ba8>"
      ]
     },
     "metadata": {},
     "output_type": "display_data"
    }
   ],
   "source": [
    "load_img('fig7-1.png')"
   ]
  },
  {
   "cell_type": "markdown",
   "metadata": {},
   "source": [
    "* 예 7-9"
   ]
  },
  {
   "cell_type": "code",
   "execution_count": 40,
   "metadata": {
    "collapsed": true
   },
   "outputs": [],
   "source": [
    "class Averager(object):\n",
    "    \n",
    "    def __init__(self):\n",
    "        self.series = []\n",
    "        \n",
    "    def __call__(self, new_value):\n",
    "        self.series.append(new_value)\n",
    "        total = sum(self.series)\n",
    "        return total / len(self.series)"
   ]
  },
  {
   "cell_type": "code",
   "execution_count": 41,
   "metadata": {},
   "outputs": [
    {
     "name": "stdout",
     "output_type": "stream",
     "text": [
      "=========\n",
      "10.0\n",
      "[10]\n",
      "=========\n",
      "10.5\n",
      "[10, 11]\n",
      "=========\n",
      "11.0\n",
      "[10, 11, 12]\n"
     ]
    }
   ],
   "source": [
    "avg = Averager()\n",
    "print('===' * 3)\n",
    "print(avg(10))\n",
    "print(avg.series)\n",
    "\n",
    "print('===' * 3)\n",
    "print(avg(11))\n",
    "print(avg.series)\n",
    "\n",
    "print('===' * 3)\n",
    "print(avg(12))\n",
    "print(avg.series)"
   ]
  },
  {
   "cell_type": "markdown",
   "metadata": {},
   "source": [
    "* 예 7-10\n",
    "    - series: 자유 변수 (free variables)\n",
    "        - 지역 범위에 바인딩 되어 있지 않음"
   ]
  },
  {
   "cell_type": "code",
   "execution_count": 8,
   "metadata": {},
   "outputs": [],
   "source": [
    "def make_averager():\n",
    "    series = []    \n",
    "    \n",
    "    def averager(new_value):\n",
    "        series.append(new_value)\n",
    "        total = sum(series)\n",
    "        print(series)\n",
    "        return total / len(series)\n",
    "    \n",
    "    return averager"
   ]
  },
  {
   "cell_type": "code",
   "execution_count": 9,
   "metadata": {},
   "outputs": [],
   "source": [
    "avg = make_averager()"
   ]
  },
  {
   "cell_type": "code",
   "execution_count": 10,
   "metadata": {},
   "outputs": [
    {
     "name": "stdout",
     "output_type": "stream",
     "text": [
      "=========\n",
      "[10]\n",
      "10.0\n",
      "=========\n",
      "[10, 11]\n",
      "10.5\n",
      "=========\n",
      "[10, 11, 12]\n",
      "11.0\n"
     ]
    }
   ],
   "source": [
    "print('===' * 3)\n",
    "print(avg(10))\n",
    "\n",
    "print('===' * 3)\n",
    "print(avg(11))\n",
    "\n",
    "print('===' * 3)\n",
    "print(avg(12))"
   ]
  },
  {
   "cell_type": "code",
   "execution_count": 11,
   "metadata": {},
   "outputs": [
    {
     "name": "stdout",
     "output_type": "stream",
     "text": [
      "('new_value', 'total')\n",
      "('series',)\n"
     ]
    }
   ],
   "source": [
    "print(avg.__code__.co_varnames)\n",
    "print(avg.__code__.co_freevars)"
   ]
  },
  {
   "cell_type": "code",
   "execution_count": 12,
   "metadata": {},
   "outputs": [
    {
     "name": "stdout",
     "output_type": "stream",
     "text": [
      "(<cell at 0x11d7380a8: list object at 0x11d72c508>,)\n",
      "[10, 11, 12]\n"
     ]
    }
   ],
   "source": [
    "print(avg.__closure__)\n",
    "print(avg.__closure__[0].cell_contents)"
   ]
  },
  {
   "cell_type": "markdown",
   "metadata": {
    "collapsed": true
   },
   "source": [
    "## 7.6. nonlocal 선언\n",
    "* 앞서 정의한 make_averager는 모든 값을 series에 저장하고 호출될때마다 sum을 계산"
   ]
  },
  {
   "cell_type": "code",
   "execution_count": 13,
   "metadata": {},
   "outputs": [],
   "source": [
    "def make_averager():\n",
    "    count = 0\n",
    "    total = 0\n",
    "    \n",
    "    def averager(new_value):\n",
    "        count += 1\n",
    "        total += new_value\n",
    "        return total / count\n",
    "    \n",
    "    return averager"
   ]
  },
  {
   "cell_type": "code",
   "execution_count": 14,
   "metadata": {},
   "outputs": [
    {
     "ename": "UnboundLocalError",
     "evalue": "local variable 'count' referenced before assignment",
     "output_type": "error",
     "traceback": [
      "\u001b[0;31m---------------------------------------------------------------------------\u001b[0m",
      "\u001b[0;31mUnboundLocalError\u001b[0m                         Traceback (most recent call last)",
      "\u001b[0;32m<ipython-input-14-311032733d50>\u001b[0m in \u001b[0;36m<module>\u001b[0;34m\u001b[0m\n\u001b[1;32m      1\u001b[0m \u001b[0mavg\u001b[0m \u001b[0;34m=\u001b[0m \u001b[0mmake_averager\u001b[0m\u001b[0;34m(\u001b[0m\u001b[0;34m)\u001b[0m\u001b[0;34m\u001b[0m\u001b[0;34m\u001b[0m\u001b[0m\n\u001b[0;32m----> 2\u001b[0;31m \u001b[0mprint\u001b[0m\u001b[0;34m(\u001b[0m\u001b[0mavg\u001b[0m\u001b[0;34m(\u001b[0m\u001b[0;36m10\u001b[0m\u001b[0;34m)\u001b[0m\u001b[0;34m)\u001b[0m\u001b[0;34m\u001b[0m\u001b[0;34m\u001b[0m\u001b[0m\n\u001b[0m",
      "\u001b[0;32m<ipython-input-13-441fdf395ae7>\u001b[0m in \u001b[0;36maverager\u001b[0;34m(new_value)\u001b[0m\n\u001b[1;32m      4\u001b[0m \u001b[0;34m\u001b[0m\u001b[0m\n\u001b[1;32m      5\u001b[0m     \u001b[0;32mdef\u001b[0m \u001b[0maverager\u001b[0m\u001b[0;34m(\u001b[0m\u001b[0mnew_value\u001b[0m\u001b[0;34m)\u001b[0m\u001b[0;34m:\u001b[0m\u001b[0;34m\u001b[0m\u001b[0;34m\u001b[0m\u001b[0m\n\u001b[0;32m----> 6\u001b[0;31m         \u001b[0mcount\u001b[0m \u001b[0;34m+=\u001b[0m \u001b[0;36m1\u001b[0m\u001b[0;34m\u001b[0m\u001b[0;34m\u001b[0m\u001b[0m\n\u001b[0m\u001b[1;32m      7\u001b[0m         \u001b[0mtotal\u001b[0m \u001b[0;34m+=\u001b[0m \u001b[0mnew_value\u001b[0m\u001b[0;34m\u001b[0m\u001b[0;34m\u001b[0m\u001b[0m\n\u001b[1;32m      8\u001b[0m         \u001b[0;32mreturn\u001b[0m \u001b[0mtotal\u001b[0m \u001b[0;34m/\u001b[0m \u001b[0mcount\u001b[0m\u001b[0;34m\u001b[0m\u001b[0;34m\u001b[0m\u001b[0m\n",
      "\u001b[0;31mUnboundLocalError\u001b[0m: local variable 'count' referenced before assignment"
     ]
    }
   ],
   "source": [
    "avg = make_averager()\n",
    "print(avg(10))"
   ]
  },
  {
   "cell_type": "markdown",
   "metadata": {},
   "source": [
    "* 함수 본체 내부에서 변수 새로 할당 하게 되면 지역 변수라고 앞에서 얘기함!\n",
    "\n",
    "``` python\n",
    "count += 1\n",
    "```\n",
    "\n",
    "``` python\n",
    "count = count + 1\n",
    "```"
   ]
  },
  {
   "cell_type": "code",
   "execution_count": 15,
   "metadata": {},
   "outputs": [],
   "source": [
    "def make_averager():\n",
    "    count = 0\n",
    "    total = 0\n",
    "    \n",
    "    def averager(new_value):\n",
    "        nonlocal count, total\n",
    "        count += 1\n",
    "        total += new_value\n",
    "        return total / count\n",
    "    \n",
    "    return averager"
   ]
  },
  {
   "cell_type": "code",
   "execution_count": 16,
   "metadata": {},
   "outputs": [
    {
     "name": "stdout",
     "output_type": "stream",
     "text": [
      "10.0\n",
      "=========\n",
      "<cell at 0x11d738828: int object at 0x10caab5a0> : 1\n",
      "<cell at 0x11d738888: int object at 0x10caab6c0> : 10\n"
     ]
    }
   ],
   "source": [
    "avg = make_averager()\n",
    "print(avg(10))\n",
    "\n",
    "print('===' * 3)\n",
    "for closure in avg.__closure__:\n",
    "    print(closure, ':', closure.cell_contents)"
   ]
  },
  {
   "cell_type": "markdown",
   "metadata": {},
   "source": [
    "## 7.7. 간단한 데커레이터 구현"
   ]
  },
  {
   "cell_type": "code",
   "execution_count": 17,
   "metadata": {
    "scrolled": true
   },
   "outputs": [
    {
     "name": "stdout",
     "output_type": "stream",
     "text": [
      "# -*- coding: utf-8 -*-\r\n",
      "\r\n",
      "import time\r\n",
      "\r\n",
      "\r\n",
      "def clock(func):\r\n",
      "    def clocked(*args):\r\n",
      "        t0 = time.time()\r\n",
      "        result = func(*args)\r\n",
      "        elapsed = time.time() - t0\r\n",
      "\r\n",
      "        name = func.__name__\r\n",
      "        arg_str = ', '.join(repr(arg) for arg in args)\r\n",
      "        print('[%0.8fs] %s(%s) -> %r' % (elapsed, name, arg_str, result))\r\n",
      "        return result\r\n",
      "    return clocked\r\n"
     ]
    }
   ],
   "source": [
    "! cat clockdeco.py"
   ]
  },
  {
   "cell_type": "code",
   "execution_count": 18,
   "metadata": {},
   "outputs": [
    {
     "name": "stdout",
     "output_type": "stream",
     "text": [
      "# -*- coding: utf-8 -*-\r\n",
      "\r\n",
      "import time\r\n",
      "from clockdeco import clock\r\n",
      "\r\n",
      "\r\n",
      "@clock\r\n",
      "def snooze(seconds):\r\n",
      "    time.sleep(seconds)\r\n",
      "\r\n",
      "\r\n",
      "@clock\r\n",
      "def factorial(n):\r\n",
      "    return 1 if n < 2 else n*factorial(n-1)\r\n",
      "\r\n",
      "\r\n",
      "if __name__ == '__main__':\r\n",
      "    print('*' * 40, 'Calling snooze(.123)')\r\n",
      "    snooze(.123)\r\n",
      "    print('*' * 40, 'Calling factorial(6)')\r\n",
      "    print('6! =', factorial(6))\r\n"
     ]
    }
   ],
   "source": [
    "! cat clockdeco_demo.py"
   ]
  },
  {
   "cell_type": "code",
   "execution_count": 19,
   "metadata": {},
   "outputs": [
    {
     "name": "stdout",
     "output_type": "stream",
     "text": [
      "('****************************************', 'Calling snooze(.123)')\n",
      "[0.12804604s] snooze(0.123) -> None\n",
      "('****************************************', 'Calling factorial(6)')\n",
      "[0.00019097s] factorial(1) -> 1\n",
      "[0.00022006s] factorial(2) -> 2\n",
      "[0.00023508s] factorial(3) -> 6\n",
      "[0.00024891s] factorial(4) -> 24\n",
      "[0.00026298s] factorial(5) -> 120\n",
      "[0.00027895s] factorial(6) -> 720\n",
      "('6! =', 720)\n"
     ]
    }
   ],
   "source": [
    "! python clockdeco_demo.py"
   ]
  },
  {
   "cell_type": "code",
   "execution_count": 89,
   "metadata": {
    "collapsed": true
   },
   "outputs": [],
   "source": [
    "import clockdeco_demo"
   ]
  },
  {
   "cell_type": "code",
   "execution_count": 90,
   "metadata": {},
   "outputs": [
    {
     "name": "stdout",
     "output_type": "stream",
     "text": [
      "clocked\n"
     ]
    }
   ],
   "source": [
    "print(clockdeco_demo.factorial.__name__)"
   ]
  },
  {
   "cell_type": "markdown",
   "metadata": {},
   "source": [
    "## 7.8. 표준라이브러리에서 제공하는 데커레이터\n",
    "* proprety()\n",
    "* classmethod():\n",
    "* staticmethod():"
   ]
  },
  {
   "cell_type": "code",
   "execution_count": 20,
   "metadata": {},
   "outputs": [
    {
     "name": "stdout",
     "output_type": "stream",
     "text": [
      "# -*- coding: utf-8 -8-\r\n",
      "\r\n",
      "from clockdeco import clock\r\n",
      "\r\n",
      "\r\n",
      "@clock\r\n",
      "def fibonacci(n):\r\n",
      "    if n < 2:\r\n",
      "        return n\r\n",
      "    return fibonacci(n-2) + fibonacci(n-1)\r\n",
      "\r\n",
      "\r\n",
      "if __name__ == '__main__':\r\n",
      "    print(fibonacci(6))\r\n",
      "\r\n"
     ]
    }
   ],
   "source": [
    "! cat fibo_demo.py"
   ]
  },
  {
   "cell_type": "code",
   "execution_count": 21,
   "metadata": {},
   "outputs": [
    {
     "name": "stdout",
     "output_type": "stream",
     "text": [
      "[0.00000095s] fibonacci(0) -> 0\r\n",
      "[0.00000095s] fibonacci(1) -> 1\r\n",
      "[0.00005293s] fibonacci(2) -> 1\r\n",
      "[0.00000095s] fibonacci(1) -> 1\r\n",
      "[0.00000000s] fibonacci(0) -> 0\r\n",
      "[0.00000000s] fibonacci(1) -> 1\r\n",
      "[0.00001001s] fibonacci(2) -> 1\r\n",
      "[0.00002003s] fibonacci(3) -> 2\r\n",
      "[0.00008297s] fibonacci(4) -> 3\r\n",
      "[0.00000095s] fibonacci(1) -> 1\r\n",
      "[0.00000000s] fibonacci(0) -> 0\r\n",
      "[0.00000000s] fibonacci(1) -> 1\r\n",
      "[0.00001001s] fibonacci(2) -> 1\r\n",
      "[0.00001907s] fibonacci(3) -> 2\r\n",
      "[0.00000095s] fibonacci(0) -> 0\r\n",
      "[0.00000000s] fibonacci(1) -> 1\r\n",
      "[0.00001001s] fibonacci(2) -> 1\r\n",
      "[0.00000119s] fibonacci(1) -> 1\r\n",
      "[0.00000119s] fibonacci(0) -> 0\r\n",
      "[0.00000119s] fibonacci(1) -> 1\r\n",
      "[0.00001001s] fibonacci(2) -> 1\r\n",
      "[0.00001907s] fibonacci(3) -> 2\r\n",
      "[0.00003791s] fibonacci(4) -> 3\r\n",
      "[0.00006604s] fibonacci(5) -> 5\r\n",
      "[0.00016308s] fibonacci(6) -> 8\r\n",
      "8\r\n"
     ]
    }
   ],
   "source": [
    "! python fibo_demo.py"
   ]
  },
  {
   "cell_type": "code",
   "execution_count": 22,
   "metadata": {},
   "outputs": [
    {
     "name": "stdout",
     "output_type": "stream",
     "text": [
      "# -*- coding: utf-8 -8-\r\n",
      "\r\n",
      "import functools\r\n",
      "from clockdeco import clock\r\n",
      "import sys\r\n",
      "\r\n",
      "\r\n",
      "@functools.lru_cache()\r\n",
      "@clock\r\n",
      "def fibonacci(n):\r\n",
      "    if n < 2:\r\n",
      "        return n\r\n",
      "    return fibonacci(n-2) + fibonacci(n-1)\r\n",
      "\r\n",
      "\r\n",
      "if __name__ == '__main__':\r\n",
      "    print(fibonacci(6))\r\n",
      "\r\n"
     ]
    }
   ],
   "source": [
    "! cat fibo_demo2.py"
   ]
  },
  {
   "cell_type": "code",
   "execution_count": 24,
   "metadata": {},
   "outputs": [
    {
     "name": "stdout",
     "output_type": "stream",
     "text": [
      "[0.00000000s] fibonacci(0) -> 0\n",
      "[0.00000119s] fibonacci(1) -> 1\n",
      "[0.00039911s] fibonacci(2) -> 1\n",
      "[0.00000119s] fibonacci(3) -> 2\n",
      "[0.00047016s] fibonacci(4) -> 3\n",
      "[0.00000119s] fibonacci(5) -> 5\n",
      "[0.00049472s] fibonacci(6) -> 8\n"
     ]
    },
    {
     "data": {
      "text/plain": [
       "8"
      ]
     },
     "execution_count": 24,
     "metadata": {},
     "output_type": "execute_result"
    }
   ],
   "source": [
    "import functools\n",
    "from clockdeco import clock\n",
    "import sys\n",
    "\n",
    "\n",
    "@functools.lru_cache()\n",
    "@clock\n",
    "def fibonacci(n):\n",
    "    if n < 2:\n",
    "        return n\n",
    "    return fibonacci(n-2) + fibonacci(n-1)\n",
    "\n",
    "fibonacci(6)"
   ]
  },
  {
   "cell_type": "markdown",
   "metadata": {},
   "source": [
    "* lru_cache: 메모이제이션(memoization)을 구현\n",
    "    - 이전에 실행한 값비싼 함수의 결과를 저장함으로써 이전에 사용된 인수에 대해 다시 계산할 필요 없게 해줌\n",
    "    - Least Recently Used\n",
    "    - 오랫동안 사용하지 않은 항목을 버림으로써 캐시가 무한정 커지지 않음\n",
    "    - args\n",
    "        - max_size: 얼마나 많은 호출을 저장할지 결정 (캐시 가득차면 가장 오래된거 버림)\n",
    "        - typed: True인 경우 인수의 자료형이 다르면 결과를 따로 저장\n",
    "\n",
    "``` python\n",
    "functools.lru_cache(maxsize=128, typed=False)\n",
    "```\n",
    "\n",
    "* 요약:\n",
    "    - 인텔 코어 i7에서 factorial(30) 계산\n",
    "        - fibo_demo.py: 17.7초\n",
    "        - fibo_demo2.py: 0.0005초"
   ]
  },
  {
   "cell_type": "code",
   "execution_count": 25,
   "metadata": {},
   "outputs": [],
   "source": [
    "import html"
   ]
  },
  {
   "cell_type": "code",
   "execution_count": 26,
   "metadata": {},
   "outputs": [],
   "source": [
    "def htmlize(obj):\n",
    "    content = html.escape(repr(obj))\n",
    "    return '<pre>{}</pre>'.format(content)"
   ]
  },
  {
   "cell_type": "markdown",
   "metadata": {},
   "source": [
    "* 자료형에 따라 HTML 코드를 다르게 생성하길 원함"
   ]
  },
  {
   "cell_type": "code",
   "execution_count": 98,
   "metadata": {},
   "outputs": [
    {
     "name": "stdout",
     "output_type": "stream",
     "text": [
      "=========\n",
      "<pre>{1, 2, 3}</pre>\n",
      "=========\n",
      "<pre>&lt;built-in function abs&gt;</pre>\n",
      "=========\n",
      "<pre>&#x27;Heimlich &amp; Co.\\n- a game&#x27;</pre>\n",
      "=========\n",
      "<pre>42</pre>\n",
      "=========\n",
      "<pre>[&#x27;alpha&#x27;, 66, {1, 2, 3}]</pre>\n"
     ]
    }
   ],
   "source": [
    "print('===' * 3)\n",
    "print(htmlize({1, 2, 3}))\n",
    "print('===' * 3)\n",
    "print(htmlize(abs))\n",
    "print('===' * 3)\n",
    "print(htmlize('Heimlich & Co.\\n- a game'))\n",
    "print('===' * 3)\n",
    "print(htmlize(42))\n",
    "print('===' * 3)\n",
    "print(htmlize(['alpha', 66, {3, 2, 1}]))"
   ]
  },
  {
   "cell_type": "markdown",
   "metadata": {},
   "source": [
    "``` bash\n",
    ">>> htmlize({1, 2, 3})  # <1>                                                                      \n",
    "'<pre>{1, 2, 3}</pre>'                                                                             \n",
    ">>> htmlize(abs)                                                                                   \n",
    "'<pre>&lt;built-in function abs&gt;</pre>'                                                         \n",
    ">>> htmlize('Heimlich & Co.\\n- a game')  # <2>                                                     \n",
    "'<p>Heimlich &amp; Co.<br>\\n- a game</p>'                                                          \n",
    ">>> htmlize(42)  # <3>                                                                             \n",
    "'<pre>42 (0x2a)</pre>'                                                                             \n",
    ">>> print(htmlize(['alpha', 66, {3, 2, 1}]))  # <4>                                                \n",
    "<ul>                                                                                               \n",
    "<li><p>alpha</p></li>                                                                              \n",
    "<li><pre>66 (0x42)</pre></li>                                                                      \n",
    "<li><pre>{1, 2, 3}</pre></li>                                                                      \n",
    "</ul>\n",
    "```"
   ]
  },
  {
   "cell_type": "code",
   "execution_count": 27,
   "metadata": {},
   "outputs": [],
   "source": [
    "from functools import singledispatch\n",
    "from collections import abc\n",
    "import numbers\n",
    "import html"
   ]
  },
  {
   "cell_type": "markdown",
   "metadata": {},
   "source": [
    "* numbers.Integral: 추상 베이스 클래스 (호환되는 자료형을 폭넓게 지원 가능)\n",
    "    - int가 numbers.Integral의 subclass"
   ]
  },
  {
   "cell_type": "code",
   "execution_count": 28,
   "metadata": {},
   "outputs": [],
   "source": [
    "@singledispatch\n",
    "def htmlize(obj):\n",
    "    content = html.escape(repr(obj))\n",
    "    return '<pre>{}</pre>'.format(content)\n",
    "\n",
    "@htmlize.register(str)\n",
    "def _(text):\n",
    "    content = html.escape(text).replace('\\n', '<br>\\n')\n",
    "    return '<p>{0}</p>'.format(content)\n",
    "\n",
    "@htmlize.register(numbers.Integral)\n",
    "def _(n):    \n",
    "    return '<pre>{0} (0x{0:x})</pre>'.format(n)\n",
    "\n",
    "@htmlize.register(tuple)\n",
    "@htmlize.register(abc.MutableSequence)\n",
    "def _(seq):\n",
    "    inner = '</li>\\n<li>'.join(htmlize(item) for item in seq)\n",
    "    return '<ul>\\n<li>' + inner + '</li>\\n</ul>'"
   ]
  },
  {
   "cell_type": "code",
   "execution_count": 29,
   "metadata": {},
   "outputs": [
    {
     "name": "stdout",
     "output_type": "stream",
     "text": [
      "=========\n",
      "<pre>{1, 2, 3}</pre>\n",
      "=========\n",
      "<pre>&lt;built-in function abs&gt;</pre>\n",
      "=========\n",
      "<p>Heimlich &amp; Co.<br>\n",
      "- a game</p>\n",
      "=========\n",
      "<pre>42 (0x2a)</pre>\n",
      "=========\n",
      "<ul>\n",
      "<li><p>alpha</p></li>\n",
      "<li><pre>66 (0x42)</pre></li>\n",
      "<li><pre>{1, 2, 3}</pre></li>\n",
      "</ul>\n"
     ]
    }
   ],
   "source": [
    "print('===' * 3)\n",
    "print(htmlize({1, 2, 3}))\n",
    "print('===' * 3)\n",
    "print(htmlize(abs))\n",
    "print('===' * 3)\n",
    "print(htmlize('Heimlich & Co.\\n- a game'))\n",
    "print('===' * 3)\n",
    "print(htmlize(42))\n",
    "print('===' * 3)\n",
    "print(htmlize(['alpha', 66, {3, 2, 1}]))"
   ]
  },
  {
   "cell_type": "markdown",
   "metadata": {},
   "source": [
    "## 7.9. 누적된 데커레이터"
   ]
  },
  {
   "cell_type": "markdown",
   "metadata": {},
   "source": [
    "* 다음 둘은 동일\n",
    "\n",
    "``` python\n",
    "@d1\n",
    "@d2\n",
    "def f1():\n",
    "    print('f)\n",
    "```\n",
    "\n",
    "``` python\n",
    "def f1():\n",
    "    print('f)\n",
    "\n",
    "f = d1(d2(f))\n",
    "```"
   ]
  },
  {
   "cell_type": "markdown",
   "metadata": {},
   "source": [
    "## 7.10. 매개변수화된 데커레이터"
   ]
  },
  {
   "cell_type": "code",
   "execution_count": 30,
   "metadata": {},
   "outputs": [
    {
     "name": "stdout",
     "output_type": "stream",
     "text": [
      "running register(active=False)->decorate(<function f1 at 0x11d7ccd90>)\n",
      "running register(active=True)->decorate(<function f2 at 0x11d7cc730>)\n"
     ]
    }
   ],
   "source": [
    "registry = set()\n",
    "\n",
    "def register(active=True):\n",
    "    def decorate(func):\n",
    "        print('running register(active=%s)->decorate(%s)' % (active, func))\n",
    "        if active:\n",
    "            registry.add(func)\n",
    "        else:\n",
    "            registry.discard(func)\n",
    "        return func\n",
    "    return decorate\n",
    "\n",
    "\n",
    "@register(active=False)\n",
    "def f1():\n",
    "    print('running f1()')\n",
    "\n",
    "\n",
    "@register()\n",
    "def f2():\n",
    "    print('running f2()')\n",
    "\n",
    "\n",
    "def f3():\n",
    "    print('running f3()')"
   ]
  }
 ],
 "metadata": {
  "kernelspec": {
   "display_name": "Python 3",
   "language": "python",
   "name": "python3"
  },
  "language_info": {
   "codemirror_mode": {
    "name": "ipython",
    "version": 3
   },
   "file_extension": ".py",
   "mimetype": "text/x-python",
   "name": "python",
   "nbconvert_exporter": "python",
   "pygments_lexer": "ipython3",
   "version": "3.7.3"
  }
 },
 "nbformat": 4,
 "nbformat_minor": 2
}
