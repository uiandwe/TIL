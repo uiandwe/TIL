{
 "cells": [
  {
   "cell_type": "code",
   "execution_count": 1,
   "metadata": {},
   "outputs": [],
   "source": [
    "import sys\n",
    "sys.path.append('bulkfood/')\n",
    "\n",
    "import imageio\n",
    "\n",
    "import matplotlib.pyplot as plt\n",
    "%matplotlib inline\n",
    "\n",
    "def draw_figure(num, **kwargs):\n",
    "    \n",
    "    settings = {\n",
    "        'right': 2,\n",
    "        'top': 1.5,\n",
    "    }\n",
    "    for key, val in kwargs.items():\n",
    "        settings[key] = val\n",
    "    \n",
    "    path = 'figure/fig21_{}.png'.format(num)\n",
    "    img = imageio.imread(path)\n",
    "    fig, ax = plt.subplots(1, 1)\n",
    "    ax.imshow(img)\n",
    "    ax.axis('off')\n",
    "    fig.subplots_adjust(**settings)"
   ]
  },
  {
   "cell_type": "markdown",
   "metadata": {},
   "source": [
    "# Chapter 21. 클래스 메타 프로그래밍"
   ]
  },
  {
   "cell_type": "markdown",
   "metadata": {},
   "source": [
    "## 21.1 클래스 팩토리"
   ]
  },
  {
   "cell_type": "markdown",
   "metadata": {},
   "source": [
    "### 예제 21.1"
   ]
  },
  {
   "cell_type": "markdown",
   "metadata": {},
   "source": [
    "* 매우 간단"
   ]
  },
  {
   "cell_type": "code",
   "execution_count": 2,
   "metadata": {},
   "outputs": [],
   "source": [
    "class Dog:\n",
    "    def __init__(self, name, weight, owner):\n",
    "        self.name = name\n",
    "        self.weight = weight\n",
    "        self.owner = owner"
   ]
  },
  {
   "cell_type": "code",
   "execution_count": 3,
   "metadata": {},
   "outputs": [],
   "source": [
    "rex = Dog('Rex', 30, 'Bob')"
   ]
  },
  {
   "cell_type": "markdown",
   "metadata": {},
   "source": [
    "* 그러나 맘에 안듬 (필드명 중복)\n",
    "* 출력 포맷도 심각함 (repr)"
   ]
  },
  {
   "cell_type": "code",
   "execution_count": 4,
   "metadata": {},
   "outputs": [
    {
     "name": "stdout",
     "output_type": "stream",
     "text": [
      "<__main__.Dog object at 0x7f7580f0a518>\n"
     ]
    }
   ],
   "source": [
    "print(rex)"
   ]
  },
  {
   "cell_type": "markdown",
   "metadata": {},
   "source": [
    "* named tuple처럼 바꿔보자"
   ]
  },
  {
   "cell_type": "code",
   "execution_count": 5,
   "metadata": {},
   "outputs": [
    {
     "name": "stdout",
     "output_type": "stream",
     "text": [
      "Dog(name='Rex', weight=30, owner='Bob')\n"
     ]
    }
   ],
   "source": [
    "from collections import namedtuple\n",
    "\n",
    "Dog = namedtuple('Dog', ['name', 'weight', 'owner'])\n",
    "rex = Dog('Rex', 30, 'Bob')\n",
    "print(rex)"
   ]
  },
  {
   "cell_type": "markdown",
   "metadata": {},
   "source": [
    "### 예제  21-2"
   ]
  },
  {
   "cell_type": "code",
   "execution_count": 6,
   "metadata": {},
   "outputs": [],
   "source": [
    "def record_factory(cls_name, field_names):\n",
    "    try:\n",
    "        field_names = field_names.replace(',', ' ').split()\n",
    "    except AttributeError:\n",
    "        pass\n",
    "    field_names = tuple(field_names)\n",
    "    \n",
    "    def __init__(self, *args, **kwargs):\n",
    "        attrs = dict(zip(self.__slots__, args))\n",
    "        attrs.update(kwargs)\n",
    "        for name, value in attrs.items():\n",
    "            setattr(self, name, value)\n",
    "            \n",
    "    def __iter__(self):\n",
    "        for name in self.__slots__:\n",
    "            yield getattr(self, name)\n",
    "            \n",
    "    def __repr__(self):\n",
    "        values = ', '.join('{}={!r}'.format(*i) for i in zip(self.__slots__, self))\n",
    "        return '{}({})'.format(self.__class__.__name__, values)\n",
    "    \n",
    "    cls_attrs = dict(\n",
    "        __slots__ = field_names,\n",
    "        __init__ = __init__,\n",
    "        __iter__ = __iter__,\n",
    "        __repr__ = __repr__\n",
    "    )\n",
    "    \n",
    "    return type(cls_name, (object,), cls_attrs)"
   ]
  },
  {
   "cell_type": "code",
   "execution_count": 7,
   "metadata": {},
   "outputs": [],
   "source": [
    "Dog = record_factory('Dog', 'name weight owner')"
   ]
  },
  {
   "cell_type": "code",
   "execution_count": 8,
   "metadata": {},
   "outputs": [],
   "source": [
    "rex = Dog('Rex', 30, 'Bob')"
   ]
  },
  {
   "cell_type": "markdown",
   "metadata": {},
   "source": [
    "* 멋지게 출력"
   ]
  },
  {
   "cell_type": "code",
   "execution_count": 9,
   "metadata": {},
   "outputs": [
    {
     "name": "stdout",
     "output_type": "stream",
     "text": [
      "Dog(name='Rex', weight=30, owner='Bob')\n"
     ]
    }
   ],
   "source": [
    "print(rex)"
   ]
  },
  {
   "cell_type": "code",
   "execution_count": 10,
   "metadata": {},
   "outputs": [
    {
     "name": "stdout",
     "output_type": "stream",
     "text": [
      "Bob's dog weight 30kg\n"
     ]
    }
   ],
   "source": [
    "print(\"{2}'s dog weight {1}kg\".format(*rex))"
   ]
  },
  {
   "cell_type": "code",
   "execution_count": 11,
   "metadata": {},
   "outputs": [],
   "source": [
    "rex.weight = 32"
   ]
  },
  {
   "cell_type": "code",
   "execution_count": 12,
   "metadata": {},
   "outputs": [
    {
     "name": "stdout",
     "output_type": "stream",
     "text": [
      "Dog(name='Rex', weight=32, owner='Bob')\n"
     ]
    }
   ],
   "source": [
    "print(rex)"
   ]
  },
  {
   "cell_type": "code",
   "execution_count": 13,
   "metadata": {},
   "outputs": [
    {
     "data": {
      "text/plain": [
       "(__main__.Dog, object)"
      ]
     },
     "execution_count": 13,
     "metadata": {},
     "output_type": "execute_result"
    }
   ],
   "source": [
    "Dog.__mro__"
   ]
  },
  {
   "cell_type": "markdown",
   "metadata": {},
   "source": [
    "#### cf. type\n",
    "* type은 사실 클래스임 (새로운 클래스를 생성)\n",
    "``` python\n",
    "MyClass = type('MyClass', (MySuperClass, MyMixin), {'x': 42, 'x2': lambda self: self.x * 2})\n",
    "```\n",
    "\n",
    "* 아래와 동일\n",
    "``` python\n",
    "class MyClass(MySuperClass, MyMixin):\n",
    "    x = 42\n",
    "    \n",
    "    def x2(self):\n",
    "        return self.x * 2\n",
    "```\n",
    "\n",
    "* 클래스를 동적으로 생성\n",
    "\n",
    "* namedtuple은 다른 방식 사용\n",
    "    - \\_class\\_template과 namedtuple() 함수가 \\_class\\_template.format()을 호출해서 빈 칸을 채움\n",
    "    - 그리고 나서 exec() 내장 함수로 생성된 소스 코드 문자열을 평가\n",
    "    - \\_\\_asdict\\_\\_ 등의 method도 구현함\n",
    "    - **직렬화(serialize) 가능** (pickle, dump ,load, $\\cdots$)\n",
    "    - **type은 직렬화 안됨**\n",
    "    - 궁금하면 아래 참조  \n",
    "    https://svn.python.org/projects/python/trunk/Lib/collections.py\n",
    "    \n",
    "* **python 메타프로그래밍에서 exec(), eval()은 가급적 피하는게 좋음**\n",
    "    - 신뢰할 수 없는 곳에서 가져온 문자열 전달하면 심각한 문제 생길수도"
   ]
  },
  {
   "cell_type": "markdown",
   "metadata": {},
   "source": [
    "``` python\n",
    "type(name of the class, \n",
    "     tuple of the parent class (for inheritance, can be empty), \n",
    "     dictionary containing attributes names and values)\n",
    "```"
   ]
  },
  {
   "cell_type": "markdown",
   "metadata": {},
   "source": [
    "## 21.2 디스크립터를 커스터마이즈하기 위한 클래스 데커레이터"
   ]
  },
  {
   "cell_type": "markdown",
   "metadata": {},
   "source": [
    "### 예제 21-3"
   ]
  },
  {
   "cell_type": "code",
   "execution_count": 14,
   "metadata": {},
   "outputs": [],
   "source": [
    "import model_v6 as model"
   ]
  },
  {
   "cell_type": "markdown",
   "metadata": {},
   "source": [
    "### 예제 21-4\n",
    "``` python\n",
    "def entity(cls):  # <1>\n",
    "    for key, attr in cls.__dict__.items():  # <2>\n",
    "        if isinstance(attr, Validated):  # <3>\n",
    "            type_name = type(attr).__name__\n",
    "            attr.storage_name = '_{}#{}'.format(type_name, key)  # <4>\n",
    "    return cls  # <5>\n",
    "```\n",
    "\n",
    "1. 클래스 인수로 받음\n",
    "2. 클래스 속성 담은 딕셔너리에 대해 반복\n",
    "3. 속성이 Validated (model에 정의) 디스크립터면\n",
    "4. 디스크립터 클래스명과 관리 대상 속성명 사용하기 위해 storage name 설정 (예: _Nonblack#description)\n",
    "5. 변경된 클래스 반환"
   ]
  },
  {
   "cell_type": "code",
   "execution_count": 15,
   "metadata": {},
   "outputs": [],
   "source": [
    "@model.entity\n",
    "class LineItem:\n",
    "    description = model.NonBlank()\n",
    "    weight = model.Quantity()\n",
    "    price = model.Quantity()\n",
    "\n",
    "    def __init__(self, description, weight, price):\n",
    "        self.description = description\n",
    "        self.weight = weight\n",
    "        self.price = price\n",
    "\n",
    "    def subtotal(self):\n",
    "        return self.weight * self.price"
   ]
  },
  {
   "cell_type": "markdown",
   "metadata": {},
   "source": [
    "### 예제 21-5"
   ]
  },
  {
   "cell_type": "code",
   "execution_count": 16,
   "metadata": {},
   "outputs": [],
   "source": [
    "raisins = LineItem('Golden raisins', 10, 6.95)"
   ]
  },
  {
   "cell_type": "code",
   "execution_count": 17,
   "metadata": {},
   "outputs": [
    {
     "name": "stdout",
     "output_type": "stream",
     "text": [
      "['_NonBlank#description', '_Quantity#price', '_Quantity#weight']\n"
     ]
    }
   ],
   "source": [
    "print(dir(raisins)[:3])"
   ]
  },
  {
   "cell_type": "code",
   "execution_count": 18,
   "metadata": {},
   "outputs": [
    {
     "name": "stdout",
     "output_type": "stream",
     "text": [
      "_NonBlank#description\n"
     ]
    }
   ],
   "source": [
    "print(LineItem.description.storage_name)"
   ]
  },
  {
   "cell_type": "code",
   "execution_count": 19,
   "metadata": {},
   "outputs": [
    {
     "name": "stdout",
     "output_type": "stream",
     "text": [
      "Golden raisins\n"
     ]
    }
   ],
   "source": [
    "print(raisins.description)"
   ]
  },
  {
   "cell_type": "code",
   "execution_count": 20,
   "metadata": {},
   "outputs": [
    {
     "name": "stdout",
     "output_type": "stream",
     "text": [
      "Golden raisins\n"
     ]
    }
   ],
   "source": [
    "print(getattr(raisins, '_NonBlank#description'))"
   ]
  },
  {
   "cell_type": "markdown",
   "metadata": {},
   "source": [
    "## 21.3 임포트 타임과 런타임"
   ]
  },
  {
   "cell_type": "markdown",
   "metadata": {},
   "source": [
    "### 예제 21-7 evalsupport.py\n",
    "\n",
    "``` python\n",
    "print('<[100]> evalsupport module start') # <1> import evaltime\n",
    "\n",
    "def deco_alpha(cls):\n",
    "    print('<[200]> deco_alpha') # <8> import evaltime\n",
    "\n",
    "    def inner_1(self):\n",
    "        print('<[300]> deco_alpha:inner_1')\n",
    "\n",
    "    cls.method_y = inner_1\n",
    "    return cls\n",
    "\n",
    "\n",
    "class MetaAleph(type):\n",
    "    print('<[400]> MetaAleph body') # <2> import evaltime\n",
    "\n",
    "    def __init__(cls, name, bases, dic):\n",
    "        print('<[500]> MetaAleph.__init__')\n",
    "\n",
    "        def inner_2(self):\n",
    "            print('<[600]> MetaAleph.__init__:inner_2')\n",
    "\n",
    "        cls.method_z = inner_2\n",
    "\n",
    "\n",
    "print('<[700]> evalsupport module end') # <3> import evaltime\n",
    "```\n",
    "\n",
    "### 예제 21-6 evaltime.py\n",
    "\n",
    "``` python\n",
    "from evalsupport import deco_alpha\n",
    "\n",
    "print('<[1]> evaltime module start') # <4> import evaltime\n",
    "\n",
    "\n",
    "class ClassOne():\n",
    "    print('<[2]> ClassOne body') # <5> import evaltime\n",
    "\n",
    "    def __init__(self):\n",
    "        print('<[3]> ClassOne.__init__') # <11>\n",
    "\n",
    "    def __del__(self):\n",
    "        print('<[4]> ClassOne.__del__') # <18> 프로그램 끝날때 가비지 컬렉트됨\n",
    "\n",
    "    def method_x(self):\n",
    "        print('<[5]> ClassOne.method_x') # <12>\n",
    "\n",
    "    class ClassTwo(object): # <6> import evaltime (내포된 클래스도 실행)\n",
    "        print('<[6]> ClassTwo body')\n",
    "\n",
    "\n",
    "@deco_alpha\n",
    "class ClassThree():\n",
    "    print('<[7]> ClassThree body') # <7> import evaltime (본체 평가 후 데커레이터 실행)\n",
    "\n",
    "    def method_y(self):\n",
    "        print('<[8]> ClassThree.method_y')\n",
    "\n",
    "\n",
    "class ClassFour(ClassThree):\n",
    "    print('<[9]> ClassFour body') # <9> import evaltime\n",
    "\n",
    "    def method_y(self):\n",
    "        print('<[10]> ClassFour.method_y')\n",
    "\n",
    "\n",
    "if __name__ == '__main__':\n",
    "    print('<[11]> ClassOne tests', 30 * '.') # <10>\n",
    "    one = ClassOne()\n",
    "    one.method_x()\n",
    "    print('<[12]> ClassThree tests', 30 * '.') # <13>\n",
    "    three = ClassThree()\n",
    "    three.method_y() # <14>\n",
    "    print('<[13]> ClassFour tests', 30 * '.') # <15>\n",
    "    four = ClassFour()\n",
    "    four.method_y() # <16> @deco_alpha는 ClassFoure에는 전혀 영향을 주지 않음\n",
    "\n",
    "\n",
    "print('<[14]> evaltime module end') # <17> import evaltime\n",
    "```"
   ]
  },
  {
   "cell_type": "markdown",
   "metadata": {},
   "source": [
    "### 예제 21-8\n",
    "* 인터프리터는 임포트된 모듈(evaltime)과 이 모듈이 임포트하는 모듈(evalsupport)에 들어 있는 모든 클래스 실행\n",
    "* 데커레이터 실행 전에 장식된 클래스 본체를 먼저 평가\n",
    "* 사용자 정의 함수나 메서드나 중에서는 **deco_alpha()**만 유일하게 실행"
   ]
  },
  {
   "cell_type": "code",
   "execution_count": 21,
   "metadata": {},
   "outputs": [
    {
     "name": "stdout",
     "output_type": "stream",
     "text": [
      "<[100]> evalsupport module start\r\n",
      "<[400]> MetaAleph body\r\n",
      "<[700]> evalsupport module end\r\n",
      "<[1]> evaltime module start\r\n",
      "<[2]> ClassOne body\r\n",
      "<[6]> ClassTwo body\r\n",
      "<[7]> ClassThree body\r\n",
      "<[200]> deco_alpha\r\n",
      "<[9]> ClassFour body\r\n",
      "<[14]> evaltime module end\r\n"
     ]
    }
   ],
   "source": [
    "! python -c \"import evaltime\""
   ]
  },
  {
   "cell_type": "markdown",
   "metadata": {},
   "source": [
    "### 예제 21-9\n",
    "* class attribute 실행\n",
    "* 전역 변수 one에 바인딩된 ClassOne은 프로그램 끝날때 가비지 컬렉트됨\n",
    "* ClassFour에서 super()를 이용해 ClassThree.method_y()를 실행하면 inner_1()이 실행\n",
    "* **데커레이터로 클래스 계층구조 전체를 커스터마이징 할수는 없을까?**"
   ]
  },
  {
   "cell_type": "code",
   "execution_count": 22,
   "metadata": {},
   "outputs": [
    {
     "name": "stdout",
     "output_type": "stream",
     "text": [
      "<[100]> evalsupport module start\r\n",
      "<[400]> MetaAleph body\r\n",
      "<[700]> evalsupport module end\r\n",
      "<[1]> evaltime module start\r\n",
      "<[2]> ClassOne body\r\n",
      "<[6]> ClassTwo body\r\n",
      "<[7]> ClassThree body\r\n",
      "<[200]> deco_alpha\r\n",
      "<[9]> ClassFour body\r\n",
      "<[11]> ClassOne tests ..............................\r\n",
      "<[3]> ClassOne.__init__\r\n",
      "<[5]> ClassOne.method_x\r\n",
      "<[12]> ClassThree tests ..............................\r\n",
      "<[300]> deco_alpha:inner_1\r\n",
      "<[13]> ClassFour tests ..............................\r\n",
      "<[10]> ClassFour.method_y\r\n",
      "<[14]> evaltime module end\r\n",
      "<[4]> ClassOne.__del__\r\n"
     ]
    }
   ],
   "source": [
    "! python evaltime.py"
   ]
  },
  {
   "cell_type": "markdown",
   "metadata": {},
   "source": [
    "## 21.4 메타 클래스 기본 지식\n",
    "* 일종의 클래스 팩토리\n",
    "* record_factory()와 같은 함수 대신 클래스로 만들어지는 차이가 있음\n",
    "* 파이썬 클래스(객체)는 기본적으로 type의 객체임\n",
    "* type은 대부분 내장 클래스와 사용자 정의 클래스에 대한 메타클래스임"
   ]
  },
  {
   "cell_type": "code",
   "execution_count": 23,
   "metadata": {},
   "outputs": [
    {
     "name": "stdout",
     "output_type": "stream",
     "text": [
      "<class 'str'>\n"
     ]
    }
   ],
   "source": [
    "print('spam'.__class__)"
   ]
  },
  {
   "cell_type": "code",
   "execution_count": 24,
   "metadata": {},
   "outputs": [
    {
     "name": "stdout",
     "output_type": "stream",
     "text": [
      "<class 'type'>\n"
     ]
    }
   ],
   "source": [
    "print(str.__class__)"
   ]
  },
  {
   "cell_type": "code",
   "execution_count": 25,
   "metadata": {
    "collapsed": true
   },
   "outputs": [],
   "source": [
    "from bulkfood_v6 import LineItem"
   ]
  },
  {
   "cell_type": "code",
   "execution_count": 26,
   "metadata": {},
   "outputs": [
    {
     "name": "stdout",
     "output_type": "stream",
     "text": [
      "<class 'type'>\n"
     ]
    }
   ],
   "source": [
    "print(LineItem.__class__)"
   ]
  },
  {
   "cell_type": "markdown",
   "metadata": {},
   "source": [
    "* 무한회귀 방지"
   ]
  },
  {
   "cell_type": "code",
   "execution_count": 27,
   "metadata": {},
   "outputs": [
    {
     "name": "stdout",
     "output_type": "stream",
     "text": [
      "<class 'type'>\n"
     ]
    }
   ],
   "source": [
    "print(type.__class__)"
   ]
  },
  {
   "cell_type": "markdown",
   "metadata": {},
   "source": [
    "* **str, LineItem이 type을 상속하는게 아니라 모두 type의 객체임**\n",
    "* 이들 모두는 object의 서브클래스임\n",
    "* type은 object의 하위 클래스, object는 type의 객체"
   ]
  },
  {
   "cell_type": "code",
   "execution_count": 28,
   "metadata": {},
   "outputs": [
    {
     "data": {
      "image/png": "[encoded data removed]",
      "text/plain": [
       "<matplotlib.figure.Figure at 0x7f97f927d630>"
      ]
     },
     "metadata": {},
     "output_type": "display_data"
    }
   ],
   "source": [
    "draw_figure(2)"
   ]
  },
  {
   "cell_type": "code",
   "execution_count": 29,
   "metadata": {
    "collapsed": true
   },
   "outputs": [],
   "source": [
    "import collections"
   ]
  },
  {
   "cell_type": "code",
   "execution_count": 30,
   "metadata": {},
   "outputs": [
    {
     "name": "stdout",
     "output_type": "stream",
     "text": [
      "<class 'abc.ABCMeta'>\n"
     ]
    }
   ],
   "source": [
    "print(collections.Iterable.__class__)"
   ]
  },
  {
   "cell_type": "code",
   "execution_count": 31,
   "metadata": {
    "collapsed": true
   },
   "outputs": [],
   "source": [
    "import abc"
   ]
  },
  {
   "cell_type": "code",
   "execution_count": 32,
   "metadata": {},
   "outputs": [
    {
     "name": "stdout",
     "output_type": "stream",
     "text": [
      "<class 'type'>\n"
     ]
    }
   ],
   "source": [
    "print(abc.ABCMeta.__class__)"
   ]
  },
  {
   "cell_type": "markdown",
   "metadata": {},
   "source": [
    "* method resolution order"
   ]
  },
  {
   "cell_type": "code",
   "execution_count": 33,
   "metadata": {},
   "outputs": [
    {
     "name": "stdout",
     "output_type": "stream",
     "text": [
      "(<class 'abc.ABCMeta'>, <class 'type'>, <class 'object'>)\n"
     ]
    }
   ],
   "source": [
    "print(abc.ABCMeta.__mro__)"
   ]
  },
  {
   "cell_type": "code",
   "execution_count": 34,
   "metadata": {},
   "outputs": [
    {
     "data": {
      "image/png": "[encoded data removed]",
      "text/plain": [
       "<matplotlib.figure.Figure at 0x7f97c801e9e8>"
      ]
     },
     "metadata": {},
     "output_type": "display_data"
    }
   ],
   "source": [
    "draw_figure(3)"
   ]
  },
  {
   "cell_type": "markdown",
   "metadata": {},
   "source": [
    "## 21.4.1 메타 클래스 평가 시점"
   ]
  },
  {
   "cell_type": "markdown",
   "metadata": {},
   "source": [
    "### 예제 21-10\n",
    "### evalsupport\n",
    "``` python\n",
    "print('<[100]> evalsupport module start') # <1> import evaltime_meta\n",
    "\n",
    "def deco_alpha(cls):\n",
    "    print('<[200]> deco_alpha') # <6> import evaltime_meta\n",
    "\n",
    "    def inner_1(self):\n",
    "        print('<[300]> deco_alpha:inner_1')\n",
    "\n",
    "    cls.method_y = inner_1\n",
    "    return cls\n",
    "\n",
    "\n",
    "class MetaAleph(type):\n",
    "    print('<[400]> MetaAleph body') # <2> import evaltime_meta\n",
    "\n",
    "    def __init__(cls, name, bases, dic):\n",
    "        print('<[500]> MetaAleph.__init__') # <9>, <11> import evaltime_meta\n",
    "\n",
    "        def inner_2(self):\n",
    "            print('<[600]> MetaAleph.__init__:inner_2')\n",
    "\n",
    "        cls.method_z = inner_2\n",
    "\n",
    "\n",
    "print('<[700]> evalsupport module end') # <3> import evaltime_meta\n",
    "```\n",
    "### evaltime_meta\n",
    "``` python\n",
    "from evalsupport import deco_alpha\n",
    "from evalsupport import MetaAleph\n",
    "\n",
    "print('<[1]> evaltime_meta module start') # <4> import evaltime_meta\n",
    "\n",
    "\n",
    "@deco_alpha\n",
    "class ClassThree():\n",
    "    print('<[2]> ClassThree body') # <5> import evaltime_meta\n",
    "\n",
    "    def method_y(self):\n",
    "        print('<[3]> ClassThree.method_y')\n",
    "\n",
    "\n",
    "class ClassFour(ClassThree):\n",
    "    print('<[4]> ClassFour body') # <7> import evaltime_meta\n",
    "\n",
    "    def method_y(self):\n",
    "        print('<[5]> ClassFour.method_y')\n",
    "\n",
    "\n",
    "class ClassFive(metaclass=MetaAleph):\n",
    "    print('<[6]> ClassFive body') # <8> import evaltime_meta\n",
    "\n",
    "    def __init__(self):\n",
    "        print('<[7]> ClassFive.__init__')\n",
    "\n",
    "    def method_z(self):\n",
    "        print('<[8]> ClassFive.method_y')\n",
    "\n",
    "\n",
    "class ClassSix(ClassFive):\n",
    "    print('<[9]> ClassSix body') # <10> import evaltime_meta\n",
    "\n",
    "    def method_z(self):\n",
    "        print('<[10]> ClassSix.method_y')\n",
    "\n",
    "\n",
    "if __name__ == '__main__':\n",
    "    print('<[11]> ClassThree tests', 30 * '.')\n",
    "    three = ClassThree()\n",
    "    three.method_y()\n",
    "    print('<[12]> ClassFour tests', 30 * '.')\n",
    "    four = ClassFour()\n",
    "    four.method_y()\n",
    "    print('<[13]> ClassFive tests', 30 * '.')\n",
    "    five = ClassFive()\n",
    "    five.method_z()\n",
    "    print('<[14]> ClassSix tests', 30 * '.')\n",
    "    six = ClassSix()\n",
    "    six.method_z()\n",
    "\n",
    "print('<[15]> evaltime_meta module end') # <12> import evaltime_meta\n",
    "\n",
    "```"
   ]
  },
  {
   "cell_type": "markdown",
   "metadata": {},
   "source": [
    "### 예제 21-11 \n",
    "* python 인터프리터는 ClassFive 본체 평가하는 과정에서 type()대신 MetaAleph()를 호출\n",
    "* MetaAleph.\\_\\_init\\_\\_은 ClassFive, ClassSix를 모두 초기화함!\n",
    "* MetaAleph의 \\_\\_init\\_\\_은 네 개의 인수를 받음\n",
    "___\n",
    "    - cls  \n",
    "___\n",
    "    - name\n",
    "    - bases\n",
    "    - dic\n",
    "___\n",
    "\n",
    "* MetaAleph의 \\_\\_init\\_\\_() 에서 첫 번째 인수 이름이 self 대신 cls (관례적)\n",
    "* 현재 생성하고 있는 것이 클래스임을 명시\n",
    "    - MetaAleph.\\_\\_init\\_\\_(cls, $\\cdots$)\n",
    "        - cls: ClassFive, ClassSix(ClassFive)\n",
    "    - inner_2(self)의 self는 현재 생성하고 있는 객체(ClassFive)를 가리킴"
   ]
  },
  {
   "cell_type": "code",
   "execution_count": 35,
   "metadata": {},
   "outputs": [
    {
     "name": "stdout",
     "output_type": "stream",
     "text": [
      "<[100]> evalsupport module start\r\n",
      "<[400]> MetaAleph body\r\n",
      "<[700]> evalsupport module end\r\n",
      "<[1]> evaltime_meta module start\r\n",
      "<[2]> ClassThree body\r\n",
      "<[200]> deco_alpha\r\n",
      "<[4]> ClassFour body\r\n",
      "<[6]> ClassFive body\r\n",
      "<[500]> MetaAleph.__init__\r\n",
      "<[9]> ClassSix body\r\n",
      "<[500]> MetaAleph.__init__\r\n",
      "<[15]> evaltime_meta module end\r\n"
     ]
    }
   ],
   "source": [
    "! python -c \"import evaltime_meta\""
   ]
  },
  {
   "cell_type": "markdown",
   "metadata": {},
   "source": [
    "### 예제 21-13\n",
    "* `<[600]> MetaAleph.__init__:inner_2`:\n",
    "    - ClassSix는 MetaAleph를 직접 참조하지 않지마 영향을 받음\n",
    "    - ClassFive를 상속하므로 ClassSix도 MetaAleph의 객체가 되어 MetaAleph.\\_\\_init\\_\\_()으로 초기화 됨"
   ]
  },
  {
   "cell_type": "code",
   "execution_count": 36,
   "metadata": {},
   "outputs": [
    {
     "name": "stdout",
     "output_type": "stream",
     "text": [
      "<[100]> evalsupport module start\r\n",
      "<[400]> MetaAleph body\r\n",
      "<[700]> evalsupport module end\r\n",
      "<[1]> evaltime_meta module start\r\n",
      "<[2]> ClassThree body\r\n",
      "<[200]> deco_alpha\r\n",
      "<[4]> ClassFour body\r\n",
      "<[6]> ClassFive body\r\n",
      "<[500]> MetaAleph.__init__\r\n",
      "<[9]> ClassSix body\r\n",
      "<[500]> MetaAleph.__init__\r\n",
      "<[11]> ClassThree tests ..............................\r\n",
      "<[300]> deco_alpha:inner_1\r\n",
      "<[12]> ClassFour tests ..............................\r\n",
      "<[5]> ClassFour.method_y\r\n",
      "<[13]> ClassFive tests ..............................\r\n",
      "<[7]> ClassFive.__init__\r\n",
      "<[600]> MetaAleph.__init__:inner_2\r\n",
      "<[14]> ClassSix tests ..............................\r\n",
      "<[7]> ClassFive.__init__\r\n",
      "<[600]> MetaAleph.__init__:inner_2\r\n",
      "<[15]> evaltime_meta module end\r\n"
     ]
    }
   ],
   "source": [
    "! python evaltime_meta.py"
   ]
  },
  {
   "cell_type": "markdown",
   "metadata": {
    "collapsed": true
   },
   "source": [
    "## 21.5 디스크립터를 커스터마이즈하기 위한 클래스"
   ]
  },
  {
   "cell_type": "markdown",
   "metadata": {},
   "source": [
    "### 예제 21-15 model_v7.py"
   ]
  },
  {
   "cell_type": "markdown",
   "metadata": {},
   "source": [
    "``` python\n",
    "import abc\n",
    "\n",
    "\n",
    "class AutoStorage:\n",
    "    __counter = 0\n",
    "\n",
    "    def __init__(self):\n",
    "        cls = self.__class__\n",
    "        prefix = cls.__name__\n",
    "        index = cls.__counter\n",
    "        self.storage_name = '_{}#{}'.format(prefix, index)\n",
    "        cls.__counter += 1\n",
    "\n",
    "    def __get__(self, instance, owner):\n",
    "        if instance is None:\n",
    "            return self\n",
    "        else:\n",
    "            return getattr(instance, self.storage_name)\n",
    "\n",
    "    def __set__(self, instance, value):\n",
    "        setattr(instance, self.storage_name, value)\n",
    "\n",
    "\n",
    "class Validated(abc.ABC, AutoStorage):\n",
    "\n",
    "    def __set__(self, instance, value):\n",
    "        value = self.validate(instance, value)\n",
    "        super().__set__(instance, value)\n",
    "\n",
    "    @abc.abstractmethod\n",
    "    def validate(self, instance, value):\n",
    "        \"\"\"return validated value or raise ValueError\"\"\"\n",
    "\n",
    "\n",
    "class Quantity(Validated):\n",
    "    \"\"\"a number greater than zero\"\"\"\n",
    "\n",
    "    def validate(self, instance, value):\n",
    "        if value <= 0:\n",
    "            raise ValueError('value must be > 0')\n",
    "        return value\n",
    "\n",
    "\n",
    "class NonBlank(Validated):\n",
    "    \"\"\"a string with at least one non-space character\"\"\"\n",
    "\n",
    "    def validate(self, instance, value):\n",
    "        value = value.strip()\n",
    "        if len(value) == 0:\n",
    "            raise ValueError('value cannot be empty or blank')\n",
    "        return value\n",
    "\n",
    "# BEGIN MODEL_V7\n",
    "class EntityMeta(type):\n",
    "    \"\"\"Metaclass for business entities with validated fields\"\"\"\n",
    "\n",
    "    def __init__(cls, name, bases, attr_dict):\n",
    "        super().__init__(name, bases, attr_dict)  # <1> 슈퍼클래스(여기선 type)의 __init__() 메서드 호출\n",
    "        for key, attr in attr_dict.items():  # <2> 예제 21-4의 @entity와 동일한 기능 (뒤에 이름(description, weight, price) 붙여줌)\n",
    "            if isinstance(attr, Validated):\n",
    "                type_name = type(attr).__name__\n",
    "                attr.storage_name = '_{}#{}'.format(type_name, key)\n",
    "\n",
    "class Entity(metaclass=EntityMeta):  # <3> 편의상 제공 (EntityMeta를 알 필요가 없음)\n",
    "    \"\"\"Business entity with validated fields\"\"\"\n",
    "# END MODEL_V7\n",
    "```"
   ]
  },
  {
   "cell_type": "code",
   "execution_count": 37,
   "metadata": {},
   "outputs": [],
   "source": [
    "# BEGIN LINEITEM_V7\n",
    "import model_v7 as model\n",
    "\n",
    "class LineItem(model.Entity):  # <1>\n",
    "    description = model.NonBlank()\n",
    "    weight = model.Quantity()\n",
    "    price = model.Quantity()\n",
    "    \n",
    "    def __init__(self, description, weight, price):\n",
    "        self.description = description\n",
    "        self.weight = weight\n",
    "        self.price = price\n",
    "\n",
    "    def subtotal(self):\n",
    "        return self.weight * self.price\n",
    "# END LINEITEM_V7"
   ]
  },
  {
   "cell_type": "markdown",
   "metadata": {},
   "source": [
    "### 예제 21-14 bulkfood_v7\n",
    "* 사용자가 데커레이터나 메타클래스에 신경 쓰지 않고, 라이브러리가 제공하는 클래스를 상속할 수 있도록\n",
    "* LineItem은 model.Entity의 서브클래스\n",
    "* **Entity가 메타클래스의 객체여야 제대로 작동함**"
   ]
  },
  {
   "cell_type": "code",
   "execution_count": 38,
   "metadata": {},
   "outputs": [
    {
     "data": {
      "text/plain": [
       "mappingproxy({'__doc__': None,\n",
       "              '__init__': <function __main__.LineItem.__init__>,\n",
       "              '__module__': '__main__',\n",
       "              'description': <model_v7.NonBlank at 0x7f97e0829198>,\n",
       "              'price': <model_v7.Quantity at 0x7f97e081b0f0>,\n",
       "              'subtotal': <function __main__.LineItem.subtotal>,\n",
       "              'weight': <model_v7.Quantity at 0x7f97e081b080>})"
      ]
     },
     "execution_count": 38,
     "metadata": {},
     "output_type": "execute_result"
    }
   ],
   "source": [
    "LineItem.__dict__"
   ]
  },
  {
   "cell_type": "code",
   "execution_count": 39,
   "metadata": {
    "collapsed": true
   },
   "outputs": [],
   "source": [
    "item = LineItem('TestItem', 100, 20)"
   ]
  },
  {
   "cell_type": "markdown",
   "metadata": {},
   "source": [
    "* **NOTE:** Description, Weight, Price 순으로 클래스 속성 선언했었음"
   ]
  },
  {
   "cell_type": "code",
   "execution_count": 40,
   "metadata": {},
   "outputs": [
    {
     "data": {
      "text/plain": [
       "{'_NonBlank#description': 'TestItem',\n",
       " '_Quantity#price': 20,\n",
       " '_Quantity#weight': 100}"
      ]
     },
     "execution_count": 40,
     "metadata": {},
     "output_type": "execute_result"
    }
   ],
   "source": [
    "item.__dict__"
   ]
  },
  {
   "cell_type": "markdown",
   "metadata": {},
   "source": [
    "## 21.6 메타클래스 \\_\\_prepare\\_\\_() 특별 메서드\n",
    "* 클래스의 속성이 정의되는 순서를 알아야 하는 경우\n",
    "    - 예: csv를 읽고 쓸때 열의 순서대로 매핑\n",
    "* type 생성자나 메타클래스의 \\_\\_new\\_\\_(), \\_\\_init\\_\\_() 메서드는 이름과 속성의 매핑으로 평가된 클래스 본체를 받음\n",
    "* 그러나 기본적으로 **매핑은 딕셔너리형**이므로, 메타클래스나 데커라이트가 확인할 수 있을 때는 **클래스 속성의 순서가 사라져 버림**  \n",
    "$\\Rightarrow$ 파이썬3에 등장한 **\\_\\_prepare\\_\\_()**로 해결 할 수 있음!\n",
    "    - 메타클래스에서만 의미가 있음\n",
    "    - @classmethod 데커레이터로 장식\n",
    "    - 인터프리터는 **\\_\\_new\\_\\_() 메서드 호출 전에** 클래스 본체의 속성을 이용해서 채울 매핑을 생성하기 위해 **\\_\\_prepare\\_\\_() 메서드를 호출**\n",
    "    - 입력: (메타클래스, 생성할 클래스명, 슈퍼클래스가 담겨진 튜플)\n",
    "    - 반환: \\_\\_new\\_\\_(), \\_\\_init\\_\\_() 메서드의 마지막으로 전달할 매핑"
   ]
  },
  {
   "cell_type": "markdown",
   "metadata": {},
   "source": [
    "### 예제 21-16 model_v8.py"
   ]
  },
  {
   "cell_type": "markdown",
   "metadata": {},
   "source": [
    "``` python\n",
    "import abc\n",
    "import collections\n",
    "\n",
    "\n",
    "class AutoStorage:\n",
    "    __counter = 0\n",
    "\n",
    "    def __init__(self):\n",
    "        cls = self.__class__\n",
    "        prefix = cls.__name__\n",
    "        index = cls.__counter\n",
    "        self.storage_name = '_{}#{}'.format(prefix, index)\n",
    "        cls.__counter += 1\n",
    "\n",
    "    def __get__(self, instance, owner):\n",
    "        if instance is None:\n",
    "            return self\n",
    "        else:\n",
    "            return getattr(instance, self.storage_name)\n",
    "\n",
    "    def __set__(self, instance, value):\n",
    "        setattr(instance, self.storage_name, value)\n",
    "\n",
    "\n",
    "class Validated(abc.ABC, AutoStorage):\n",
    "\n",
    "    def __set__(self, instance, value):\n",
    "        value = self.validate(instance, value)\n",
    "        super().__set__(instance, value)\n",
    "\n",
    "    @abc.abstractmethod\n",
    "    def validate(self, instance, value):\n",
    "        \"\"\"return validated value or raise ValueError\"\"\"\n",
    "\n",
    "\n",
    "class Quantity(Validated):\n",
    "    \"\"\"a number greater than zero\"\"\"\n",
    "\n",
    "    def validate(self, instance, value):\n",
    "        if value <= 0:\n",
    "            raise ValueError('value must be > 0')\n",
    "        return value\n",
    "\n",
    "\n",
    "class NonBlank(Validated):\n",
    "    \"\"\"a string with at least one non-space character\"\"\"\n",
    "\n",
    "    def validate(self, instance, value):\n",
    "        value = value.strip()\n",
    "        if len(value) == 0:\n",
    "            raise ValueError('value cannot be empty or blank')\n",
    "        return value\n",
    "\n",
    "# BEGIN MODEL_V8\n",
    "class EntityMeta(type):\n",
    "    \"\"\"Metaclass for business entities with validated fields\"\"\"\n",
    "\n",
    "    @classmethod\n",
    "    def __prepare__(cls, name, bases):\n",
    "        return collections.OrderedDict()  # <1> 여기에 클래스 속성 저장 (※ OrderedDict)\n",
    "\n",
    "    def __init__(cls, name, bases, attr_dict): # attr_dict는 위에서 반환한 OrderedDIct임!\n",
    "        super().__init__(name, bases, attr_dict)\n",
    "        cls._field_names = []  # <2> 생성하고 있는 클래스에 _filed_names 속성 추가\n",
    "        for key, attr in attr_dict.items():  # <3> 이전과 동일한데 차이는 attr_dict가 __init__() 호출 전에 __prepare__() 에서 생성한 OrderedDict 임\n",
    "            if isinstance(attr, Validated):\n",
    "                type_name = type(attr).__name__\n",
    "                attr.storage_name = '_{}#{}'.format(type_name, key)\n",
    "                cls._field_names.append(key)  # <4> Validated 인스턴스 모두 append\n",
    "\n",
    "\n",
    "class Entity(metaclass=EntityMeta):\n",
    "    \"\"\"Business entity with validated fields\"\"\"\n",
    "\n",
    "    @classmethod\n",
    "    def field_names(cls):  # <5> 추가된 순서대로 필드명 생성\n",
    "        for name in cls._field_names:\n",
    "            yield name\n",
    "\n",
    "# END MODEL_V8\n",
    "```"
   ]
  },
  {
   "cell_type": "markdown",
   "metadata": {},
   "source": [
    "### 예제 21-17 bulkfood_v8.py"
   ]
  },
  {
   "cell_type": "code",
   "execution_count": 41,
   "metadata": {
    "collapsed": true
   },
   "outputs": [],
   "source": [
    "import model_v8 as model\n",
    "\n",
    "class LineItem(model.Entity):\n",
    "    description = model.NonBlank()\n",
    "    weight = model.Quantity()\n",
    "    price = model.Quantity()\n",
    "\n",
    "    def __init__(self, description, weight, price):\n",
    "        self.description = description\n",
    "        self.weight = weight\n",
    "        self.price = price\n",
    "\n",
    "    def subtotal(self):\n",
    "        return self.weight * self.price"
   ]
  },
  {
   "cell_type": "code",
   "execution_count": 42,
   "metadata": {},
   "outputs": [
    {
     "name": "stdout",
     "output_type": "stream",
     "text": [
      "description\n",
      "weight\n",
      "price\n"
     ]
    }
   ],
   "source": [
    "for name in LineItem.field_names():\n",
    "    print(name)"
   ]
  },
  {
   "cell_type": "markdown",
   "metadata": {},
   "source": [
    "* 그래서 메타클래스는 언제 쓰나?\n",
    "    - 속성 검증\n",
    "    - 많은 메서드에 데커레이터 일괄 적용\n",
    "    - 객체 직렬화 및 데이터 변환\n",
    "    - 객체 관계 매핑\n",
    "    - 객체 기반 영속성\n",
    "    - 다른 언어에서 만든 클래스 구조체를 파이썬 클래스로 동적으로 변환"
   ]
  },
  {
   "cell_type": "code",
   "execution_count": 43,
   "metadata": {},
   "outputs": [
    {
     "name": "stdout",
     "output_type": "stream",
     "text": [
      "/home/yjlee/fluent-python-study/21-class-metaprog-yjlee/bulkfood\n"
     ]
    }
   ],
   "source": [
    "cd bulkfood/"
   ]
  },
  {
   "cell_type": "code",
   "execution_count": 44,
   "metadata": {},
   "outputs": [
    {
     "name": "stdout",
     "output_type": "stream",
     "text": [
      "===============\r\n",
      "EntityMeta init\r\n",
      "===============\r\n",
      "cls:  <class 'model_v7_test.Entity'>\r\n",
      "name:  Entity\r\n",
      "bases:  ()\r\n",
      "attr_dict:  {'__module__': 'model_v7_test', '__qualname__': 'Entity', '__doc__': 'Business entity with validated fields'}\r\n",
      "---------------\r\n",
      "iter over attr_dict\r\n",
      "---------------\r\n",
      "===============\r\n",
      "EntityMeta init\r\n",
      "===============\r\n",
      "cls:  <class '__main__.LineItem'>\r\n",
      "name:  LineItem\r\n",
      "bases:  (<class 'model_v7_test.Entity'>,)\r\n",
      "attr_dict:  {'__module__': '__main__', '__qualname__': 'LineItem', 'description': <model_v7_test.NonBlank object at 0x7eff8edae8d0>, 'weight': <model_v7_test.Quantity object at 0x7eff8edaeef0>, 'price': <model_v7_test.Quantity object at 0x7eff8edaeac8>, '__init__': <function LineItem.__init__ at 0x7eff8d9dea60>, 'subtotal': <function LineItem.subtotal at 0x7eff8d96e510>}\r\n",
      "---------------\r\n",
      "iter over attr_dict\r\n",
      "---------------\r\n",
      "<model_v7_test.NonBlank object at 0x7eff8edae8d0>\r\n",
      "NonBlank\r\n",
      "<model_v7_test.Quantity object at 0x7eff8edaeef0>\r\n",
      "Quantity\r\n",
      "<model_v7_test.Quantity object at 0x7eff8edaeac8>\r\n",
      "Quantity\r\n",
      "Test Begins!\r\n",
      "Test Finished!\r\n"
     ]
    }
   ],
   "source": [
    "! python bulkfood_v7_test.py"
   ]
  },
  {
   "cell_type": "code",
   "execution_count": 45,
   "metadata": {},
   "outputs": [
    {
     "name": "stdout",
     "output_type": "stream",
     "text": [
      "===============\r\n",
      "EntityMeta init\r\n",
      "===============\r\n",
      "cls:  <class 'model_v8_test.Entity'>\r\n",
      "name:  Entity\r\n",
      "bases:  ()\r\n",
      "attr_dict:  OrderedDict([('__module__', 'model_v8_test'), ('__qualname__', 'Entity'), ('__doc__', 'Business entity with validated fields'), ('field_names', <classmethod object at 0x7fd17c060c88>)])\r\n",
      "---------------\r\n",
      "iter over attr_dict\r\n",
      "---------------\r\n",
      "===============\r\n",
      "EntityMeta init\r\n",
      "===============\r\n",
      "cls:  <class '__main__.LineItem'>\r\n",
      "name:  LineItem\r\n",
      "bases:  (<class 'model_v8_test.Entity'>,)\r\n",
      "attr_dict:  OrderedDict([('__module__', '__main__'), ('__qualname__', 'LineItem'), ('description', <model_v8_test.NonBlank object at 0x7fd17c0608d0>), ('weight', <model_v8_test.Quantity object at 0x7fd17c060ef0>), ('price', <model_v8_test.Quantity object at 0x7fd17c060ac8>), ('__init__', <function LineItem.__init__ at 0x7fd17ac20598>), ('subtotal', <function LineItem.subtotal at 0x7fd17ac206a8>)])\r\n",
      "---------------\r\n",
      "iter over attr_dict\r\n",
      "---------------\r\n",
      "<model_v8_test.NonBlank object at 0x7fd17c0608d0>\r\n",
      "NonBlank\r\n",
      "<model_v8_test.Quantity object at 0x7fd17c060ef0>\r\n",
      "Quantity\r\n",
      "<model_v8_test.Quantity object at 0x7fd17c060ac8>\r\n",
      "Quantity\r\n",
      "Test Begins!\r\n",
      "Test Finished!\r\n"
     ]
    }
   ],
   "source": [
    "! python bulkfood_v8_test.py"
   ]
  },
  {
   "cell_type": "code",
   "execution_count": 46,
   "metadata": {},
   "outputs": [
    {
     "name": "stdout",
     "output_type": "stream",
     "text": [
      "/home/yjlee/fluent-python-study/21-class-metaprog-yjlee\n"
     ]
    }
   ],
   "source": [
    "cd .."
   ]
  },
  {
   "cell_type": "markdown",
   "metadata": {},
   "source": [
    "## 21.8 요약\n",
    "* 클레스 메타프로그래밍: 클래스의 동적 생성 및 커스터마이즈에 관한 기법\n",
    "* type() 내장 메타클래스로 클래스 생성\n",
    "* 20장의 디스크립터에서 저장소 속성명(\\_Quantity#N)을 관리 대상 속성명(weight, $\\cdots$)를 반영하도록 수정\n",
    "    - 클래스 데커레이터 사용\n",
    "* 소스코드 실행 순서 살펴봄\n",
    "    - 임포트타임\n",
    "    - 런타임\n",
    "* 메타클래스로 클래스 데커레이터를 사용했던 것처럼 관리 대상 속성명 반영하도록 수정\n",
    "    - 복잡하지만 별도의 모듈 안에 있으므로 실제 사용자는 model.Entity만 알면 됨 (EntityMeta 따위는 신경 안써도 됨)\n",
    "    - SQLAlchemy의 ORM API와 비슷하다고 함\n",
    "        - 크로모스피어에서 써보긴 했는데 진짜 그런가?\n",
    "        - 맞음!\n",
    "        - 실제로 SQLAlchemy 내부는 메타클래스로 구현\n",
    "        - 그런데 사용할때는 이런거 모르고 그냥 썼음;;\n",
    "* \\_\\_prepare\\_\\_() 써서 속성명을 속성에 매핑 (클래스 속성 순서 유지)\n",
    "    - \\_\\_new\\_\\_(), \\_\\_init\\_\\_()이 이 매핑을 사용할수 있도록 해줌!  \n",
    "    (Entity.filed_names() 예제 참고)\n",
    "* 메타클래스는 어렵지만, 흥미롭고, 때로는 **똑똑해 보이고 싶어 하는 프로그래머들이 남용하기도 한다**  \n",
    "$\\Rightarrow$ 11.4절의 '물새와 ABC'에서 알렉스 마르텔리의 충고를 보며 마무리하자  \n",
    "(참고: 파이썬 메타프로그래밍의 대가, 핵심적인 파이썬 프로젝트 엔지니어)"
   ]
  },
  {
   "cell_type": "code",
   "execution_count": 47,
   "metadata": {},
   "outputs": [],
   "source": [
    "# draw_figure('A1', right=3.0, top=2.0)"
   ]
  },
  {
   "cell_type": "markdown",
   "metadata": {
    "collapsed": true
   },
   "source": [
    "## References\n",
    "* meta class:  \n",
    "https://wikidocs.net/21056  \n",
    "https://tech.ssut.me/understanding-python-metaclasses/  \n",
    "http://brownbears.tistory.com/209"
   ]
  }
 ],
 "metadata": {
  "kernelspec": {
   "display_name": "Python 3",
   "language": "python",
   "name": "python3"
  },
  "language_info": {
   "codemirror_mode": {
    "name": "ipython",
    "version": 3
   },
   "file_extension": ".py",
   "mimetype": "text/x-python",
   "name": "python",
   "nbconvert_exporter": "python",
   "pygments_lexer": "ipython3",
   "version": "3.5.2"
  }
 },
 "nbformat": 4,
 "nbformat_minor": 2
}
